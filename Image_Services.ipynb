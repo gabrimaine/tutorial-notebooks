{
 "cells": [
  {
   "cell_type": "markdown",
   "id": "749b0ddf",
   "metadata": {},
   "source": [
    "<img align=\"left\" src = https://project.lsst.org/sites/default/files/Rubin-O-Logo_0.png width=250 style=\"padding: 10px\"> \n",
    "<p><p><p><p>\n",
    "<b>Introduction to Rubin Image Services</b> <br>\n",
    "Contact author: <i>Leanne Guy</i> <br>\n",
    "Last verified to run: <i>2023-01-13</i> <br>\n",
    "LSST Science Piplines version: Weekly <i>2022_24</i> <br>\n",
    "Container Size: <i>medium</i> <br>\n",
    "Targeted learning level: <i>intermediate</i> <br>"
   ]
  },
  {
   "cell_type": "code",
   "execution_count": null,
   "id": "7acc79a4-8530-42d9-96e5-b7acb4397864",
   "metadata": {},
   "outputs": [],
   "source": [
    "# %load_ext pycodestyle_magic\n",
    "# %flake8_on\n",
    "# import logging\n",
    "# logging.getLogger(\"flake8\").setLevel(logging.FATAL)"
   ]
  },
  {
   "cell_type": "raw",
   "id": "03b888bb-d252-4866-a1b9-152d0fa68a5f",
   "metadata": {},
   "source": [
    "**Description:** An introduction to Rubin Image Image Services"
   ]
  },
  {
   "cell_type": "markdown",
   "id": "80a0baf5-51ad-40ec-8991-060a7b27c289",
   "metadata": {},
   "source": [
    "**Skills:** Learn how to use Rubin Images Services to query and retrieve images. Learm how to  and image cutouts."
   ]
  },
  {
   "cell_type": "markdown",
   "id": "393da88f-7978-4920-aa4a-a9830df6eed9",
   "metadata": {},
   "source": [
    "**LSST Image Data Products:** Single-epoch Images, Deep Coadds, "
   ]
  },
  {
   "cell_type": "markdown",
   "id": "5c67fab9-136a-4adc-bb42-142b91ab69dd",
   "metadata": {},
   "source": [
    "**Packages:** lsst.rsp.get_tap_service, lsst.rsp.retrieve_query, pyvo"
   ]
  },
  {
   "cell_type": "markdown",
   "id": "8f72b27f",
   "metadata": {},
   "source": [
    "**Credit:** This tutorial was developed for DP0.2 by Leanne Guy."
   ]
  },
  {
   "cell_type": "markdown",
   "id": "28e91cbf-ab7f-4e26-9276-b00299d6065e",
   "metadata": {},
   "source": [
    "**Get Support:**\n",
    "Find DP0-related documentation and resources at <a href=\"https://dp0-1.lsst.io\">dp0-1.lsst.io</a>. Questions are welcome as new topics in the <a href=\"https://community.lsst.org/c/support/dp0\">Support - Data Preview 0 Category</a> of the Rubin Community Forum. Rubin staff will respond to all questions posted there."
   ]
  },
  {
   "cell_type": "markdown",
   "id": "cdade621-a25f-479c-9e41-76a7451a0940",
   "metadata": {
    "tags": []
   },
   "source": [
    "## 1. Introduction\n",
    "\n",
    "Image Services is the term used to describe the collection of Rubin services used for the discovery, description, access, and retrieval of LSST image data products. Rubin Observatory has adopted 'VO First' approach for services, meaning that wherever possible, IVOA-standard interfaces will be adopted. \n",
    "The Virtual Observatory (VO) is the vision that astronomical datasets and services should work together as a whole. The [International Virtual Observatory Alliance (IVOA)](ivoa.net) is an organisation that debates and agrees the technical standards that are needed to make the VO possible.\n",
    "\n",
    "Tutorial 02, Catalog Queries with TAP, introduced the first Rubin IVOA-compliant service to be deployed as part of DP0.1 for accessing table data and metadata. The Rubin TAP service returns structured information about LSST data products.  In this tutorial we will introduce two new IVOA-compliant services that have been deployed as part of DP02 for accessing images and creating image cutouts.\n",
    "\n",
    "Goals of this tutorial\n",
    "\n",
    "* Introduce the IVOA ObsCore data model and the ObsTAP service and understand their use\n",
    "* Search for and retrieve LSST image data products \n",
    "* Use the Rubin Image Cutout Service to create and retrieve cutouts around observations of interet"
   ]
  },
  {
   "cell_type": "markdown",
   "id": "dc36f107",
   "metadata": {
    "jp-MarkdownHeadingCollapsed": true,
    "tags": []
   },
   "source": [
    "### 1.1 Package Imports"
   ]
  },
  {
   "cell_type": "code",
   "execution_count": 1,
   "id": "cddc1458",
   "metadata": {
    "execution": {
     "iopub.execute_input": "2023-02-22T17:53:15.828123Z",
     "iopub.status.busy": "2023-02-22T17:53:15.827425Z",
     "iopub.status.idle": "2023-02-22T17:53:20.531193Z",
     "shell.execute_reply": "2023-02-22T17:53:20.530606Z",
     "shell.execute_reply.started": "2023-02-22T17:53:15.828093Z"
    }
   },
   "outputs": [],
   "source": [
    "# Import general python packages\n",
    "import numpy as np\n",
    "import re\n",
    "import pandas\n",
    "from pandas.testing import assert_frame_equal\n",
    "import uuid\n",
    "import requests\n",
    "import warnings\n",
    "\n",
    "# Import the Rubin TAP service utilities\n",
    "from lsst.rsp import get_tap_service, retrieve_query\n",
    "\n",
    "# Science Pipelines imports\n",
    "from lsst.daf.butler import Butler, DatasetType, CollectionType\n",
    "import lsst.geom as geom\n",
    "import lsst.resources\n",
    "import lsst.geom as geom\n",
    "import lsst.afw.image as afwImage\n",
    "from lsst.afw.image import Image, ImageF\n",
    "from lsst.afw.image.exposure import Exposure, ExposureF\n",
    "import lsst.afw.display as afwDisplay\n",
    "\n",
    "# Plotting with MPL\n",
    "import matplotlib.pyplot as plt\n",
    "\n",
    "# Import the Rubin TAP service utilities\n",
    "from lsst.rsp import get_tap_service\n",
    "from lsst.rsp import get_tap_service, retrieve_query\n",
    "from lsst.rsp.utils import get_access_token\n",
    "\n",
    "# PyVO packages\n",
    "import pyvo\n",
    "from pyvo.dal.adhoc import DatalinkResults, SodaQuery\n",
    "\n",
    "# Astropy\n",
    "from astropy import units as u\n",
    "from astropy.units import UnitsWarning\n",
    "from astropy.coordinates import SkyCoord\n",
    "from astropy.io import fits\n",
    "from astropy.time import Time\n",
    "from astropy.utils.data import download_file\n",
    "from astropy.visualization import  ZScaleInterval, AsinhStretch\n",
    "from astropy.wcs import WCS       \n",
    "from astropy.visualization import simple_norm, imshow_norm\n",
    "from astropy.visualization import ImageNormalize,  ZScaleInterval\n",
    "from astropy.visualization.stretch import SinhStretch, LinearStretch, SqrtStretch\n",
    "\n",
    "# Holoviz for interactive visualization\n",
    "import bokeh\n",
    "from bokeh.io import output_file, output_notebook, show\n",
    "from bokeh.layouts import gridplot\n",
    "from bokeh.models import ColumnDataSource, CDSView, GroupFilter, HoverTool\n",
    "from bokeh.plotting import figure\n",
    "from bokeh.transform import factor_cmap\n",
    "import holoviews as hv\n",
    "from holoviews import streams, opts\n",
    "from holoviews.operation.datashader import rasterize"
   ]
  },
  {
   "cell_type": "markdown",
   "id": "c217adff-25ed-4fce-95e7-8aa04630f6cc",
   "metadata": {
    "tags": []
   },
   "source": [
    "### 1.2 Define Functions and Parameters"
   ]
  },
  {
   "cell_type": "code",
   "execution_count": 2,
   "id": "16c1b54f-d697-437e-8677-5d22a3d90942",
   "metadata": {
    "execution": {
     "iopub.execute_input": "2023-02-22T17:55:33.614675Z",
     "iopub.status.busy": "2023-02-22T17:55:33.613989Z",
     "iopub.status.idle": "2023-02-22T17:55:33.617421Z",
     "shell.execute_reply": "2023-02-22T17:55:33.616760Z",
     "shell.execute_reply.started": "2023-02-22T17:55:33.614640Z"
    }
   },
   "outputs": [],
   "source": [
    "# Set the maximum number of rows to display from pandas\n",
    "pandas.set_option('display.max_rows', 20)"
   ]
  },
  {
   "cell_type": "code",
   "execution_count": 3,
   "id": "706f9ed8-7a18-411c-bcd7-0f5de7424be5",
   "metadata": {
    "execution": {
     "iopub.execute_input": "2023-02-22T17:55:35.141314Z",
     "iopub.status.busy": "2023-02-22T17:55:35.140707Z",
     "iopub.status.idle": "2023-02-22T17:55:37.582251Z",
     "shell.execute_reply": "2023-02-22T17:55:37.581695Z",
     "shell.execute_reply.started": "2023-02-22T17:55:35.141285Z"
    }
   },
   "outputs": [
    {
     "data": {
      "text/html": [
       "<pre style=\"margin: 0.1em;\n",
       "padding-left: 0.25em;\n",
       "border-left-style: solid;\n",
       "font-family: var(--jp-code-font-family);\n",
       "font-size: var(--jp-code-font-size);\n",
       "line-height: var(--jp-code-line-height);\n",
       "\"><span style=\"color: var(--jp-warn-color2)\">botocore.credentials</span> <span style=\"color: var(--jp-info-color0)\">INFO</span>: Found credentials in shared credentials file: /home/leannep/.lsst/aws-credentials.ini</pre>"
      ],
      "text/plain": [
       "<IPython.core.display.HTML object>"
      ]
     },
     "metadata": {},
     "output_type": "display_data"
    }
   ],
   "source": [
    "#Set the DP0.2 config and collection, and instantiate a butler.\n",
    "butler = Butler('dp02', collections='2.2i/runs/DP0.2')\n",
    "registry = butler.registry"
   ]
  },
  {
   "cell_type": "code",
   "execution_count": 4,
   "id": "564ebab2-e113-4466-9c69-71645f172645",
   "metadata": {
    "execution": {
     "iopub.execute_input": "2023-02-22T17:55:37.587841Z",
     "iopub.status.busy": "2023-02-22T17:55:37.587692Z",
     "iopub.status.idle": "2023-02-22T17:55:38.491876Z",
     "shell.execute_reply": "2023-02-22T17:55:38.491011Z",
     "shell.execute_reply.started": "2023-02-22T17:55:37.587828Z"
    },
    "tags": []
   },
   "outputs": [
    {
     "name": "stdout",
     "output_type": "stream",
     "text": [
      "Recommended (Weekly 2023_07)\n",
      "   gdf42428520+759eb90f97 \tcurrent w_2023_07 setup\n"
     ]
    }
   ],
   "source": [
    "# The version of the LSST science piopelines should match the verified version listed at the start of the notebook\n",
    "! echo ${IMAGE_DESCRIPTION}\n",
    "! eups list lsst_distrib"
   ]
  },
  {
   "cell_type": "markdown",
   "id": "29e3c6d4-2f69-44ce-95fb-acd8a4539ec1",
   "metadata": {},
   "source": [
    "## 2 IVOA services \n",
    "\n",
    "Understanding the ivoa ObsCore table and its use .....\n",
    "\n",
    "We will take a look at the LSST ObsCore Data Model (ObsCoreDM) and how to query it using the ObsTAP service. \n",
    "We will then look at how to download data products.\n",
    "\n",
    "ObsTAP, from ObsCore 1.1 or later (as an initial priority), with SIAv2 (also ObsCore-based and serving equivalent data) later\n",
    "\n",
    "As of DP0.2 there is a new schema (table collection) called \\\"ivoa\\\", which contains a table called ivoa.ObsCore. \n",
    "The IVOA-defined obscore table contains generic metadata for datasets held at the IDF. \n",
    "The table is accessible via ADQL queries via a TAP endpoint. The mechanism for locating images from obsevations is to make a TAP query against the ObsCore schema."
   ]
  },
  {
   "cell_type": "markdown",
   "id": "4a2d27db-79ab-4c51-926f-5c19b2f95784",
   "metadata": {},
   "source": [
    "<br>\n",
    "Here are some definitions to help you understand the contents of the ivoa schema. \n",
    "\n",
    "* `VO` - Vitrual Observatory - the vision that astronomical datasets and other resources should work as a seamless whole. Rubin is one of many projects and data centres worldwide who are are working towards this goal. Rubin has adopted a \\\"VO first strategy\\\".\n",
    "* `IVOA` - International Virtual Observatory Alliance, ivoa.net. An organization that debates and agrees the technical standards that are needed to make the VO possible\n",
    "* `ObsCore` - \n",
    "* `ObsTAP` - An IVOA standare\n",
    "* `VOTable` - https://www.ivoa.net/documents/VOTable/ -- VOTable format is an XML standard for the interchange of data represented as a set of tables.\n",
    "* `DataLink` - An IVOA standard to link from metadata about a dataset to the dataset itself, as well as other related data and services that can operate on that data"
   ]
  },
  {
   "cell_type": "markdown",
   "id": "96b06065-55ab-41c0-bc35-ca954f656699",
   "metadata": {},
   "source": [
    "### 3.1 The Rubin ObsCore table\n",
    "Let's take a look at how to query the ObsCore table. We will start by looking at the table collections (schemas) present.  In addition to the DP0.1 and DP0.2 catalog and TAP schema that were present in DP0.1, you will now see a new schema called \\\"ivoa\\\".\n",
    "\n",
    "We will look at the ObsCore Data Model and explore some of the most common informatin fileds that people will want to use. "
   ]
  },
  {
   "cell_type": "code",
   "execution_count": 31,
   "id": "258a2858-4b1d-4e68-a770-403028a799f5",
   "metadata": {
    "execution": {
     "iopub.execute_input": "2023-02-22T19:30:25.624166Z",
     "iopub.status.busy": "2023-02-22T19:30:25.623553Z",
     "iopub.status.idle": "2023-02-22T19:30:25.694832Z",
     "shell.execute_reply": "2023-02-22T19:30:25.694151Z",
     "shell.execute_reply.started": "2023-02-22T19:30:25.624137Z"
    },
    "tags": []
   },
   "outputs": [],
   "source": [
    "service = get_tap_service()"
   ]
  },
  {
   "cell_type": "code",
   "execution_count": 7,
   "id": "588a5812-66eb-448f-b6b0-6623eb1ed31c",
   "metadata": {
    "execution": {
     "iopub.execute_input": "2023-02-22T17:56:20.450113Z",
     "iopub.status.busy": "2023-02-22T17:56:20.449558Z",
     "iopub.status.idle": "2023-02-22T17:56:20.507954Z",
     "shell.execute_reply": "2023-02-22T17:56:20.507396Z",
     "shell.execute_reply.started": "2023-02-22T17:56:20.450088Z"
    },
    "tags": []
   },
   "outputs": [
    {
     "data": {
      "text/html": [
       "<div><i>Table length=5</i>\n",
       "<table id=\"table139983747456480\" class=\"table-striped table-bordered table-condensed\">\n",
       "<thead><tr><th>description</th><th>schema_index</th><th>schema_name</th><th>utype</th></tr></thead>\n",
       "<thead><tr><th>str512</th><th>int32</th><th>str64</th><th>str512</th></tr></thead>\n",
       "<tr><td>Data Preview 0.1 includes five tables based on the DESC&apos;s Data Challenge 2 simulation of 300 square degrees of the wide-fast-deep LSST survey region after 5 years. All tables contain objects detected in coadded images.</td><td>2</td><td>dp01_dc2_catalogs</td><td></td></tr>\n",
       "<tr><td>Data Preview 0.2 contains the image and catalog products of the Rubin Science Pipelines v23 processing of the DESC Data Challenge 2 simulation, which covered 300 square degrees of the wide-fast-deep LSST survey region over 5 years.</td><td>0</td><td>dp02_dc2_catalogs</td><td></td></tr>\n",
       "<tr><td>ObsCore v1.1 attributes in ObsTAP realization</td><td>1</td><td>ivoa</td><td></td></tr>\n",
       "<tr><td>A TAP-standard-mandated schema to describe tablesets in a TAP 1.1 service</td><td>100000</td><td>tap_schema</td><td></td></tr>\n",
       "<tr><td>UWS Metadata</td><td>120000</td><td>uws</td><td></td></tr>\n",
       "</table></div>"
      ],
      "text/plain": [
       "<Table length=5>\n",
       "                                                                                                              description                                                                                                               ...\n",
       "                                                                                                                 str512                                                                                                                 ...\n",
       "--------------------------------------------------------------------------------------------------------------------------------------------------------------------------------------------------------------------------------------- ...\n",
       "             Data Preview 0.1 includes five tables based on the DESC's Data Challenge 2 simulation of 300 square degrees of the wide-fast-deep LSST survey region after 5 years. All tables contain objects detected in coadded images. ...\n",
       "Data Preview 0.2 contains the image and catalog products of the Rubin Science Pipelines v23 processing of the DESC Data Challenge 2 simulation, which covered 300 square degrees of the wide-fast-deep LSST survey region over 5 years. ...\n",
       "                                                                                                                                                                                          ObsCore v1.1 attributes in ObsTAP realization ...\n",
       "                                                                                                                                                              A TAP-standard-mandated schema to describe tablesets in a TAP 1.1 service ...\n",
       "                                                                                                                                                                                                                           UWS Metadata ..."
      ]
     },
     "execution_count": 7,
     "metadata": {},
     "output_type": "execute_result"
    }
   ],
   "source": [
    "query = \"\"\"\n",
    "SELECT * FROM tap_schema.schemas\n",
    "\"\"\"\n",
    "results = service.search(query).to_table()\n",
    "results"
   ]
  },
  {
   "cell_type": "markdown",
   "id": "768690f2-df4d-4d67-95f9-d1d099fef21d",
   "metadata": {},
   "source": [
    "Let's use the TAP service to look at the tables in the ivoa table collection.  "
   ]
  },
  {
   "cell_type": "code",
   "execution_count": 8,
   "id": "1e8e80c6-0294-441d-b8a2-7bc41a783994",
   "metadata": {
    "execution": {
     "iopub.execute_input": "2023-02-22T17:57:58.615964Z",
     "iopub.status.busy": "2023-02-22T17:57:58.615279Z",
     "iopub.status.idle": "2023-02-22T17:57:58.759382Z",
     "shell.execute_reply": "2023-02-22T17:57:58.758882Z",
     "shell.execute_reply.started": "2023-02-22T17:57:58.615932Z"
    }
   },
   "outputs": [
    {
     "data": {
      "text/html": [
       "<div><i>Table length=1</i>\n",
       "<table id=\"table139983747453984\" class=\"table-striped table-bordered table-condensed\">\n",
       "<thead><tr><th>description</th><th>schema_name</th><th>table_index</th><th>table_name</th><th>table_type</th><th>utype</th></tr></thead>\n",
       "<thead><tr><th>str512</th><th>str512</th><th>int32</th><th>str64</th><th>str8</th><th>str512</th></tr></thead>\n",
       "<tr><td>Observation metadata in the ObsTAP relational realization of the IVOA ObsCore data model</td><td>ivoa</td><td>0</td><td>ivoa.ObsCore</td><td>table</td><td></td></tr>\n",
       "</table></div>"
      ],
      "text/plain": [
       "<Table length=1>\n",
       "                                      description                                        ...\n",
       "                                         str512                                          ...\n",
       "---------------------------------------------------------------------------------------- ...\n",
       "Observation metadata in the ObsTAP relational realization of the IVOA ObsCore data model ..."
      ]
     },
     "execution_count": 8,
     "metadata": {},
     "output_type": "execute_result"
    }
   ],
   "source": [
    "query = \"\"\"\n",
    "SELECT * FROM tap_schema.tables where schema_name like 'ivoa' order by table_index ASC\n",
    "\"\"\"\n",
    "result = service.search(query).to_table()\n",
    "result"
   ]
  },
  {
   "cell_type": "markdown",
   "id": "bbdd44b9-c50b-47db-8dd5-129c3603c6ce",
   "metadata": {},
   "source": [
    "The ivoa schema contains 1 table called \\\"ivoa.ObsCore\\\". This table holds the observation metadata for all images in the DP0.2 dataset. Let's look a the main concepts in the ObsCore data model. "
   ]
  },
  {
   "cell_type": "code",
   "execution_count": 15,
   "id": "e42604c6-d2b1-4ba5-8275-15ac7c48cfbd",
   "metadata": {
    "execution": {
     "iopub.execute_input": "2023-02-22T18:23:42.235988Z",
     "iopub.status.busy": "2023-02-22T18:23:42.235477Z",
     "iopub.status.idle": "2023-02-22T18:23:42.346453Z",
     "shell.execute_reply": "2023-02-22T18:23:42.345949Z",
     "shell.execute_reply.started": "2023-02-22T18:23:42.235966Z"
    },
    "tags": []
   },
   "outputs": [
    {
     "data": {
      "text/html": [
       "<div><i>Table length=35</i>\n",
       "<table id=\"table139983745644768\" class=\"table-striped table-bordered table-condensed\">\n",
       "<thead><tr><th>column_name</th><th>unit</th><th>ucd</th><th>description</th><th>utype</th></tr></thead>\n",
       "<thead><tr><th>str64</th><th>str64</th><th>str64</th><th>str512</th><th>str512</th></tr></thead>\n",
       "<tr><td>access_format</td><td></td><td>meta.code.mime</td><td>Content format of the dataset</td><td>Access.format</td></tr>\n",
       "<tr><td>access_url</td><td></td><td>meta.ref.url</td><td>URL used to access dataset</td><td>Access.reference</td></tr>\n",
       "<tr><td>calib_level</td><td></td><td>meta.code;obs.calib</td><td>Calibration level of the observation: in {0, 1, 2, 3, 4}</td><td>ObsDataset.calibLevel</td></tr>\n",
       "<tr><td>dataproduct_subtype</td><td></td><td>meta.code.class</td><td>Data product specific type</td><td>ObsDataset.dataProductSubtype</td></tr>\n",
       "<tr><td>dataproduct_type</td><td></td><td>meta.code.class</td><td>Data product (file content) primary type</td><td>ObsDataset.dataProductType</td></tr>\n",
       "<tr><td>em_max</td><td>m</td><td>em.wl;stat.max</td><td>stop in spectral coordinates</td><td>Char.SpectralAxis.Coverage.Bounds.Limits.HiLimit</td></tr>\n",
       "<tr><td>em_min</td><td>m</td><td>em.wl;stat.min</td><td>start in spectral coordinates</td><td>Char.SpectralAxis.Coverage.Bounds.Limits.LoLimit</td></tr>\n",
       "<tr><td>em_res_power</td><td></td><td>spect.resolution</td><td>Value of the resolving power along the spectral axis (R)</td><td>Char.SpectralAxis.Resolution.ResolPower.refVal</td></tr>\n",
       "<tr><td>em_xel</td><td></td><td>meta.number</td><td>Number of elements along the spectral axis</td><td>Char.SpectralAxis.numBins</td></tr>\n",
       "<tr><td>facility_name</td><td></td><td>meta.id;instr.tel</td><td>The name of the facility, telescope, or space craft used for the observation</td><td>Provenance.ObsConfig.Facility.name</td></tr>\n",
       "<tr><td>...</td><td>...</td><td>...</td><td>...</td><td>...</td></tr>\n",
       "<tr><td>s_region</td><td></td><td>pos.outline;obs.field</td><td>Sky region covered by the data product (expressed in ICRS frame)</td><td>Char.SpatialAxis.Coverage.Support.Area</td></tr>\n",
       "<tr><td>s_resolution</td><td>arcsec</td><td>pos.angResolution</td><td>Spatial resolution of data as FWHM of PSF</td><td>Char.SpatialAxis.Resolution.Refval.value</td></tr>\n",
       "<tr><td>s_xel1</td><td></td><td>meta.number</td><td>Number of elements along the first coordinate of the spatial axis</td><td>Char.SpatialAxis.numBins1</td></tr>\n",
       "<tr><td>s_xel2</td><td></td><td>meta.number</td><td>Number of elements along the second coordinate of the spatial axis</td><td>Char.SpatialAxis.numBins2</td></tr>\n",
       "<tr><td>t_exptime</td><td>s</td><td>time.duration;obs.exposure</td><td>Total exposure time</td><td>Char.TimeAxis.Coverage.Support.Extent</td></tr>\n",
       "<tr><td>t_max</td><td>d</td><td>time.end;obs.exposure</td><td>Stop time in MJD</td><td>Char.TimeAxis.Coverage.Bounds.Limits.StopTime</td></tr>\n",
       "<tr><td>t_min</td><td>d</td><td>time.start;obs.exposure</td><td>Start time in MJD</td><td>Char.TimeAxis.Coverage.Bounds.Limits.StartTime</td></tr>\n",
       "<tr><td>t_resolution</td><td>s</td><td>time.resolution</td><td>Temporal resolution FWHM</td><td>Char.TimeAxis.Resolution.Refval.value</td></tr>\n",
       "<tr><td>t_xel</td><td></td><td>meta.number</td><td>Number of elements along the time axis</td><td>Char.TimeAxis.numBins</td></tr>\n",
       "<tr><td>target_name</td><td></td><td>meta.id;src</td><td>Object of interest</td><td>Target.name</td></tr>\n",
       "</table></div>"
      ],
      "text/plain": [
       "<Table length=35>\n",
       "    column_name      unit  ...                      utype                      \n",
       "       str64        str64  ...                      str512                     \n",
       "------------------- ------ ... ------------------------------------------------\n",
       "      access_format        ...                                    Access.format\n",
       "         access_url        ...                                 Access.reference\n",
       "        calib_level        ...                            ObsDataset.calibLevel\n",
       "dataproduct_subtype        ...                    ObsDataset.dataProductSubtype\n",
       "   dataproduct_type        ...                       ObsDataset.dataProductType\n",
       "             em_max      m ... Char.SpectralAxis.Coverage.Bounds.Limits.HiLimit\n",
       "             em_min      m ... Char.SpectralAxis.Coverage.Bounds.Limits.LoLimit\n",
       "       em_res_power        ...   Char.SpectralAxis.Resolution.ResolPower.refVal\n",
       "             em_xel        ...                        Char.SpectralAxis.numBins\n",
       "      facility_name        ...               Provenance.ObsConfig.Facility.name\n",
       "                ...    ... ...                                              ...\n",
       "           s_region        ...           Char.SpatialAxis.Coverage.Support.Area\n",
       "       s_resolution arcsec ...         Char.SpatialAxis.Resolution.Refval.value\n",
       "             s_xel1        ...                        Char.SpatialAxis.numBins1\n",
       "             s_xel2        ...                        Char.SpatialAxis.numBins2\n",
       "          t_exptime      s ...            Char.TimeAxis.Coverage.Support.Extent\n",
       "              t_max      d ...    Char.TimeAxis.Coverage.Bounds.Limits.StopTime\n",
       "              t_min      d ...   Char.TimeAxis.Coverage.Bounds.Limits.StartTime\n",
       "       t_resolution      s ...            Char.TimeAxis.Resolution.Refval.value\n",
       "              t_xel        ...                            Char.TimeAxis.numBins\n",
       "        target_name        ...                                      Target.name"
      ]
     },
     "execution_count": 15,
     "metadata": {},
     "output_type": "execute_result"
    }
   ],
   "source": [
    "query = \"\"\"SELECT column_name, unit, ucd, description, utype\n",
    "  FROM tap_schema.columns\n",
    "  WHERE table_name = 'ivoa.ObsCore'\n",
    "\"\"\"\n",
    "result = service.search(query).to_table()\n",
    "result"
   ]
  },
  {
   "cell_type": "markdown",
   "id": "aaf3c5b5-4d5e-4c76-9fec-0ad7ed4c5e99",
   "metadata": {},
   "source": [
    "The ObsCore data model that we see above results from analysis carried out by the IVOA to support global data discovery and accessibility. Many of the columns are a mandatory fields of the Observation Core Components data model including their name, recommended units, data type and designation."
   ]
  },
  {
   "cell_type": "markdown",
   "id": "06abaf8a-389a-45cf-8745-eb46f14157c6",
   "metadata": {},
   "source": [
    "The IVOS maintains a registry of all VO compliant services. We can interrogate this registry to find all the Tap services that support the ObsCoreDM. Valid registry keywords incluide: author, datamodel, ivoid, keywords, servicetype, spatial, spectral, temporal, ucd, waveband."
   ]
  },
  {
   "cell_type": "code",
   "execution_count": 28,
   "id": "910b1057-5e38-42ab-afd7-28b7f8857a2d",
   "metadata": {
    "execution": {
     "iopub.execute_input": "2023-02-22T19:15:28.581148Z",
     "iopub.status.busy": "2023-02-22T19:15:28.580448Z",
     "iopub.status.idle": "2023-02-22T19:15:29.450196Z",
     "shell.execute_reply": "2023-02-22T19:15:29.449688Z",
     "shell.execute_reply.started": "2023-02-22T19:15:28.581125Z"
    },
    "tags": []
   },
   "outputs": [
    {
     "name": "stdout",
     "output_type": "stream",
     "text": [
      "ivo://archive.stsci.edu/caomtap\n",
      "ivo://astro.ucl.ac.uk/tap\n",
      "ivo://astron.nl/tap\n",
      "ivo://asu.cas.cz/tap\n",
      "ivo://au.csiro/atoavo/tap\n",
      "ivo://au.csiro/casda/tap\n",
      "ivo://bira-iasb/tap\n",
      "ivo://byu.arvo/tap\n",
      "ivo://cadc.nrc.ca/argus\n",
      "ivo://cefca/j-plus/j-plus-dr1\n",
      "ivo://cefca/j-plus/j-plus-dr2\n",
      "ivo://cefca/j-plus/j-plus-dr3\n",
      "ivo://cefca/minijpas/minij-pas-pdr201912\n",
      "ivo://chivo/tap\n",
      "ivo://eso.org/tap_obs\n",
      "ivo://fai.kz/tap\n",
      "ivo://fu-berlin.planet.hrsc/tap\n",
      "ivo://ia2.inaf.it/hosted/laurino2011/tap\n",
      "ivo://ia2.inaf.it/tap\n",
      "ivo://jive.eu/tap\n",
      "ivo://jvo/alma\n",
      "ivo://jvo/isas/darts/akari/akari-irc_catalogue_allsky_astflux_1.0\n",
      "ivo://jvo/isas/darts/akari/akari-irc_spectrum_pointed_diffuseskypatch_1.0\n",
      "ivo://jvo/isas/darts/akari/akari-irc_spectrum_pointed_galpn_1.0\n",
      "ivo://jvo/isas/darts/akari/akari-irc_spectrum_pointed_slitlessmir_spectrum_1.0\n",
      "ivo://jvo/isas/darts/halca/halca_vsop_correlated_data\n",
      "ivo://jvo/isas/darts/halca/halca_vsop_survey_program_data\n",
      "ivo://jvo/isas/darts/hitomi/hitomaster_v1\n",
      "ivo://jvo/nobeyama\n",
      "ivo://jvo/subaru/spcam\n",
      "ivo://lam.cesam/tap\n",
      "ivo://nci.org.au/macho/tap\n",
      "ivo://nci.org.au/skymapper/tap\n",
      "ivo://nci.org.au/wigglez/tap\n",
      "ivo://org.gavo.dc/tap\n",
      "ivo://padc.obspm.astro/tap\n",
      "ivo://purx/cloud/cloud\n",
      "ivo://purx/tap\n",
      "ivo://pvol/tap\n",
      "ivo://spectrum.iaa/tap\n",
      "ivo://ssdc/tap\n",
      "ivo://uni-heidelberg.de/gaia/tap\n",
      "ivo://vopdc.obspm/luth/hess-dr\n",
      "ivo://vopdc.obspm/tap/maser\n",
      "ivo://voxastro.org/tap\n",
      "ivo://xcatdb/3xmmdr5/tap\n",
      "ivo://xcatdb/3xmmdr7/tap\n",
      "ivo://xcatdb/4xmm/tap\n"
     ]
    }
   ],
   "source": [
    "for vo_service in pyvo.regsearch(datamodel='obscore'):\n",
    "    print(vo_service['ivoid'])  "
   ]
  },
  {
   "cell_type": "markdown",
   "id": "3dc45010-74f7-49a8-830d-27b9dbd93854",
   "metadata": {},
   "source": [
    "The Rubin ObsCore table holds the observation metadata for all images in the DP0.2 dataset. Let's explore the contents of the ObsCore table. "
   ]
  },
  {
   "cell_type": "code",
   "execution_count": 35,
   "id": "3856b11c-93f6-4cec-bf03-be2fcf994687",
   "metadata": {
    "execution": {
     "iopub.execute_input": "2023-02-22T20:01:09.693889Z",
     "iopub.status.busy": "2023-02-22T20:01:09.693206Z",
     "iopub.status.idle": "2023-02-22T20:01:28.642086Z",
     "shell.execute_reply": "2023-02-22T20:01:28.641604Z",
     "shell.execute_reply.started": "2023-02-22T20:01:09.693868Z"
    },
    "tags": []
   },
   "outputs": [
    {
     "data": {
      "text/html": [
       "<div><i>Table length=1</i>\n",
       "<table id=\"table139988917782800\" class=\"table-striped table-bordered table-condensed\">\n",
       "<thead><tr><th>dataproduct_type</th><th>COUNT</th></tr></thead>\n",
       "<thead><tr><th>str128</th><th>int64</th></tr></thead>\n",
       "<tr><td>image</td><td>8475974</td></tr>\n",
       "</table></div>"
      ],
      "text/plain": [
       "<Table length=1>\n",
       "dataproduct_type  COUNT \n",
       "     str128       int64 \n",
       "---------------- -------\n",
       "           image 8475974"
      ]
     },
     "execution_count": 35,
     "metadata": {},
     "output_type": "execute_result"
    }
   ],
   "source": [
    "query = \"\"\" \n",
    "SELECT dataproduct_type, COUNT(*) \n",
    "FROM ivoa.ObsCore \n",
    "GROUP BY dataproduct_type\n",
    "\"\"\"\n",
    "result = service.search(query).to_table()\n",
    "result"
   ]
  },
  {
   "cell_type": "markdown",
   "id": "cd3414c5-42d1-4fc2-a34c-bea7f3fc0d10",
   "metadata": {},
   "source": [
    "There are 8475974 entries for the DP0.2 dataset. The model defines a data product type attribute. This is the observation product that a user will query for an retrieve, e.g \\\"image\\\", \\\"spectrum\\\". There is currently only one data product type supported in the Rubin ObsCore DM -- \\\"image\\\". \n",
    "\n",
    "In addition to the data product type, there are five unique data product subtypes defined in the ObsCore table. The data product subtype allows us to be more specific about data product type. Let's take a look at the data products defined in the Rubin ObsCore DM. \n",
    "\n",
    "Note: [dp0-2.lsst.io](https://dp0-2.lsst.io/data-products-dp0-2/index.html) lists many more data product types that are not listed here. For example, \"deepCoadd\" is not listed and you will not find any deepCoadd data product in the ObsCore table. Need to investigate. "
   ]
  },
  {
   "cell_type": "code",
   "execution_count": 38,
   "id": "32eecbd6-afa1-4750-82fc-4131177ca620",
   "metadata": {
    "execution": {
     "iopub.execute_input": "2023-02-22T20:24:13.811356Z",
     "iopub.status.busy": "2023-02-22T20:24:13.810678Z",
     "iopub.status.idle": "2023-02-22T20:28:52.473501Z",
     "shell.execute_reply": "2023-02-22T20:28:52.473007Z",
     "shell.execute_reply.started": "2023-02-22T20:24:13.811335Z"
    },
    "tags": []
   },
   "outputs": [
    {
     "data": {
      "text/html": [
       "<div><i>Table length=5</i>\n",
       "<table id=\"table139988917785776\" class=\"table-striped table-bordered table-condensed\">\n",
       "<thead><tr><th>dataproduct_subtype</th><th>COUNT</th></tr></thead>\n",
       "<thead><tr><th>str64</th><th>int64</th></tr></thead>\n",
       "<tr><td>lsst.calexp</td><td>2805017</td></tr>\n",
       "<tr><td>lsst.deepCoadd_calexp</td><td>46158</td></tr>\n",
       "<tr><td>lsst.goodSeeingCoadd</td><td>46158</td></tr>\n",
       "<tr><td>lsst.goodSeeingDiff_differenceExp</td><td>2707834</td></tr>\n",
       "<tr><td>lsst.raw</td><td>2870807</td></tr>\n",
       "</table></div>"
      ],
      "text/plain": [
       "<Table length=5>\n",
       "       dataproduct_subtype         COUNT \n",
       "              str64                int64 \n",
       "--------------------------------- -------\n",
       "                      lsst.calexp 2805017\n",
       "            lsst.deepCoadd_calexp   46158\n",
       "             lsst.goodSeeingCoadd   46158\n",
       "lsst.goodSeeingDiff_differenceExp 2707834\n",
       "                         lsst.raw 2870807"
      ]
     },
     "execution_count": 38,
     "metadata": {},
     "output_type": "execute_result"
    }
   ],
   "source": [
    "query = \"\"\" \n",
    "SELECT dataproduct_subtype, COUNT(*) \n",
    "FROM ivoa.ObsCore \n",
    "GROUP BY dataproduct_subtype\n",
    "\"\"\"\n",
    "result = service.search(query).to_table()\n",
    "result"
   ]
  },
  {
   "cell_type": "markdown",
   "id": "3009063a-c22d-4390-9136-b84396511633",
   "metadata": {},
   "source": [
    "The \\\"calib_level\\\" column defines the calibration level of the data product and tells the user the amount of calibration processing that was applied to create the data product. The calib_level column cannot be null for any entry in the ObsCore table. The following goves the defined calib_levels and their relationship to the LSST data products. \n",
    "\n",
    "* `0` - raw instrumental data, possibly in proprietary internal provider format\n",
    "* `1` - instrumental data that may or may mot be calibrated in standard format -- lsst.raw\n",
    "* `2` - science-ready calibrated data with instrument signature removed -- lsst.calexp\n",
    "* `3` - enhanced science-ready data products, e.g mosaics, coadds, difference images -- lsst.deepCoadd_calexp, lsst.goodSeeingDiff_differenceExp, lsst.goodSeeingCoadd"
   ]
  },
  {
   "cell_type": "code",
   "execution_count": 41,
   "id": "13607423-a737-4bc7-99af-8b779381a50f",
   "metadata": {
    "execution": {
     "iopub.execute_input": "2023-02-22T21:01:44.637717Z",
     "iopub.status.busy": "2023-02-22T21:01:44.637460Z",
     "iopub.status.idle": "2023-02-22T21:01:53.270177Z",
     "shell.execute_reply": "2023-02-22T21:01:53.269686Z",
     "shell.execute_reply.started": "2023-02-22T21:01:44.637701Z"
    },
    "tags": []
   },
   "outputs": [
    {
     "data": {
      "text/html": [
       "<div><i>Table length=3</i>\n",
       "<table id=\"table139983717982336\" class=\"table-striped table-bordered table-condensed\">\n",
       "<thead><tr><th>calib_level</th><th>COUNT</th></tr></thead>\n",
       "<thead><tr><th>int32</th><th>int64</th></tr></thead>\n",
       "<tr><td>1</td><td>2870807</td></tr>\n",
       "<tr><td>2</td><td>2805017</td></tr>\n",
       "<tr><td>3</td><td>2800150</td></tr>\n",
       "</table></div>"
      ],
      "text/plain": [
       "<Table length=3>\n",
       "calib_level  COUNT \n",
       "   int32     int64 \n",
       "----------- -------\n",
       "          1 2870807\n",
       "          2 2805017\n",
       "          3 2800150"
      ]
     },
     "execution_count": 41,
     "metadata": {},
     "output_type": "execute_result"
    }
   ],
   "source": [
    "query = \"\"\" SELECT calib_level, COUNT(*) \n",
    "FROM ivoa.ObsCore \n",
    "GROUP BY calib_level\n",
    "\"\"\"\n",
    "result = service.search(query).to_table()\n",
    "result"
   ]
  },
  {
   "cell_type": "code",
   "execution_count": 42,
   "id": "fc2a1418-5411-4fa4-9d7a-929bda928120",
   "metadata": {
    "execution": {
     "iopub.execute_input": "2023-02-22T21:02:06.601237Z",
     "iopub.status.busy": "2023-02-22T21:02:06.600544Z",
     "iopub.status.idle": "2023-02-22T21:06:57.166072Z",
     "shell.execute_reply": "2023-02-22T21:06:57.165576Z",
     "shell.execute_reply.started": "2023-02-22T21:02:06.601214Z"
    }
   },
   "outputs": [
    {
     "data": {
      "text/html": [
       "<div><i>Table length=1</i>\n",
       "<table id=\"table139988917786016\" class=\"table-striped table-bordered table-condensed\">\n",
       "<thead><tr><th>dataproduct_subtype</th><th>COUNT</th></tr></thead>\n",
       "<thead><tr><th>str64</th><th>int64</th></tr></thead>\n",
       "<tr><td>lsst.raw</td><td>2870807</td></tr>\n",
       "</table></div>"
      ],
      "text/plain": [
       "<Table length=1>\n",
       "dataproduct_subtype  COUNT \n",
       "       str64         int64 \n",
       "------------------- -------\n",
       "           lsst.raw 2870807"
      ]
     },
     "execution_count": 42,
     "metadata": {},
     "output_type": "execute_result"
    }
   ],
   "source": [
    "query = \"\"\" SELECT dataproduct_subtype, COUNT(*) \n",
    "FROM ivoa.ObsCore \n",
    "where calib_level = '1'\n",
    "GROUP BY dataproduct_subtype\n",
    "\"\"\"\n",
    "result = service.search(query).to_table()\n",
    "result"
   ]
  },
  {
   "cell_type": "markdown",
   "id": "0e896290-9758-4b38-9a08-39f26db04ae1",
   "metadata": {},
   "source": [
    "The ObsCore model also defines a region with the \\\"s_region\\\" column expressed in the ICRS frame. We can use this attribute to select all DP0.2 image data products of type \\\"deepCoadd_calexp\\\" in a given defined region. Let's define a point of interest and a search radius. "
   ]
  },
  {
   "cell_type": "code",
   "execution_count": 44,
   "id": "a5e808b7-7af5-4dc4-ab8c-bbe6f42d5b5c",
   "metadata": {
    "execution": {
     "iopub.execute_input": "2023-02-22T21:16:16.233889Z",
     "iopub.status.busy": "2023-02-22T21:16:16.233212Z",
     "iopub.status.idle": "2023-02-22T21:16:16.237293Z",
     "shell.execute_reply": "2023-02-22T21:16:16.236806Z",
     "shell.execute_reply.started": "2023-02-22T21:16:16.233867Z"
    },
    "tags": []
   },
   "outputs": [],
   "source": [
    "center_coords = SkyCoord(55.74673760481304, -32.286155241413624, frame='icrs', unit='deg')\n",
    "search_radius = 10*u.deg"
   ]
  },
  {
   "cell_type": "code",
   "execution_count": 45,
   "id": "8ec35357-6904-4db4-a5bf-719fce8a54a0",
   "metadata": {
    "execution": {
     "iopub.execute_input": "2023-02-22T21:16:17.921557Z",
     "iopub.status.busy": "2023-02-22T21:16:17.920908Z",
     "iopub.status.idle": "2023-02-22T21:17:07.407445Z",
     "shell.execute_reply": "2023-02-22T21:17:07.406885Z",
     "shell.execute_reply.started": "2023-02-22T21:16:17.921537Z"
    }
   },
   "outputs": [
    {
     "data": {
      "text/html": [
       "<div><i>Table length=6</i>\n",
       "<table id=\"table139983717988528\" class=\"table-striped table-bordered table-condensed\">\n",
       "<thead><tr><th>access_format</th><th>access_url</th><th>calib_level</th><th>dataproduct_subtype</th><th>dataproduct_type</th><th>em_max</th><th>em_min</th><th>em_res_power</th><th>em_xel</th><th>facility_name</th><th>instrument_name</th><th>lsst_band</th><th>lsst_detector</th><th>lsst_filter</th><th>lsst_patch</th><th>lsst_tract</th><th>lsst_visit</th><th>o_ucd</th><th>obs_collection</th><th>obs_id</th><th>obs_publisher_did</th><th>pol_xel</th><th>s_dec</th><th>s_fov</th><th>s_ra</th><th>s_region</th><th>s_resolution</th><th>s_xel1</th><th>s_xel2</th><th>t_exptime</th><th>t_max</th><th>t_min</th><th>t_resolution</th><th>t_xel</th><th>target_name</th></tr></thead>\n",
       "<thead><tr><th></th><th></th><th></th><th></th><th></th><th>m</th><th>m</th><th></th><th></th><th></th><th></th><th></th><th></th><th></th><th></th><th></th><th></th><th></th><th></th><th></th><th></th><th></th><th>deg</th><th>deg</th><th>deg</th><th></th><th>arcsec</th><th></th><th></th><th>s</th><th>d</th><th>d</th><th>s</th><th></th><th></th></tr></thead>\n",
       "<thead><tr><th>str128</th><th>object</th><th>int32</th><th>str64</th><th>str128</th><th>float64</th><th>float64</th><th>float64</th><th>int64</th><th>str128</th><th>str128</th><th>str10</th><th>int64</th><th>str10</th><th>int64</th><th>int64</th><th>int64</th><th>str32</th><th>str128</th><th>str128</th><th>str256</th><th>int64</th><th>float64</th><th>float64</th><th>float64</th><th>str512</th><th>float64</th><th>int64</th><th>int64</th><th>float64</th><th>float64</th><th>float64</th><th>float64</th><th>int64</th><th>str32</th></tr></thead>\n",
       "<tr><td>application/x-votable+xml;content=datalink</td><td>https://data.lsst.cloud/api/datalink/links?ID=butler%3A//dp02/14e949ec-59a0-4e9a-99c3-dbc74e904fe8</td><td>3</td><td>lsst.deepCoadd_calexp</td><td>image</td><td>1.06e-06</td><td>9.7e-07</td><td>--</td><td>--</td><td>Rubin-LSST</td><td></td><td>y</td><td>--</td><td></td><td>17</td><td>4431</td><td>--</td><td>phot.count</td><td>LSST.DP02</td><td>DC2-4431-17</td><td></td><td>--</td><td>-32.205663176664345</td><td>0.3299793994195083</td><td>55.65214108466622</td><td>POLYGON ICRS 55.514085 -32.322253 55.790197 -32.322253 55.789845 -32.088924 55.514437 -32.088924</td><td>--</td><td>--</td><td>--</td><td>--</td><td>--</td><td>--</td><td>--</td><td>--</td><td></td></tr>\n",
       "<tr><td>application/x-votable+xml;content=datalink</td><td>https://data.lsst.cloud/api/datalink/links?ID=butler%3A//dp02/b876fbf2-9bbb-427d-8e86-e3c272054d34</td><td>3</td><td>lsst.deepCoadd_calexp</td><td>image</td><td>9.22e-07</td><td>8.18e-07</td><td>--</td><td>--</td><td>Rubin-LSST</td><td></td><td>z</td><td>--</td><td></td><td>17</td><td>4431</td><td>--</td><td>phot.count</td><td>LSST.DP02</td><td>DC2-4431-17</td><td></td><td>--</td><td>-32.205663176664345</td><td>0.3299793994195083</td><td>55.65214108466622</td><td>POLYGON ICRS 55.514085 -32.322253 55.790197 -32.322253 55.789845 -32.088924 55.514437 -32.088924</td><td>--</td><td>--</td><td>--</td><td>--</td><td>--</td><td>--</td><td>--</td><td>--</td><td></td></tr>\n",
       "<tr><td>application/x-votable+xml;content=datalink</td><td>https://data.lsst.cloud/api/datalink/links?ID=butler%3A//dp02/f9ba9b77-3e1d-409c-b7f1-1be7e42ff790</td><td>3</td><td>lsst.deepCoadd_calexp</td><td>image</td><td>6.91e-07</td><td>5.52e-07</td><td>--</td><td>--</td><td>Rubin-LSST</td><td></td><td>r</td><td>--</td><td></td><td>17</td><td>4431</td><td>--</td><td>phot.count</td><td>LSST.DP02</td><td>DC2-4431-17</td><td></td><td>--</td><td>-32.205663176664345</td><td>0.3299793994195083</td><td>55.65214108466622</td><td>POLYGON ICRS 55.514085 -32.322253 55.790197 -32.322253 55.789845 -32.088924 55.514437 -32.088924</td><td>--</td><td>--</td><td>--</td><td>--</td><td>--</td><td>--</td><td>--</td><td>--</td><td></td></tr>\n",
       "<tr><td>application/x-votable+xml;content=datalink</td><td>https://data.lsst.cloud/api/datalink/links?ID=butler%3A//dp02/3b7eb0b6-71cc-4b09-96dd-17293d57bf84</td><td>3</td><td>lsst.deepCoadd_calexp</td><td>image</td><td>5.52e-07</td><td>4.02e-07</td><td>--</td><td>--</td><td>Rubin-LSST</td><td></td><td>g</td><td>--</td><td></td><td>17</td><td>4431</td><td>--</td><td>phot.count</td><td>LSST.DP02</td><td>DC2-4431-17</td><td></td><td>--</td><td>-32.205663176664345</td><td>0.3299793994195083</td><td>55.65214108466622</td><td>POLYGON ICRS 55.514085 -32.322253 55.790197 -32.322253 55.789845 -32.088924 55.514437 -32.088924</td><td>--</td><td>--</td><td>--</td><td>--</td><td>--</td><td>--</td><td>--</td><td>--</td><td></td></tr>\n",
       "<tr><td>application/x-votable+xml;content=datalink</td><td>https://data.lsst.cloud/api/datalink/links?ID=butler%3A//dp02/bcaafd06-fa5e-4b32-bf2e-351c23a4da83</td><td>3</td><td>lsst.deepCoadd_calexp</td><td>image</td><td>4e-07</td><td>3.3e-07</td><td>--</td><td>--</td><td>Rubin-LSST</td><td></td><td>u</td><td>--</td><td></td><td>17</td><td>4431</td><td>--</td><td>phot.count</td><td>LSST.DP02</td><td>DC2-4431-17</td><td></td><td>--</td><td>-32.205663176664345</td><td>0.3299793994195083</td><td>55.65214108466622</td><td>POLYGON ICRS 55.514085 -32.322253 55.790197 -32.322253 55.789845 -32.088924 55.514437 -32.088924</td><td>--</td><td>--</td><td>--</td><td>--</td><td>--</td><td>--</td><td>--</td><td>--</td><td></td></tr>\n",
       "<tr><td>application/x-votable+xml;content=datalink</td><td>https://data.lsst.cloud/api/datalink/links?ID=butler%3A//dp02/20d28216-534a-4102-b8a7-1c7f32a9b78c</td><td>3</td><td>lsst.deepCoadd_calexp</td><td>image</td><td>8.18e-07</td><td>6.91e-07</td><td>--</td><td>--</td><td>Rubin-LSST</td><td></td><td>i</td><td>--</td><td></td><td>17</td><td>4431</td><td>--</td><td>phot.count</td><td>LSST.DP02</td><td>DC2-4431-17</td><td></td><td>--</td><td>-32.205663176664345</td><td>0.3299793994195083</td><td>55.65214108466622</td><td>POLYGON ICRS 55.514085 -32.322253 55.790197 -32.322253 55.789845 -32.088924 55.514437 -32.088924</td><td>--</td><td>--</td><td>--</td><td>--</td><td>--</td><td>--</td><td>--</td><td>--</td><td></td></tr>\n",
       "</table></div>"
      ],
      "text/plain": [
       "<Table length=6>\n",
       "              access_format                ... target_name\n",
       "                                           ...            \n",
       "                  str128                   ...    str32   \n",
       "------------------------------------------ ... -----------\n",
       "application/x-votable+xml;content=datalink ...            \n",
       "application/x-votable+xml;content=datalink ...            \n",
       "application/x-votable+xml;content=datalink ...            \n",
       "application/x-votable+xml;content=datalink ...            \n",
       "application/x-votable+xml;content=datalink ...            \n",
       "application/x-votable+xml;content=datalink ...            "
      ]
     },
     "execution_count": 45,
     "metadata": {},
     "output_type": "execute_result"
    }
   ],
   "source": [
    "query = \"\"\"SELECT * FROM ivoa.ObsCore \n",
    "WHERE dataproduct_type = 'image'\n",
    "AND obs_collection = 'LSST.DP02' \n",
    "AND dataproduct_subtype = 'lsst.deepCoadd_calexp'\n",
    "AND CONTAINS(POINT('ICRS', 55.74673760481304, -32.286155241413624), s_region)=1 \n",
    "\"\"\"\n",
    "results = service.search(query).to_table()\n",
    "results"
   ]
  },
  {
   "cell_type": "markdown",
   "id": "df7608e2-abd7-4dae-84fb-e40b141e936d",
   "metadata": {},
   "source": [
    "We see that there are 6 deepCoadd_calexp images, one for each filter. Alternatively, kokwing the patch and tract,  can query directly for the same images and specify a filter. "
   ]
  },
  {
   "cell_type": "code",
   "execution_count": 46,
   "id": "a8eb76fc-c675-42d0-8c36-237334eac02a",
   "metadata": {
    "execution": {
     "iopub.execute_input": "2023-02-22T21:19:40.243833Z",
     "iopub.status.busy": "2023-02-22T21:19:40.243296Z",
     "iopub.status.idle": "2023-02-22T21:22:16.350186Z",
     "shell.execute_reply": "2023-02-22T21:22:16.349689Z",
     "shell.execute_reply.started": "2023-02-22T21:19:40.243810Z"
    }
   },
   "outputs": [
    {
     "data": {
      "text/html": [
       "<div><i>Table length=1</i>\n",
       "<table id=\"table139988918311696\" class=\"table-striped table-bordered table-condensed\">\n",
       "<thead><tr><th>access_format</th><th>access_url</th><th>calib_level</th><th>dataproduct_subtype</th><th>dataproduct_type</th><th>em_max</th><th>em_min</th><th>em_res_power</th><th>em_xel</th><th>facility_name</th><th>instrument_name</th><th>lsst_band</th><th>lsst_detector</th><th>lsst_filter</th><th>lsst_patch</th><th>lsst_tract</th><th>lsst_visit</th><th>o_ucd</th><th>obs_collection</th><th>obs_id</th><th>obs_publisher_did</th><th>pol_xel</th><th>s_dec</th><th>s_fov</th><th>s_ra</th><th>s_region</th><th>s_resolution</th><th>s_xel1</th><th>s_xel2</th><th>t_exptime</th><th>t_max</th><th>t_min</th><th>t_resolution</th><th>t_xel</th><th>target_name</th></tr></thead>\n",
       "<thead><tr><th></th><th></th><th></th><th></th><th></th><th>m</th><th>m</th><th></th><th></th><th></th><th></th><th></th><th></th><th></th><th></th><th></th><th></th><th></th><th></th><th></th><th></th><th></th><th>deg</th><th>deg</th><th>deg</th><th></th><th>arcsec</th><th></th><th></th><th>s</th><th>d</th><th>d</th><th>s</th><th></th><th></th></tr></thead>\n",
       "<thead><tr><th>str128</th><th>object</th><th>int32</th><th>str64</th><th>str128</th><th>float64</th><th>float64</th><th>float64</th><th>int64</th><th>str128</th><th>str128</th><th>str10</th><th>int64</th><th>str10</th><th>int64</th><th>int64</th><th>int64</th><th>str32</th><th>str128</th><th>str128</th><th>str256</th><th>int64</th><th>float64</th><th>float64</th><th>float64</th><th>str512</th><th>float64</th><th>int64</th><th>int64</th><th>float64</th><th>float64</th><th>float64</th><th>float64</th><th>int64</th><th>str32</th></tr></thead>\n",
       "<tr><td>application/x-votable+xml;content=datalink</td><td>https://data.lsst.cloud/api/datalink/links?ID=butler%3A//dp02/20d28216-534a-4102-b8a7-1c7f32a9b78c</td><td>3</td><td>lsst.deepCoadd_calexp</td><td>image</td><td>8.18e-07</td><td>6.91e-07</td><td>--</td><td>--</td><td>Rubin-LSST</td><td></td><td>i</td><td>--</td><td></td><td>17</td><td>4431</td><td>--</td><td>phot.count</td><td>LSST.DP02</td><td>DC2-4431-17</td><td></td><td>--</td><td>-32.205663176664345</td><td>0.3299793994195083</td><td>55.65214108466622</td><td>POLYGON ICRS 55.514085 -32.322253 55.790197 -32.322253 55.789845 -32.088924 55.514437 -32.088924</td><td>--</td><td>--</td><td>--</td><td>--</td><td>--</td><td>--</td><td>--</td><td>--</td><td></td></tr>\n",
       "</table></div>"
      ],
      "text/plain": [
       "<Table length=1>\n",
       "              access_format                ... target_name\n",
       "                                           ...            \n",
       "                  str128                   ...    str32   \n",
       "------------------------------------------ ... -----------\n",
       "application/x-votable+xml;content=datalink ...            "
      ]
     },
     "execution_count": 46,
     "metadata": {},
     "output_type": "execute_result"
    }
   ],
   "source": [
    "query = \"\"\"SELECT * FROM ivoa.ObsCore \n",
    "WHERE dataproduct_type = 'image'\n",
    "AND obs_collection = 'LSST.DP02' \n",
    "AND dataproduct_subtype = 'lsst.deepCoadd_calexp'\n",
    "AND lsst_tract = 4431\n",
    "AND lsst_patch = 17\n",
    "AND lsst_band = 'i'\n",
    "\"\"\"\n",
    "results = service.search(query).to_table()\n",
    "results"
   ]
  },
  {
   "cell_type": "markdown",
   "id": "41f21b1c-ec91-434e-b2ce-e40c0ff4e24b",
   "metadata": {
    "jp-MarkdownHeadingCollapsed": true,
    "tags": []
   },
   "source": [
    "The image UUID that we extracted from the Butler above is part of the access url field. We can query on that as well.  We passed a single UUID (in the first query) so there must be 1 result only (but there are zero)"
   ]
  },
  {
   "cell_type": "code",
   "execution_count": null,
   "id": "fd9bb35b-05b6-4afe-a489-0b2ff4480950",
   "metadata": {},
   "outputs": [],
   "source": [
    "query = \"\"\"\n",
    "SELECT * FROM ivoa.ObsCore WHERE access_url like '%20d28216-534a-4102-b8a7-1c7f32a9b78c' \n",
    "\"\"\"\n",
    "results = service.search(query).to_table()\n",
    "assert len(results) == 1  \n",
    "results"
   ]
  },
  {
   "cell_type": "code",
   "execution_count": null,
   "id": "5e58008a-ba16-4cb3-a4fe-39b557da85ec",
   "metadata": {},
   "outputs": [],
   "source": [
    "  "
   ]
  },
  {
   "cell_type": "markdown",
   "id": "11f7514d-4580-4850-bac0-f37e5caed0f5",
   "metadata": {},
   "source": [
    "### 3.2 Accessing Images\n",
    "\n",
    "Now that we know how to query the ObsCore table to find images, lets see how to access, manipulate and download them"
   ]
  },
  {
   "cell_type": "code",
   "execution_count": null,
   "id": "7b9d3332-5395-4785-8c9e-4fd754244b62",
   "metadata": {},
   "outputs": [],
   "source": [
    "# Now lets retrieve the deep coadd from previously as well as one of the visit images that \n",
    "query = \"\"\"SELECT access_format, access_url, dataproduct_subtype, lsst_patch, lsst_tract, lsst_band, s_ra, s_dec\n",
    "FROM ivoa.ObsCore \n",
    "WHERE dataproduct_type = 'image'\n",
    "AND obs_collection = 'LSST.DP02' \n",
    "AND dataproduct_subtype = 'lsst.deepCoadd_calexp'\n",
    "AND lsst_tract = 4431\n",
    "AND lsst_patch = 17\n",
    "AND lsst_band = 'i'\n",
    "\"\"\"\n",
    "results = service.search(query)\n",
    "results.to_table().show_in_notebook()"
   ]
  },
  {
   "cell_type": "markdown",
   "id": "4f49f624-19e9-4fb9-abbf-3fc8a4265e38",
   "metadata": {},
   "source": [
    "Take a look at the columns \\\"access_format\\\" and \\access_url\\\". A access_url is provided for each image in a row from the ObsCore query.  <rsp-base-url>/api/datalink/links?ID=<id> where <rsp-base-url> is the base URL of the Rubin Science Platform and <id> is a UUID for that image in Butler. Recall previously that we were able to query by UUID. \\\"access_format\\\" tells us that the format is DataLinks. We can get the DataLinks URL as follows: "
   ]
  },
  {
   "cell_type": "code",
   "execution_count": null,
   "id": "b5e3f653-d2af-4269-b3b4-a04536fd44a7",
   "metadata": {},
   "outputs": [],
   "source": [
    "dataLinkUrl = results[0].getdataurl()\n",
    "f\"Datalink link service url: {dataLinkUrl}\""
   ]
  },
  {
   "cell_type": "markdown",
   "id": "26ce6467-7105-4474-8312-32c5f049a097",
   "metadata": {},
   "source": [
    "Before proceeding we need to extract the session authentiction for reuse. Explain more about this"
   ]
  },
  {
   "cell_type": "code",
   "execution_count": null,
   "id": "2f3462dc-08c5-418f-843c-a36cb5ca3ee7",
   "metadata": {},
   "outputs": [],
   "source": [
    "auth_session = service._session"
   ]
  },
  {
   "cell_type": "markdown",
   "id": "d9eb6a7b-1591-45bb-b8ab-5081c19a497b",
   "metadata": {},
   "source": [
    "We call call PyVo's DatalinkResults with the DataLink URL for the image we want to retrieve. This returns a list matching records, each record containoing a set of metadata describing the record."
   ]
  },
  {
   "cell_type": "code",
   "execution_count": null,
   "id": "5df7b97c-7c76-4d5c-8fe6-0c3f1c749dd3",
   "metadata": {},
   "outputs": [],
   "source": [
    "dl_results = DatalinkResults.from_result_url(dataLinkUrl,session=auth_session)\n",
    "f\"{dl_results.status}\""
   ]
  },
  {
   "cell_type": "code",
   "execution_count": null,
   "id": "0a72a703-17e4-418a-a77c-33570eb58631",
   "metadata": {},
   "outputs": [],
   "source": [
    "dl_results.to_table().show_in_notebook()"
   ]
  },
  {
   "cell_type": "markdown",
   "id": "a843c2b9-6234-4b01-a4da-82f1a2dc3bf6",
   "metadata": {},
   "source": [
    "In the table above we see that two records are returned for our image. The first is a signed URL for the image (Primary image or observation data file) that is valid for an hour. <ADD some text explaingin where the image is stored and the URL>. The second is a link to the cutout service. "
   ]
  },
  {
   "cell_type": "code",
   "execution_count": null,
   "id": "09b365cd-40f0-4ec0-b32c-5e42e63b51f1",
   "metadata": {},
   "outputs": [],
   "source": [
    "image_url = dl_results.getrecord(0).get('access_url')\n",
    "f\"{image_url}\""
   ]
  },
  {
   "cell_type": "markdown",
   "id": "5e2b54ff-a02d-4173-a359-187302c0f52e",
   "metadata": {},
   "source": [
    "We can plot the image by making an Exposure object directly from the URL. This plot looks identical to the plot of the same image retrived via the Butler"
   ]
  },
  {
   "cell_type": "code",
   "execution_count": null,
   "id": "fa867727-c815-4fa6-bbb5-7c759563079c",
   "metadata": {},
   "outputs": [],
   "source": [
    "new_coadd = ExposureF(image_url)\n",
    "plotImage(new_coadd)"
   ]
  },
  {
   "cell_type": "code",
   "execution_count": null,
   "id": "307c6025-db28-44ab-a38d-ccbe969dc675",
   "metadata": {},
   "outputs": [],
   "source": [
    "# We can open the URL and take look at the headers \n",
    "hdulist = fits.open(image_url)\n",
    "for hdu in hdulist:\n",
    "    print(hdu.name)"
   ]
  },
  {
   "cell_type": "code",
   "execution_count": null,
   "id": "96074baf-f05d-4772-bb97-93de86914d63",
   "metadata": {},
   "outputs": [],
   "source": [
    "# We can also download the file\n",
    "filename = download_file(image_url)\n",
    "assert os.path.isfile(filename)\n",
    "f\"{filename}\""
   ]
  },
  {
   "cell_type": "markdown",
   "id": "b59c8395-8d50-4619-a786-306428d04e78",
   "metadata": {},
   "source": [
    "## 4 Image cutout service \n",
    "\n",
    "The Rubin Image Cutout Serivce is implemented using the [IVOA SODA](https://ivoa.net/documents/SODA/20170517/REC-SODA-1.0.html) standard. SODA (Server-side Operations for Data Access) is a low-level data access capability or server side data processing that can act upon data files, performing various kinds of operations, such as filtering/subsection, transformations, pixel operations, and applying functions to the data.\n",
    "\n",
    "Need the Butler UUID of an image \n",
    "\n",
    "The initial implementation of the image cutout service will only return FITS files\n",
    "\n",
    "Initial implementation supports \n",
    "CIRCLE and POLYGON.  POS=RANGE not implemented - check!\n",
    "\n",
    "The initial version of the cutout service will only support a single ID parameter and a single stencil parameter.\n",
    "The ID parameter must be a UUID assigned by the Butler and uniquely identifying a source image\n",
    "\n",
    "The Image cutout service is based on SODA 1.0. \n",
    "Examples: \n",
    "https://github.com/astropy/pyvo/blob/main/examples/images/ex_get_cutouts.py\n",
    "https://github.com/astropy/pyvo/blob/main/examples/images/ex_casA_image_cat.py"
   ]
  },
  {
   "cell_type": "markdown",
   "id": "70a14b50-7644-4eca-9669-24ceabd53b01",
   "metadata": {},
   "source": [
    "## 4.1 Using PyVO's SodaQuery object"
   ]
  },
  {
   "cell_type": "markdown",
   "id": "fea2e715-5d25-4e64-930b-ca57179650ca",
   "metadata": {},
   "source": [
    "Introduction to SODA\n",
    "\n",
    "SODA, describe the acronym is a ..... , describe service\n",
    "The Rubin SODA service is to support performing cutouts from the collected LSST image data.\n",
    "\n",
    "Only synchronouse queries of the cutout service run currently. An asynchronous quert support may be introduced in the future\n",
    "\n",
    "SODA needs the Butler UUID. Specifically, the URL is similar to https://data-int.lsst.cloud/api/cutout/sync?id=8a953c0321bd4878bfa694dbf628ea81&circle=53.13925%20-34.0215%200.0105 (the id parameter is the Butler UUID, and the remaining parameters are the cutout request, and there's a POST version as well and an async version following the SODA standard)."
   ]
  },
  {
   "cell_type": "markdown",
   "id": "28259f31-f34a-4735-938a-58598a4123d1",
   "metadata": {},
   "source": [
    "Now lets look at the second result in the DataLink table above. This record provides informaitn about the cutout service. We will use this to get a cutout by using SodaQuery \n",
    "\n",
    "Note:  add some description and an introduction here as to what SODA and a SODA service is. "
   ]
  },
  {
   "cell_type": "markdown",
   "id": "7508db04-1327-4b52-99ac-452d6e684cce",
   "metadata": {},
   "source": [
    "Prepare a query to the SODA service using the DataLink results from above and passing the session authorization token. "
   ]
  },
  {
   "cell_type": "code",
   "execution_count": null,
   "id": "2b996b8b-aabd-4a49-821a-9f9b71e91fae",
   "metadata": {},
   "outputs": [],
   "source": [
    "sq = SodaQuery.from_resource(dl_results, dl_results.get_adhocservice_by_id(\"cutout-sync\"), \n",
    "                             session=auth_session)"
   ]
  },
  {
   "cell_type": "markdown",
   "id": "6f9ddb45-2814-434c-ac56-27f6903af9a9",
   "metadata": {},
   "source": [
    "Now define a a circle cutout centered on the galaxy cluster "
   ]
  },
  {
   "cell_type": "code",
   "execution_count": null,
   "id": "e367b9ad-64e8-49da-8de3-2e19bb8c5775",
   "metadata": {},
   "outputs": [],
   "source": [
    "sphereRadius = 0.03* u.deg\n",
    "sq.circle = (spherePoint.getRa().asDegrees()* u.deg,\n",
    "             spherePoint.getDec().asDegrees()*u.deg, \n",
    "             sphereRadius)\n",
    "f\"Circle around point {spherePoint} of radius {sphereRadius}\""
   ]
  },
  {
   "cell_type": "code",
   "execution_count": null,
   "id": "88dfce75-d257-458f-bafc-f1e08e57dfb7",
   "metadata": {},
   "outputs": [],
   "source": [
    "# Which shapes / stencils are supported currently\n",
    "sq."
   ]
  },
  {
   "cell_type": "code",
   "execution_count": null,
   "id": "c8a86704-c45a-4a37-bdc7-d9cd0ffac7cb",
   "metadata": {},
   "outputs": [],
   "source": [
    "#help(sq)"
   ]
  },
  {
   "cell_type": "markdown",
   "id": "26970a08-7dbd-4223-82ed-87cc99672ed8",
   "metadata": {},
   "source": [
    "Now create the cutout "
   ]
  },
  {
   "cell_type": "code",
   "execution_count": null,
   "id": "5d861c6d-bc2b-44d8-9660-80475c6663e9",
   "metadata": {},
   "outputs": [],
   "source": [
    "sodaCutout = os.path.join(os.getenv('HOME'), 'DATA/soda-cutout.fits')\n",
    "with open(sodaCutout, 'bw') as f:\n",
    "    f.write(sq.execute_stream().read())"
   ]
  },
  {
   "cell_type": "code",
   "execution_count": null,
   "id": "5d34df6a-55ad-4c39-87dd-5d350a580022",
   "metadata": {},
   "outputs": [],
   "source": [
    "# Display the cutout\n",
    "plotImage(ExposureF(sodaCutout))"
   ]
  },
  {
   "cell_type": "markdown",
   "id": "19cba36e-955e-44f0-ab1e-85fbd63ad488",
   "metadata": {},
   "source": [
    "We can see that the image cutout created by the cutout service looks identical to the one we obtained via the Butler"
   ]
  },
  {
   "cell_type": "markdown",
   "id": "617f6dc1-d866-49bc-b58d-145bd1338556",
   "metadata": {},
   "source": [
    "### 4.2 Using the SODA endpoint\n",
    "\n",
    "We construct the SODA endoint as follows. This is similar to endpoints for TAP "
   ]
  },
  {
   "cell_type": "code",
   "execution_count": null,
   "id": "00f6de03-47a5-4770-9fd0-fb237dc306b5",
   "metadata": {},
   "outputs": [],
   "source": [
    "host=os.getenv(\"EXTERNAL_INSTANCE_URL\")\n",
    "SODA_URL=\"{}/api/image/soda/sync\".format(host)\n",
    "ID='default.calexp.r'\n",
    "print(SODA_URL)"
   ]
  },
  {
   "cell_type": "markdown",
   "id": "6066d9f5-aa07-4d3f-81b3-f407629a5f40",
   "metadata": {},
   "source": [
    "## 5. Exercises to the user \n",
    "\n",
    "* Explore the obscore data model for another archive\n",
    "* Explore some of te other attributes defined in the ObsCore DM table - how might you use them to query and retrieve data products of interest for science\n",
    "* Get the UUID for all the visits that comprise the deepCoadd, get a cutout of the galaxy cluster and display them in a grid of images \n",
    "* Do a reprocessing on a cutout\n",
    "* Find an interesting object and use the cutout service to get cutouts of the object in all bands"
   ]
  },
  {
   "cell_type": "markdown",
   "id": "99a26164-8f90-46ab-8e2e-48b25da70da0",
   "metadata": {},
   "source": [
    "## 6. References \n",
    "\n",
    "Rubin technotes\n",
    "*  [DMTN-208](dmtn-208.lsst.io): RSP image cutout service implementation strategy\n",
    "*  [DMTN-238](dmtn-238.lsst.io): RSP DataLink service implementation strategy\n",
    "*  https://dmtn-139.lsst.io/v/DM-22746/index.html , section 7.4 (not published yet)\n",
    "\n",
    "\n",
    "Relevant IVOA standards documents \n",
    "*  IVOA Table Access Protocol (TAP) https://www.ivoa.net/documents/TAP/"
   ]
  }
 ],
 "metadata": {
  "kernelspec": {
   "display_name": "LSST",
   "language": "python",
   "name": "lsst"
  },
  "language_info": {
   "codemirror_mode": {
    "name": "ipython",
    "version": 3
   },
   "file_extension": ".py",
   "mimetype": "text/x-python",
   "name": "python",
   "nbconvert_exporter": "python",
   "pygments_lexer": "ipython3",
   "version": "3.10.9"
  },
  "toc-autonumbering": false
 },
 "nbformat": 4,
 "nbformat_minor": 5
}
