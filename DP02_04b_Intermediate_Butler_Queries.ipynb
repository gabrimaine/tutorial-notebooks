{
 "cells": [
  {
   "cell_type": "markdown",
   "metadata": {},
   "source": [
    "<img align=\"left\" src = https://project.lsst.org/sites/default/files/Rubin-O-Logo_0.png width=250 style=\"padding: 10px\"> \n",
    "<br><b>Data Discovery and Query with the Butler</b> <br>\n",
    "Contact author(s): Alex Drlica-Wagner, Melissa Graham <br>\n",
    "Last verified to run: 2024-01-31 <br>\n",
    "LSST Science Pipelines version: Weekly 2024_04 <br>\n",
    "Container Size: medium <br>\n",
    "Targeted learning level: intermediate <br>"
   ]
  },
  {
   "cell_type": "markdown",
   "metadata": {},
   "source": [
    "**Description:** Learn how to discover data and apply query constraints with the Butler. **Adapted to use the CC-IN2P3 butler.** "
   ]
  },
  {
   "cell_type": "markdown",
   "metadata": {},
   "source": [
    "**Skills:** Use the Butler registry, dataIds, and spatial and temporal constraints."
   ]
  },
  {
   "cell_type": "markdown",
   "metadata": {},
   "source": [
    "**LSST Data Products:** calexps, deepCoadds, sources"
   ]
  },
  {
   "cell_type": "markdown",
   "metadata": {},
   "source": [
    "**Packages:** lsst.daf.butler, lsst.sphgeom"
   ]
  },
  {
   "cell_type": "markdown",
   "metadata": {},
   "source": [
    "**Credit:** Elements of this tutorial were originally developed by Alex Drlica-Wagner in the context of the LSST Stack Club."
   ]
  },
  {
   "cell_type": "markdown",
   "metadata": {},
   "source": [
    "**Get Support:**\n",
    "Find DP0-related documentation and resources at <a href=\"https://dp0-2.lsst.io\">dp0-2.lsst.io</a>. Questions are welcome as new topics in the <a href=\"https://community.lsst.org/c/support/dp0\">Support - Data Preview 0 Category</a> of the Rubin Community Forum. Rubin staff will respond to all questions posted there."
   ]
  },
  {
   "cell_type": "markdown",
   "metadata": {},
   "source": [
    "## 1. Introduction\n",
    "\n",
    "In the introductory Butler tutorial, we learned how to access DP0 data given a specific data identifier (`dataId`). In this tutorial, we will explore how to use the Butler to find available data sets that match different sets of criteria (i.e., perform spatial and temporal searches). As a reminder, full Butler documentation can be found [in the documentation for lsst.dat.butler](https://pipelines.lsst.io/v/weekly/modules/lsst.daf.butler/index.html). For this notebook in particular, you might find this set of [Frequently Asked Questions](https://pipelines.lsst.io/middleware/faq.html) for the LSST Science Pipelines middleware to be useful."
   ]
  },
  {
   "cell_type": "markdown",
   "metadata": {},
   "source": [
    "### 1.1 Package Imports"
   ]
  },
  {
   "cell_type": "markdown",
   "metadata": {},
   "source": [
    "Import general python packages and several packages from the LSST Science Pipelines, including the Butler package and AFW Display, which can be used to display images.\n",
    "More details and techniques regarding image display with `afwDisplay` can be found in the `rubin-dp0` GitHub Organization's [tutorial-notebooks](https://github.com/rubin-dp0/tutorial-notebooks) repository."
   ]
  },
  {
   "cell_type": "code",
   "execution_count": 1,
   "metadata": {
    "execution": {
     "iopub.execute_input": "2024-04-29T13:32:03.546428Z",
     "iopub.status.busy": "2024-04-29T13:32:03.545709Z",
     "iopub.status.idle": "2024-04-29T13:32:05.159867Z",
     "shell.execute_reply": "2024-04-29T13:32:05.158877Z",
     "shell.execute_reply.started": "2024-04-29T13:32:03.546377Z"
    },
    "tags": []
   },
   "outputs": [],
   "source": [
    "# Generic python packages\n",
    "import numpy as np\n",
    "import pylab as plt\n",
    "import astropy.time\n",
    "\n",
    "# LSST Science Pipelines (Stack) packages\n",
    "import lsst.daf.butler as dafButler\n",
    "import lsst.afw.display as afwDisplay\n",
    "import lsst.sphgeom\n",
    "afwDisplay.setDefaultBackend('matplotlib')\n",
    "\n",
    "# Set a standard figure size to use\n",
    "plt.rcParams['figure.figsize'] = (8.0, 8.0)"
   ]
  },
  {
   "cell_type": "markdown",
   "metadata": {},
   "source": [
    "### 1.2. Create an instance of the Butler\n",
    "\n",
    "Create an instance of the Butler pointing to the DP0.2 data by specifying the `dp02` configuration and the `2.2i/runs/DP0.2` collection."
   ]
  },
  {
   "cell_type": "code",
   "execution_count": 2,
   "metadata": {
    "execution": {
     "iopub.execute_input": "2024-04-29T13:32:23.914365Z",
     "iopub.status.busy": "2024-04-29T13:32:23.913688Z",
     "iopub.status.idle": "2024-04-29T13:32:24.871248Z",
     "shell.execute_reply": "2024-04-29T13:32:24.870363Z",
     "shell.execute_reply.started": "2024-04-29T13:32:23.914316Z"
    },
    "tags": []
   },
   "outputs": [],
   "source": [
    "butler = dafButler.Butler('/sps/lsst/dataproducts/rubin/previews/dp0.2/', collections='2.2i/runs/FRDF/DP0.2/PREOPS-1145/step_all')"
   ]
  },
  {
   "cell_type": "markdown",
   "metadata": {},
   "source": [
    "### 1.3. Create a function for image corners"
   ]
  },
  {
   "cell_type": "code",
   "execution_count": 3,
   "metadata": {
    "execution": {
     "iopub.execute_input": "2024-04-29T13:32:26.229589Z",
     "iopub.status.busy": "2024-04-29T13:32:26.228928Z",
     "iopub.status.idle": "2024-04-29T13:32:26.240075Z",
     "shell.execute_reply": "2024-04-29T13:32:26.238649Z",
     "shell.execute_reply.started": "2024-04-29T13:32:26.229538Z"
    },
    "tags": []
   },
   "outputs": [],
   "source": [
    "def get_corners_radec(wcs, bbox):\n",
    "    \"\"\"\n",
    "    Return the corners in RA,Dec in degrees given the WCS and bounding box for an image.\n",
    "\n",
    "    Parameters\n",
    "    ----------\n",
    "    wcs: image WCS returned by the Butler\n",
    "    bbox: bounding box returned by the Butler\n",
    "\n",
    "    Returns\n",
    "    -------\n",
    "    corners_ra, corners_dec in decimal degrees\n",
    "    \"\"\"\n",
    "\n",
    "    corners_x = [bbox.beginX, bbox.beginX, bbox.endX, bbox.endX]\n",
    "    corners_y = [bbox.beginY, bbox.endY, bbox.endY, bbox.beginY]\n",
    "    corners_ra = []\n",
    "    corners_dec = []\n",
    "    for i in range(4):\n",
    "        radec = wcs.pixelToSky(corners_x[i], corners_y[i])\n",
    "        corners_ra.append(radec.getRa().asDegrees())\n",
    "        corners_dec.append(radec.getDec().asDegrees())\n",
    "    \n",
    "    return corners_ra, corners_dec"
   ]
  },
  {
   "cell_type": "markdown",
   "metadata": {},
   "source": [
    "## 2. Explore the DP0 data repository\n",
    "\n",
    "Butler repositories have both a database component and a file-like storage component.\n",
    "The database component can be accessed through the Butler registry, while file-like storage can be local (i.e., pointing to a directory on the local file system) or remote (i.e., pointing to cloud storage resources).\n",
    "DP0 uses Simple Storage Service (S3) buckets, which are public cloud storage resources that are similar to file folders.\n",
    "The S3 buckets store objects, which consist of data and its descriptive metadata."
   ]
  },
  {
   "cell_type": "markdown",
   "metadata": {},
   "source": [
    "### 2.1. The Butler registry\n",
    "\n",
    "The database side of a data repository is called a `registry`.\n",
    "The registry contains entries for all data products, and organizes them by _collections_, _dataset types_, and _data IDs_.\n",
    "We can access a registry client directly as part of our Butler object:"
   ]
  },
  {
   "cell_type": "code",
   "execution_count": 4,
   "metadata": {
    "execution": {
     "iopub.execute_input": "2024-04-29T13:32:28.148400Z",
     "iopub.status.busy": "2024-04-29T13:32:28.147764Z",
     "iopub.status.idle": "2024-04-29T13:32:28.153607Z",
     "shell.execute_reply": "2024-04-29T13:32:28.152445Z",
     "shell.execute_reply.started": "2024-04-29T13:32:28.148357Z"
    },
    "tags": []
   },
   "outputs": [],
   "source": [
    "registry = butler.registry"
   ]
  },
  {
   "cell_type": "markdown",
   "metadata": {},
   "source": [
    "Optional: learn more about the registry by uncommenting the following line."
   ]
  },
  {
   "cell_type": "code",
   "execution_count": 5,
   "metadata": {
    "execution": {
     "iopub.execute_input": "2024-04-29T13:32:30.282988Z",
     "iopub.status.busy": "2024-04-29T13:32:30.282308Z",
     "iopub.status.idle": "2024-04-29T13:32:30.288525Z",
     "shell.execute_reply": "2024-04-29T13:32:30.287059Z",
     "shell.execute_reply.started": "2024-04-29T13:32:30.282943Z"
    },
    "tags": []
   },
   "outputs": [],
   "source": [
    "# help(registry)"
   ]
  },
  {
   "cell_type": "markdown",
   "metadata": {},
   "source": [
    "#### 2.1.1. queryCollections\n",
    "\n",
    "Collections are lightweight groups of datasets such as the set of raw images for a particular instrument, self-consistent calibration datasets, and the outputs of a processing run.\n",
    "For DP0.2, we use the `2.2i/runs/DP0.2` collection, which we specified when creating our instance of the Butler.\n",
    "\n",
    "It is possible to access other collections, which can be queried with `queryCollections`. \n",
    "More about collections can be found in the [lsst.daf.butler documentation](https://pipelines.lsst.io/v/weekly/modules/lsst.daf.butler/organizing.html#collections) and in the middleware [FAQ](https://pipelines.lsst.io/middleware/faq.html#querycollections).\n",
    "\n",
    "> **Risk reminder:** for DP0 there are no read/write restrictions on the Butler repository.\n",
    "\n",
    "The above risk means all users can see *everything* in the Butler, including intermediate processing steps, test runs, staff repositories, and other user repositories.\n",
    "This fact makes the queryCollections functionality less useful for data discovery than it will be in the future, due to the sheer number of Butler collections exposed to users."
   ]
  },
  {
   "cell_type": "markdown",
   "metadata": {},
   "source": [
    "Optional: print a giant list of every collection that exists."
   ]
  },
  {
   "cell_type": "code",
   "execution_count": 6,
   "metadata": {
    "execution": {
     "iopub.execute_input": "2024-04-29T13:32:32.558441Z",
     "iopub.status.busy": "2024-04-29T13:32:32.557788Z",
     "iopub.status.idle": "2024-04-29T13:32:32.563679Z",
     "shell.execute_reply": "2024-04-29T13:32:32.562296Z",
     "shell.execute_reply.started": "2024-04-29T13:32:32.558396Z"
    },
    "tags": []
   },
   "outputs": [],
   "source": [
    "# for c in sorted(registry.queryCollections()):\n",
    "#     print(c)"
   ]
  },
  {
   "cell_type": "markdown",
   "metadata": {},
   "source": [
    "The only two collections that users need are the DP0.1 and DP0.2 collections."
   ]
  },
  {
   "cell_type": "code",
   "execution_count": 8,
   "metadata": {
    "execution": {
     "iopub.execute_input": "2024-04-29T13:33:19.999102Z",
     "iopub.status.busy": "2024-04-29T13:33:19.998420Z",
     "iopub.status.idle": "2024-04-29T13:33:20.064809Z",
     "shell.execute_reply": "2024-04-29T13:33:20.063737Z",
     "shell.execute_reply.started": "2024-04-29T13:33:19.999057Z"
    },
    "tags": []
   },
   "outputs": [],
   "source": [
    "for c in sorted(registry.queryCollections()):\n",
    "    if (c == '2.2i/runs/DP0.1') | (c == '2.2i/runs/DP0.2'):\n",
    "        print(c)"
   ]
  },
  {
   "cell_type": "markdown",
   "metadata": {},
   "source": [
    "You can also find a list of collections that match a string or regular expression. For example, collections created by your friend, e.g., with username 'MelissaGraham'."
   ]
  },
  {
   "cell_type": "code",
   "execution_count": 9,
   "metadata": {
    "execution": {
     "iopub.execute_input": "2024-04-29T13:33:20.684739Z",
     "iopub.status.busy": "2024-04-29T13:33:20.684052Z",
     "iopub.status.idle": "2024-04-29T13:33:20.753385Z",
     "shell.execute_reply": "2024-04-29T13:33:20.752119Z",
     "shell.execute_reply.started": "2024-04-29T13:33:20.684691Z"
    },
    "tags": []
   },
   "outputs": [],
   "source": [
    "for c in sorted(registry.queryCollections(\"*MelissaGraham*\")):\n",
    "    print(c)"
   ]
  },
  {
   "cell_type": "markdown",
   "metadata": {
    "tags": []
   },
   "source": [
    "#### 2.1.2. queryDatasetTypes\n",
    "\n",
    "As shown in the introductory Butler notebook, useful DP0.2 datasetTypes for images include deepCoadd, calexp, and goodSeeingDiff_differenceExp, while useful datasetTypes for catalogs include sourceTable, objectTable, diaObjectTable_tract, etc.\n",
    "See the [DP0.2 Data Products Definitions Document](https://dp0-2.lsst.io/data-products-dp0-2/index.html#dp0-2-data-products-definition-document-dpdd) for more details about the DP0.2 data sets.\n",
    "\n",
    "The queryDatasetTypes function allows users to explore available datasetTypes.\n",
    "\n",
    "> **Notice:** as described in <a href=\"https://pipelines.lsst.io/middleware/faq.html#querydatasettypes\">the documentation page for `queryDatasetTypes`</a>, this method will report *all* datasetTypes that have been registered with a data repository, even if there aren’t any datasets of that type actually present.\n",
    "\n",
    "The queryDatasetTypes function is a useful tool when you know the name of the dataset type already, and want to see how it’s defined (i.e., what kind of dataId it accepts)."
   ]
  },
  {
   "cell_type": "markdown",
   "metadata": {},
   "source": [
    "Optional: print a giant list of all the available dataset types."
   ]
  },
  {
   "cell_type": "code",
   "execution_count": 10,
   "metadata": {
    "execution": {
     "iopub.execute_input": "2024-04-29T13:33:22.615032Z",
     "iopub.status.busy": "2024-04-29T13:33:22.613910Z",
     "iopub.status.idle": "2024-04-29T13:33:22.619084Z",
     "shell.execute_reply": "2024-04-29T13:33:22.618152Z",
     "shell.execute_reply.started": "2024-04-29T13:33:22.614982Z"
    },
    "tags": []
   },
   "outputs": [],
   "source": [
    "# for dt in sorted(registry.queryDatasetTypes()):\n",
    "#     print(dt)"
   ]
  },
  {
   "cell_type": "markdown",
   "metadata": {},
   "source": [
    "You can provide a string or regular expression to queryDatasetTypes to list a subset of datasetTypes. For example, the following cell lists datasetTypes with names including '\\_tract', which indicates that this dataset can be queried by tract."
   ]
  },
  {
   "cell_type": "code",
   "execution_count": 11,
   "metadata": {
    "execution": {
     "iopub.execute_input": "2024-04-29T13:33:24.674496Z",
     "iopub.status.busy": "2024-04-29T13:33:24.673764Z",
     "iopub.status.idle": "2024-04-29T13:33:24.727878Z",
     "shell.execute_reply": "2024-04-29T13:33:24.726458Z",
     "shell.execute_reply.started": "2024-04-29T13:33:24.674451Z"
    },
    "tags": []
   },
   "outputs": [
    {
     "name": "stdout",
     "output_type": "stream",
     "text": [
      "DatasetType('diaObjectTable_tract', {skymap, tract}, DataFrame)\n",
      "DatasetType('diaSourceTable_tract', {skymap, tract}, DataFrame)\n",
      "DatasetType('forcedSourceOnDiaObjectTable_tract', {skymap, tract}, DataFrame)\n",
      "DatasetType('match_ref_truth_summary_objectTable_tract', {skymap, tract}, DataFrame)\n",
      "DatasetType('match_target_truth_summary_objectTable_tract', {skymap, tract}, DataFrame)\n",
      "DatasetType('objectTable_tract', {skymap, tract}, DataFrame)\n"
     ]
    }
   ],
   "source": [
    "for dt in sorted(registry.queryDatasetTypes('*_tract')):\n",
    "    print(dt)"
   ]
  },
  {
   "cell_type": "markdown",
   "metadata": {},
   "source": [
    "Optional: list all the dataset types associated with deepCoadds."
   ]
  },
  {
   "cell_type": "code",
   "execution_count": 12,
   "metadata": {
    "execution": {
     "iopub.execute_input": "2024-04-29T13:33:27.904991Z",
     "iopub.status.busy": "2024-04-29T13:33:27.904264Z",
     "iopub.status.idle": "2024-04-29T13:33:27.910250Z",
     "shell.execute_reply": "2024-04-29T13:33:27.909090Z",
     "shell.execute_reply.started": "2024-04-29T13:33:27.904943Z"
    },
    "tags": []
   },
   "outputs": [],
   "source": [
    "# for dt in sorted(registry.queryDatasetTypes('deepCoadd*')):\n",
    "#     print(dt)"
   ]
  },
  {
   "cell_type": "markdown",
   "metadata": {},
   "source": [
    "Note that queryDatasetTypes returns a generator function, which is a special kind of function that can be iterated.\n",
    "It contains objects that can be looped over like a list, as shown in the code cells above. \n",
    "Generator functions are used because they do not store their contents in memory, making them more suitable for really large data sets, like LSST."
   ]
  },
  {
   "cell_type": "markdown",
   "metadata": {},
   "source": [
    "#### 2.1.3. getDatasetType\n",
    "\n",
    "If you want to retrieve a single datasetType rather than a generator function, you can use `getDatasetType`. Below, we get the datasetType associated with deepCoadd."
   ]
  },
  {
   "cell_type": "code",
   "execution_count": 13,
   "metadata": {
    "execution": {
     "iopub.execute_input": "2024-04-29T13:33:28.536473Z",
     "iopub.status.busy": "2024-04-29T13:33:28.535776Z",
     "iopub.status.idle": "2024-04-29T13:33:28.848865Z",
     "shell.execute_reply": "2024-04-29T13:33:28.847543Z",
     "shell.execute_reply.started": "2024-04-29T13:33:28.536430Z"
    },
    "tags": []
   },
   "outputs": [
    {
     "name": "stdout",
     "output_type": "stream",
     "text": [
      "DatasetType('deepCoadd', {band, skymap, tract, patch}, ExposureF)\n"
     ]
    }
   ],
   "source": [
    "dt_deepCoadd = registry.getDatasetType('deepCoadd')\n",
    "print(dt_deepCoadd)"
   ]
  },
  {
   "cell_type": "markdown",
   "metadata": {},
   "source": [
    "#### 2.1.4. queryDimensionRecords\n",
    "\n",
    "As described in the <a href=\"https://pipelines.lsst.io/middleware/faq.html#querydimensionrecords\">documentation for `queryDimensionRecords`</a>,\n",
    "this method provies a way to inspect metadata tables.\n",
    "\n",
    "**Option:** print the different metadata elements that are available to be inspected."
   ]
  },
  {
   "cell_type": "code",
   "execution_count": 14,
   "metadata": {
    "execution": {
     "iopub.execute_input": "2024-04-29T13:33:30.021328Z",
     "iopub.status.busy": "2024-04-29T13:33:30.021042Z",
     "iopub.status.idle": "2024-04-29T13:33:30.025624Z",
     "shell.execute_reply": "2024-04-29T13:33:30.024633Z",
     "shell.execute_reply.started": "2024-04-29T13:33:30.021306Z"
    },
    "tags": []
   },
   "outputs": [],
   "source": [
    "# for a in butler.registry.dimensions.getStaticElements():\n",
    "#     print(a)"
   ]
  },
  {
   "cell_type": "markdown",
   "metadata": {},
   "source": [
    "A call to `queryDimensionRecords` will return a set of fields, depending on the element.\n",
    "\n",
    "To first see the fields that would be returned for a given element, in this case \"detector\":"
   ]
  },
  {
   "cell_type": "code",
   "execution_count": 15,
   "metadata": {
    "execution": {
     "iopub.execute_input": "2024-04-29T13:33:30.557905Z",
     "iopub.status.busy": "2024-04-29T13:33:30.556650Z",
     "iopub.status.idle": "2024-04-29T13:33:30.564833Z",
     "shell.execute_reply": "2024-04-29T13:33:30.563359Z",
     "shell.execute_reply.started": "2024-04-29T13:33:30.557855Z"
    },
    "tags": []
   },
   "outputs": [
    {
     "name": "stdout",
     "output_type": "stream",
     "text": [
      "detector: \n",
      "  instrument: str\n",
      "  id: int\n",
      "  full_name: str\n",
      "  name_in_raft: str\n",
      "  raft: str\n",
      "  purpose: str\n"
     ]
    }
   ],
   "source": [
    "print(butler.registry.dimensions['detector'].RecordClass.fields)"
   ]
  },
  {
   "cell_type": "markdown",
   "metadata": {},
   "source": [
    "Use the `queryDimensionRecords` method to return some detector metadata available for DP0 images (LSSTCam-imSim), for detectors 6, 7, and 8 only."
   ]
  },
  {
   "cell_type": "code",
   "execution_count": 16,
   "metadata": {
    "execution": {
     "iopub.execute_input": "2024-04-29T13:33:31.700474Z",
     "iopub.status.busy": "2024-04-29T13:33:31.699109Z",
     "iopub.status.idle": "2024-04-29T13:33:31.850610Z",
     "shell.execute_reply": "2024-04-29T13:33:31.849489Z",
     "shell.execute_reply.started": "2024-04-29T13:33:31.700424Z"
    },
    "tags": []
   },
   "outputs": [
    {
     "data": {
      "text/plain": [
       "[detector.RecordClass(instrument='LSSTCam-imSim', id=6, full_name='R01_S20', name_in_raft='S20', raft='R01', purpose='SCIENCE'),\n",
       " detector.RecordClass(instrument='LSSTCam-imSim', id=7, full_name='R01_S21', name_in_raft='S21', raft='R01', purpose='SCIENCE'),\n",
       " detector.RecordClass(instrument='LSSTCam-imSim', id=8, full_name='R01_S22', name_in_raft='S22', raft='R01', purpose='SCIENCE')]"
      ]
     },
     "execution_count": 16,
     "metadata": {},
     "output_type": "execute_result"
    }
   ],
   "source": [
    "list(butler.registry.queryDimensionRecords('detector', where=\"instrument='LSSTCam-imSim' \"\n",
    "                                           \"AND detector.id IN (6..8)\"))"
   ]
  },
  {
   "cell_type": "markdown",
   "metadata": {},
   "source": [
    "**Option:** use the `queryDimensionRecords` method to return the exposure, visit, and detector metadata available for DP0 visit number 971990 and detector 0."
   ]
  },
  {
   "cell_type": "code",
   "execution_count": 17,
   "metadata": {
    "execution": {
     "iopub.execute_input": "2024-04-29T13:33:33.919939Z",
     "iopub.status.busy": "2024-04-29T13:33:33.919205Z",
     "iopub.status.idle": "2024-04-29T13:33:33.926194Z",
     "shell.execute_reply": "2024-04-29T13:33:33.924698Z",
     "shell.execute_reply.started": "2024-04-29T13:33:33.919889Z"
    },
    "tags": []
   },
   "outputs": [],
   "source": [
    "# for dim in ['exposure', 'visit', 'detector']:\n",
    "#     print(list(registry.queryDimensionRecords(dim, where='visit = 971990 and detector = 0'))[0])\n",
    "#     print()"
   ]
  },
  {
   "cell_type": "markdown",
   "metadata": {},
   "source": [
    "### 2.2. Use a dataId with queryDatasets\n",
    "\n",
    "The dataId is a dictionary-like identifier for a data product (more information can be found in the [lsst.daf.butler documentation](https://pipelines.lsst.io/modules/lsst.daf.butler/dimensions.html#data-ids)).\n",
    "Each `DatasetType` (i.e., `calexp`, `deepCoadd`, `objectTable`, etc.) uses a different set of keys in its dataId, which are also called \"dimensions\".\n",
    "\n",
    "Use the registry to get the DatasetType for a specific named dataset, in this case a `calexp`, and list its dimensions."
   ]
  },
  {
   "cell_type": "code",
   "execution_count": 18,
   "metadata": {
    "execution": {
     "iopub.execute_input": "2024-04-29T13:33:34.668706Z",
     "iopub.status.busy": "2024-04-29T13:33:34.668019Z",
     "iopub.status.idle": "2024-04-29T13:33:34.676093Z",
     "shell.execute_reply": "2024-04-29T13:33:34.674951Z",
     "shell.execute_reply.started": "2024-04-29T13:33:34.668662Z"
    },
    "tags": []
   },
   "outputs": [
    {
     "name": "stdout",
     "output_type": "stream",
     "text": [
      "Name: calexp\n",
      "Dimensions: {band, instrument, detector, physical_filter, visit_system, visit}\n",
      "Storage Class: ExposureF\n"
     ]
    }
   ],
   "source": [
    "dt = registry.getDatasetType('calexp')\n",
    "print(\"Name:\", dt.name)\n",
    "print(\"Dimensions:\", dt.dimensions)\n",
    "print(\"Storage Class:\", dt.storageClass)"
   ]
  },
  {
   "cell_type": "markdown",
   "metadata": {},
   "source": [
    "The dataId contains both *implied* and *required* keys.\n",
    "For example, the value of `band` is *implied* by the `visit`, because a single visit refers to a single exposure at a single pointing in a single band.\n",
    "\n",
    "In other tutorial notebooks, we have seen how to access a specific data product using a fully specified dataId. A query for a fully specified dataId should return one unique entry (however, see the [FAQ](https://pipelines.lsst.io/middleware/faq.html#why-do-queries-return-duplicate-results) entry about duplicate results from chained collections).\n",
    "\n",
    "As described in the <a href=\"https://pipelines.lsst.io/middleware/faq.html#querydatasets\">documentation page for `queryDatasets`</a>, this method returns `datasetRefs`, which can be passed directly to a call to `butler.get()` in order to retrieve the desired data (see next section)."
   ]
  },
  {
   "cell_type": "code",
   "execution_count": 19,
   "metadata": {
    "execution": {
     "iopub.execute_input": "2024-04-29T13:33:36.372458Z",
     "iopub.status.busy": "2024-04-29T13:33:36.371751Z",
     "iopub.status.idle": "2024-04-29T13:33:36.897439Z",
     "shell.execute_reply": "2024-04-29T13:33:36.896910Z",
     "shell.execute_reply.started": "2024-04-29T13:33:36.372415Z"
    },
    "tags": []
   },
   "outputs": [
    {
     "name": "stdout",
     "output_type": "stream",
     "text": [
      "{instrument: 'LSSTCam-imSim', detector: 175, visit: 192350, band: 'i', physical_filter: 'i_sim_1.4', visit_system: 1}\n",
      "band: i\n"
     ]
    }
   ],
   "source": [
    "datasetType = 'calexp'\n",
    "dataId = {'visit': 192350, 'detector': 175}\n",
    "datasetRefs = registry.queryDatasets(datasetType, dataId=dataId)\n",
    "\n",
    "for i, ref in enumerate(datasetRefs):\n",
    "    print(ref.dataId)\n",
    "    print(\"band:\", ref.dataId['band'])"
   ]
  },
  {
   "cell_type": "markdown",
   "metadata": {},
   "source": [
    "A dataId can be represented as regular Python `dict` object, but when they are returned from the `Butler` the `DataCoordinate` class is used instead.\n",
    "The value of a single key, in this case *band*, can also be printed by specifying the key name.\n",
    "\n",
    "Note that when we instantiated the Butler pointing to the DP0.2 collection (i.e., at the beginning of this notebook), we implicitly specified that we are interested in data associated with the `LSSTCam-imSim` instrument, since that is the only instrument contained in the DP0.2 collection."
   ]
  },
  {
   "cell_type": "markdown",
   "metadata": {},
   "source": [
    "It is also possible to query for all data products that match a partially specified dataId.\n",
    "For example, in the following cell we use a partially specified dataId to select all the `calexp` data associated with visit=192350.\n",
    "This search will return a separate entry for each CCD detector that was processed for this visit (this visit happens to be close to the edge of the simulated footprint, so only 187 detectors were processed). \n",
    "We'll print information about a few of them. \n",
    "\n",
    "(The following cell will fail and return an error if the query is requesting a `DatasetRef` for data that does not exist.)"
   ]
  },
  {
   "cell_type": "code",
   "execution_count": 20,
   "metadata": {
    "execution": {
     "iopub.execute_input": "2024-04-29T13:33:38.659256Z",
     "iopub.status.busy": "2024-04-29T13:33:38.658495Z",
     "iopub.status.idle": "2024-04-29T13:33:40.725781Z",
     "shell.execute_reply": "2024-04-29T13:33:40.724799Z",
     "shell.execute_reply.started": "2024-04-29T13:33:38.659207Z"
    },
    "tags": []
   },
   "outputs": [
    {
     "name": "stdout",
     "output_type": "stream",
     "text": [
      "{instrument: 'LSSTCam-imSim', detector: 28, visit: 192350, band: 'i', physical_filter: 'i_sim_1.4', visit_system: 1}\n",
      "{instrument: 'LSSTCam-imSim', detector: 58, visit: 192350, band: 'i', physical_filter: 'i_sim_1.4', visit_system: 1}\n",
      "{instrument: 'LSSTCam-imSim', detector: 131, visit: 192350, band: 'i', physical_filter: 'i_sim_1.4', visit_system: 1}\n",
      "{instrument: 'LSSTCam-imSim', detector: 125, visit: 192350, band: 'i', physical_filter: 'i_sim_1.4', visit_system: 1}\n",
      "...\n",
      "Found 187 detectors\n"
     ]
    }
   ],
   "source": [
    "datasetType = 'calexp'\n",
    "dataId = {'visit': 192350}\n",
    "datasetRefs = set(registry.queryDatasets(datasetType, dataId=dataId))\n",
    "\n",
    "for i, ref in enumerate(datasetRefs):\n",
    "    print(ref.dataId)\n",
    "    if i > 2:\n",
    "        print('...')\n",
    "        break\n",
    "\n",
    "print(f\"Found {len(datasetRefs)} detectors\")"
   ]
  },
  {
   "cell_type": "markdown",
   "metadata": {},
   "source": [
    "The LSST Science Camera has 189 science detectors, total, but this visit is very near the edge of the DC2 simulation region (only 300 square degrees of sky).\n",
    "\n",
    "Note the use of the `set` method in the previous cell. \n",
    "If you remove the `set` command, you will find that `queryDatasets` returns duplicate entries for some detectors. \n",
    "This is the result of a conscious design choice in order to to handle large results efficiently. In essence, the SQL queries that are being executed \"under the hood\" are not attempting to remove duplicate entries. You can find a more extensive discussion of duplicate query entries in the [Middleware FAQ](https://pipelines.lsst.io/middleware/faq.html#why-do-queries-return-duplicate-results)."
   ]
  },
  {
   "cell_type": "markdown",
   "metadata": {},
   "source": [
    "### 2.3. Use butler.get() with a datasetRef\n",
    "\n",
    "One of the beauties of the Butler is that there is no need to know exactly where the data live in order to access it.\n",
    "In previous notebooks we've seen how to pass a dataId to Butler.get to return an instance of the appropriate object.\n",
    "When you already have a datasetRef, it is faster and more efficient to pass the datasetRef to Butler.get. \n",
    "Here we use Butler.get to retrieve the calexp and then get the detector Id from the calexp's properties."
   ]
  },
  {
   "cell_type": "code",
   "execution_count": 21,
   "metadata": {
    "execution": {
     "iopub.execute_input": "2024-04-29T13:33:41.255384Z",
     "iopub.status.busy": "2024-04-29T13:33:41.254649Z",
     "iopub.status.idle": "2024-04-29T13:33:54.166438Z",
     "shell.execute_reply": "2024-04-29T13:33:54.165413Z",
     "shell.execute_reply.started": "2024-04-29T13:33:41.255337Z"
    },
    "tags": []
   },
   "outputs": [
    {
     "name": "stdout",
     "output_type": "stream",
     "text": [
      "0  calexp.detector.getId():  28\n",
      "1  calexp.detector.getId():  58\n",
      "2  calexp.detector.getId():  131\n",
      "3  calexp.detector.getId():  125\n",
      "...\n"
     ]
    }
   ],
   "source": [
    "for i, ref in enumerate(datasetRefs):\n",
    "    calexp = butler.get(ref)\n",
    "    print(i, ' calexp.detector.getId(): ', calexp.detector.getId())\n",
    "    if i > 2:\n",
    "        print('...')\n",
    "        break"
   ]
  },
  {
   "cell_type": "markdown",
   "metadata": {},
   "source": [
    "Optional: display the first four calexps retrieved from the Butler."
   ]
  },
  {
   "cell_type": "code",
   "execution_count": 22,
   "metadata": {
    "execution": {
     "iopub.execute_input": "2024-04-29T13:33:54.187191Z",
     "iopub.status.busy": "2024-04-29T13:33:54.187003Z",
     "iopub.status.idle": "2024-04-29T13:33:54.190945Z",
     "shell.execute_reply": "2024-04-29T13:33:54.190043Z",
     "shell.execute_reply.started": "2024-04-29T13:33:54.187174Z"
    },
    "tags": []
   },
   "outputs": [],
   "source": [
    "# for i, ref in enumerate(datasetRefs):\n",
    "#     calexp = butler.get(ref)\n",
    "#     print(i, ' calexp.detector.getId(): ', calexp.detector.getId())\n",
    "#     fig = plt.figure()\n",
    "#     display = afwDisplay.Display(frame=fig)\n",
    "#     display.scale('asinh', 'zscale')\n",
    "#     display.mtv(calexp.image)\n",
    "#     plt.show()\n",
    "#     if i > 2:\n",
    "#         print('...')\n",
    "#         break"
   ]
  },
  {
   "cell_type": "markdown",
   "metadata": {},
   "source": [
    "## 3. Query the DP0 data repository\n",
    "\n",
    "As TAP is the recommended way to query the catalogs, the following basic, temporal, and spatial query examples are all for images (calexps).\n",
    "\n",
    "### 3.1. Basic image queries\n",
    "\n",
    "Our example above demonstrated a very simple use of `queryDatasets`, but additional query terms can also be used, such as band and visit.\n",
    "When a query term is an equality, it can be specified as an argument like `band=''`. \n",
    "When a query term is an inequality, it can be specified with `where`.\n",
    "More details on Butler queries can be found [here in the lsst.daf.butler documentation](https://pipelines.lsst.io/v/weekly/modules/lsst.daf.butler/queries.html).\n",
    "\n",
    "In the following cell, we query for a list of all calexps corresponding i-band observations of a single detector over a range of visits."
   ]
  },
  {
   "cell_type": "code",
   "execution_count": 23,
   "metadata": {
    "execution": {
     "iopub.execute_input": "2024-04-29T13:33:54.192445Z",
     "iopub.status.busy": "2024-04-29T13:33:54.192268Z",
     "iopub.status.idle": "2024-04-29T13:33:55.126104Z",
     "shell.execute_reply": "2024-04-29T13:33:55.125445Z",
     "shell.execute_reply.started": "2024-04-29T13:33:54.192430Z"
    },
    "tags": []
   },
   "outputs": [
    {
     "name": "stdout",
     "output_type": "stream",
     "text": [
      "{instrument: 'LSSTCam-imSim', detector: 175, visit: 192350, band: 'i', physical_filter: 'i_sim_1.4', visit_system: 1}\n",
      "{instrument: 'LSSTCam-imSim', detector: 175, visit: 192351, band: 'i', physical_filter: 'i_sim_1.4', visit_system: 1}\n",
      "{instrument: 'LSSTCam-imSim', detector: 175, visit: 192353, band: 'i', physical_filter: 'i_sim_1.4', visit_system: 1}\n",
      "{instrument: 'LSSTCam-imSim', detector: 175, visit: 192354, band: 'i', physical_filter: 'i_sim_1.4', visit_system: 1}\n",
      "{instrument: 'LSSTCam-imSim', detector: 175, visit: 192355, band: 'i', physical_filter: 'i_sim_1.4', visit_system: 1}\n",
      "{instrument: 'LSSTCam-imSim', detector: 175, visit: 192356, band: 'i', physical_filter: 'i_sim_1.4', visit_system: 1}\n",
      "{instrument: 'LSSTCam-imSim', detector: 175, visit: 192357, band: 'i', physical_filter: 'i_sim_1.4', visit_system: 1}\n",
      "{instrument: 'LSSTCam-imSim', detector: 175, visit: 192358, band: 'i', physical_filter: 'i_sim_1.4', visit_system: 1}\n"
     ]
    }
   ],
   "source": [
    "datasetRefs = registry.queryDatasets(datasetType='calexp', band='i', detector=175,\n",
    "                                     where='visit > 192000 and visit < 193000')\n",
    "\n",
    "for i, ref in enumerate(datasetRefs):\n",
    "    print(ref.dataId)"
   ]
  },
  {
   "cell_type": "markdown",
   "metadata": {},
   "source": [
    "Optional: use the datasetRefs to retrieve the calexp image, and display the first four."
   ]
  },
  {
   "cell_type": "code",
   "execution_count": 24,
   "metadata": {
    "execution": {
     "iopub.execute_input": "2024-04-29T13:33:55.127173Z",
     "iopub.status.busy": "2024-04-29T13:33:55.126947Z",
     "iopub.status.idle": "2024-04-29T13:33:55.131226Z",
     "shell.execute_reply": "2024-04-29T13:33:55.130469Z",
     "shell.execute_reply.started": "2024-04-29T13:33:55.127152Z"
    },
    "tags": []
   },
   "outputs": [],
   "source": [
    "# for i, ref in enumerate(datasetRefs):\n",
    "#     calexp = butler.get(ref)\n",
    "#     fig = plt.figure()\n",
    "#     display = afwDisplay.Display(frame=fig)\n",
    "#     display.scale('asinh', 'zscale')\n",
    "#     display.mtv(calexp.image)\n",
    "#     plt.show()\n",
    "#     if i > 2:\n",
    "#         print('...')\n",
    "#         break"
   ]
  },
  {
   "cell_type": "markdown",
   "metadata": {},
   "source": [
    "#### 3.1.1. Optional: retrieving temporal and spatial metadata\n",
    "\n",
    "As a precursor to doing temporal and spatial queries below, we demonstrate the temporal and spatial metadata that can be retrieved for calexps via the Butler.\n",
    "\n",
    "Retrieving only the metadata (calexp.visitInfo, calexp.bbox, or calexp.wcs) can be faster than retreiving the full calexp, and then extracting the metadata from it.\n",
    "\n",
    "Print the full visitInfo record to screen."
   ]
  },
  {
   "cell_type": "code",
   "execution_count": 25,
   "metadata": {
    "execution": {
     "iopub.execute_input": "2024-04-29T13:33:55.132308Z",
     "iopub.status.busy": "2024-04-29T13:33:55.132096Z",
     "iopub.status.idle": "2024-04-29T13:33:58.549117Z",
     "shell.execute_reply": "2024-04-29T13:33:58.548001Z",
     "shell.execute_reply.started": "2024-04-29T13:33:55.132288Z"
    },
    "tags": []
   },
   "outputs": [
    {
     "name": "stdout",
     "output_type": "stream",
     "text": [
      "VisitInfo(exposureTime=30, darkTime=30, date=2022-09-15T09:07:20.140899826, UT1=nan, ERA=2.28122 rad, boresightRaDec=(53.6003547253, -32.7089000169), boresightAzAlt=(245.0397119707, +83.7529317472), boresightAirmass=1.00506, boresightRotAngle=3.47434 rad, rotType=1, observatory=-30.2446N, -70.7494E  2663, weather=Weather(nan, nan, 40), instrumentLabel='LSSTCam-imSim', id=192350, focusZ=nan, observationType='SKYEXP', scienceProgram='', observationReason='', object='', hasSimulatedContent=false)\n",
      "VisitInfo(exposureTime=30, darkTime=30, date=2022-09-15T09:08:00.748900099, UT1=nan, ERA=2.28419 rad, boresightRaDec=(52.3636782613, -35.9958442960), boresightAzAlt=(227.6773698597, +81.0873436980), boresightAirmass=1.01087, boresightRotAngle=3.16411 rad, rotType=1, observatory=-30.2446N, -70.7494E  2663, weather=Weather(nan, nan, 40), instrumentLabel='LSSTCam-imSim', id=192351, focusZ=nan, observationType='SKYEXP', scienceProgram='', observationReason='', object='', hasSimulatedContent=false)\n",
      "VisitInfo(exposureTime=30, darkTime=30, date=2022-09-15T09:09:22.915099862, UT1=nan, ERA=2.29018 rad, boresightRaDec=(50.8415002597, -42.6478842974), boresightAzAlt=(210.1019638007, +75.2390586556), boresightAirmass=1.03157, boresightRotAngle=2.8675 rad, rotType=1, observatory=-30.2446N, -70.7494E  2663, weather=Weather(nan, nan, 40), instrumentLabel='LSSTCam-imSim', id=192353, focusZ=nan, observationType='SKYEXP', scienceProgram='', observationReason='', object='', hasSimulatedContent=false)\n",
      "VisitInfo(exposureTime=30, darkTime=30, date=2022-09-15T09:10:01.795099843, UT1=nan, ERA=2.29301 rad, boresightRaDec=(54.5372572359, -40.1834782290), boresightAzAlt=(206.1932111969, +78.7505015183), boresightAirmass=1.01802, boresightRotAngle=2.74269 rad, rotType=1, observatory=-30.2446N, -70.7494E  2663, weather=Weather(nan, nan, 40), instrumentLabel='LSSTCam-imSim', id=192354, focusZ=nan, observationType='SKYEXP', scienceProgram='', observationReason='', object='', hasSimulatedContent=false)\n",
      "VisitInfo(exposureTime=30, darkTime=30, date=2022-09-15T09:10:40.761799838, UT1=nan, ERA=2.29585 rad, boresightRaDec=(56.2862239385, -35.0230765514), boresightAzAlt=(219.4345595929, +83.6964151142), boresightAirmass=1.00531, boresightRotAngle=2.92955 rad, rotType=1, observatory=-30.2446N, -70.7494E  2663, weather=Weather(nan, nan, 40), instrumentLabel='LSSTCam-imSim', id=192355, focusZ=nan, observationType='SKYEXP', scienceProgram='', observationReason='', object='', hasSimulatedContent=false)\n",
      "VisitInfo(exposureTime=30, darkTime=30, date=2022-09-15T09:11:19.641799818, UT1=nan, ERA=2.29869 rad, boresightRaDec=(58.4357468320, -33.0205890574), boresightAzAlt=(220.8847083431, +86.2861387101), boresightAirmass=1.00171, boresightRotAngle=2.88967 rad, rotType=1, observatory=-30.2446N, -70.7494E  2663, weather=Weather(nan, nan, 40), instrumentLabel='LSSTCam-imSim', id=192356, focusZ=nan, observationType='SKYEXP', scienceProgram='', observationReason='', object='', hasSimulatedContent=false)\n",
      "VisitInfo(exposureTime=30, darkTime=30, date=2022-09-15T09:12:02.755099887, UT1=nan, ERA=2.30183 rad, boresightRaDec=(55.7954543284, -41.4556164216), boresightAzAlt=(200.8290056154, +77.8760475227), boresightAirmass=1.02116, boresightRotAngle=2.58881 rad, rotType=1, observatory=-30.2446N, -70.7494E  2663, weather=Weather(nan, nan, 40), instrumentLabel='LSSTCam-imSim', id=192357, focusZ=nan, observationType='SKYEXP', scienceProgram='', observationReason='', object='', hasSimulatedContent=false)\n",
      "VisitInfo(exposureTime=30, darkTime=30, date=2022-09-15T09:12:41.635099867, UT1=nan, ERA=2.30467 rad, boresightRaDec=(55.4352486275, -39.3319483539), boresightAzAlt=(207.6887058604, +79.5735769369), boresightAirmass=1.01538, boresightRotAngle=2.69869 rad, rotType=1, observatory=-30.2446N, -70.7494E  2663, weather=Weather(nan, nan, 40), instrumentLabel='LSSTCam-imSim', id=192358, focusZ=nan, observationType='SKYEXP', scienceProgram='', observationReason='', object='', hasSimulatedContent=false)\n"
     ]
    }
   ],
   "source": [
    "for i, ref in enumerate(datasetRefs):\n",
    "    visitInfo = butler.get('calexp.visitInfo', dataId=ref.dataId)\n",
    "    print(visitInfo)"
   ]
  },
  {
   "cell_type": "markdown",
   "metadata": {},
   "source": [
    "Print information from the visitInfo: the date, exposure time, and the boresight (the pointing coordinates of the telescope)."
   ]
  },
  {
   "cell_type": "code",
   "execution_count": 26,
   "metadata": {
    "execution": {
     "iopub.execute_input": "2024-04-29T13:33:58.551238Z",
     "iopub.status.busy": "2024-04-29T13:33:58.550656Z",
     "iopub.status.idle": "2024-04-29T13:33:59.090347Z",
     "shell.execute_reply": "2024-04-29T13:33:59.089831Z",
     "shell.execute_reply.started": "2024-04-29T13:33:58.551201Z"
    },
    "tags": []
   },
   "outputs": [
    {
     "name": "stdout",
     "output_type": "stream",
     "text": [
      "0 DateTime(\"2022-09-15T09:07:20.140899826\", TAI) 30.0 (53.6003547253, -32.7089000169)\n",
      "1 DateTime(\"2022-09-15T09:08:00.748900099\", TAI) 30.0 (52.3636782613, -35.9958442960)\n",
      "2 DateTime(\"2022-09-15T09:09:22.915099862\", TAI) 30.0 (50.8415002597, -42.6478842974)\n",
      "3 DateTime(\"2022-09-15T09:10:01.795099843\", TAI) 30.0 (54.5372572359, -40.1834782290)\n",
      "4 DateTime(\"2022-09-15T09:10:40.761799838\", TAI) 30.0 (56.2862239385, -35.0230765514)\n",
      "5 DateTime(\"2022-09-15T09:11:19.641799818\", TAI) 30.0 (58.4357468320, -33.0205890574)\n",
      "6 DateTime(\"2022-09-15T09:12:02.755099887\", TAI) 30.0 (55.7954543284, -41.4556164216)\n",
      "7 DateTime(\"2022-09-15T09:12:41.635099867\", TAI) 30.0 (55.4352486275, -39.3319483539)\n"
     ]
    }
   ],
   "source": [
    "for i, ref in enumerate(datasetRefs):\n",
    "    visitInfo = butler.get('calexp.visitInfo', dataId=ref.dataId)\n",
    "    print(i, visitInfo.date, visitInfo.exposureTime, visitInfo.boresightRaDec)"
   ]
  },
  {
   "cell_type": "markdown",
   "metadata": {},
   "source": [
    "Print spatial information from the bounding box (bbox) and world coordinate system (wcs) metadata: the four corners of the image."
   ]
  },
  {
   "cell_type": "code",
   "execution_count": 27,
   "metadata": {
    "execution": {
     "iopub.execute_input": "2024-04-29T13:33:59.091309Z",
     "iopub.status.busy": "2024-04-29T13:33:59.091111Z",
     "iopub.status.idle": "2024-04-29T13:34:01.210126Z",
     "shell.execute_reply": "2024-04-29T13:34:01.209075Z",
     "shell.execute_reply.started": "2024-04-29T13:33:59.091292Z"
    },
    "tags": []
   },
   "outputs": [
    {
     "name": "stdout",
     "output_type": "stream",
     "text": [
      "0 (52.963,-33.900) (52.875,-34.109) (53.133,-34.184) (53.221,-33.974) \n",
      "1 (52.188,-37.293) (52.182,-37.514) (52.467,-37.519) (52.473,-37.297) \n",
      "2 (51.183,-43.928) (51.268,-44.141) (51.571,-44.078) (51.484,-43.865) \n",
      "3 (55.075,-41.423) (55.193,-41.626) (55.470,-41.536) (55.352,-41.333) \n",
      "4 (56.492,-36.317) (56.551,-36.533) (56.826,-36.484) (56.766,-36.268) \n",
      "5 (58.699,-34.306) (58.767,-34.521) (59.032,-34.463) (58.963,-34.249) \n",
      "6 (56.596,-42.617) (56.757,-42.804) (57.017,-42.682) (56.855,-42.496) \n",
      "7 (56.038,-40.552) (56.165,-40.751) (56.433,-40.652) (56.305,-40.453) \n"
     ]
    }
   ],
   "source": [
    "for i, ref in enumerate(datasetRefs):\n",
    "    bbox = butler.get('calexp.bbox', dataId=ref.dataId)\n",
    "    wcs = butler.get('calexp.wcs', dataId=ref.dataId)\n",
    "    crnr_ra, crnr_dec = get_corners_radec(wcs, bbox)\n",
    "    tmp = ''\n",
    "    for c in range(4):\n",
    "        tmp += f'({crnr_ra[c]:.3f},{crnr_dec[c]:.3f}) '\n",
    "    print(i, tmp)"
   ]
  },
  {
   "cell_type": "markdown",
   "metadata": {},
   "source": [
    "Optional: view the help documentation for a datasetRef."
   ]
  },
  {
   "cell_type": "code",
   "execution_count": 28,
   "metadata": {
    "execution": {
     "iopub.execute_input": "2024-04-29T13:34:01.268115Z",
     "iopub.status.busy": "2024-04-29T13:34:01.267891Z",
     "iopub.status.idle": "2024-04-29T13:34:01.271415Z",
     "shell.execute_reply": "2024-04-29T13:34:01.270693Z",
     "shell.execute_reply.started": "2024-04-29T13:34:01.268094Z"
    },
    "tags": []
   },
   "outputs": [],
   "source": [
    "# help(ref)"
   ]
  },
  {
   "cell_type": "markdown",
   "metadata": {},
   "source": [
    "> **Tip!** In the case where metadata is desired for many images at once, you can avoid the time-consuming use of butler.get for individual dataIds by retrieving expanded datasetRefs."
   ]
  },
  {
   "cell_type": "code",
   "execution_count": 29,
   "metadata": {
    "execution": {
     "iopub.execute_input": "2024-04-29T13:34:01.287174Z",
     "iopub.status.busy": "2024-04-29T13:34:01.286966Z",
     "iopub.status.idle": "2024-04-29T13:34:02.017791Z",
     "shell.execute_reply": "2024-04-29T13:34:02.016935Z",
     "shell.execute_reply.started": "2024-04-29T13:34:01.287155Z"
    },
    "tags": []
   },
   "outputs": [],
   "source": [
    "datasetRefs = butler.registry.queryDatasets(datasetType='calexp', band='i', detector=175,\n",
    "                                            where='visit > 192000 and visit < 193000')\n",
    "expanded_datasetRefs = datasetRefs.expanded()"
   ]
  },
  {
   "cell_type": "code",
   "execution_count": 30,
   "metadata": {
    "execution": {
     "iopub.execute_input": "2024-04-29T13:34:02.018666Z",
     "iopub.status.busy": "2024-04-29T13:34:02.018463Z",
     "iopub.status.idle": "2024-04-29T13:34:02.047245Z",
     "shell.execute_reply": "2024-04-29T13:34:02.046355Z",
     "shell.execute_reply.started": "2024-04-29T13:34:02.018649Z"
    },
    "tags": []
   },
   "outputs": [
    {
     "name": "stdout",
     "output_type": "stream",
     "text": [
      "0 192350 30.0 [2022-09-15T09:07:05, 2022-09-15T09:07:35) Box([0.8933399435361895, 0.9772575716677872], [-0.6061470685727063, -0.5355792836436872])\n",
      "1 192351 30.0 [2022-09-15T09:07:45, 2022-09-15T09:08:15) Box([0.8746909495312298, 0.9522135881631125], [-0.6594148394681437, -0.5968504795232021])\n",
      "2 192353 30.0 [2022-09-15T09:09:07, 2022-09-15T09:09:37) Box([0.8404055595335118, 0.9351141173916367], [-0.7791241542029297, -0.7094892741294359])\n",
      "3 192354 30.0 [2022-09-15T09:09:46, 2022-09-15T09:10:16) Box([0.9052743096160711, 0.9988246313418908], [-0.7370553056323268, -0.6655943815542783])\n",
      "4 192355 30.0 [2022-09-15T09:10:25, 2022-09-15T09:10:55) Box([0.9409751100908125, 1.0244567661686226], [-0.6453842818240588, -0.5770618372743993])\n",
      "5 192356 30.0 [2022-09-15T09:11:04, 2022-09-15T09:11:34) Box([0.9788809681881151, 1.0614534217123552], [-0.6108848328050508, -0.5416874215742732])\n",
      "6 192357 30.0 [2022-09-15T09:11:47, 2022-09-15T09:12:17) Box([0.925641448701163, 1.0219349220995742], [-0.7596270666837058, -0.6874489672466871])\n",
      "7 192358 30.0 [2022-09-15T09:12:26, 2022-09-15T09:12:56) Box([0.9212122431756704, 1.0140976088181841], [-0.722388612802868, -0.6505484697455468])\n"
     ]
    }
   ],
   "source": [
    "for i, ref in enumerate(expanded_datasetRefs):\n",
    "    record = ref.dataId.records[\"visit\"]\n",
    "    print(i, record.id, record.exposure_time, record.timespan, record.region.getBoundingBox())"
   ]
  },
  {
   "cell_type": "markdown",
   "metadata": {
    "tags": []
   },
   "source": [
    "### 3.2. Temporal image queries\n",
    "\n",
    "The following examples show how to query for data sets that include a desired coordinate and observation date.\n",
    "\n",
    "Since we only need to get the date and time that the exposure was taken, we can start by retrieving only the visitInfo associated with the calexp specified by our dataId (this will be faster than retrieving the full calexp)."
   ]
  },
  {
   "cell_type": "code",
   "execution_count": 31,
   "metadata": {
    "execution": {
     "iopub.execute_input": "2024-04-29T13:34:02.048266Z",
     "iopub.status.busy": "2024-04-29T13:34:02.048064Z",
     "iopub.status.idle": "2024-04-29T13:34:03.020283Z",
     "shell.execute_reply": "2024-04-29T13:34:03.019333Z",
     "shell.execute_reply.started": "2024-04-29T13:34:02.048248Z"
    },
    "tags": []
   },
   "outputs": [
    {
     "name": "stdout",
     "output_type": "stream",
     "text": [
      "VisitInfo(exposureTime=30, darkTime=30, date=2022-09-15T09:07:20.140899826, UT1=nan, ERA=2.28122 rad, boresightRaDec=(53.6003547253, -32.7089000169), boresightAzAlt=(245.0397119707, +83.7529317472), boresightAirmass=1.00506, boresightRotAngle=3.47434 rad, rotType=1, observatory=-30.2446N, -70.7494E  2663, weather=Weather(nan, nan, 40), instrumentLabel='LSSTCam-imSim', id=192350, focusZ=nan, observationType='SKYEXP', scienceProgram='', observationReason='', object='', hasSimulatedContent=false)\n"
     ]
    }
   ],
   "source": [
    "dataId = {'visit': 192350, 'detector': 175}\n",
    "visitInfo = butler.get('calexp.visitInfo', dataId=dataId)\n",
    "print(visitInfo)"
   ]
  },
  {
   "cell_type": "markdown",
   "metadata": {},
   "source": [
    "To query for dimension records or datasets that overlap an arbitrary time range, we can use the `bind` argument to pass times through to `where`.\n",
    "Using `bind` to define an alias for a variable saves us from having to string-format the times into the `where` expression.\n",
    "Note that a `dafButler.Timespan` will accept a `begin` or `end` value that is equal to `None` if it is unbounded on that side.\n",
    "\n",
    "Use `bind` and `where`, along with [astropy.time](https://docs.astropy.org/en/stable/time/index.html), to query for calexps that were obtained within +/- 10 minutes of the calexp defined by the dataId above."
   ]
  },
  {
   "cell_type": "code",
   "execution_count": 32,
   "metadata": {
    "execution": {
     "iopub.execute_input": "2024-04-29T13:34:03.048978Z",
     "iopub.status.busy": "2024-04-29T13:34:03.048795Z",
     "iopub.status.idle": "2024-04-29T13:34:03.135094Z",
     "shell.execute_reply": "2024-04-29T13:34:03.133818Z",
     "shell.execute_reply.started": "2024-04-29T13:34:03.048963Z"
    },
    "tags": []
   },
   "outputs": [
    {
     "name": "stdout",
     "output_type": "stream",
     "text": [
      "2022-09-15 09:07:20.140900\n",
      "60.0\n",
      "[2022-09-15T08:57:57, 2022-09-15T09:17:57)\n"
     ]
    }
   ],
   "source": [
    "time = astropy.time.Time(visitInfo.date.toPython())\n",
    "minute = astropy.time.TimeDelta(60, format=\"sec\")\n",
    "timespan = dafButler.Timespan(time - 10*minute, time + 10*minute)\n",
    "\n",
    "print(time)\n",
    "print(minute)\n",
    "print(timespan)"
   ]
  },
  {
   "cell_type": "code",
   "execution_count": 33,
   "metadata": {
    "execution": {
     "iopub.execute_input": "2024-04-29T13:34:03.137476Z",
     "iopub.status.busy": "2024-04-29T13:34:03.136770Z",
     "iopub.status.idle": "2024-04-29T13:34:03.999301Z",
     "shell.execute_reply": "2024-04-29T13:34:03.998333Z",
     "shell.execute_reply.started": "2024-04-29T13:34:03.137430Z"
    },
    "tags": []
   },
   "outputs": [],
   "source": [
    "datasetRefs = registry.queryDatasets(\"calexp\",\n",
    "                                     where=\"visit.timespan OVERLAPS my_timespan\",\n",
    "                                     bind={\"my_timespan\": timespan})"
   ]
  },
  {
   "cell_type": "code",
   "execution_count": 34,
   "metadata": {
    "execution": {
     "iopub.execute_input": "2024-04-29T13:34:04.000839Z",
     "iopub.status.busy": "2024-04-29T13:34:04.000614Z",
     "iopub.status.idle": "2024-04-29T13:34:07.209996Z",
     "shell.execute_reply": "2024-04-29T13:34:07.208491Z",
     "shell.execute_reply.started": "2024-04-29T13:34:04.000820Z"
    },
    "tags": []
   },
   "outputs": [
    {
     "name": "stdout",
     "output_type": "stream",
     "text": [
      "{instrument: 'LSSTCam-imSim', detector: 156, visit: 192352, band: 'i', physical_filter: 'i_sim_1.4', visit_system: 1}\n",
      "{instrument: 'LSSTCam-imSim', detector: 67, visit: 192352, band: 'i', physical_filter: 'i_sim_1.4', visit_system: 1}\n",
      "{instrument: 'LSSTCam-imSim', detector: 159, visit: 192352, band: 'i', physical_filter: 'i_sim_1.4', visit_system: 1}\n",
      "{instrument: 'LSSTCam-imSim', detector: 115, visit: 192352, band: 'i', physical_filter: 'i_sim_1.4', visit_system: 1}\n",
      "{instrument: 'LSSTCam-imSim', detector: 109, visit: 192352, band: 'i', physical_filter: 'i_sim_1.4', visit_system: 1}\n",
      "{instrument: 'LSSTCam-imSim', detector: 155, visit: 192352, band: 'i', physical_filter: 'i_sim_1.4', visit_system: 1}\n",
      "{instrument: 'LSSTCam-imSim', detector: 113, visit: 192352, band: 'i', physical_filter: 'i_sim_1.4', visit_system: 1}\n",
      "{instrument: 'LSSTCam-imSim', detector: 112, visit: 192352, band: 'i', physical_filter: 'i_sim_1.4', visit_system: 1}\n",
      "...\n",
      "Found 1636 calexps\n"
     ]
    }
   ],
   "source": [
    "for i, ref in enumerate(datasetRefs):\n",
    "    print(ref.dataId)\n",
    "    if i > 6:\n",
    "        print('...')\n",
    "        break\n",
    "\n",
    "print(f\"Found {len(list(datasetRefs))} calexps\")"
   ]
  },
  {
   "cell_type": "markdown",
   "metadata": {},
   "source": [
    "How many unique visits were obtained within the DC2 area within +/- 10 minutes of the calexp defined above?"
   ]
  },
  {
   "cell_type": "code",
   "execution_count": 35,
   "metadata": {
    "execution": {
     "iopub.execute_input": "2024-04-29T13:34:07.214862Z",
     "iopub.status.busy": "2024-04-29T13:34:07.214528Z",
     "iopub.status.idle": "2024-04-29T13:34:07.389126Z",
     "shell.execute_reply": "2024-04-29T13:34:07.388114Z",
     "shell.execute_reply.started": "2024-04-29T13:34:07.214827Z"
    },
    "tags": []
   },
   "outputs": [
    {
     "name": "stdout",
     "output_type": "stream",
     "text": [
      "Number of unique visits:  13\n",
      "visitIds for the unique visits:  [192347 192348 192350 192351 192352 192353 192354 192355 192356 192357\n",
      " 192358 192359 192360]\n"
     ]
    }
   ],
   "source": [
    "temp = []\n",
    "for i, ref in enumerate(datasetRefs):\n",
    "    temp.append(ref.dataId['visit'])\n",
    "\n",
    "unique_visitIds = np.unique(np.sort(np.asarray(temp, dtype='int')))\n",
    "\n",
    "print('Number of unique visits: ', len(unique_visitIds))\n",
    "print('visitIds for the unique visits: ', unique_visitIds)\n",
    "\n",
    "del temp"
   ]
  },
  {
   "cell_type": "markdown",
   "metadata": {},
   "source": [
    "The maximum number of visits that can be executed in 20 minutes is about 34 visits. The reason why we find only 13 is because for DC2 the [minion\\_1016 observing strategy](https://docushare.lsst.org/docushare/dsweb/View/Collection-4604) baseline simulation was used, and minion\\_1016 simulates observations over the whole sky but DC2 covers only 300 square degrees. "
   ]
  },
  {
   "cell_type": "markdown",
   "metadata": {},
   "source": [
    "### 3.3. Spatial image queries\n",
    "\n",
    "#### 3.3.1. Overlapping images\n",
    "\n",
    "As a simple first example, we search for deepCoadd images that overlap a particular calexp. \n",
    "\n",
    "We again start by grabbing the visitInfo for the same calexp."
   ]
  },
  {
   "cell_type": "code",
   "execution_count": 36,
   "metadata": {
    "execution": {
     "iopub.execute_input": "2024-04-29T13:34:07.504479Z",
     "iopub.status.busy": "2024-04-29T13:34:07.504284Z",
     "iopub.status.idle": "2024-04-29T13:34:07.978631Z",
     "shell.execute_reply": "2024-04-29T13:34:07.977746Z",
     "shell.execute_reply.started": "2024-04-29T13:34:07.504463Z"
    },
    "tags": []
   },
   "outputs": [
    {
     "name": "stdout",
     "output_type": "stream",
     "text": [
      "VisitInfo(exposureTime=30, darkTime=30, date=2022-09-15T09:07:20.140899826, UT1=nan, ERA=2.28122 rad, boresightRaDec=(53.6003547253, -32.7089000169), boresightAzAlt=(245.0397119707, +83.7529317472), boresightAirmass=1.00506, boresightRotAngle=3.47434 rad, rotType=1, observatory=-30.2446N, -70.7494E  2663, weather=Weather(nan, nan, 40), instrumentLabel='LSSTCam-imSim', id=192350, focusZ=nan, observationType='SKYEXP', scienceProgram='', observationReason='', object='', hasSimulatedContent=false)\n"
     ]
    }
   ],
   "source": [
    "dataId = {'visit': 192350, 'detector': 175}\n",
    "visitInfo = butler.get('calexp.visitInfo', dataId=dataId)\n",
    "print(visitInfo)"
   ]
  },
  {
   "cell_type": "markdown",
   "metadata": {},
   "source": [
    "If we query for `deepCoadd` datasets with a `visit`+`detector` dataId, we'll get just the deepCoadd objects that overlap that observation and have the same band (because a visit implies a band).\n",
    "This is a very simple spatial query for data that overlaps other data."
   ]
  },
  {
   "cell_type": "code",
   "execution_count": 37,
   "metadata": {
    "execution": {
     "iopub.execute_input": "2024-04-29T13:34:07.979684Z",
     "iopub.status.busy": "2024-04-29T13:34:07.979487Z",
     "iopub.status.idle": "2024-04-29T13:34:08.557658Z",
     "shell.execute_reply": "2024-04-29T13:34:08.556477Z",
     "shell.execute_reply.started": "2024-04-29T13:34:07.979668Z"
    },
    "tags": []
   },
   "outputs": [
    {
     "name": "stdout",
     "output_type": "stream",
     "text": [
      "deepCoadd@{band: 'i', skymap: 'DC2', tract: 4024, patch: 47} [sc=ExposureF] (run=2.2i/runs/FRDF/DP0.2/PREOPS-1145/step3_17/20220604T200936Z id=f3ee45bf-0ac5-494e-bd1f-8b4c99c2fb9d)\n",
      "deepCoadd@{band: 'i', skymap: 'DC2', tract: 4225, patch: 2} [sc=ExposureF] (run=2.2i/runs/FRDF/DP0.2/PREOPS-1145/step3_19/20220609T081700Z id=8acfdb58-ac67-4f18-9d2a-8a54521edeb7)\n",
      "deepCoadd@{band: 'i', skymap: 'DC2', tract: 4225, patch: 3} [sc=ExposureF] (run=2.2i/runs/FRDF/DP0.2/PREOPS-1145/step3_19/20220609T081700Z id=5aefe3c2-acb0-4bd7-889d-d86cfe21f002)\n",
      "deepCoadd@{band: 'i', skymap: 'DC2', tract: 4225, patch: 10} [sc=ExposureF] (run=2.2i/runs/FRDF/DP0.2/PREOPS-1145/step3_19/20220609T081700Z id=c627a5ab-efc9-4da8-bffa-cbd95bc6988f)\n",
      "deepCoadd@{band: 'i', skymap: 'DC2', tract: 4024, patch: 48} [sc=ExposureF] (run=2.2i/runs/FRDF/DP0.2/PREOPS-1145/step3_17/20220617T115003Z id=a9b5660a-f962-48d4-bda7-b55752a2c381)\n",
      "deepCoadd@{band: 'i', skymap: 'DC2', tract: 4225, patch: 9} [sc=ExposureF] (run=2.2i/runs/FRDF/DP0.2/PREOPS-1145/step3_19/20220609T081700Z id=52dd6dfc-a38d-4736-bc5e-04bd58fd6585)\n"
     ]
    }
   ],
   "source": [
    "for ref in set(registry.queryDatasets(\"deepCoadd\", dataId=dataId)):\n",
    "    print(ref)"
   ]
  },
  {
   "cell_type": "markdown",
   "metadata": {},
   "source": [
    "Use the corners of the `calexp` and of the overlapping `deepCoadd` patches to trace the image edges in a plot, and show the overlap.\n",
    "\n",
    "In the plot below, the `deepCoadd` tract and patch (4024, 48) does not quite overlap with the original `calexp`.\n",
    "That is because the visit and detector region from the `calexp` WCS and bounding box is not quite the same as the region in the database, which is based on the raw WCS with some padding."
   ]
  },
  {
   "cell_type": "code",
   "execution_count": 38,
   "metadata": {
    "execution": {
     "iopub.execute_input": "2024-04-29T13:34:08.559721Z",
     "iopub.status.busy": "2024-04-29T13:34:08.559151Z",
     "iopub.status.idle": "2024-04-29T13:34:09.465797Z",
     "shell.execute_reply": "2024-04-29T13:34:09.464688Z",
     "shell.execute_reply.started": "2024-04-29T13:34:08.559682Z"
    },
    "tags": []
   },
   "outputs": [],
   "source": [
    "calexp_wcs = butler.get('calexp.wcs', dataId=dataId)\n",
    "calexp_bbox = butler.get('calexp.bbox', dataId=dataId)\n",
    "calexp_corners_ra, calexp_corners_dec = get_corners_radec(calexp_wcs, calexp_bbox)"
   ]
  },
  {
   "cell_type": "code",
   "execution_count": 39,
   "metadata": {
    "execution": {
     "iopub.execute_input": "2024-04-29T13:34:09.467860Z",
     "iopub.status.busy": "2024-04-29T13:34:09.467381Z",
     "iopub.status.idle": "2024-04-29T13:34:23.576286Z",
     "shell.execute_reply": "2024-04-29T13:34:23.575396Z",
     "shell.execute_reply.started": "2024-04-29T13:34:09.467805Z"
    },
    "tags": []
   },
   "outputs": [
    {
     "data": {
      "image/png": "[encoded data removed]",
      "text/plain": [
       "<Figure size 600x600 with 1 Axes>"
      ]
     },
     "metadata": {},
     "output_type": "display_data"
    }
   ],
   "source": [
    "fig = plt.figure(figsize=(6, 6))\n",
    "\n",
    "xvals = [calexp_corners_ra[0], calexp_corners_ra[1], calexp_corners_ra[2], \\\n",
    "         calexp_corners_ra[3], calexp_corners_ra[0]]\n",
    "yvals = [calexp_corners_dec[0], calexp_corners_dec[1], calexp_corners_dec[2], \\\n",
    "         calexp_corners_dec[3], calexp_corners_dec[0]]\n",
    "plt.plot(xvals, yvals, ls='solid', color='grey', label='visit detector')\n",
    "del xvals, yvals\n",
    "\n",
    "for r, ref in enumerate(set(registry.queryDatasets(\"deepCoadd\", dataId=dataId))):\n",
    "    deepCoadd_dataId = ref.dataId\n",
    "    str_tract_patch = '(' + str(ref.dataId['tract']) + ', ' + str(ref.dataId['patch'])+')'\n",
    "    deepCoadd_wcs = butler.get('deepCoadd.wcs', dataId=deepCoadd_dataId)\n",
    "    deepCoadd_bbox = butler.get('deepCoadd.bbox', dataId=deepCoadd_dataId)\n",
    "    deepCoadd_corners_ra, deepCoadd_corners_dec = get_corners_radec(deepCoadd_wcs, deepCoadd_bbox)\n",
    "    xvals = [deepCoadd_corners_ra[0], deepCoadd_corners_ra[1], deepCoadd_corners_ra[2], \\\n",
    "             deepCoadd_corners_ra[3], deepCoadd_corners_ra[0]]\n",
    "    yvals = [deepCoadd_corners_dec[0], deepCoadd_corners_dec[1], deepCoadd_corners_dec[2], \\\n",
    "             deepCoadd_corners_dec[3], deepCoadd_corners_dec[0]]\n",
    "    plt.plot(xvals, yvals, ls='solid', lw=1, label=str_tract_patch)\n",
    "    del xvals, yvals\n",
    "    del deepCoadd_dataId, deepCoadd_wcs, deepCoadd_bbox\n",
    "    del deepCoadd_corners_ra, deepCoadd_corners_dec\n",
    "\n",
    "plt.xlabel('RA')\n",
    "plt.ylabel('Dec')\n",
    "plt.legend(loc='upper left', ncol=3)\n",
    "plt.show()"
   ]
  },
  {
   "cell_type": "markdown",
   "metadata": {},
   "source": [
    "#### 3.3.2. User-defined spatial constraints on images\n",
    "\n",
    "Arbitrary spatial queries are not supported at this time, such as the \"POINT() IN (REGION)\" example found in this [Butler queries](https://pipelines.lsst.io/v/weekly/modules/lsst.daf.butler/queries.html) documentation.\n",
    "In other words, at this time it is only possible to do queries involving regions that are already \"in\" the data repository, either because they are hierarchical triangular mesh (HTM) pixel regions or because they are tract/patch/visit/visit+detector regions.\n",
    "\n",
    "Thus, for this example we use the set of dimensions that correspond to different levels of the HTM pixelization of the sky ([HTM primer](http://www.skyserver.org/htm/)).\n",
    "The process is to transform a region or point into one or more HTM identifiers (HTM IDs), and then create a query using the HTM ID as the spatial dataId.\n",
    "The `lsst.sphgeom` library supports region objects and HTM pixelization in the LSST Science Pipelines.\n",
    "\n",
    "Using the `lsst.sphgeom` package, initialize a sky pixelization to level 10 (the level at which one sky pixel is about five arcmin radius)."
   ]
  },
  {
   "cell_type": "code",
   "execution_count": 40,
   "metadata": {
    "execution": {
     "iopub.execute_input": "2024-04-29T13:34:23.616913Z",
     "iopub.status.busy": "2024-04-29T13:34:23.616729Z",
     "iopub.status.idle": "2024-04-29T13:34:23.620484Z",
     "shell.execute_reply": "2024-04-29T13:34:23.619778Z",
     "shell.execute_reply.started": "2024-04-29T13:34:23.616897Z"
    },
    "tags": []
   },
   "outputs": [],
   "source": [
    "level = 10  # the resolution of the HTM grid\n",
    "pixelization = lsst.sphgeom.HtmPixelization(level)"
   ]
  },
  {
   "cell_type": "markdown",
   "metadata": {},
   "source": [
    "Find the HTM ID for a desired sky coordinate. Below, the RA and Dec could be user-specified, but here we use the telescope boresight accessed from the calexp visitInfo retrieved above."
   ]
  },
  {
   "cell_type": "code",
   "execution_count": 41,
   "metadata": {
    "execution": {
     "iopub.execute_input": "2024-04-29T13:34:23.655543Z",
     "iopub.status.busy": "2024-04-29T13:34:23.655359Z",
     "iopub.status.idle": "2024-04-29T13:34:24.432196Z",
     "shell.execute_reply": "2024-04-29T13:34:24.430922Z",
     "shell.execute_reply.started": "2024-04-29T13:34:23.655527Z"
    },
    "tags": []
   },
   "outputs": [],
   "source": [
    "ra, dec = visitInfo.boresightRaDec\n",
    "htm_id = pixelization.index(\n",
    "    lsst.sphgeom.UnitVector3d(\n",
    "        lsst.sphgeom.LonLat.fromDegrees(ra.asDegrees(), dec.asDegrees())\n",
    "    )\n",
    ")"
   ]
  },
  {
   "cell_type": "markdown",
   "metadata": {},
   "source": [
    "Obtain and print the scale to provide a sense of the size of the sky pixelization being used. The opening angle for the circle is \"the angle between its center vector and points on its boundary\", i.e., the radius (from the [documentation for .getOpeningAngle in doxygen](http://doxygen.lsst.codes/stack/doxygen/x_masterDoxyDoc/classlsst_1_1sphgeom_1_1_circle.html#aa112ddd08e8445f67db9877a74d8a5c8))."
   ]
  },
  {
   "cell_type": "code",
   "execution_count": 42,
   "metadata": {
    "execution": {
     "iopub.execute_input": "2024-04-29T13:34:24.468387Z",
     "iopub.status.busy": "2024-04-29T13:34:24.468047Z",
     "iopub.status.idle": "2024-04-29T13:34:25.005122Z",
     "shell.execute_reply": "2024-04-29T13:34:25.003677Z",
     "shell.execute_reply.started": "2024-04-29T13:34:24.468355Z"
    },
    "tags": []
   },
   "outputs": [
    {
     "name": "stdout",
     "output_type": "stream",
     "text": [
      "HTM ID=9415276 at level=10 is bounded by a circle of radius ~279.99 arcsec.\n"
     ]
    }
   ],
   "source": [
    "circle = pixelization.triangle(htm_id).getBoundingCircle()\n",
    "scale = circle.getOpeningAngle().asDegrees()*3600.\n",
    "level = pixelization.getLevel()\n",
    "print(f'HTM ID={htm_id} at level={level} is bounded by a circle of radius ~{scale:0.2f} arcsec.')"
   ]
  },
  {
   "cell_type": "code",
   "execution_count": 43,
   "metadata": {
    "execution": {
     "iopub.execute_input": "2024-04-29T13:34:25.006841Z",
     "iopub.status.busy": "2024-04-29T13:34:25.006470Z",
     "iopub.status.idle": "2024-04-29T13:34:25.367019Z",
     "shell.execute_reply": "2024-04-29T13:34:25.366042Z",
     "shell.execute_reply.started": "2024-04-29T13:34:25.006808Z"
    },
    "tags": []
   },
   "outputs": [],
   "source": [
    "small_timespan = dafButler.Timespan(time - minute, time + minute)"
   ]
  },
  {
   "cell_type": "markdown",
   "metadata": {},
   "source": [
    "Pass the htm_id to the queryDatasets command, and also apply the same timespan constraints as above."
   ]
  },
  {
   "cell_type": "code",
   "execution_count": 44,
   "metadata": {
    "execution": {
     "iopub.execute_input": "2024-04-29T13:34:25.368111Z",
     "iopub.status.busy": "2024-04-29T13:34:25.367912Z",
     "iopub.status.idle": "2024-04-29T13:34:26.483588Z",
     "shell.execute_reply": "2024-04-29T13:34:26.482287Z",
     "shell.execute_reply.started": "2024-04-29T13:34:25.368094Z"
    },
    "tags": []
   },
   "outputs": [
    {
     "name": "stdout",
     "output_type": "stream",
     "text": [
      "calexp@{instrument: 'LSSTCam-imSim', detector: 94, visit: 192350, band: 'i', physical_filter: 'i_sim_1.4', visit_system: 1} [sc=ExposureF] (run=2.2i/runs/FRDF/DP0.2/PREOPS-1145/step1_1/20220413T151645Z id=9db0744d-c38c-4c82-80d7-9520f0b0c4c1)\n",
      "Found 1 calexps\n"
     ]
    }
   ],
   "source": [
    "datasetRefs = registry.queryDatasets(\"calexp\", htm20=htm_id,\n",
    "                                     where=\"visit.timespan OVERLAPS my_timespan\",\n",
    "                                     bind={\"my_timespan\": small_timespan})\n",
    "\n",
    "for i, ref in enumerate(datasetRefs):\n",
    "    print(ref)\n",
    "    if i > 6:\n",
    "        print('...')\n",
    "        break\n",
    "\n",
    "print(f\"Found {len(list(datasetRefs))} calexps\")"
   ]
  },
  {
   "cell_type": "markdown",
   "metadata": {},
   "source": [
    "Thus, with the above query, we have *uniquely* recovered the visit for our desired temporal and spatial constraints.\n",
    "\n",
    "Note that since we used the boresight as the RA, Dec for the `htm_id` and not the center of detector 175, a different detector (one in the center of the focal plane) has been returned - but the point here is that it is the same visit, 192350.\n",
    "\n",
    "Note that if a smaller HTM level is used (like 7), which is a larger sky pixel (~2200 arcseconds), the above query will return many more visits and detectors which overlap with that larger region. Try it and see!"
   ]
  },
  {
   "cell_type": "markdown",
   "metadata": {},
   "source": [
    "#### 3.3.3. queryDataIds\n",
    "\n",
    "The level 7 HTM IDs that overlap each visit and detector are already loaded into the registry and can accessed directly using queryDataIds.\n",
    "This will be a faster and more efficient way to look-up overlapping regions, but use of `queryDataIds` is a less general approach that is not appropriate for all cases.\n",
    "The <a href=\"https://pipelines.lsst.io/middleware/faq.html#querydataids\">documentation page for `queryDataIds`</a> outlines when not to use it."
   ]
  },
  {
   "cell_type": "code",
   "execution_count": 45,
   "metadata": {
    "execution": {
     "iopub.execute_input": "2024-04-29T13:34:26.486283Z",
     "iopub.status.busy": "2024-04-29T13:34:26.485597Z",
     "iopub.status.idle": "2024-04-29T13:34:26.534648Z",
     "shell.execute_reply": "2024-04-29T13:34:26.533641Z",
     "shell.execute_reply.started": "2024-04-29T13:34:26.486239Z"
    },
    "tags": []
   },
   "outputs": [
    {
     "name": "stdout",
     "output_type": "stream",
     "text": [
      "{htm7: 147116}\n",
      "{htm7: 147119}\n"
     ]
    }
   ],
   "source": [
    "for i, data_id in enumerate(registry.queryDataIds(\"htm7\", where=\"visit = 192350 and detector = 175\")):\n",
    "    print(data_id)"
   ]
  },
  {
   "cell_type": "code",
   "execution_count": 46,
   "metadata": {
    "execution": {
     "iopub.execute_input": "2024-04-29T13:34:26.536122Z",
     "iopub.status.busy": "2024-04-29T13:34:26.535793Z",
     "iopub.status.idle": "2024-04-29T13:34:27.759056Z",
     "shell.execute_reply": "2024-04-29T13:34:27.758009Z",
     "shell.execute_reply.started": "2024-04-29T13:34:26.536093Z"
    },
    "tags": []
   },
   "outputs": [
    {
     "name": "stdout",
     "output_type": "stream",
     "text": [
      "calexp@{instrument: 'LSSTCam-imSim', detector: 139, visit: 192350, band: 'i', physical_filter: 'i_sim_1.4', visit_system: 1} [sc=ExposureF] (run=2.2i/runs/FRDF/DP0.2/PREOPS-1145/step1_1/20220413T151645Z id=9654e1e0-f7ec-443f-a54f-eccd2faab279)\n",
      "calexp@{instrument: 'LSSTCam-imSim', detector: 140, visit: 192350, band: 'i', physical_filter: 'i_sim_1.4', visit_system: 1} [sc=ExposureF] (run=2.2i/runs/FRDF/DP0.2/PREOPS-1145/step1_1/20220413T151645Z id=9c3bdb98-b0f6-4b08-8bfc-0e24186e7d12)\n",
      "calexp@{instrument: 'LSSTCam-imSim', detector: 142, visit: 192350, band: 'i', physical_filter: 'i_sim_1.4', visit_system: 1} [sc=ExposureF] (run=2.2i/runs/FRDF/DP0.2/PREOPS-1145/step1_1/20220413T151645Z id=62120bb4-7885-4bb7-9be0-a651b3a6c409)\n",
      "calexp@{instrument: 'LSSTCam-imSim', detector: 143, visit: 192350, band: 'i', physical_filter: 'i_sim_1.4', visit_system: 1} [sc=ExposureF] (run=2.2i/runs/FRDF/DP0.2/PREOPS-1145/step1_1/20220413T151645Z id=5265d253-6a70-4c28-b922-d2b46b000e7a)\n",
      "calexp@{instrument: 'LSSTCam-imSim', detector: 150, visit: 192350, band: 'i', physical_filter: 'i_sim_1.4', visit_system: 1} [sc=ExposureF] (run=2.2i/runs/FRDF/DP0.2/PREOPS-1145/step1_1/20220413T151645Z id=7eaec0b5-9aa3-4b6a-b8eb-c458cd1ef0cc)\n",
      "calexp@{instrument: 'LSSTCam-imSim', detector: 172, visit: 192350, band: 'i', physical_filter: 'i_sim_1.4', visit_system: 1} [sc=ExposureF] (run=2.2i/runs/FRDF/DP0.2/PREOPS-1145/step1_1/20220413T151645Z id=b97599ad-3c69-4d73-962c-fe858012355a)\n",
      "calexp@{instrument: 'LSSTCam-imSim', detector: 173, visit: 192350, band: 'i', physical_filter: 'i_sim_1.4', visit_system: 1} [sc=ExposureF] (run=2.2i/runs/FRDF/DP0.2/PREOPS-1145/step1_1/20220413T151645Z id=ee60c853-30be-4c1f-a25e-a98e33d00a48)\n",
      "calexp@{instrument: 'LSSTCam-imSim', detector: 175, visit: 192350, band: 'i', physical_filter: 'i_sim_1.4', visit_system: 1} [sc=ExposureF] (run=2.2i/runs/FRDF/DP0.2/PREOPS-1145/step1_1/20220413T151645Z id=a289a872-7b35-4acf-8082-6aa977ecc28f)\n",
      "...\n",
      "Found 22 calexps that overlap with htm7 = 147116\n"
     ]
    }
   ],
   "source": [
    "datasetRefs = registry.queryDatasets(\"calexp\", htm7=147116,\n",
    "                                     where=\"visit.timespan OVERLAPS my_timespan\",\n",
    "                                     bind={\"my_timespan\": small_timespan})\n",
    "\n",
    "for i, ref in enumerate(datasetRefs):\n",
    "    print(ref)\n",
    "    if i > 6:\n",
    "        print('...')\n",
    "        break\n",
    "\n",
    "print(f\"Found {len(list(datasetRefs))} calexps that overlap with htm7 = 147116\")"
   ]
  },
  {
   "cell_type": "markdown",
   "metadata": {},
   "source": [
    "### 3.4. Catalog spatial and temporal queries"
   ]
  },
  {
   "cell_type": "markdown",
   "metadata": {},
   "source": [
    "The recommended method for querying and retrieving catalog data is to use the TAP service, as demonstrated in other tutorials.\n",
    "However, it is also possible to query catalog data using the same HTM ID and same temporal constraints as used for images, above.\n",
    "\n",
    "The Butler's spatial reasoning is designed to work well for regions the size of full data products, like detector- or patch-level images and catalogs, and it's a poor choice for smaller-scale searches.\n",
    "The following search is a bit slow in part because `queryDatasets` searches for all `src` datasets that overlap a larger region and then filters the results down to the specified HTM ID pixel."
   ]
  },
  {
   "cell_type": "code",
   "execution_count": 47,
   "metadata": {
    "execution": {
     "iopub.execute_input": "2024-04-29T13:34:27.760878Z",
     "iopub.status.busy": "2024-04-29T13:34:27.760508Z",
     "iopub.status.idle": "2024-04-29T13:34:28.896745Z",
     "shell.execute_reply": "2024-04-29T13:34:28.895642Z",
     "shell.execute_reply.started": "2024-04-29T13:34:27.760830Z"
    },
    "tags": []
   },
   "outputs": [
    {
     "name": "stdout",
     "output_type": "stream",
     "text": [
      "source@{instrument: 'LSSTCam-imSim', detector: 94, visit: 192350, band: 'i', physical_filter: 'i_sim_1.4', visit_system: 1} [sc=DataFrame] (run=2.2i/runs/FRDF/DP0.2/PREOPS-1145/step1_1/20220413T151645Z id=59662497-5c86-43d3-9853-d4023f68077a)\n",
      "Number of sources:  2290\n"
     ]
    }
   ],
   "source": [
    "for i, src_ref in enumerate(registry.queryDatasets(\"source\", htm20=htm_id, band=\"i\",\n",
    "                                                   where=\"visit.timespan OVERLAPS my_timespan\",\n",
    "                                                   bind={\"my_timespan\": small_timespan})):\n",
    "    print(src_ref)\n",
    "    sources = butler.get(src_ref)\n",
    "    print('Number of sources: ', len(sources))\n",
    "    if i > 2:\n",
    "        print('...')\n",
    "        break"
   ]
  },
  {
   "cell_type": "markdown",
   "metadata": {},
   "source": [
    "Show the contents of the last source table retrieved from the Butler.\n",
    "Notice that both the rows and the columns of the table are truncated."
   ]
  },
  {
   "cell_type": "code",
   "execution_count": 48,
   "metadata": {
    "execution": {
     "iopub.execute_input": "2024-04-29T13:34:28.898605Z",
     "iopub.status.busy": "2024-04-29T13:34:28.898266Z",
     "iopub.status.idle": "2024-04-29T13:34:28.935144Z",
     "shell.execute_reply": "2024-04-29T13:34:28.934185Z",
     "shell.execute_reply.started": "2024-04-29T13:34:28.898576Z"
    },
    "tags": []
   },
   "outputs": [
    {
     "data": {
      "text/html": [
       "<div>\n",
       "<style scoped>\n",
       "    .dataframe tbody tr th:only-of-type {\n",
       "        vertical-align: middle;\n",
       "    }\n",
       "\n",
       "    .dataframe tbody tr th {\n",
       "        vertical-align: top;\n",
       "    }\n",
       "\n",
       "    .dataframe thead th {\n",
       "        text-align: right;\n",
       "    }\n",
       "</style>\n",
       "<table border=\"1\" class=\"dataframe\">\n",
       "  <thead>\n",
       "    <tr style=\"text-align: right;\">\n",
       "      <th></th>\n",
       "      <th>coord_ra</th>\n",
       "      <th>coord_dec</th>\n",
       "      <th>parent</th>\n",
       "      <th>calib_detected</th>\n",
       "      <th>calib_psf_candidate</th>\n",
       "      <th>calib_psf_used</th>\n",
       "      <th>calib_psf_reserved</th>\n",
       "      <th>deblend_nChild</th>\n",
       "      <th>deblend_deblendedAsPsf</th>\n",
       "      <th>deblend_psfCenter_x</th>\n",
       "      <th>...</th>\n",
       "      <th>ext_photometryKron_KronFlux_apCorr</th>\n",
       "      <th>ext_photometryKron_KronFlux_apCorrErr</th>\n",
       "      <th>ext_photometryKron_KronFlux_flag_apCorr</th>\n",
       "      <th>base_ClassificationExtendedness_value</th>\n",
       "      <th>base_ClassificationExtendedness_flag</th>\n",
       "      <th>base_FootprintArea_value</th>\n",
       "      <th>calib_astrometry_used</th>\n",
       "      <th>calib_photometry_used</th>\n",
       "      <th>calib_photometry_reserved</th>\n",
       "      <th>ccdVisitId</th>\n",
       "    </tr>\n",
       "    <tr>\n",
       "      <th>id</th>\n",
       "      <th></th>\n",
       "      <th></th>\n",
       "      <th></th>\n",
       "      <th></th>\n",
       "      <th></th>\n",
       "      <th></th>\n",
       "      <th></th>\n",
       "      <th></th>\n",
       "      <th></th>\n",
       "      <th></th>\n",
       "      <th></th>\n",
       "      <th></th>\n",
       "      <th></th>\n",
       "      <th></th>\n",
       "      <th></th>\n",
       "      <th></th>\n",
       "      <th></th>\n",
       "      <th></th>\n",
       "      <th></th>\n",
       "      <th></th>\n",
       "      <th></th>\n",
       "    </tr>\n",
       "  </thead>\n",
       "  <tbody>\n",
       "    <tr>\n",
       "      <th>103267170389065729</th>\n",
       "      <td>0.934055</td>\n",
       "      <td>-0.568410</td>\n",
       "      <td>0</td>\n",
       "      <td>False</td>\n",
       "      <td>False</td>\n",
       "      <td>False</td>\n",
       "      <td>False</td>\n",
       "      <td>0</td>\n",
       "      <td>False</td>\n",
       "      <td>NaN</td>\n",
       "      <td>...</td>\n",
       "      <td>1.040659</td>\n",
       "      <td>0.0</td>\n",
       "      <td>False</td>\n",
       "      <td>NaN</td>\n",
       "      <td>True</td>\n",
       "      <td>67</td>\n",
       "      <td>False</td>\n",
       "      <td>False</td>\n",
       "      <td>False</td>\n",
       "      <td>192350094</td>\n",
       "    </tr>\n",
       "    <tr>\n",
       "      <th>103267170389065730</th>\n",
       "      <td>0.934241</td>\n",
       "      <td>-0.568464</td>\n",
       "      <td>0</td>\n",
       "      <td>False</td>\n",
       "      <td>False</td>\n",
       "      <td>False</td>\n",
       "      <td>False</td>\n",
       "      <td>0</td>\n",
       "      <td>False</td>\n",
       "      <td>NaN</td>\n",
       "      <td>...</td>\n",
       "      <td>1.041038</td>\n",
       "      <td>0.0</td>\n",
       "      <td>False</td>\n",
       "      <td>NaN</td>\n",
       "      <td>True</td>\n",
       "      <td>138</td>\n",
       "      <td>False</td>\n",
       "      <td>False</td>\n",
       "      <td>False</td>\n",
       "      <td>192350094</td>\n",
       "    </tr>\n",
       "    <tr>\n",
       "      <th>103267170389065731</th>\n",
       "      <td>0.934969</td>\n",
       "      <td>-0.568675</td>\n",
       "      <td>0</td>\n",
       "      <td>False</td>\n",
       "      <td>False</td>\n",
       "      <td>False</td>\n",
       "      <td>False</td>\n",
       "      <td>0</td>\n",
       "      <td>False</td>\n",
       "      <td>NaN</td>\n",
       "      <td>...</td>\n",
       "      <td>1.042161</td>\n",
       "      <td>0.0</td>\n",
       "      <td>False</td>\n",
       "      <td>NaN</td>\n",
       "      <td>True</td>\n",
       "      <td>85</td>\n",
       "      <td>False</td>\n",
       "      <td>False</td>\n",
       "      <td>False</td>\n",
       "      <td>192350094</td>\n",
       "    </tr>\n",
       "    <tr>\n",
       "      <th>103267170389065732</th>\n",
       "      <td>0.935404</td>\n",
       "      <td>-0.568800</td>\n",
       "      <td>0</td>\n",
       "      <td>True</td>\n",
       "      <td>False</td>\n",
       "      <td>False</td>\n",
       "      <td>False</td>\n",
       "      <td>0</td>\n",
       "      <td>False</td>\n",
       "      <td>NaN</td>\n",
       "      <td>...</td>\n",
       "      <td>1.042557</td>\n",
       "      <td>0.0</td>\n",
       "      <td>False</td>\n",
       "      <td>NaN</td>\n",
       "      <td>True</td>\n",
       "      <td>286</td>\n",
       "      <td>False</td>\n",
       "      <td>False</td>\n",
       "      <td>False</td>\n",
       "      <td>192350094</td>\n",
       "    </tr>\n",
       "    <tr>\n",
       "      <th>103267170389065733</th>\n",
       "      <td>0.935944</td>\n",
       "      <td>-0.568956</td>\n",
       "      <td>0</td>\n",
       "      <td>False</td>\n",
       "      <td>False</td>\n",
       "      <td>False</td>\n",
       "      <td>False</td>\n",
       "      <td>0</td>\n",
       "      <td>False</td>\n",
       "      <td>NaN</td>\n",
       "      <td>...</td>\n",
       "      <td>1.042766</td>\n",
       "      <td>0.0</td>\n",
       "      <td>False</td>\n",
       "      <td>NaN</td>\n",
       "      <td>True</td>\n",
       "      <td>58</td>\n",
       "      <td>False</td>\n",
       "      <td>False</td>\n",
       "      <td>False</td>\n",
       "      <td>192350094</td>\n",
       "    </tr>\n",
       "    <tr>\n",
       "      <th>...</th>\n",
       "      <td>...</td>\n",
       "      <td>...</td>\n",
       "      <td>...</td>\n",
       "      <td>...</td>\n",
       "      <td>...</td>\n",
       "      <td>...</td>\n",
       "      <td>...</td>\n",
       "      <td>...</td>\n",
       "      <td>...</td>\n",
       "      <td>...</td>\n",
       "      <td>...</td>\n",
       "      <td>...</td>\n",
       "      <td>...</td>\n",
       "      <td>...</td>\n",
       "      <td>...</td>\n",
       "      <td>...</td>\n",
       "      <td>...</td>\n",
       "      <td>...</td>\n",
       "      <td>...</td>\n",
       "      <td>...</td>\n",
       "      <td>...</td>\n",
       "    </tr>\n",
       "    <tr>\n",
       "      <th>103267170389068014</th>\n",
       "      <td>0.936796</td>\n",
       "      <td>-0.573223</td>\n",
       "      <td>103267170389067564</td>\n",
       "      <td>False</td>\n",
       "      <td>False</td>\n",
       "      <td>False</td>\n",
       "      <td>False</td>\n",
       "      <td>0</td>\n",
       "      <td>True</td>\n",
       "      <td>3876.0</td>\n",
       "      <td>...</td>\n",
       "      <td>1.039705</td>\n",
       "      <td>0.0</td>\n",
       "      <td>False</td>\n",
       "      <td>NaN</td>\n",
       "      <td>True</td>\n",
       "      <td>547</td>\n",
       "      <td>False</td>\n",
       "      <td>False</td>\n",
       "      <td>False</td>\n",
       "      <td>192350094</td>\n",
       "    </tr>\n",
       "    <tr>\n",
       "      <th>103267170389068015</th>\n",
       "      <td>0.933325</td>\n",
       "      <td>-0.572254</td>\n",
       "      <td>103267170389067576</td>\n",
       "      <td>False</td>\n",
       "      <td>False</td>\n",
       "      <td>False</td>\n",
       "      <td>False</td>\n",
       "      <td>0</td>\n",
       "      <td>True</td>\n",
       "      <td>707.0</td>\n",
       "      <td>...</td>\n",
       "      <td>1.029616</td>\n",
       "      <td>0.0</td>\n",
       "      <td>False</td>\n",
       "      <td>1.0</td>\n",
       "      <td>False</td>\n",
       "      <td>385</td>\n",
       "      <td>False</td>\n",
       "      <td>False</td>\n",
       "      <td>False</td>\n",
       "      <td>192350094</td>\n",
       "    </tr>\n",
       "    <tr>\n",
       "      <th>103267170389068016</th>\n",
       "      <td>0.933342</td>\n",
       "      <td>-0.572257</td>\n",
       "      <td>103267170389067576</td>\n",
       "      <td>False</td>\n",
       "      <td>False</td>\n",
       "      <td>False</td>\n",
       "      <td>False</td>\n",
       "      <td>0</td>\n",
       "      <td>True</td>\n",
       "      <td>722.0</td>\n",
       "      <td>...</td>\n",
       "      <td>1.029702</td>\n",
       "      <td>0.0</td>\n",
       "      <td>False</td>\n",
       "      <td>NaN</td>\n",
       "      <td>True</td>\n",
       "      <td>345</td>\n",
       "      <td>False</td>\n",
       "      <td>False</td>\n",
       "      <td>False</td>\n",
       "      <td>192350094</td>\n",
       "    </tr>\n",
       "    <tr>\n",
       "      <th>103267170389068017</th>\n",
       "      <td>0.934576</td>\n",
       "      <td>-0.572626</td>\n",
       "      <td>103267170389067578</td>\n",
       "      <td>False</td>\n",
       "      <td>False</td>\n",
       "      <td>False</td>\n",
       "      <td>False</td>\n",
       "      <td>0</td>\n",
       "      <td>True</td>\n",
       "      <td>1857.0</td>\n",
       "      <td>...</td>\n",
       "      <td>1.034726</td>\n",
       "      <td>0.0</td>\n",
       "      <td>False</td>\n",
       "      <td>1.0</td>\n",
       "      <td>False</td>\n",
       "      <td>234</td>\n",
       "      <td>False</td>\n",
       "      <td>False</td>\n",
       "      <td>False</td>\n",
       "      <td>192350094</td>\n",
       "    </tr>\n",
       "    <tr>\n",
       "      <th>103267170389068018</th>\n",
       "      <td>0.934570</td>\n",
       "      <td>-0.572630</td>\n",
       "      <td>103267170389067578</td>\n",
       "      <td>False</td>\n",
       "      <td>False</td>\n",
       "      <td>False</td>\n",
       "      <td>False</td>\n",
       "      <td>0</td>\n",
       "      <td>True</td>\n",
       "      <td>1854.0</td>\n",
       "      <td>...</td>\n",
       "      <td>1.034697</td>\n",
       "      <td>0.0</td>\n",
       "      <td>False</td>\n",
       "      <td>1.0</td>\n",
       "      <td>False</td>\n",
       "      <td>234</td>\n",
       "      <td>False</td>\n",
       "      <td>False</td>\n",
       "      <td>False</td>\n",
       "      <td>192350094</td>\n",
       "    </tr>\n",
       "  </tbody>\n",
       "</table>\n",
       "<p>2290 rows × 451 columns</p>\n",
       "</div>"
      ],
      "text/plain": [
       "                    coord_ra  coord_dec              parent  calib_detected  \\\n",
       "id                                                                            \n",
       "103267170389065729  0.934055  -0.568410                   0           False   \n",
       "103267170389065730  0.934241  -0.568464                   0           False   \n",
       "103267170389065731  0.934969  -0.568675                   0           False   \n",
       "103267170389065732  0.935404  -0.568800                   0            True   \n",
       "103267170389065733  0.935944  -0.568956                   0           False   \n",
       "...                      ...        ...                 ...             ...   \n",
       "103267170389068014  0.936796  -0.573223  103267170389067564           False   \n",
       "103267170389068015  0.933325  -0.572254  103267170389067576           False   \n",
       "103267170389068016  0.933342  -0.572257  103267170389067576           False   \n",
       "103267170389068017  0.934576  -0.572626  103267170389067578           False   \n",
       "103267170389068018  0.934570  -0.572630  103267170389067578           False   \n",
       "\n",
       "                    calib_psf_candidate  calib_psf_used  calib_psf_reserved  \\\n",
       "id                                                                            \n",
       "103267170389065729                False           False               False   \n",
       "103267170389065730                False           False               False   \n",
       "103267170389065731                False           False               False   \n",
       "103267170389065732                False           False               False   \n",
       "103267170389065733                False           False               False   \n",
       "...                                 ...             ...                 ...   \n",
       "103267170389068014                False           False               False   \n",
       "103267170389068015                False           False               False   \n",
       "103267170389068016                False           False               False   \n",
       "103267170389068017                False           False               False   \n",
       "103267170389068018                False           False               False   \n",
       "\n",
       "                    deblend_nChild  deblend_deblendedAsPsf  \\\n",
       "id                                                           \n",
       "103267170389065729               0                   False   \n",
       "103267170389065730               0                   False   \n",
       "103267170389065731               0                   False   \n",
       "103267170389065732               0                   False   \n",
       "103267170389065733               0                   False   \n",
       "...                            ...                     ...   \n",
       "103267170389068014               0                    True   \n",
       "103267170389068015               0                    True   \n",
       "103267170389068016               0                    True   \n",
       "103267170389068017               0                    True   \n",
       "103267170389068018               0                    True   \n",
       "\n",
       "                    deblend_psfCenter_x  ...  \\\n",
       "id                                       ...   \n",
       "103267170389065729                  NaN  ...   \n",
       "103267170389065730                  NaN  ...   \n",
       "103267170389065731                  NaN  ...   \n",
       "103267170389065732                  NaN  ...   \n",
       "103267170389065733                  NaN  ...   \n",
       "...                                 ...  ...   \n",
       "103267170389068014               3876.0  ...   \n",
       "103267170389068015                707.0  ...   \n",
       "103267170389068016                722.0  ...   \n",
       "103267170389068017               1857.0  ...   \n",
       "103267170389068018               1854.0  ...   \n",
       "\n",
       "                    ext_photometryKron_KronFlux_apCorr  \\\n",
       "id                                                       \n",
       "103267170389065729                            1.040659   \n",
       "103267170389065730                            1.041038   \n",
       "103267170389065731                            1.042161   \n",
       "103267170389065732                            1.042557   \n",
       "103267170389065733                            1.042766   \n",
       "...                                                ...   \n",
       "103267170389068014                            1.039705   \n",
       "103267170389068015                            1.029616   \n",
       "103267170389068016                            1.029702   \n",
       "103267170389068017                            1.034726   \n",
       "103267170389068018                            1.034697   \n",
       "\n",
       "                    ext_photometryKron_KronFlux_apCorrErr  \\\n",
       "id                                                          \n",
       "103267170389065729                                    0.0   \n",
       "103267170389065730                                    0.0   \n",
       "103267170389065731                                    0.0   \n",
       "103267170389065732                                    0.0   \n",
       "103267170389065733                                    0.0   \n",
       "...                                                   ...   \n",
       "103267170389068014                                    0.0   \n",
       "103267170389068015                                    0.0   \n",
       "103267170389068016                                    0.0   \n",
       "103267170389068017                                    0.0   \n",
       "103267170389068018                                    0.0   \n",
       "\n",
       "                    ext_photometryKron_KronFlux_flag_apCorr  \\\n",
       "id                                                            \n",
       "103267170389065729                                    False   \n",
       "103267170389065730                                    False   \n",
       "103267170389065731                                    False   \n",
       "103267170389065732                                    False   \n",
       "103267170389065733                                    False   \n",
       "...                                                     ...   \n",
       "103267170389068014                                    False   \n",
       "103267170389068015                                    False   \n",
       "103267170389068016                                    False   \n",
       "103267170389068017                                    False   \n",
       "103267170389068018                                    False   \n",
       "\n",
       "                    base_ClassificationExtendedness_value  \\\n",
       "id                                                          \n",
       "103267170389065729                                    NaN   \n",
       "103267170389065730                                    NaN   \n",
       "103267170389065731                                    NaN   \n",
       "103267170389065732                                    NaN   \n",
       "103267170389065733                                    NaN   \n",
       "...                                                   ...   \n",
       "103267170389068014                                    NaN   \n",
       "103267170389068015                                    1.0   \n",
       "103267170389068016                                    NaN   \n",
       "103267170389068017                                    1.0   \n",
       "103267170389068018                                    1.0   \n",
       "\n",
       "                    base_ClassificationExtendedness_flag  \\\n",
       "id                                                         \n",
       "103267170389065729                                  True   \n",
       "103267170389065730                                  True   \n",
       "103267170389065731                                  True   \n",
       "103267170389065732                                  True   \n",
       "103267170389065733                                  True   \n",
       "...                                                  ...   \n",
       "103267170389068014                                  True   \n",
       "103267170389068015                                 False   \n",
       "103267170389068016                                  True   \n",
       "103267170389068017                                 False   \n",
       "103267170389068018                                 False   \n",
       "\n",
       "                    base_FootprintArea_value  calib_astrometry_used  \\\n",
       "id                                                                    \n",
       "103267170389065729                        67                  False   \n",
       "103267170389065730                       138                  False   \n",
       "103267170389065731                        85                  False   \n",
       "103267170389065732                       286                  False   \n",
       "103267170389065733                        58                  False   \n",
       "...                                      ...                    ...   \n",
       "103267170389068014                       547                  False   \n",
       "103267170389068015                       385                  False   \n",
       "103267170389068016                       345                  False   \n",
       "103267170389068017                       234                  False   \n",
       "103267170389068018                       234                  False   \n",
       "\n",
       "                    calib_photometry_used  calib_photometry_reserved  \\\n",
       "id                                                                     \n",
       "103267170389065729                  False                      False   \n",
       "103267170389065730                  False                      False   \n",
       "103267170389065731                  False                      False   \n",
       "103267170389065732                  False                      False   \n",
       "103267170389065733                  False                      False   \n",
       "...                                   ...                        ...   \n",
       "103267170389068014                  False                      False   \n",
       "103267170389068015                  False                      False   \n",
       "103267170389068016                  False                      False   \n",
       "103267170389068017                  False                      False   \n",
       "103267170389068018                  False                      False   \n",
       "\n",
       "                    ccdVisitId  \n",
       "id                              \n",
       "103267170389065729   192350094  \n",
       "103267170389065730   192350094  \n",
       "103267170389065731   192350094  \n",
       "103267170389065732   192350094  \n",
       "103267170389065733   192350094  \n",
       "...                        ...  \n",
       "103267170389068014   192350094  \n",
       "103267170389068015   192350094  \n",
       "103267170389068016   192350094  \n",
       "103267170389068017   192350094  \n",
       "103267170389068018   192350094  \n",
       "\n",
       "[2290 rows x 451 columns]"
      ]
     },
     "execution_count": 48,
     "metadata": {},
     "output_type": "execute_result"
    }
   ],
   "source": [
    "sources"
   ]
  },
  {
   "cell_type": "markdown",
   "metadata": {},
   "source": [
    "## 4. Explore metadata for butler-retrieved data products\n",
    "\n",
    "Data retrieved from the butler is enriched with metadata.\n",
    "\n",
    "The following provides a cursory overview of how to explore this metadata for image and catalog data retrieved via the butler.\n",
    "\n",
    "In some cases these options were already covered in the sections above, but have been gathered here for easy reference.\n",
    "\n",
    "### 4.1. Image data\n",
    "\n",
    "Retrieve a `calexp` for a given visit and detector."
   ]
  },
  {
   "cell_type": "code",
   "execution_count": 49,
   "metadata": {
    "execution": {
     "iopub.execute_input": "2024-04-29T13:34:28.936602Z",
     "iopub.status.busy": "2024-04-29T13:34:28.936312Z",
     "iopub.status.idle": "2024-04-29T13:34:32.375101Z",
     "shell.execute_reply": "2024-04-29T13:34:32.374029Z",
     "shell.execute_reply.started": "2024-04-29T13:34:28.936577Z"
    },
    "tags": []
   },
   "outputs": [],
   "source": [
    "calexp = butler.get('calexp', dataId={'visit': 192350, 'detector': 94})"
   ]
  },
  {
   "cell_type": "markdown",
   "metadata": {},
   "source": [
    "Get the information (metadata) available for this calexp."
   ]
  },
  {
   "cell_type": "code",
   "execution_count": 50,
   "metadata": {
    "execution": {
     "iopub.execute_input": "2024-04-29T13:34:32.376770Z",
     "iopub.status.busy": "2024-04-29T13:34:32.376542Z",
     "iopub.status.idle": "2024-04-29T13:34:32.380656Z",
     "shell.execute_reply": "2024-04-29T13:34:32.379868Z",
     "shell.execute_reply.started": "2024-04-29T13:34:32.376752Z"
    },
    "tags": []
   },
   "outputs": [],
   "source": [
    "calexp_info = calexp.getInfo()"
   ]
  },
  {
   "cell_type": "markdown",
   "metadata": {
    "execution": {
     "iopub.execute_input": "2023-09-14T02:17:28.903936Z",
     "iopub.status.busy": "2023-09-14T02:17:28.903461Z",
     "iopub.status.idle": "2023-09-14T02:17:29.157670Z",
     "shell.execute_reply": "2023-09-14T02:17:29.156415Z",
     "shell.execute_reply.started": "2023-09-14T02:17:28.903905Z"
    },
    "tags": []
   },
   "source": [
    "**Option:** uncomment the following cell, put the cursor after the period, and press the tab key. \n",
    "A pop-up window will display the methods available for `calexp_info`."
   ]
  },
  {
   "cell_type": "code",
   "execution_count": 51,
   "metadata": {
    "execution": {
     "iopub.execute_input": "2024-04-29T13:34:32.381692Z",
     "iopub.status.busy": "2024-04-29T13:34:32.381513Z",
     "iopub.status.idle": "2024-04-29T13:34:32.781455Z",
     "shell.execute_reply": "2024-04-29T13:34:32.780193Z",
     "shell.execute_reply.started": "2024-04-29T13:34:32.381675Z"
    },
    "tags": []
   },
   "outputs": [],
   "source": [
    "# calexp_info."
   ]
  },
  {
   "cell_type": "markdown",
   "metadata": {},
   "source": [
    "**Option:** alternatively, print all options that would display in the pop-up window from the above cell."
   ]
  },
  {
   "cell_type": "code",
   "execution_count": 52,
   "metadata": {
    "execution": {
     "iopub.execute_input": "2024-04-29T13:34:32.784334Z",
     "iopub.status.busy": "2024-04-29T13:34:32.783293Z",
     "iopub.status.idle": "2024-04-29T13:34:33.218290Z",
     "shell.execute_reply": "2024-04-29T13:34:33.217021Z",
     "shell.execute_reply.started": "2024-04-29T13:34:32.784289Z"
    },
    "tags": []
   },
   "outputs": [],
   "source": [
    "# [m for m in dir(calexp_info) if not m.startswith('_')]"
   ]
  },
  {
   "cell_type": "markdown",
   "metadata": {},
   "source": [
    "Obtain the visit and weather information for this calexp."
   ]
  },
  {
   "cell_type": "code",
   "execution_count": 53,
   "metadata": {
    "execution": {
     "iopub.execute_input": "2024-04-29T13:34:33.221184Z",
     "iopub.status.busy": "2024-04-29T13:34:33.219956Z",
     "iopub.status.idle": "2024-04-29T13:34:33.671821Z",
     "shell.execute_reply": "2024-04-29T13:34:33.670507Z",
     "shell.execute_reply.started": "2024-04-29T13:34:33.221138Z"
    },
    "tags": []
   },
   "outputs": [],
   "source": [
    "visit_info = calexp_info.getVisitInfo()\n",
    "weather_info = visit_info.getWeather()"
   ]
  },
  {
   "cell_type": "markdown",
   "metadata": {},
   "source": [
    "Print the weather information for this visit."
   ]
  },
  {
   "cell_type": "code",
   "execution_count": 54,
   "metadata": {
    "execution": {
     "iopub.execute_input": "2024-04-29T13:34:33.674160Z",
     "iopub.status.busy": "2024-04-29T13:34:33.673629Z",
     "iopub.status.idle": "2024-04-29T13:34:34.040408Z",
     "shell.execute_reply": "2024-04-29T13:34:34.039165Z",
     "shell.execute_reply.started": "2024-04-29T13:34:33.674116Z"
    },
    "tags": []
   },
   "outputs": [
    {
     "name": "stdout",
     "output_type": "stream",
     "text": [
      "nan\n",
      "nan\n",
      "40.0\n"
     ]
    }
   ],
   "source": [
    "print(weather_info.getAirPressure())\n",
    "print(weather_info.getAirTemperature())\n",
    "print(weather_info.getHumidity())"
   ]
  },
  {
   "cell_type": "markdown",
   "metadata": {},
   "source": [
    "**Option:** explore other aspects of the metadata, for example, detector information."
   ]
  },
  {
   "cell_type": "code",
   "execution_count": 55,
   "metadata": {
    "execution": {
     "iopub.execute_input": "2024-04-29T13:34:34.042967Z",
     "iopub.status.busy": "2024-04-29T13:34:34.041897Z",
     "iopub.status.idle": "2024-04-29T13:34:35.190577Z",
     "shell.execute_reply": "2024-04-29T13:34:35.189396Z",
     "shell.execute_reply.started": "2024-04-29T13:34:34.042925Z"
    },
    "tags": []
   },
   "outputs": [],
   "source": [
    "# [m for m in dir(calexp_info.getDetector()) if not m.startswith('_')]"
   ]
  },
  {
   "cell_type": "markdown",
   "metadata": {},
   "source": [
    "### 4.2. Catalog data\n",
    "\n",
    "Retrieve sources from the `src` table for a given visit and detector."
   ]
  },
  {
   "cell_type": "code",
   "execution_count": 56,
   "metadata": {
    "execution": {
     "iopub.execute_input": "2024-04-29T13:34:35.192949Z",
     "iopub.status.busy": "2024-04-29T13:34:35.192083Z",
     "iopub.status.idle": "2024-04-29T13:34:36.602015Z",
     "shell.execute_reply": "2024-04-29T13:34:36.600900Z",
     "shell.execute_reply.started": "2024-04-29T13:34:35.192908Z"
    },
    "tags": []
   },
   "outputs": [],
   "source": [
    "src_cat = butler.get('src', dataId={'visit': 192350, 'detector': 94})"
   ]
  },
  {
   "cell_type": "markdown",
   "metadata": {},
   "source": [
    "**Option:** uncomment the following cell, put the cursor after the period, and press the tab key. \n",
    "A pop-up window will display the options available for the retrieved data product."
   ]
  },
  {
   "cell_type": "code",
   "execution_count": 57,
   "metadata": {
    "execution": {
     "iopub.execute_input": "2024-04-29T13:34:36.603579Z",
     "iopub.status.busy": "2024-04-29T13:34:36.603252Z",
     "iopub.status.idle": "2024-04-29T13:34:36.607941Z",
     "shell.execute_reply": "2024-04-29T13:34:36.606998Z",
     "shell.execute_reply.started": "2024-04-29T13:34:36.603550Z"
    },
    "tags": []
   },
   "outputs": [],
   "source": [
    "# src_cat."
   ]
  },
  {
   "cell_type": "markdown",
   "metadata": {
    "execution": {
     "iopub.execute_input": "2023-09-14T02:05:24.591615Z",
     "iopub.status.busy": "2023-09-14T02:05:24.591265Z",
     "iopub.status.idle": "2023-09-14T02:05:24.791936Z",
     "shell.execute_reply": "2023-09-14T02:05:24.790740Z",
     "shell.execute_reply.started": "2023-09-14T02:05:24.591592Z"
    },
    "tags": []
   },
   "source": [
    "**Option:** uncomment and execute the following cell in order to print the table retrieved (it will be truncated)."
   ]
  },
  {
   "cell_type": "code",
   "execution_count": 58,
   "metadata": {
    "execution": {
     "iopub.execute_input": "2024-04-29T13:34:36.609397Z",
     "iopub.status.busy": "2024-04-29T13:34:36.609089Z",
     "iopub.status.idle": "2024-04-29T13:34:37.295615Z",
     "shell.execute_reply": "2024-04-29T13:34:37.294294Z",
     "shell.execute_reply.started": "2024-04-29T13:34:36.609369Z"
    },
    "tags": []
   },
   "outputs": [],
   "source": [
    "# src_cat"
   ]
  },
  {
   "cell_type": "markdown",
   "metadata": {},
   "source": [
    "Get the names of the columns available in the schema for this data product."
   ]
  },
  {
   "cell_type": "code",
   "execution_count": 59,
   "metadata": {
    "execution": {
     "iopub.execute_input": "2024-04-29T13:34:37.297669Z",
     "iopub.status.busy": "2024-04-29T13:34:37.297206Z",
     "iopub.status.idle": "2024-04-29T13:34:37.536065Z",
     "shell.execute_reply": "2024-04-29T13:34:37.534774Z",
     "shell.execute_reply.started": "2024-04-29T13:34:37.297627Z"
    },
    "tags": []
   },
   "outputs": [],
   "source": [
    "columns = src_cat.schema.getNames()"
   ]
  },
  {
   "cell_type": "markdown",
   "metadata": {},
   "source": [
    "**Option:** uncomment and execute the following cell in order to list all columns (it is a very long list)."
   ]
  },
  {
   "cell_type": "code",
   "execution_count": 60,
   "metadata": {
    "execution": {
     "iopub.execute_input": "2024-04-29T13:34:38.227802Z",
     "iopub.status.busy": "2024-04-29T13:34:38.227613Z",
     "iopub.status.idle": "2024-04-29T13:34:38.231374Z",
     "shell.execute_reply": "2024-04-29T13:34:38.230586Z",
     "shell.execute_reply.started": "2024-04-29T13:34:38.227786Z"
    },
    "tags": []
   },
   "outputs": [],
   "source": [
    "# columns"
   ]
  },
  {
   "cell_type": "markdown",
   "metadata": {},
   "source": [
    "List only the first part of all column names, before the underscore. This shows the different types of columns available."
   ]
  },
  {
   "cell_type": "code",
   "execution_count": 61,
   "metadata": {
    "execution": {
     "iopub.execute_input": "2024-04-29T13:34:38.495086Z",
     "iopub.status.busy": "2024-04-29T13:34:38.494901Z",
     "iopub.status.idle": "2024-04-29T13:34:38.984205Z",
     "shell.execute_reply": "2024-04-29T13:34:38.983132Z",
     "shell.execute_reply.started": "2024-04-29T13:34:38.495071Z"
    },
    "tags": []
   },
   "outputs": [
    {
     "data": {
      "text/plain": [
       "{'base', 'calib', 'coord', 'deblend', 'detect', 'ext', 'id', 'parent', 'sky'}"
      ]
     },
     "execution_count": 61,
     "metadata": {},
     "output_type": "execute_result"
    }
   ],
   "source": [
    "src_cat.getSchema().getNames(topOnly=True)"
   ]
  },
  {
   "cell_type": "markdown",
   "metadata": {},
   "source": [
    "To view the information for only a given element, use the `find` method."
   ]
  },
  {
   "cell_type": "code",
   "execution_count": 62,
   "metadata": {
    "execution": {
     "iopub.execute_input": "2024-04-29T13:34:39.288618Z",
     "iopub.status.busy": "2024-04-29T13:34:39.288412Z",
     "iopub.status.idle": "2024-04-29T13:34:39.294046Z",
     "shell.execute_reply": "2024-04-29T13:34:39.293233Z",
     "shell.execute_reply.started": "2024-04-29T13:34:39.288600Z"
    },
    "tags": []
   },
   "outputs": [
    {
     "data": {
      "text/plain": [
       "SchemaItem(key=Key<L>(offset=0, nElements=1), field=Field['L'](name=\"id\", doc=\"unique ID\"))"
      ]
     },
     "execution_count": 62,
     "metadata": {},
     "output_type": "execute_result"
    }
   ],
   "source": [
    "src_cat.getSchema().find('id')"
   ]
  }
 ],
 "metadata": {
  "kernelspec": {
   "display_name": "LSST",
   "language": "python",
   "name": "lsst"
  },
  "language_info": {
   "codemirror_mode": {
    "name": "ipython",
    "version": 3
   },
   "file_extension": ".py",
   "mimetype": "text/x-python",
   "name": "python",
   "nbconvert_exporter": "python",
   "pygments_lexer": "ipython3",
   "version": "3.11.7"
  }
 },
 "nbformat": 4,
 "nbformat_minor": 4
}
