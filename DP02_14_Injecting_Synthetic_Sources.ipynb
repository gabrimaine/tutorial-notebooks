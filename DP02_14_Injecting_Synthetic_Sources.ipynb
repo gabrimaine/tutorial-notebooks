{
 "cells": [
  {
   "cell_type": "markdown",
   "id": "749b0ddf",
   "metadata": {
    "tags": []
   },
   "source": [
    "# DOESN'T WORK AT CC-IN2P3 Injecting Synthetic Sources Into Single-Visit Images\n",
    "\n",
    "<img align=\"left\" src = https://project.lsst.org/sites/default/files/Rubin-O-Logo_0.png width=250 style=\"padding: 10px\" alt=\"Rubin Observatory logo, a graphical representation of turning stars into data.\">\n",
    "<br>\n",
    "Contact author(s): Jeff Carlin <br>\n",
    "Last verified to run: 2024-03-05 <br>\n",
    "LSST Science Pipelines version: Weekly 2024_04 <br>\n",
    "Container Size: medium <br>\n",
    "Targeted learning level: advanced <br>"
   ]
  },
  {
   "cell_type": "markdown",
   "id": "9da1a210-d858-42fe-8591-570965b8be1a",
   "metadata": {},
   "source": [
    "**Description:** This tutorial demonstrates a method to inject artificial sources (stars and galaxies) into calexp images using the measured point-spread function of the given calexp image. Confirmation that the synthetic sources were correctly injected into the image is done by running a difference imaging task from the pipelines. **DOESN'T WORK AT CC-IN2P3**"
   ]
  },
  {
   "cell_type": "markdown",
   "id": "80a0baf5-51ad-40ec-8991-060a7b27c289",
   "metadata": {},
   "source": [
    "**Skills:** Use the `source_injection` tools to inject synthetic sources into images. Create a difference image from a `calexp` with injected sources."
   ]
  },
  {
   "cell_type": "markdown",
   "id": "393da88f-7978-4920-aa4a-a9830df6eed9",
   "metadata": {},
   "source": [
    "**LSST Data Products:** Butler calexp images and corresponding src catalogs, goodSeeingDiff_templateExp images, and injection_catalogs."
   ]
  },
  {
   "cell_type": "markdown",
   "id": "5c67fab9-136a-4adc-bb42-142b91ab69dd",
   "metadata": {},
   "source": [
    "**Packages:** astropy.io, astropy.coordinates, astropy.table, astropy.units, matplotlib, numpy, lsst.afw.display, lsst.afw.table, lsst.daf.base, lsst.daf.butler, lsst.ip.diffim, lsst.source.injection"
   ]
  },
  {
   "cell_type": "markdown",
   "id": "8f72b27f",
   "metadata": {},
   "source": [
    "**Credit:**\n",
    "Developed by Jeff Carlin in collaboration with Lee Kelvin and the Rubin Community Science Team. Much of the material is based on the documentation for the LSST [source_injection package](https://pipelines.lsst.io/v/daily/modules/lsst.source.injection/index.html)."
   ]
  },
  {
   "cell_type": "markdown",
   "id": "28e91cbf-ab7f-4e26-9276-b00299d6065e",
   "metadata": {},
   "source": [
    "**Get Support:**\n",
    "Find DP0-related documentation and resources at <a href=\"https://dp0-2.lsst.io\">dp0-2.lsst.io</a>\n",
    "and <a href=\"https://dp0-3.lsst.io\">dp0-3.lsst.io</a>.\n",
    "Questions are welcome as new topics in the \n",
    "<a href=\"https://community.lsst.org/c/support/dp0\">Support - Data Preview 0 Category</a> \n",
    "of the Rubin Community Forum. \n",
    "Rubin staff will respond to all questions posted there."
   ]
  },
  {
   "cell_type": "markdown",
   "id": "cfc73be0",
   "metadata": {},
   "source": [
    "## 1. Introduction\n",
    "\n",
    "This notebook provides a brief introduction to the `source_injection` package from the LSST Science Pipelines. The `source_injection` tools can be used to inject sources into images produced during various stages of Pipelines processing, including visit-level images (e.g., `calexp`s), any dataset with a `datasetType` of `Exposure` (e.g., `postISRCCD` images), and coadd images (e.g., `deepCoadd`s). The main driver that both creates and injects synthetic sources into images is based on [Galsim](https://galsim-developers.github.io/GalSim/), so that the `source_injection` tools enable injection of many types of sources. These include a variety of parameterized galaxy models, stars, and postage stamp images.\n",
    "\n",
    "This notebook will teach some basics of using the `source_injection` package to insert artificial sources into images. Read the extensive [documentation](https://pipelines.lsst.io/v/daily/modules/lsst.source.injection/index.html) for more details and examples. Furthermore, the [Galsim](https://galsim-developers.github.io/GalSim/) documentation provides much more detail on the types of sources that can be injected."
   ]
  },
  {
   "cell_type": "markdown",
   "id": "dc36f107",
   "metadata": {},
   "source": [
    "### 1.1 Import packages"
   ]
  },
  {
   "cell_type": "markdown",
   "id": "ccb4fe61-835a-47ac-a691-e086ce766e79",
   "metadata": {},
   "source": [
    "<a href=\"https://numpy.org\">numpy</a> is a commonly used package for scientific computing with arrays in Python.\n",
    "\n",
    "<a href=\"https://matplotlib.org/\">matplotlib</a> is a library for creating static, animated, and\n",
    "interactive visualizations in Python \n",
    "(see also the <a href=\"https://matplotlib.org/stable/gallery/index.html\">matplotlib gallery</a>).\n",
    "\n",
    "<a href=\"https://www.astropy.org/\">astropy</a> is a package with many common astronomical utilities; here it is used for importing a FITS image, and working with coordinates and tables.\n",
    "\n",
    "From the `lsst` package, modules for accessing the butler, image display functions, and the source injection utilities are imported (see <a href=\"https://pipelines.lsst.io/\">pipelines.lsst.io</a> for documentation of the Science Pipelines codebase)."
   ]
  },
  {
   "cell_type": "code",
   "execution_count": 1,
   "id": "cddc1458",
   "metadata": {
    "execution": {
     "iopub.execute_input": "2024-04-29T14:31:49.878077Z",
     "iopub.status.busy": "2024-04-29T14:31:49.877868Z",
     "iopub.status.idle": "2024-04-29T14:31:55.973770Z",
     "shell.execute_reply": "2024-04-29T14:31:55.972822Z",
     "shell.execute_reply.started": "2024-04-29T14:31:49.878056Z"
    },
    "scrolled": true
   },
   "outputs": [],
   "source": [
    "import numpy as np\n",
    "import matplotlib.pyplot as plt\n",
    "import os\n",
    "from astropy.io import fits\n",
    "import astropy.units as u\n",
    "from astropy.table import Table, vstack\n",
    "from astropy.coordinates import SkyCoord\n",
    "\n",
    "from lsst.afw.table import SourceTable\n",
    "from lsst.daf.base import PropertyList\n",
    "from lsst.daf.butler import Butler\n",
    "from lsst.daf.butler.registry import ConflictingDefinitionError\n",
    "import lsst.afw.display as afwDisplay\n",
    "from lsst.source.injection import ingest_injection_catalog, generate_injection_catalog\n",
    "from lsst.source.injection import VisitInjectConfig, VisitInjectTask\n",
    "from lsst.ip.diffim.subtractImages import AlardLuptonSubtractTask, AlardLuptonSubtractConfig\n",
    "\n",
    "afwDisplay.setDefaultBackend('matplotlib')\n",
    "plt.style.use('tableau-colorblind10')"
   ]
  },
  {
   "cell_type": "markdown",
   "id": "c6e9358e-b3cb-4e87-84a6-c3b761ab4ab2",
   "metadata": {},
   "source": [
    "## 2. Get an image to inject sources into:\n",
    "\n",
    "First, retrieve an image to inject sources into. To do so, instantiate a butler pointing to the DP0.2 dataset, identify `calexp` images overlapping a particular `tract`, and retrieve one of those images (plus some of its ancillary data) for later use.\n",
    "\n",
    "### 2.1 Instantiate a butler"
   ]
  },
  {
   "cell_type": "code",
   "execution_count": 2,
   "id": "d4e00487-b9e6-4025-991d-533695c68dc1",
   "metadata": {
    "execution": {
     "iopub.execute_input": "2024-04-29T14:31:55.976241Z",
     "iopub.status.busy": "2024-04-29T14:31:55.974860Z",
     "iopub.status.idle": "2024-04-29T14:31:56.826235Z",
     "shell.execute_reply": "2024-04-29T14:31:56.825385Z",
     "shell.execute_reply.started": "2024-04-29T14:31:55.976215Z"
    }
   },
   "outputs": [],
   "source": [
    "butler_config = '/sps/lsst/dataproducts/rubin/previews/dp0.2/'\n",
    "collections = '2.2i/runs/FRDF/DP0.2/PREOPS-1145/step_all'\n",
    "butler = Butler(butler_config, collections=collections)"
   ]
  },
  {
   "cell_type": "markdown",
   "id": "3a1115a8-4781-4f0b-9cb8-19ed4607d711",
   "metadata": {},
   "source": [
    "### 2.2 Identify images overlapping a particular tract and select one\n",
    "\n",
    "By default the next cell selects images from tract 3828, but you can change this to any tract number that exists in DP0.2 data. (See the map in Figure 15 of [\"The DC2 Simulated Sky Survey\"](https://ui.adsabs.harvard.edu/abs/2021ApJS..253...31L/abstract) overview paper; also visible in the [DP0.2 documentation](https://dp0-2.lsst.io/data-products-dp0-2/index.html#images)).\n",
    "\n",
    "Because a `calexp` image only spans one detector, select a single detector (in this case, number 19, but change this if you like) and find images from the chosen tract that contain that detector."
   ]
  },
  {
   "cell_type": "code",
   "execution_count": 3,
   "id": "15097b5f-5296-4530-86a3-acd5ffea0687",
   "metadata": {
    "execution": {
     "iopub.execute_input": "2024-04-29T14:31:56.827461Z",
     "iopub.status.busy": "2024-04-29T14:31:56.827262Z",
     "iopub.status.idle": "2024-04-29T14:31:57.481195Z",
     "shell.execute_reply": "2024-04-29T14:31:57.480118Z",
     "shell.execute_reply.started": "2024-04-29T14:31:56.827443Z"
    }
   },
   "outputs": [
    {
     "name": "stdout",
     "output_type": "stream",
     "text": [
      "Identified 23 calexp DatasetRefs\n",
      "dataId_g = {instrument: 'LSSTCam-imSim', detector: 19, visit: 221616, band: 'g', physical_filter: 'g_sim_1.4', visit_system: 1}\n"
     ]
    }
   ],
   "source": [
    "tract = 3828\n",
    "where = f\"instrument='LSSTCam-imSim' AND skymap='DC2' AND \\\n",
    "          tract={tract} AND detector=19 AND band='g'\"\n",
    "\n",
    "calexp_g_DatasetRefs = sorted(list(set(butler.registry.queryDatasets('calexp', where=where))))\n",
    "\n",
    "print(f'Identified {len(calexp_g_DatasetRefs)} calexp DatasetRefs')\n",
    "\n",
    "# This uses the index \"5\" to select an arbitrary dataId.\n",
    "# Change this index to select a different image.\n",
    "dataId_g = calexp_g_DatasetRefs[5].dataId\n",
    "\n",
    "print(f\"{dataId_g = }\")"
   ]
  },
  {
   "cell_type": "markdown",
   "id": "485c5322-c0e0-42f4-b792-36c2e2dbefbe",
   "metadata": {},
   "source": [
    "#### 2.2.1 Retrieve the calexp image"
   ]
  },
  {
   "cell_type": "code",
   "execution_count": 4,
   "id": "769b7130-0ec8-47c9-a8cb-765041e59bb6",
   "metadata": {
    "execution": {
     "iopub.execute_input": "2024-04-29T14:31:57.483221Z",
     "iopub.status.busy": "2024-04-29T14:31:57.482568Z",
     "iopub.status.idle": "2024-04-29T14:32:01.345298Z",
     "shell.execute_reply": "2024-04-29T14:32:01.344357Z",
     "shell.execute_reply.started": "2024-04-29T14:31:57.483180Z"
    }
   },
   "outputs": [],
   "source": [
    "calexp_g = butler.get('calexp', dataId=dataId_g)"
   ]
  },
  {
   "cell_type": "markdown",
   "id": "8dedd1af-f623-4e4c-b265-c3d663f016b0",
   "metadata": {},
   "source": [
    "#### 2.2.2 Retrieve additional information about the image\n",
    "\n",
    "To generate synthetic sources to be injected into the image, you will need to know the coordinates of its bounding box. Retrieve the image's WCS and bounding box, and print its central coordinate to the screen:"
   ]
  },
  {
   "cell_type": "code",
   "execution_count": 5,
   "id": "7fe24c71-ca55-43df-92e0-b6da9964ce77",
   "metadata": {
    "execution": {
     "iopub.execute_input": "2024-04-29T14:32:01.346584Z",
     "iopub.status.busy": "2024-04-29T14:32:01.346344Z",
     "iopub.status.idle": "2024-04-29T14:32:01.354595Z",
     "shell.execute_reply": "2024-04-29T14:32:01.353904Z",
     "shell.execute_reply.started": "2024-04-29T14:32:01.346564Z"
    }
   },
   "outputs": [
    {
     "name": "stdout",
     "output_type": "stream",
     "text": [
      "bounding box:  (minimum=(0, 0), maximum=(4071, 3999))\n",
      "<SkyCoord (ICRS): (ra, dec) in deg\n",
      "    (56.5606462, -36.00526941)>\n"
     ]
    }
   ],
   "source": [
    "wcs = calexp_g.getWcs()\n",
    "bbox = calexp_g.getBBox()\n",
    "print('bounding box: ', bbox)\n",
    "\n",
    "boxcen = bbox.getCenter()\n",
    "cen = wcs.pixelToSky(boxcen)\n",
    "sc_cen = SkyCoord(ra=cen[0].asDegrees()*u.deg, dec=cen[1].asDegrees()*u.deg)\n",
    "\n",
    "print(sc_cen)"
   ]
  },
  {
   "cell_type": "markdown",
   "id": "dde6d3b1-0b90-4f2b-a272-e6f608cadcc1",
   "metadata": {},
   "source": [
    "#### 2.2.3 Figure out how large the image is on the sky\n",
    "\n",
    "Note that above the bounding box is roughly 4000 x 4000 pixels. Use the `bbox.getDimensions` and `wcs.getPixelScale` methods to estimate how large this image is in sky coordinates:"
   ]
  },
  {
   "cell_type": "code",
   "execution_count": 6,
   "id": "76060374-b3e1-475f-bf2f-6e8442c0b08b",
   "metadata": {
    "execution": {
     "iopub.execute_input": "2024-04-29T14:32:01.355526Z",
     "iopub.status.busy": "2024-04-29T14:32:01.355338Z",
     "iopub.status.idle": "2024-04-29T14:32:01.574834Z",
     "shell.execute_reply": "2024-04-29T14:32:01.573664Z",
     "shell.execute_reply.started": "2024-04-29T14:32:01.355508Z"
    }
   },
   "outputs": [
    {
     "name": "stdout",
     "output_type": "stream",
     "text": [
      "Size of calexp in degrees:  0.22584234361867267\n"
     ]
    }
   ],
   "source": [
    "imsize = bbox.getDimensions()[0]*wcs.getPixelScale().asDegrees()\n",
    "print('Size of calexp in degrees: ', imsize)"
   ]
  },
  {
   "cell_type": "markdown",
   "id": "96734edf-8d93-49f3-8ac0-1149ae835a4b",
   "metadata": {},
   "source": [
    "## 3. Make and ingest a catalog of synthetic sources:\n",
    "\n",
    "Having retrieved a `calexp` image to inject into, now set up a simple synthetic source catalog.\n",
    "\n",
    "### 3.1 Make a catalog of galaxies and stars\n",
    "\n",
    "The `source_injection` package provides tools to create catalogs of synthetic sources. Here, use the `generate_injection_catalog` function to create the sources to inject.\n",
    "\n",
    "Note that the \"inject_size\" is selected to be 0.1 degrees, or slightly smaller than the size of the image as determined above (inject_size is a radius, so it equals 0.2/2 degrees)."
   ]
  },
  {
   "cell_type": "code",
   "execution_count": 7,
   "id": "28f7afc1-b476-4d42-89bf-117b0030817d",
   "metadata": {
    "execution": {
     "iopub.execute_input": "2024-04-29T14:32:01.577521Z",
     "iopub.status.busy": "2024-04-29T14:32:01.576555Z",
     "iopub.status.idle": "2024-04-29T14:32:02.169726Z",
     "shell.execute_reply": "2024-04-29T14:32:02.168319Z",
     "shell.execute_reply.started": "2024-04-29T14:32:01.577475Z"
    }
   },
   "outputs": [],
   "source": [
    "inject_size = 0.2/2  # in degrees"
   ]
  },
  {
   "attachments": {},
   "cell_type": "markdown",
   "id": "91b9231d-a926-4c16-a491-313a0c3c5f75",
   "metadata": {},
   "source": [
    "#### 3.1.1 Make a catalog of galaxies to inject\n",
    "\n",
    "The simplest form of a galaxy in Galsim is parameterized by a [Sersic model](https://en.wikipedia.org/wiki/S%C3%A9rsic_profile): $I(r) = I_e~{\\rm exp}\\{-b_n [(\\frac{r}{r_e})^{1/n}-1]\\}$, which defines the shape of the galaxy's light profile as a function of radius (r) in terms of the \"Sersic index\" (n) and the \"half-light radius\" ($r_e$). (Note that $n = 1$ corresponds to an exponential profile.)\n",
    "\n",
    "The above equation results in a circular galaxy. To create elongated (elliptical) Sersic profiles, additionally specify the minor-to-major axis ratio (q) with a rotation angle (beta).\n",
    "\n",
    "`generate_injection_catalog` will automatically generate sources with all possible permutations of the parameters you provide. For example, the cell below specifies \"number=2\" to create 2 synthetic galaxies, but then specifies a single magnitude (mag), 3 values of Sersic index (n), 3 values of axis ratio (q), 2 values of beta, and a single value for half_light_radius. This should result in $2*1*3*3*2*1 = 36$ different combinations of those parameters.\n",
    "\n",
    "Finally, provide minimum and maximum RA and Dec coordinates in degrees. In this case, `generate_injection_catalog` will randomly select positions within those limits."
   ]
  },
  {
   "cell_type": "code",
   "execution_count": 8,
   "id": "2bafc845-2fc1-42bf-a5e4-cce3330ecf52",
   "metadata": {
    "execution": {
     "iopub.execute_input": "2024-04-29T14:32:02.172054Z",
     "iopub.status.busy": "2024-04-29T14:32:02.171445Z",
     "iopub.status.idle": "2024-04-29T14:32:02.716327Z",
     "shell.execute_reply": "2024-04-29T14:32:02.715355Z",
     "shell.execute_reply.started": "2024-04-29T14:32:02.172006Z"
    }
   },
   "outputs": [
    {
     "data": {
      "text/html": [
       "<pre style=\"margin: 0.1em;\n",
       "padding-left: 0.25em;\n",
       "border-left-style: solid;\n",
       "font-family: var(--jp-code-font-family);\n",
       "font-size: var(--jp-code-font-size);\n",
       "line-height: var(--jp-code-line-height);\n",
       "\"><span style=\"color: var(--jp-warn-color2)\">lsst.source.injection.utils.generate_injection_catalog</span> <span style=\"color: var(--jp-info-color0)\">INFO</span>: Generated an injection catalog containing 36 sources: 18 combinations repeated 2 times.</pre>"
      ],
      "text/plain": [
       "<IPython.core.display.HTML object>"
      ]
     },
     "metadata": {},
     "output_type": "display_data"
    }
   ],
   "source": [
    "my_injection_catalog_galaxies = generate_injection_catalog(\n",
    "    ra_lim=[sc_cen.ra.value-inject_size, sc_cen.ra.value+inject_size],\n",
    "    dec_lim=[sc_cen.dec.value-inject_size, sc_cen.dec.value+inject_size],\n",
    "    number=2,\n",
    "    seed='3210',\n",
    "    source_type=\"Sersic\",\n",
    "    mag=[15.0],\n",
    "    n=[1, 2, 4],\n",
    "    q=[0.9, 0.5, 0.1],\n",
    "    beta=[31.0, 144.0],\n",
    "    half_light_radius=[15.0],\n",
    ")"
   ]
  },
  {
   "cell_type": "markdown",
   "id": "d2004011-6b1e-42f6-b910-1d33c739f2a2",
   "metadata": {},
   "source": [
    "#### 3.1.2 Make a catalog of stars to inject\n",
    "\n",
    "Using a similar method, create a catalog of stars to be injected. Specify 5 values of magnitude, with 7 instances, which will result in 35 stars."
   ]
  },
  {
   "cell_type": "code",
   "execution_count": 9,
   "id": "27c2e170-604c-41c3-8ca7-2ea45de324fc",
   "metadata": {
    "execution": {
     "iopub.execute_input": "2024-04-29T14:32:02.718477Z",
     "iopub.status.busy": "2024-04-29T14:32:02.717959Z",
     "iopub.status.idle": "2024-04-29T14:32:03.122105Z",
     "shell.execute_reply": "2024-04-29T14:32:03.121110Z",
     "shell.execute_reply.started": "2024-04-29T14:32:02.718438Z"
    }
   },
   "outputs": [
    {
     "data": {
      "text/html": [
       "<pre style=\"margin: 0.1em;\n",
       "padding-left: 0.25em;\n",
       "border-left-style: solid;\n",
       "font-family: var(--jp-code-font-family);\n",
       "font-size: var(--jp-code-font-size);\n",
       "line-height: var(--jp-code-line-height);\n",
       "\"><span style=\"color: var(--jp-warn-color2)\">lsst.source.injection.utils.generate_injection_catalog</span> <span style=\"color: var(--jp-info-color0)\">INFO</span>: Generated an injection catalog containing 35 sources: 5 combinations repeated 7 times.</pre>"
      ],
      "text/plain": [
       "<IPython.core.display.HTML object>"
      ]
     },
     "metadata": {},
     "output_type": "display_data"
    }
   ],
   "source": [
    "my_injection_catalog_stars = generate_injection_catalog(\n",
    "    ra_lim=[sc_cen.ra.value-inject_size, sc_cen.ra.value+inject_size],\n",
    "    dec_lim=[sc_cen.dec.value-inject_size, sc_cen.dec.value+inject_size],\n",
    "    number=7,\n",
    "    seed='432',\n",
    "    source_type=\"Star\",\n",
    "    mag=[16.0, 17.0, 18.0, 19.0, 20.0],\n",
    ")"
   ]
  },
  {
   "cell_type": "markdown",
   "id": "e23a2012-fa6f-41ba-8df6-993e5e76d64b",
   "metadata": {},
   "source": [
    "#### 3.1.3 Combine the galaxies and stars into a single synthetic source catalog\n",
    "\n",
    "In particular, use the [vstack](https://docs.astropy.org/en/stable/table/operations.html#id4) method from Astropy's [Table](https://docs.astropy.org/en/stable/table/index.html) class to combine them."
   ]
  },
  {
   "cell_type": "code",
   "execution_count": 10,
   "id": "f31a1ad1-1a5f-409b-aaec-4d8baa61a683",
   "metadata": {
    "execution": {
     "iopub.execute_input": "2024-04-29T14:32:03.123997Z",
     "iopub.status.busy": "2024-04-29T14:32:03.123482Z",
     "iopub.status.idle": "2024-04-29T14:32:03.600480Z",
     "shell.execute_reply": "2024-04-29T14:32:03.599311Z",
     "shell.execute_reply.started": "2024-04-29T14:32:03.123959Z"
    }
   },
   "outputs": [],
   "source": [
    "inject_cat = vstack([my_injection_catalog_galaxies, my_injection_catalog_stars])"
   ]
  },
  {
   "cell_type": "code",
   "execution_count": 11,
   "id": "f89ee26c-6d5c-4118-bd92-4f150dc886bb",
   "metadata": {
    "execution": {
     "iopub.execute_input": "2024-04-29T14:32:03.602434Z",
     "iopub.status.busy": "2024-04-29T14:32:03.601890Z",
     "iopub.status.idle": "2024-04-29T14:32:04.032114Z",
     "shell.execute_reply": "2024-04-29T14:32:04.031074Z",
     "shell.execute_reply.started": "2024-04-29T14:32:03.602398Z"
    }
   },
   "outputs": [
    {
     "data": {
      "text/html": [
       "<div><i>Table length=71</i>\n",
       "<table id=\"table140645863962512\" class=\"table-striped table-bordered table-condensed\">\n",
       "<thead><tr><th>injection_id</th><th>ra</th><th>dec</th><th>source_type</th><th>mag</th><th>n</th><th>q</th><th>beta</th><th>half_light_radius</th></tr></thead>\n",
       "<thead><tr><th>int64</th><th>float64</th><th>float64</th><th>str6</th><th>float64</th><th>int64</th><th>float64</th><th>float64</th><th>float64</th></tr></thead>\n",
       "<tr><td>0</td><td>56.65093927532854</td><td>-36.03863528801498</td><td>Sersic</td><td>15.0</td><td>1</td><td>0.9</td><td>31.0</td><td>15.0</td></tr>\n",
       "<tr><td>1</td><td>56.53218927532854</td><td>-35.915178497891525</td><td>Sersic</td><td>15.0</td><td>1</td><td>0.9</td><td>31.0</td><td>15.0</td></tr>\n",
       "<tr><td>10</td><td>56.46968927532854</td><td>-35.942338991718685</td><td>Sersic</td><td>15.0</td><td>1</td><td>0.9</td><td>144.0</td><td>15.0</td></tr>\n",
       "<tr><td>11</td><td>56.46343927532854</td><td>-36.09048713986683</td><td>Sersic</td><td>15.0</td><td>1</td><td>0.9</td><td>144.0</td><td>15.0</td></tr>\n",
       "<tr><td>20</td><td>56.60718927532854</td><td>-36.04851183122486</td><td>Sersic</td><td>15.0</td><td>1</td><td>0.5</td><td>31.0</td><td>15.0</td></tr>\n",
       "<tr><td>21</td><td>56.55093927532854</td><td>-36.02382047320017</td><td>Sersic</td><td>15.0</td><td>1</td><td>0.5</td><td>31.0</td><td>15.0</td></tr>\n",
       "<tr><td>30</td><td>56.51343927532854</td><td>-35.93493158431128</td><td>Sersic</td><td>15.0</td><td>1</td><td>0.5</td><td>144.0</td><td>15.0</td></tr>\n",
       "<tr><td>31</td><td>56.58218927532854</td><td>-35.93740072011374</td><td>Sersic</td><td>15.0</td><td>1</td><td>0.5</td><td>144.0</td><td>15.0</td></tr>\n",
       "<tr><td>40</td><td>56.475939275328535</td><td>-35.994190843570536</td><td>Sersic</td><td>15.0</td><td>1</td><td>0.1</td><td>31.0</td><td>15.0</td></tr>\n",
       "<tr><td>41</td><td>56.62593927532854</td><td>-35.927524176903866</td><td>Sersic</td><td>15.0</td><td>1</td><td>0.1</td><td>31.0</td><td>15.0</td></tr>\n",
       "<tr><td>...</td><td>...</td><td>...</td><td>...</td><td>...</td><td>...</td><td>...</td><td>...</td><td>...</td></tr>\n",
       "<tr><td>34</td><td>56.632352016972064</td><td>-36.07029990190955</td><td>Star</td><td>19.0</td><td>--</td><td>--</td><td>--</td><td>--</td></tr>\n",
       "<tr><td>35</td><td>56.55110201697207</td><td>-35.96659619820584</td><td>Star</td><td>19.0</td><td>--</td><td>--</td><td>--</td><td>--</td></tr>\n",
       "<tr><td>36</td><td>56.576102016972065</td><td>-36.062892494502144</td><td>Star</td><td>19.0</td><td>--</td><td>--</td><td>--</td><td>--</td></tr>\n",
       "<tr><td>40</td><td>56.58235201697207</td><td>-35.959188790798436</td><td>Star</td><td>20.0</td><td>--</td><td>--</td><td>--</td><td>--</td></tr>\n",
       "<tr><td>41</td><td>56.64485201697207</td><td>-35.98881842042807</td><td>Star</td><td>20.0</td><td>--</td><td>--</td><td>--</td><td>--</td></tr>\n",
       "<tr><td>42</td><td>56.61360201697207</td><td>-36.050546815489795</td><td>Star</td><td>20.0</td><td>--</td><td>--</td><td>--</td><td>--</td></tr>\n",
       "<tr><td>43</td><td>56.53235201697206</td><td>-35.93696656857621</td><td>Star</td><td>20.0</td><td>--</td><td>--</td><td>--</td><td>--</td></tr>\n",
       "<tr><td>44</td><td>56.569852016972064</td><td>-36.03326286487251</td><td>Star</td><td>20.0</td><td>--</td><td>--</td><td>--</td><td>--</td></tr>\n",
       "<tr><td>45</td><td>56.65110201697207</td><td>-36.099929531539175</td><td>Star</td><td>20.0</td><td>--</td><td>--</td><td>--</td><td>--</td></tr>\n",
       "<tr><td>46</td><td>56.46985201697206</td><td>-36.077707309316956</td><td>Star</td><td>20.0</td><td>--</td><td>--</td><td>--</td><td>--</td></tr>\n",
       "</table></div>"
      ],
      "text/plain": [
       "<Table length=71>\n",
       "injection_id         ra         ...   beta  half_light_radius\n",
       "   int64          float64       ... float64      float64     \n",
       "------------ ------------------ ... ------- -----------------\n",
       "           0  56.65093927532854 ...    31.0              15.0\n",
       "           1  56.53218927532854 ...    31.0              15.0\n",
       "          10  56.46968927532854 ...   144.0              15.0\n",
       "          11  56.46343927532854 ...   144.0              15.0\n",
       "          20  56.60718927532854 ...    31.0              15.0\n",
       "          21  56.55093927532854 ...    31.0              15.0\n",
       "          30  56.51343927532854 ...   144.0              15.0\n",
       "          31  56.58218927532854 ...   144.0              15.0\n",
       "          40 56.475939275328535 ...    31.0              15.0\n",
       "          41  56.62593927532854 ...    31.0              15.0\n",
       "         ...                ... ...     ...               ...\n",
       "          34 56.632352016972064 ...      --                --\n",
       "          35  56.55110201697207 ...      --                --\n",
       "          36 56.576102016972065 ...      --                --\n",
       "          40  56.58235201697207 ...      --                --\n",
       "          41  56.64485201697207 ...      --                --\n",
       "          42  56.61360201697207 ...      --                --\n",
       "          43  56.53235201697206 ...      --                --\n",
       "          44 56.569852016972064 ...      --                --\n",
       "          45  56.65110201697207 ...      --                --\n",
       "          46  56.46985201697206 ...      --                --"
      ]
     },
     "execution_count": 11,
     "metadata": {},
     "output_type": "execute_result"
    }
   ],
   "source": [
    "inject_cat"
   ]
  },
  {
   "cell_type": "markdown",
   "id": "e96a109c-fb7e-4158-a1c5-e3983edf63dd",
   "metadata": {},
   "source": [
    "### 3.2 Add a postage stamp of an image to the injection catalog\n",
    "\n",
    "In addition to parameterized sources of many types, a postage-stamp image (for example, an output image from a simulation) can also be injected. This can be any image; the only requirement is that it must be in FITS format and have a valid WCS (see a fun example [here](https://pipelines.lsst.io/v/d_2024_02_27/modules/lsst.source.injection/faqs.html#frequently-asked-questions-and-answers-about-synthetic-source-injection)). This notebook demonstrates injection of an [SDSS g-band image](https://ned.ipac.caltech.edu/byname?objname=NGC+4152&hconst=67.8&omegam=0.308&omegav=0.692&wmap=4&corr_z=1) of the galaxy PGC 038749 downloaded from the NASA/IPAC Extragalactic Database (NED).\n",
    "\n",
    "Load the image, then display it to see what it depicts:"
   ]
  },
  {
   "cell_type": "code",
   "execution_count": 12,
   "id": "e6e73816-f9fc-4a8f-97a5-f62a41d4db17",
   "metadata": {
    "execution": {
     "iopub.execute_input": "2024-04-29T14:32:04.033817Z",
     "iopub.status.busy": "2024-04-29T14:32:04.033374Z",
     "iopub.status.idle": "2024-04-29T14:32:04.200736Z",
     "shell.execute_reply": "2024-04-29T14:32:04.199595Z",
     "shell.execute_reply.started": "2024-04-29T14:32:04.033784Z"
    }
   },
   "outputs": [],
   "source": [
    "stamp_img_hdu = fits.open('data/PGC_038749_I_g_bbl2011.fits')"
   ]
  },
  {
   "cell_type": "code",
   "execution_count": 13,
   "id": "681bacda-8908-4b1c-ba9f-94acba452a82",
   "metadata": {
    "execution": {
     "iopub.execute_input": "2024-04-29T14:32:04.202953Z",
     "iopub.status.busy": "2024-04-29T14:32:04.202358Z",
     "iopub.status.idle": "2024-04-29T14:32:04.675276Z",
     "shell.execute_reply": "2024-04-29T14:32:04.674488Z",
     "shell.execute_reply.started": "2024-04-29T14:32:04.202908Z"
    }
   },
   "outputs": [
    {
     "data": {
      "image/png": "[encoded data removed]",
      "text/plain": [
       "<Figure size 640x480 with 1 Axes>"
      ]
     },
     "metadata": {},
     "output_type": "display_data"
    }
   ],
   "source": [
    "fig = plt.figure()\n",
    "plt.subplot()\n",
    "im = plt.imshow(stamp_img_hdu[0].data, cmap='gray', vmin=-20.0, vmax=100, origin='lower')\n",
    "plt.xlabel('x')\n",
    "plt.ylabel('y')\n",
    "plt.show()"
   ]
  },
  {
   "cell_type": "markdown",
   "id": "d09ab430-d2ac-4f76-98e5-5cb7bb77d226",
   "metadata": {},
   "source": [
    "#### 3.2.1 Create an entry in the injection catalog for the postage stamp image\n",
    "\n",
    "Add a postage stamp entry into the injection catalog, using `vstack` to add an astropy `Table` containing a single row. You must specify its position, magnitude, and \"source_type = Stamp,\" in addition to the filename of the image to inject. (It is OK to leave unnecessary columns empty.)"
   ]
  },
  {
   "cell_type": "code",
   "execution_count": 14,
   "id": "c914dbd4-80e5-48c5-a396-20ed199c0ee5",
   "metadata": {
    "execution": {
     "iopub.execute_input": "2024-04-29T14:32:04.676481Z",
     "iopub.status.busy": "2024-04-29T14:32:04.676292Z",
     "iopub.status.idle": "2024-04-29T14:32:04.681366Z",
     "shell.execute_reply": "2024-04-29T14:32:04.680656Z",
     "shell.execute_reply.started": "2024-04-29T14:32:04.676463Z"
    }
   },
   "outputs": [],
   "source": [
    "my_injection_catalog_stamp = Table(\n",
    "    {\n",
    "        'injection_id': [9999],\n",
    "        'ra': [56.622],\n",
    "        'dec': [-36.488],\n",
    "        'source_type': ['Stamp'],\n",
    "        'mag': [14.8],\n",
    "        'stamp': ['PGC_038749_I_g_bbl2011.fits'],\n",
    "        'stamp_prefix': ['data/'],\n",
    "    }\n",
    ")"
   ]
  },
  {
   "cell_type": "code",
   "execution_count": 15,
   "id": "c6ecfcdd-b00e-4860-be58-d8b5acd2b25b",
   "metadata": {
    "execution": {
     "iopub.execute_input": "2024-04-29T14:32:04.682305Z",
     "iopub.status.busy": "2024-04-29T14:32:04.682118Z",
     "iopub.status.idle": "2024-04-29T14:32:05.020371Z",
     "shell.execute_reply": "2024-04-29T14:32:05.019268Z",
     "shell.execute_reply.started": "2024-04-29T14:32:04.682288Z"
    }
   },
   "outputs": [],
   "source": [
    "inject_cat = vstack([inject_cat, my_injection_catalog_stamp])"
   ]
  },
  {
   "cell_type": "code",
   "execution_count": 16,
   "id": "dd751614-9424-4ebf-9165-39cec1773fdf",
   "metadata": {
    "execution": {
     "iopub.execute_input": "2024-04-29T14:32:05.022140Z",
     "iopub.status.busy": "2024-04-29T14:32:05.021731Z",
     "iopub.status.idle": "2024-04-29T14:32:05.097455Z",
     "shell.execute_reply": "2024-04-29T14:32:05.096407Z",
     "shell.execute_reply.started": "2024-04-29T14:32:05.022115Z"
    }
   },
   "outputs": [
    {
     "data": {
      "text/html": [
       "<div><i>Table length=72</i>\n",
       "<table id=\"table140645856797712\" class=\"table-striped table-bordered table-condensed\">\n",
       "<thead><tr><th>injection_id</th><th>ra</th><th>dec</th><th>source_type</th><th>mag</th><th>n</th><th>q</th><th>beta</th><th>half_light_radius</th><th>stamp</th><th>stamp_prefix</th></tr></thead>\n",
       "<thead><tr><th>int64</th><th>float64</th><th>float64</th><th>str6</th><th>float64</th><th>int64</th><th>float64</th><th>float64</th><th>float64</th><th>str27</th><th>str5</th></tr></thead>\n",
       "<tr><td>0</td><td>56.65093927532854</td><td>-36.03863528801498</td><td>Sersic</td><td>15.0</td><td>1</td><td>0.9</td><td>31.0</td><td>15.0</td><td>--</td><td>--</td></tr>\n",
       "<tr><td>1</td><td>56.53218927532854</td><td>-35.915178497891525</td><td>Sersic</td><td>15.0</td><td>1</td><td>0.9</td><td>31.0</td><td>15.0</td><td>--</td><td>--</td></tr>\n",
       "<tr><td>10</td><td>56.46968927532854</td><td>-35.942338991718685</td><td>Sersic</td><td>15.0</td><td>1</td><td>0.9</td><td>144.0</td><td>15.0</td><td>--</td><td>--</td></tr>\n",
       "<tr><td>11</td><td>56.46343927532854</td><td>-36.09048713986683</td><td>Sersic</td><td>15.0</td><td>1</td><td>0.9</td><td>144.0</td><td>15.0</td><td>--</td><td>--</td></tr>\n",
       "<tr><td>20</td><td>56.60718927532854</td><td>-36.04851183122486</td><td>Sersic</td><td>15.0</td><td>1</td><td>0.5</td><td>31.0</td><td>15.0</td><td>--</td><td>--</td></tr>\n",
       "<tr><td>21</td><td>56.55093927532854</td><td>-36.02382047320017</td><td>Sersic</td><td>15.0</td><td>1</td><td>0.5</td><td>31.0</td><td>15.0</td><td>--</td><td>--</td></tr>\n",
       "<tr><td>30</td><td>56.51343927532854</td><td>-35.93493158431128</td><td>Sersic</td><td>15.0</td><td>1</td><td>0.5</td><td>144.0</td><td>15.0</td><td>--</td><td>--</td></tr>\n",
       "<tr><td>31</td><td>56.58218927532854</td><td>-35.93740072011374</td><td>Sersic</td><td>15.0</td><td>1</td><td>0.5</td><td>144.0</td><td>15.0</td><td>--</td><td>--</td></tr>\n",
       "<tr><td>40</td><td>56.475939275328535</td><td>-35.994190843570536</td><td>Sersic</td><td>15.0</td><td>1</td><td>0.1</td><td>31.0</td><td>15.0</td><td>--</td><td>--</td></tr>\n",
       "<tr><td>41</td><td>56.62593927532854</td><td>-35.927524176903866</td><td>Sersic</td><td>15.0</td><td>1</td><td>0.1</td><td>31.0</td><td>15.0</td><td>--</td><td>--</td></tr>\n",
       "<tr><td>...</td><td>...</td><td>...</td><td>...</td><td>...</td><td>...</td><td>...</td><td>...</td><td>...</td><td>...</td><td>...</td></tr>\n",
       "<tr><td>35</td><td>56.55110201697207</td><td>-35.96659619820584</td><td>Star</td><td>19.0</td><td>--</td><td>--</td><td>--</td><td>--</td><td>--</td><td>--</td></tr>\n",
       "<tr><td>36</td><td>56.576102016972065</td><td>-36.062892494502144</td><td>Star</td><td>19.0</td><td>--</td><td>--</td><td>--</td><td>--</td><td>--</td><td>--</td></tr>\n",
       "<tr><td>40</td><td>56.58235201697207</td><td>-35.959188790798436</td><td>Star</td><td>20.0</td><td>--</td><td>--</td><td>--</td><td>--</td><td>--</td><td>--</td></tr>\n",
       "<tr><td>41</td><td>56.64485201697207</td><td>-35.98881842042807</td><td>Star</td><td>20.0</td><td>--</td><td>--</td><td>--</td><td>--</td><td>--</td><td>--</td></tr>\n",
       "<tr><td>42</td><td>56.61360201697207</td><td>-36.050546815489795</td><td>Star</td><td>20.0</td><td>--</td><td>--</td><td>--</td><td>--</td><td>--</td><td>--</td></tr>\n",
       "<tr><td>43</td><td>56.53235201697206</td><td>-35.93696656857621</td><td>Star</td><td>20.0</td><td>--</td><td>--</td><td>--</td><td>--</td><td>--</td><td>--</td></tr>\n",
       "<tr><td>44</td><td>56.569852016972064</td><td>-36.03326286487251</td><td>Star</td><td>20.0</td><td>--</td><td>--</td><td>--</td><td>--</td><td>--</td><td>--</td></tr>\n",
       "<tr><td>45</td><td>56.65110201697207</td><td>-36.099929531539175</td><td>Star</td><td>20.0</td><td>--</td><td>--</td><td>--</td><td>--</td><td>--</td><td>--</td></tr>\n",
       "<tr><td>46</td><td>56.46985201697206</td><td>-36.077707309316956</td><td>Star</td><td>20.0</td><td>--</td><td>--</td><td>--</td><td>--</td><td>--</td><td>--</td></tr>\n",
       "<tr><td>9999</td><td>56.622</td><td>-36.488</td><td>Stamp</td><td>14.8</td><td>--</td><td>--</td><td>--</td><td>--</td><td>PGC_038749_I_g_bbl2011.fits</td><td>data/</td></tr>\n",
       "</table></div>"
      ],
      "text/plain": [
       "<Table length=72>\n",
       "injection_id         ra         ...            stamp            stamp_prefix\n",
       "   int64          float64       ...            str27                str5    \n",
       "------------ ------------------ ... --------------------------- ------------\n",
       "           0  56.65093927532854 ...                          --           --\n",
       "           1  56.53218927532854 ...                          --           --\n",
       "          10  56.46968927532854 ...                          --           --\n",
       "          11  56.46343927532854 ...                          --           --\n",
       "          20  56.60718927532854 ...                          --           --\n",
       "          21  56.55093927532854 ...                          --           --\n",
       "          30  56.51343927532854 ...                          --           --\n",
       "          31  56.58218927532854 ...                          --           --\n",
       "          40 56.475939275328535 ...                          --           --\n",
       "          41  56.62593927532854 ...                          --           --\n",
       "         ...                ... ...                         ...          ...\n",
       "          35  56.55110201697207 ...                          --           --\n",
       "          36 56.576102016972065 ...                          --           --\n",
       "          40  56.58235201697207 ...                          --           --\n",
       "          41  56.64485201697207 ...                          --           --\n",
       "          42  56.61360201697207 ...                          --           --\n",
       "          43  56.53235201697206 ...                          --           --\n",
       "          44 56.569852016972064 ...                          --           --\n",
       "          45  56.65110201697207 ...                          --           --\n",
       "          46  56.46985201697206 ...                          --           --\n",
       "        9999             56.622 ... PGC_038749_I_g_bbl2011.fits        data/"
      ]
     },
     "execution_count": 16,
     "metadata": {},
     "output_type": "execute_result"
    }
   ],
   "source": [
    "inject_cat"
   ]
  },
  {
   "cell_type": "markdown",
   "id": "0d9960aa-0c91-4752-a5d9-a58b51c16a82",
   "metadata": {
    "execution": {
     "iopub.execute_input": "2023-12-15T23:16:55.956111Z",
     "iopub.status.busy": "2023-12-15T23:16:55.955797Z",
     "iopub.status.idle": "2023-12-15T23:16:55.959344Z",
     "shell.execute_reply": "2023-12-15T23:16:55.958775Z",
     "shell.execute_reply.started": "2023-12-15T23:16:55.956092Z"
    }
   },
   "source": [
    "### 3.3 Ingest the synthetic source catalog into a butler collection\n",
    "\n",
    "#### 3.3.1 Register the source injection collection\n",
    "The input `inject_cat` will be ingested into a collection called `u/{user}/test_injection_inputs` (where \"user\" will be your username) in the butler repository. You must register this collection for subsequent use.\n",
    "\n",
    "First, instantiate a writeable `butler`. Butlers are instantiated in read-only mode by default. By setting the argument `writeable` to `True`, a butler can also be made to be writeable.\n",
    "\n",
    "> Warning: take care when working with a writeable butler, as data on-disk has the potential to be permanently removed or corrupted.\n",
    "\n",
    "_Note: If you attempt to inject synthetic sources into a collection that already exists, the task will complain that the output data already exist on disk. The name you assign to your collection in `INJECTION_CATALOG_COLLECTION` in the following cell must not have been used before. (This means that if you have run source injection already, you must change the output collection name before running again.)_"
   ]
  },
  {
   "cell_type": "code",
   "execution_count": 17,
   "id": "172a6e88-d605-438f-9fd0-4e39185be6cc",
   "metadata": {
    "execution": {
     "iopub.execute_input": "2024-04-29T14:32:05.099636Z",
     "iopub.status.busy": "2024-04-29T14:32:05.099087Z",
     "iopub.status.idle": "2024-04-29T14:32:06.927182Z",
     "shell.execute_reply": "2024-04-29T14:32:06.924640Z",
     "shell.execute_reply.started": "2024-04-29T14:32:05.099595Z"
    }
   },
   "outputs": [
    {
     "data": {
      "text/html": [
       "<pre style=\"margin: 0.1em;\n",
       "padding-left: 0.25em;\n",
       "border-left-style: solid;\n",
       "font-family: var(--jp-code-font-family);\n",
       "font-size: var(--jp-code-font-size);\n",
       "line-height: var(--jp-code-line-height);\n",
       "\"><span style=\"color: var(--jp-warn-color2)\">lsst.daf.butler.direct_butler</span> <span style=\"color: var(--jp-error-color2)\">ERROR</span>: Failed to instantiate Butler from config file:///sps/lsst/dataproducts/rubin/previews/dp0.2/butler.yaml.</pre>"
      ],
      "text/plain": [
       "<IPython.core.display.HTML object>"
      ]
     },
     "metadata": {},
     "output_type": "display_data"
    },
    {
     "ename": "ProgrammingError",
     "evalue": "(psycopg2.errors.InsufficientPrivilege) permission denied for table opaque_meta\n\n[SQL: INSERT INTO dp02.opaque_meta (table_name) VALUES (%(table_name)s) ON CONFLICT DO NOTHING]\n[parameters: {'table_name': 'file_datastore_records'}]\n(Background on this error at: https://sqlalche.me/e/20/f405)",
     "output_type": "error",
     "traceback": [
      "\u001b[0;31m---------------------------------------------------------------------------\u001b[0m",
      "\u001b[0;31mInsufficientPrivilege\u001b[0m                     Traceback (most recent call last)",
      "File \u001b[0;32m/opt/lsst/software/stack/conda/miniconda3-py38_4.9.2/envs/lsst-scipipe-8.0.0/lib/python3.11/site-packages/sqlalchemy/engine/base.py:1969\u001b[0m, in \u001b[0;36mConnection._exec_single_context\u001b[0;34m(self, dialect, context, statement, parameters)\u001b[0m\n\u001b[1;32m   1968\u001b[0m     \u001b[38;5;28;01mif\u001b[39;00m \u001b[38;5;129;01mnot\u001b[39;00m evt_handled:\n\u001b[0;32m-> 1969\u001b[0m         \u001b[38;5;28;43mself\u001b[39;49m\u001b[38;5;241;43m.\u001b[39;49m\u001b[43mdialect\u001b[49m\u001b[38;5;241;43m.\u001b[39;49m\u001b[43mdo_execute\u001b[49m\u001b[43m(\u001b[49m\n\u001b[1;32m   1970\u001b[0m \u001b[43m            \u001b[49m\u001b[43mcursor\u001b[49m\u001b[43m,\u001b[49m\u001b[43m \u001b[49m\u001b[43mstr_statement\u001b[49m\u001b[43m,\u001b[49m\u001b[43m \u001b[49m\u001b[43meffective_parameters\u001b[49m\u001b[43m,\u001b[49m\u001b[43m \u001b[49m\u001b[43mcontext\u001b[49m\n\u001b[1;32m   1971\u001b[0m \u001b[43m        \u001b[49m\u001b[43m)\u001b[49m\n\u001b[1;32m   1973\u001b[0m \u001b[38;5;28;01mif\u001b[39;00m \u001b[38;5;28mself\u001b[39m\u001b[38;5;241m.\u001b[39m_has_events \u001b[38;5;129;01mor\u001b[39;00m \u001b[38;5;28mself\u001b[39m\u001b[38;5;241m.\u001b[39mengine\u001b[38;5;241m.\u001b[39m_has_events:\n",
      "File \u001b[0;32m/opt/lsst/software/stack/conda/miniconda3-py38_4.9.2/envs/lsst-scipipe-8.0.0/lib/python3.11/site-packages/sqlalchemy/engine/default.py:922\u001b[0m, in \u001b[0;36mDefaultDialect.do_execute\u001b[0;34m(self, cursor, statement, parameters, context)\u001b[0m\n\u001b[1;32m    921\u001b[0m \u001b[38;5;28;01mdef\u001b[39;00m \u001b[38;5;21mdo_execute\u001b[39m(\u001b[38;5;28mself\u001b[39m, cursor, statement, parameters, context\u001b[38;5;241m=\u001b[39m\u001b[38;5;28;01mNone\u001b[39;00m):\n\u001b[0;32m--> 922\u001b[0m     \u001b[43mcursor\u001b[49m\u001b[38;5;241;43m.\u001b[39;49m\u001b[43mexecute\u001b[49m\u001b[43m(\u001b[49m\u001b[43mstatement\u001b[49m\u001b[43m,\u001b[49m\u001b[43m \u001b[49m\u001b[43mparameters\u001b[49m\u001b[43m)\u001b[49m\n",
      "\u001b[0;31mInsufficientPrivilege\u001b[0m: permission denied for table opaque_meta\n",
      "\nThe above exception was the direct cause of the following exception:\n",
      "\u001b[0;31mProgrammingError\u001b[0m                          Traceback (most recent call last)",
      "Cell \u001b[0;32mIn[17], line 7\u001b[0m\n\u001b[1;32m      4\u001b[0m INJECTION_CATALOG_COLLECTION \u001b[38;5;241m=\u001b[39m \u001b[38;5;124mf\u001b[39m\u001b[38;5;124m\"\u001b[39m\u001b[38;5;124mu/\u001b[39m\u001b[38;5;132;01m{\u001b[39;00muser\u001b[38;5;132;01m}\u001b[39;00m\u001b[38;5;124m/test_injection_inputs\u001b[39m\u001b[38;5;124m\"\u001b[39m\n\u001b[1;32m      6\u001b[0m \u001b[38;5;66;03m# Instantiate a writeable butler.\u001b[39;00m\n\u001b[0;32m----> 7\u001b[0m writeable_butler \u001b[38;5;241m=\u001b[39m \u001b[43mButler\u001b[49m\u001b[43m(\u001b[49m\u001b[43mbutler_config\u001b[49m\u001b[43m,\u001b[49m\u001b[43m \u001b[49m\u001b[43mwriteable\u001b[49m\u001b[38;5;241;43m=\u001b[39;49m\u001b[38;5;28;43;01mTrue\u001b[39;49;00m\u001b[43m)\u001b[49m\n",
      "File \u001b[0;32m/opt/lsst/software/stack/stack/miniconda3-py38_4.9.2-8.0.0/Linux64/daf_butler/g6af44e7a1a+043fa2f30f/python/lsst/daf/butler/_butler.py:136\u001b[0m, in \u001b[0;36mButler.__new__\u001b[0;34m(cls, config, collections, run, searchPaths, writeable, inferDefaults, without_datastore, **kwargs)\u001b[0m\n\u001b[1;32m    123\u001b[0m \u001b[38;5;28;01mdef\u001b[39;00m \u001b[38;5;21m__new__\u001b[39m(\n\u001b[1;32m    124\u001b[0m     \u001b[38;5;28mcls\u001b[39m,\n\u001b[1;32m    125\u001b[0m     config: Config \u001b[38;5;241m|\u001b[39m ResourcePathExpression \u001b[38;5;241m|\u001b[39m \u001b[38;5;28;01mNone\u001b[39;00m \u001b[38;5;241m=\u001b[39m \u001b[38;5;28;01mNone\u001b[39;00m,\n\u001b[0;32m   (...)\u001b[0m\n\u001b[1;32m    133\u001b[0m     \u001b[38;5;241m*\u001b[39m\u001b[38;5;241m*\u001b[39mkwargs: Any,\n\u001b[1;32m    134\u001b[0m ) \u001b[38;5;241m-\u001b[39m\u001b[38;5;241m>\u001b[39m Butler:\n\u001b[1;32m    135\u001b[0m     \u001b[38;5;28;01mif\u001b[39;00m \u001b[38;5;28mcls\u001b[39m \u001b[38;5;129;01mis\u001b[39;00m Butler:\n\u001b[0;32m--> 136\u001b[0m         \u001b[38;5;28;01mreturn\u001b[39;00m \u001b[43mButler\u001b[49m\u001b[38;5;241;43m.\u001b[39;49m\u001b[43mfrom_config\u001b[49m\u001b[43m(\u001b[49m\n\u001b[1;32m    137\u001b[0m \u001b[43m            \u001b[49m\u001b[43mconfig\u001b[49m\u001b[38;5;241;43m=\u001b[39;49m\u001b[43mconfig\u001b[49m\u001b[43m,\u001b[49m\n\u001b[1;32m    138\u001b[0m \u001b[43m            \u001b[49m\u001b[43mcollections\u001b[49m\u001b[38;5;241;43m=\u001b[39;49m\u001b[43mcollections\u001b[49m\u001b[43m,\u001b[49m\n\u001b[1;32m    139\u001b[0m \u001b[43m            \u001b[49m\u001b[43mrun\u001b[49m\u001b[38;5;241;43m=\u001b[39;49m\u001b[43mrun\u001b[49m\u001b[43m,\u001b[49m\n\u001b[1;32m    140\u001b[0m \u001b[43m            \u001b[49m\u001b[43msearchPaths\u001b[49m\u001b[38;5;241;43m=\u001b[39;49m\u001b[43msearchPaths\u001b[49m\u001b[43m,\u001b[49m\n\u001b[1;32m    141\u001b[0m \u001b[43m            \u001b[49m\u001b[43mwriteable\u001b[49m\u001b[38;5;241;43m=\u001b[39;49m\u001b[43mwriteable\u001b[49m\u001b[43m,\u001b[49m\n\u001b[1;32m    142\u001b[0m \u001b[43m            \u001b[49m\u001b[43minferDefaults\u001b[49m\u001b[38;5;241;43m=\u001b[39;49m\u001b[43minferDefaults\u001b[49m\u001b[43m,\u001b[49m\n\u001b[1;32m    143\u001b[0m \u001b[43m            \u001b[49m\u001b[43mwithout_datastore\u001b[49m\u001b[38;5;241;43m=\u001b[39;49m\u001b[43mwithout_datastore\u001b[49m\u001b[43m,\u001b[49m\n\u001b[1;32m    144\u001b[0m \u001b[43m            \u001b[49m\u001b[38;5;241;43m*\u001b[39;49m\u001b[38;5;241;43m*\u001b[39;49m\u001b[43mkwargs\u001b[49m\u001b[43m,\u001b[49m\n\u001b[1;32m    145\u001b[0m \u001b[43m        \u001b[49m\u001b[43m)\u001b[49m\n\u001b[1;32m    147\u001b[0m     \u001b[38;5;66;03m# Note: we do not pass any parameters to __new__, Python will pass them\u001b[39;00m\n\u001b[1;32m    148\u001b[0m     \u001b[38;5;66;03m# to __init__ after __new__ returns sub-class instance.\u001b[39;00m\n\u001b[1;32m    149\u001b[0m     \u001b[38;5;28;01mreturn\u001b[39;00m \u001b[38;5;28msuper\u001b[39m()\u001b[38;5;241m.\u001b[39m\u001b[38;5;21m__new__\u001b[39m(\u001b[38;5;28mcls\u001b[39m)\n",
      "File \u001b[0;32m/opt/lsst/software/stack/stack/miniconda3-py38_4.9.2-8.0.0/Linux64/daf_butler/g6af44e7a1a+043fa2f30f/python/lsst/daf/butler/_butler.py:301\u001b[0m, in \u001b[0;36mButler.from_config\u001b[0;34m(cls, config, collections, run, searchPaths, writeable, inferDefaults, without_datastore, **kwargs)\u001b[0m\n\u001b[1;32m    298\u001b[0m \u001b[38;5;28;01mcase\u001b[39;00m ButlerType\u001b[38;5;241m.\u001b[39mDIRECT:\n\u001b[1;32m    299\u001b[0m     \u001b[38;5;28;01mfrom\u001b[39;00m \u001b[38;5;21;01m.\u001b[39;00m\u001b[38;5;21;01mdirect_butler\u001b[39;00m \u001b[38;5;28;01mimport\u001b[39;00m DirectButler\n\u001b[0;32m--> 301\u001b[0m     \u001b[38;5;28;01mreturn\u001b[39;00m \u001b[43mDirectButler\u001b[49m\u001b[38;5;241;43m.\u001b[39;49m\u001b[43mcreate_from_config\u001b[49m\u001b[43m(\u001b[49m\n\u001b[1;32m    302\u001b[0m \u001b[43m        \u001b[49m\u001b[43mbutler_config\u001b[49m\u001b[43m,\u001b[49m\n\u001b[1;32m    303\u001b[0m \u001b[43m        \u001b[49m\u001b[43moptions\u001b[49m\u001b[38;5;241;43m=\u001b[39;49m\u001b[43moptions\u001b[49m\u001b[43m,\u001b[49m\n\u001b[1;32m    304\u001b[0m \u001b[43m        \u001b[49m\u001b[43mwithout_datastore\u001b[49m\u001b[38;5;241;43m=\u001b[39;49m\u001b[43mwithout_datastore\u001b[49m\u001b[43m,\u001b[49m\n\u001b[1;32m    305\u001b[0m \u001b[43m    \u001b[49m\u001b[43m)\u001b[49m\n\u001b[1;32m    306\u001b[0m \u001b[38;5;28;01mcase\u001b[39;00m ButlerType\u001b[38;5;241m.\u001b[39mREMOTE:\n\u001b[1;32m    307\u001b[0m     \u001b[38;5;28;01mfrom\u001b[39;00m \u001b[38;5;21;01m.\u001b[39;00m\u001b[38;5;21;01mremote_butler\u001b[39;00m \u001b[38;5;28;01mimport\u001b[39;00m RemoteButlerFactory\n",
      "File \u001b[0;32m/opt/lsst/software/stack/stack/miniconda3-py38_4.9.2-8.0.0/Linux64/daf_butler/g6af44e7a1a+043fa2f30f/python/lsst/daf/butler/direct_butler.py:206\u001b[0m, in \u001b[0;36mDirectButler.create_from_config\u001b[0;34m(cls, config, options, without_datastore)\u001b[0m\n\u001b[1;32m    204\u001b[0m     datastore: Datastore \u001b[38;5;241m=\u001b[39m NullDatastore(\u001b[38;5;28;01mNone\u001b[39;00m, \u001b[38;5;28;01mNone\u001b[39;00m)\n\u001b[1;32m    205\u001b[0m \u001b[38;5;28;01melse\u001b[39;00m:\n\u001b[0;32m--> 206\u001b[0m     datastore \u001b[38;5;241m=\u001b[39m \u001b[43mDatastore\u001b[49m\u001b[38;5;241;43m.\u001b[39;49m\u001b[43mfromConfig\u001b[49m\u001b[43m(\u001b[49m\n\u001b[1;32m    207\u001b[0m \u001b[43m        \u001b[49m\u001b[43mconfig\u001b[49m\u001b[43m,\u001b[49m\u001b[43m \u001b[49m\u001b[43mregistry\u001b[49m\u001b[38;5;241;43m.\u001b[39;49m\u001b[43mgetDatastoreBridgeManager\u001b[49m\u001b[43m(\u001b[49m\u001b[43m)\u001b[49m\u001b[43m,\u001b[49m\u001b[43m \u001b[49m\u001b[43mbutlerRoot\u001b[49m\u001b[38;5;241;43m=\u001b[39;49m\u001b[43mbutlerRoot\u001b[49m\n\u001b[1;32m    208\u001b[0m \u001b[43m    \u001b[49m\u001b[43m)\u001b[49m\n\u001b[1;32m    209\u001b[0m \u001b[38;5;66;03m# TODO: Once datastore drops dependency on registry we can\u001b[39;00m\n\u001b[1;32m    210\u001b[0m \u001b[38;5;66;03m# construct datastore first and pass opaque tables to registry\u001b[39;00m\n\u001b[1;32m    211\u001b[0m \u001b[38;5;66;03m# constructor.\u001b[39;00m\n\u001b[1;32m    212\u001b[0m registry\u001b[38;5;241m.\u001b[39mmake_datastore_tables(datastore\u001b[38;5;241m.\u001b[39mget_opaque_table_definitions())\n",
      "File \u001b[0;32m/opt/lsst/software/stack/stack/miniconda3-py38_4.9.2-8.0.0/Linux64/daf_butler/g6af44e7a1a+043fa2f30f/python/lsst/daf/butler/datastore/_datastore.py:386\u001b[0m, in \u001b[0;36mDatastore.fromConfig\u001b[0;34m(config, bridgeManager, butlerRoot)\u001b[0m\n\u001b[1;32m    384\u001b[0m \u001b[38;5;28;01mif\u001b[39;00m \u001b[38;5;129;01mnot\u001b[39;00m \u001b[38;5;28missubclass\u001b[39m(\u001b[38;5;28mcls\u001b[39m, Datastore):\n\u001b[1;32m    385\u001b[0m     \u001b[38;5;28;01mraise\u001b[39;00m \u001b[38;5;167;01mTypeError\u001b[39;00m(\u001b[38;5;124mf\u001b[39m\u001b[38;5;124m\"\u001b[39m\u001b[38;5;124mImported child class \u001b[39m\u001b[38;5;132;01m{\u001b[39;00mconfig[\u001b[38;5;124m'\u001b[39m\u001b[38;5;124mcls\u001b[39m\u001b[38;5;124m'\u001b[39m]\u001b[38;5;132;01m}\u001b[39;00m\u001b[38;5;124m is not a Datastore\u001b[39m\u001b[38;5;124m\"\u001b[39m)\n\u001b[0;32m--> 386\u001b[0m \u001b[38;5;28;01mreturn\u001b[39;00m \u001b[38;5;28;43mcls\u001b[39;49m\u001b[38;5;241;43m.\u001b[39;49m\u001b[43m_create_from_config\u001b[49m\u001b[43m(\u001b[49m\u001b[43mconfig\u001b[49m\u001b[38;5;241;43m=\u001b[39;49m\u001b[43mconfig\u001b[49m\u001b[43m,\u001b[49m\u001b[43m \u001b[49m\u001b[43mbridgeManager\u001b[49m\u001b[38;5;241;43m=\u001b[39;49m\u001b[43mbridgeManager\u001b[49m\u001b[43m,\u001b[49m\u001b[43m \u001b[49m\u001b[43mbutlerRoot\u001b[49m\u001b[38;5;241;43m=\u001b[39;49m\u001b[43mbutlerRoot\u001b[49m\u001b[43m)\u001b[49m\n",
      "File \u001b[0;32m/opt/lsst/software/stack/stack/miniconda3-py38_4.9.2-8.0.0/Linux64/daf_butler/g6af44e7a1a+043fa2f30f/python/lsst/daf/butler/datastores/fileDatastore.py:322\u001b[0m, in \u001b[0;36mFileDatastore._create_from_config\u001b[0;34m(cls, config, bridgeManager, butlerRoot)\u001b[0m\n\u001b[1;32m    318\u001b[0m \u001b[38;5;66;03m# Determine whether we can fall back to configuration if a\u001b[39;00m\n\u001b[1;32m    319\u001b[0m \u001b[38;5;66;03m# requested dataset is not known to registry\u001b[39;00m\n\u001b[1;32m    320\u001b[0m trustGetRequest \u001b[38;5;241m=\u001b[39m config\u001b[38;5;241m.\u001b[39mget(\u001b[38;5;124m\"\u001b[39m\u001b[38;5;124mtrust_get_request\u001b[39m\u001b[38;5;124m\"\u001b[39m, \u001b[38;5;28;01mFalse\u001b[39;00m)\n\u001b[0;32m--> 322\u001b[0m \u001b[38;5;28mself\u001b[39m \u001b[38;5;241m=\u001b[39m \u001b[43mFileDatastore\u001b[49m\u001b[43m(\u001b[49m\n\u001b[1;32m    323\u001b[0m \u001b[43m    \u001b[49m\u001b[43mconfig\u001b[49m\u001b[43m,\u001b[49m\u001b[43m \u001b[49m\u001b[43mbridgeManager\u001b[49m\u001b[43m,\u001b[49m\u001b[43m \u001b[49m\u001b[43mroot\u001b[49m\u001b[43m,\u001b[49m\u001b[43m \u001b[49m\u001b[43mformatterFactory\u001b[49m\u001b[43m,\u001b[49m\u001b[43m \u001b[49m\u001b[43mtemplates\u001b[49m\u001b[43m,\u001b[49m\u001b[43m \u001b[49m\u001b[43mcomposites\u001b[49m\u001b[43m,\u001b[49m\u001b[43m \u001b[49m\u001b[43mtrustGetRequest\u001b[49m\n\u001b[1;32m    324\u001b[0m \u001b[43m\u001b[49m\u001b[43m)\u001b[49m\n\u001b[1;32m    326\u001b[0m \u001b[38;5;66;03m# Check existence and create directory structure if necessary\u001b[39;00m\n\u001b[1;32m    327\u001b[0m \u001b[38;5;28;01mif\u001b[39;00m \u001b[38;5;129;01mnot\u001b[39;00m \u001b[38;5;28mself\u001b[39m\u001b[38;5;241m.\u001b[39mroot\u001b[38;5;241m.\u001b[39mexists():\n",
      "File \u001b[0;32m/opt/lsst/software/stack/stack/miniconda3-py38_4.9.2-8.0.0/Linux64/daf_butler/g6af44e7a1a+043fa2f30f/python/lsst/daf/butler/datastores/fileDatastore.py:270\u001b[0m, in \u001b[0;36mFileDatastore.__init__\u001b[0;34m(self, config, bridgeManager, root, formatterFactory, templates, composites, trustGetRequest)\u001b[0m\n\u001b[1;32m    267\u001b[0m \u001b[38;5;28mself\u001b[39m\u001b[38;5;241m.\u001b[39m_opaque_table_name \u001b[38;5;241m=\u001b[39m \u001b[38;5;28mself\u001b[39m\u001b[38;5;241m.\u001b[39mconfig[\u001b[38;5;124m\"\u001b[39m\u001b[38;5;124mrecords\u001b[39m\u001b[38;5;124m\"\u001b[39m, \u001b[38;5;124m\"\u001b[39m\u001b[38;5;124mtable\u001b[39m\u001b[38;5;124m\"\u001b[39m]\n\u001b[1;32m    268\u001b[0m \u001b[38;5;28;01mtry\u001b[39;00m:\n\u001b[1;32m    269\u001b[0m     \u001b[38;5;66;03m# Storage of paths and formatters, keyed by dataset_id\u001b[39;00m\n\u001b[0;32m--> 270\u001b[0m     \u001b[38;5;28mself\u001b[39m\u001b[38;5;241m.\u001b[39m_table \u001b[38;5;241m=\u001b[39m \u001b[43mbridgeManager\u001b[49m\u001b[38;5;241;43m.\u001b[39;49m\u001b[43mopaque\u001b[49m\u001b[38;5;241;43m.\u001b[39;49m\u001b[43mregister\u001b[49m\u001b[43m(\u001b[49m\n\u001b[1;32m    271\u001b[0m \u001b[43m        \u001b[49m\u001b[38;5;28;43mself\u001b[39;49m\u001b[38;5;241;43m.\u001b[39;49m\u001b[43m_opaque_table_name\u001b[49m\u001b[43m,\u001b[49m\u001b[43m \u001b[49m\u001b[38;5;28;43mself\u001b[39;49m\u001b[38;5;241;43m.\u001b[39;49m\u001b[43mmakeTableSpec\u001b[49m\u001b[43m(\u001b[49m\u001b[43mbridgeManager\u001b[49m\u001b[38;5;241;43m.\u001b[39;49m\u001b[43mdatasetIdColumnType\u001b[49m\u001b[43m)\u001b[49m\n\u001b[1;32m    272\u001b[0m \u001b[43m    \u001b[49m\u001b[43m)\u001b[49m\n\u001b[1;32m    273\u001b[0m     \u001b[38;5;66;03m# Interface to Registry.\u001b[39;00m\n\u001b[1;32m    274\u001b[0m     \u001b[38;5;28mself\u001b[39m\u001b[38;5;241m.\u001b[39m_bridge \u001b[38;5;241m=\u001b[39m bridgeManager\u001b[38;5;241m.\u001b[39mregister(\u001b[38;5;28mself\u001b[39m\u001b[38;5;241m.\u001b[39mname)\n",
      "File \u001b[0;32m/opt/lsst/software/stack/stack/miniconda3-py38_4.9.2-8.0.0/Linux64/daf_butler/g6af44e7a1a+043fa2f30f/python/lsst/daf/butler/registry/opaque.py:225\u001b[0m, in \u001b[0;36mByNameOpaqueTableStorageManager.register\u001b[0;34m(self, name, spec)\u001b[0m\n\u001b[1;32m    222\u001b[0m table \u001b[38;5;241m=\u001b[39m \u001b[38;5;28mself\u001b[39m\u001b[38;5;241m.\u001b[39m_db\u001b[38;5;241m.\u001b[39mensureTableExists(name, spec)\n\u001b[1;32m    223\u001b[0m \u001b[38;5;66;03m# Add a row to the meta table so we can find this table in the\u001b[39;00m\n\u001b[1;32m    224\u001b[0m \u001b[38;5;66;03m# future.  Also okay if that already exists, so we use sync.\u001b[39;00m\n\u001b[0;32m--> 225\u001b[0m \u001b[38;5;28;43mself\u001b[39;49m\u001b[38;5;241;43m.\u001b[39;49m\u001b[43m_db\u001b[49m\u001b[38;5;241;43m.\u001b[39;49m\u001b[43msync\u001b[49m\u001b[43m(\u001b[49m\u001b[38;5;28;43mself\u001b[39;49m\u001b[38;5;241;43m.\u001b[39;49m\u001b[43m_metaTable\u001b[49m\u001b[43m,\u001b[49m\u001b[43m \u001b[49m\u001b[43mkeys\u001b[49m\u001b[38;5;241;43m=\u001b[39;49m\u001b[43m{\u001b[49m\u001b[38;5;124;43m\"\u001b[39;49m\u001b[38;5;124;43mtable_name\u001b[39;49m\u001b[38;5;124;43m\"\u001b[39;49m\u001b[43m:\u001b[49m\u001b[43m \u001b[49m\u001b[43mname\u001b[49m\u001b[43m}\u001b[49m\u001b[43m)\u001b[49m\n\u001b[1;32m    226\u001b[0m \u001b[38;5;28mself\u001b[39m\u001b[38;5;241m.\u001b[39m_tables\u001b[38;5;241m.\u001b[39mset_or_get(name, table)\n\u001b[1;32m    227\u001b[0m result \u001b[38;5;241m=\u001b[39m \u001b[38;5;28mself\u001b[39m\u001b[38;5;241m.\u001b[39mget(name)\n",
      "File \u001b[0;32m/opt/lsst/software/stack/stack/miniconda3-py38_4.9.2-8.0.0/Linux64/daf_butler/g6af44e7a1a+043fa2f30f/python/lsst/daf/butler/registry/interfaces/_database.py:1427\u001b[0m, in \u001b[0;36mDatabase.sync\u001b[0;34m(self, table, keys, compared, extra, returning, update)\u001b[0m\n\u001b[1;32m   1425\u001b[0m     row\u001b[38;5;241m.\u001b[39mupdate(extra)\n\u001b[1;32m   1426\u001b[0m \u001b[38;5;28;01mwith\u001b[39;00m \u001b[38;5;28mself\u001b[39m\u001b[38;5;241m.\u001b[39mtransaction():\n\u001b[0;32m-> 1427\u001b[0m     inserted \u001b[38;5;241m=\u001b[39m \u001b[38;5;28mbool\u001b[39m(\u001b[38;5;28;43mself\u001b[39;49m\u001b[38;5;241;43m.\u001b[39;49m\u001b[43mensure\u001b[49m\u001b[43m(\u001b[49m\u001b[43mtable\u001b[49m\u001b[43m,\u001b[49m\u001b[43m \u001b[49m\u001b[43mrow\u001b[49m\u001b[43m)\u001b[49m)\n\u001b[1;32m   1428\u001b[0m     inserted_or_updated: \u001b[38;5;28mbool\u001b[39m \u001b[38;5;241m|\u001b[39m \u001b[38;5;28mdict\u001b[39m[\u001b[38;5;28mstr\u001b[39m, Any]\n\u001b[1;32m   1429\u001b[0m     \u001b[38;5;66;03m# Need to perform check() for this branch inside the\u001b[39;00m\n\u001b[1;32m   1430\u001b[0m     \u001b[38;5;66;03m# transaction, so we roll back an insert that didn't do\u001b[39;00m\n\u001b[1;32m   1431\u001b[0m     \u001b[38;5;66;03m# what we expected.  That limits the extent to which we\u001b[39;00m\n\u001b[1;32m   1432\u001b[0m     \u001b[38;5;66;03m# can reduce duplication between this block and the other\u001b[39;00m\n\u001b[1;32m   1433\u001b[0m     \u001b[38;5;66;03m# ones that perform similar logic.\u001b[39;00m\n",
      "File \u001b[0;32m/opt/lsst/software/stack/stack/miniconda3-py38_4.9.2-8.0.0/Linux64/daf_butler/g6af44e7a1a+043fa2f30f/python/lsst/daf/butler/registry/databases/postgresql.py:313\u001b[0m, in \u001b[0;36mPostgresqlDatabase.ensure\u001b[0;34m(self, table, primary_key_only, *rows)\u001b[0m\n\u001b[1;32m    311\u001b[0m     query \u001b[38;5;241m=\u001b[39m base_insert\u001b[38;5;241m.\u001b[39mon_conflict_do_nothing()\n\u001b[1;32m    312\u001b[0m \u001b[38;5;28;01mwith\u001b[39;00m \u001b[38;5;28mself\u001b[39m\u001b[38;5;241m.\u001b[39m_transaction() \u001b[38;5;28;01mas\u001b[39;00m (_, connection):\n\u001b[0;32m--> 313\u001b[0m     \u001b[38;5;28;01mreturn\u001b[39;00m \u001b[43mconnection\u001b[49m\u001b[38;5;241;43m.\u001b[39;49m\u001b[43mexecute\u001b[49m\u001b[43m(\u001b[49m\u001b[43mquery\u001b[49m\u001b[43m,\u001b[49m\u001b[43m \u001b[49m\u001b[43mrows\u001b[49m\u001b[43m)\u001b[49m\u001b[38;5;241m.\u001b[39mrowcount\n",
      "File \u001b[0;32m/opt/lsst/software/stack/conda/miniconda3-py38_4.9.2/envs/lsst-scipipe-8.0.0/lib/python3.11/site-packages/sqlalchemy/engine/base.py:1416\u001b[0m, in \u001b[0;36mConnection.execute\u001b[0;34m(self, statement, parameters, execution_options)\u001b[0m\n\u001b[1;32m   1414\u001b[0m     \u001b[38;5;28;01mraise\u001b[39;00m exc\u001b[38;5;241m.\u001b[39mObjectNotExecutableError(statement) \u001b[38;5;28;01mfrom\u001b[39;00m \u001b[38;5;21;01merr\u001b[39;00m\n\u001b[1;32m   1415\u001b[0m \u001b[38;5;28;01melse\u001b[39;00m:\n\u001b[0;32m-> 1416\u001b[0m     \u001b[38;5;28;01mreturn\u001b[39;00m \u001b[43mmeth\u001b[49m\u001b[43m(\u001b[49m\n\u001b[1;32m   1417\u001b[0m \u001b[43m        \u001b[49m\u001b[38;5;28;43mself\u001b[39;49m\u001b[43m,\u001b[49m\n\u001b[1;32m   1418\u001b[0m \u001b[43m        \u001b[49m\u001b[43mdistilled_parameters\u001b[49m\u001b[43m,\u001b[49m\n\u001b[1;32m   1419\u001b[0m \u001b[43m        \u001b[49m\u001b[43mexecution_options\u001b[49m\u001b[43m \u001b[49m\u001b[38;5;129;43;01mor\u001b[39;49;00m\u001b[43m \u001b[49m\u001b[43mNO_OPTIONS\u001b[49m\u001b[43m,\u001b[49m\n\u001b[1;32m   1420\u001b[0m \u001b[43m    \u001b[49m\u001b[43m)\u001b[49m\n",
      "File \u001b[0;32m/opt/lsst/software/stack/conda/miniconda3-py38_4.9.2/envs/lsst-scipipe-8.0.0/lib/python3.11/site-packages/sqlalchemy/sql/elements.py:516\u001b[0m, in \u001b[0;36mClauseElement._execute_on_connection\u001b[0;34m(self, connection, distilled_params, execution_options)\u001b[0m\n\u001b[1;32m    514\u001b[0m     \u001b[38;5;28;01mif\u001b[39;00m TYPE_CHECKING:\n\u001b[1;32m    515\u001b[0m         \u001b[38;5;28;01massert\u001b[39;00m \u001b[38;5;28misinstance\u001b[39m(\u001b[38;5;28mself\u001b[39m, Executable)\n\u001b[0;32m--> 516\u001b[0m     \u001b[38;5;28;01mreturn\u001b[39;00m \u001b[43mconnection\u001b[49m\u001b[38;5;241;43m.\u001b[39;49m\u001b[43m_execute_clauseelement\u001b[49m\u001b[43m(\u001b[49m\n\u001b[1;32m    517\u001b[0m \u001b[43m        \u001b[49m\u001b[38;5;28;43mself\u001b[39;49m\u001b[43m,\u001b[49m\u001b[43m \u001b[49m\u001b[43mdistilled_params\u001b[49m\u001b[43m,\u001b[49m\u001b[43m \u001b[49m\u001b[43mexecution_options\u001b[49m\n\u001b[1;32m    518\u001b[0m \u001b[43m    \u001b[49m\u001b[43m)\u001b[49m\n\u001b[1;32m    519\u001b[0m \u001b[38;5;28;01melse\u001b[39;00m:\n\u001b[1;32m    520\u001b[0m     \u001b[38;5;28;01mraise\u001b[39;00m exc\u001b[38;5;241m.\u001b[39mObjectNotExecutableError(\u001b[38;5;28mself\u001b[39m)\n",
      "File \u001b[0;32m/opt/lsst/software/stack/conda/miniconda3-py38_4.9.2/envs/lsst-scipipe-8.0.0/lib/python3.11/site-packages/sqlalchemy/engine/base.py:1639\u001b[0m, in \u001b[0;36mConnection._execute_clauseelement\u001b[0;34m(self, elem, distilled_parameters, execution_options)\u001b[0m\n\u001b[1;32m   1627\u001b[0m compiled_cache: Optional[CompiledCacheType] \u001b[38;5;241m=\u001b[39m execution_options\u001b[38;5;241m.\u001b[39mget(\n\u001b[1;32m   1628\u001b[0m     \u001b[38;5;124m\"\u001b[39m\u001b[38;5;124mcompiled_cache\u001b[39m\u001b[38;5;124m\"\u001b[39m, \u001b[38;5;28mself\u001b[39m\u001b[38;5;241m.\u001b[39mengine\u001b[38;5;241m.\u001b[39m_compiled_cache\n\u001b[1;32m   1629\u001b[0m )\n\u001b[1;32m   1631\u001b[0m compiled_sql, extracted_params, cache_hit \u001b[38;5;241m=\u001b[39m elem\u001b[38;5;241m.\u001b[39m_compile_w_cache(\n\u001b[1;32m   1632\u001b[0m     dialect\u001b[38;5;241m=\u001b[39mdialect,\n\u001b[1;32m   1633\u001b[0m     compiled_cache\u001b[38;5;241m=\u001b[39mcompiled_cache,\n\u001b[0;32m   (...)\u001b[0m\n\u001b[1;32m   1637\u001b[0m     linting\u001b[38;5;241m=\u001b[39m\u001b[38;5;28mself\u001b[39m\u001b[38;5;241m.\u001b[39mdialect\u001b[38;5;241m.\u001b[39mcompiler_linting \u001b[38;5;241m|\u001b[39m compiler\u001b[38;5;241m.\u001b[39mWARN_LINTING,\n\u001b[1;32m   1638\u001b[0m )\n\u001b[0;32m-> 1639\u001b[0m ret \u001b[38;5;241m=\u001b[39m \u001b[38;5;28;43mself\u001b[39;49m\u001b[38;5;241;43m.\u001b[39;49m\u001b[43m_execute_context\u001b[49m\u001b[43m(\u001b[49m\n\u001b[1;32m   1640\u001b[0m \u001b[43m    \u001b[49m\u001b[43mdialect\u001b[49m\u001b[43m,\u001b[49m\n\u001b[1;32m   1641\u001b[0m \u001b[43m    \u001b[49m\u001b[43mdialect\u001b[49m\u001b[38;5;241;43m.\u001b[39;49m\u001b[43mexecution_ctx_cls\u001b[49m\u001b[38;5;241;43m.\u001b[39;49m\u001b[43m_init_compiled\u001b[49m\u001b[43m,\u001b[49m\n\u001b[1;32m   1642\u001b[0m \u001b[43m    \u001b[49m\u001b[43mcompiled_sql\u001b[49m\u001b[43m,\u001b[49m\n\u001b[1;32m   1643\u001b[0m \u001b[43m    \u001b[49m\u001b[43mdistilled_parameters\u001b[49m\u001b[43m,\u001b[49m\n\u001b[1;32m   1644\u001b[0m \u001b[43m    \u001b[49m\u001b[43mexecution_options\u001b[49m\u001b[43m,\u001b[49m\n\u001b[1;32m   1645\u001b[0m \u001b[43m    \u001b[49m\u001b[43mcompiled_sql\u001b[49m\u001b[43m,\u001b[49m\n\u001b[1;32m   1646\u001b[0m \u001b[43m    \u001b[49m\u001b[43mdistilled_parameters\u001b[49m\u001b[43m,\u001b[49m\n\u001b[1;32m   1647\u001b[0m \u001b[43m    \u001b[49m\u001b[43melem\u001b[49m\u001b[43m,\u001b[49m\n\u001b[1;32m   1648\u001b[0m \u001b[43m    \u001b[49m\u001b[43mextracted_params\u001b[49m\u001b[43m,\u001b[49m\n\u001b[1;32m   1649\u001b[0m \u001b[43m    \u001b[49m\u001b[43mcache_hit\u001b[49m\u001b[38;5;241;43m=\u001b[39;49m\u001b[43mcache_hit\u001b[49m\u001b[43m,\u001b[49m\n\u001b[1;32m   1650\u001b[0m \u001b[43m\u001b[49m\u001b[43m)\u001b[49m\n\u001b[1;32m   1651\u001b[0m \u001b[38;5;28;01mif\u001b[39;00m has_events:\n\u001b[1;32m   1652\u001b[0m     \u001b[38;5;28mself\u001b[39m\u001b[38;5;241m.\u001b[39mdispatch\u001b[38;5;241m.\u001b[39mafter_execute(\n\u001b[1;32m   1653\u001b[0m         \u001b[38;5;28mself\u001b[39m,\n\u001b[1;32m   1654\u001b[0m         elem,\n\u001b[0;32m   (...)\u001b[0m\n\u001b[1;32m   1658\u001b[0m         ret,\n\u001b[1;32m   1659\u001b[0m     )\n",
      "File \u001b[0;32m/opt/lsst/software/stack/conda/miniconda3-py38_4.9.2/envs/lsst-scipipe-8.0.0/lib/python3.11/site-packages/sqlalchemy/engine/base.py:1848\u001b[0m, in \u001b[0;36mConnection._execute_context\u001b[0;34m(self, dialect, constructor, statement, parameters, execution_options, *args, **kw)\u001b[0m\n\u001b[1;32m   1843\u001b[0m     \u001b[38;5;28;01mreturn\u001b[39;00m \u001b[38;5;28mself\u001b[39m\u001b[38;5;241m.\u001b[39m_exec_insertmany_context(\n\u001b[1;32m   1844\u001b[0m         dialect,\n\u001b[1;32m   1845\u001b[0m         context,\n\u001b[1;32m   1846\u001b[0m     )\n\u001b[1;32m   1847\u001b[0m \u001b[38;5;28;01melse\u001b[39;00m:\n\u001b[0;32m-> 1848\u001b[0m     \u001b[38;5;28;01mreturn\u001b[39;00m \u001b[38;5;28;43mself\u001b[39;49m\u001b[38;5;241;43m.\u001b[39;49m\u001b[43m_exec_single_context\u001b[49m\u001b[43m(\u001b[49m\n\u001b[1;32m   1849\u001b[0m \u001b[43m        \u001b[49m\u001b[43mdialect\u001b[49m\u001b[43m,\u001b[49m\u001b[43m \u001b[49m\u001b[43mcontext\u001b[49m\u001b[43m,\u001b[49m\u001b[43m \u001b[49m\u001b[43mstatement\u001b[49m\u001b[43m,\u001b[49m\u001b[43m \u001b[49m\u001b[43mparameters\u001b[49m\n\u001b[1;32m   1850\u001b[0m \u001b[43m    \u001b[49m\u001b[43m)\u001b[49m\n",
      "File \u001b[0;32m/opt/lsst/software/stack/conda/miniconda3-py38_4.9.2/envs/lsst-scipipe-8.0.0/lib/python3.11/site-packages/sqlalchemy/engine/base.py:1988\u001b[0m, in \u001b[0;36mConnection._exec_single_context\u001b[0;34m(self, dialect, context, statement, parameters)\u001b[0m\n\u001b[1;32m   1985\u001b[0m     result \u001b[38;5;241m=\u001b[39m context\u001b[38;5;241m.\u001b[39m_setup_result_proxy()\n\u001b[1;32m   1987\u001b[0m \u001b[38;5;28;01mexcept\u001b[39;00m \u001b[38;5;167;01mBaseException\u001b[39;00m \u001b[38;5;28;01mas\u001b[39;00m e:\n\u001b[0;32m-> 1988\u001b[0m     \u001b[38;5;28;43mself\u001b[39;49m\u001b[38;5;241;43m.\u001b[39;49m\u001b[43m_handle_dbapi_exception\u001b[49m\u001b[43m(\u001b[49m\n\u001b[1;32m   1989\u001b[0m \u001b[43m        \u001b[49m\u001b[43me\u001b[49m\u001b[43m,\u001b[49m\u001b[43m \u001b[49m\u001b[43mstr_statement\u001b[49m\u001b[43m,\u001b[49m\u001b[43m \u001b[49m\u001b[43meffective_parameters\u001b[49m\u001b[43m,\u001b[49m\u001b[43m \u001b[49m\u001b[43mcursor\u001b[49m\u001b[43m,\u001b[49m\u001b[43m \u001b[49m\u001b[43mcontext\u001b[49m\n\u001b[1;32m   1990\u001b[0m \u001b[43m    \u001b[49m\u001b[43m)\u001b[49m\n\u001b[1;32m   1992\u001b[0m \u001b[38;5;28;01mreturn\u001b[39;00m result\n",
      "File \u001b[0;32m/opt/lsst/software/stack/conda/miniconda3-py38_4.9.2/envs/lsst-scipipe-8.0.0/lib/python3.11/site-packages/sqlalchemy/engine/base.py:2343\u001b[0m, in \u001b[0;36mConnection._handle_dbapi_exception\u001b[0;34m(self, e, statement, parameters, cursor, context, is_sub_exec)\u001b[0m\n\u001b[1;32m   2341\u001b[0m \u001b[38;5;28;01melif\u001b[39;00m should_wrap:\n\u001b[1;32m   2342\u001b[0m     \u001b[38;5;28;01massert\u001b[39;00m sqlalchemy_exception \u001b[38;5;129;01mis\u001b[39;00m \u001b[38;5;129;01mnot\u001b[39;00m \u001b[38;5;28;01mNone\u001b[39;00m\n\u001b[0;32m-> 2343\u001b[0m     \u001b[38;5;28;01mraise\u001b[39;00m sqlalchemy_exception\u001b[38;5;241m.\u001b[39mwith_traceback(exc_info[\u001b[38;5;241m2\u001b[39m]) \u001b[38;5;28;01mfrom\u001b[39;00m \u001b[38;5;21;01me\u001b[39;00m\n\u001b[1;32m   2344\u001b[0m \u001b[38;5;28;01melse\u001b[39;00m:\n\u001b[1;32m   2345\u001b[0m     \u001b[38;5;28;01massert\u001b[39;00m exc_info[\u001b[38;5;241m1\u001b[39m] \u001b[38;5;129;01mis\u001b[39;00m \u001b[38;5;129;01mnot\u001b[39;00m \u001b[38;5;28;01mNone\u001b[39;00m\n",
      "File \u001b[0;32m/opt/lsst/software/stack/conda/miniconda3-py38_4.9.2/envs/lsst-scipipe-8.0.0/lib/python3.11/site-packages/sqlalchemy/engine/base.py:1969\u001b[0m, in \u001b[0;36mConnection._exec_single_context\u001b[0;34m(self, dialect, context, statement, parameters)\u001b[0m\n\u001b[1;32m   1967\u001b[0m                 \u001b[38;5;28;01mbreak\u001b[39;00m\n\u001b[1;32m   1968\u001b[0m     \u001b[38;5;28;01mif\u001b[39;00m \u001b[38;5;129;01mnot\u001b[39;00m evt_handled:\n\u001b[0;32m-> 1969\u001b[0m         \u001b[38;5;28;43mself\u001b[39;49m\u001b[38;5;241;43m.\u001b[39;49m\u001b[43mdialect\u001b[49m\u001b[38;5;241;43m.\u001b[39;49m\u001b[43mdo_execute\u001b[49m\u001b[43m(\u001b[49m\n\u001b[1;32m   1970\u001b[0m \u001b[43m            \u001b[49m\u001b[43mcursor\u001b[49m\u001b[43m,\u001b[49m\u001b[43m \u001b[49m\u001b[43mstr_statement\u001b[49m\u001b[43m,\u001b[49m\u001b[43m \u001b[49m\u001b[43meffective_parameters\u001b[49m\u001b[43m,\u001b[49m\u001b[43m \u001b[49m\u001b[43mcontext\u001b[49m\n\u001b[1;32m   1971\u001b[0m \u001b[43m        \u001b[49m\u001b[43m)\u001b[49m\n\u001b[1;32m   1973\u001b[0m \u001b[38;5;28;01mif\u001b[39;00m \u001b[38;5;28mself\u001b[39m\u001b[38;5;241m.\u001b[39m_has_events \u001b[38;5;129;01mor\u001b[39;00m \u001b[38;5;28mself\u001b[39m\u001b[38;5;241m.\u001b[39mengine\u001b[38;5;241m.\u001b[39m_has_events:\n\u001b[1;32m   1974\u001b[0m     \u001b[38;5;28mself\u001b[39m\u001b[38;5;241m.\u001b[39mdispatch\u001b[38;5;241m.\u001b[39mafter_cursor_execute(\n\u001b[1;32m   1975\u001b[0m         \u001b[38;5;28mself\u001b[39m,\n\u001b[1;32m   1976\u001b[0m         cursor,\n\u001b[0;32m   (...)\u001b[0m\n\u001b[1;32m   1980\u001b[0m         context\u001b[38;5;241m.\u001b[39mexecutemany,\n\u001b[1;32m   1981\u001b[0m     )\n",
      "File \u001b[0;32m/opt/lsst/software/stack/conda/miniconda3-py38_4.9.2/envs/lsst-scipipe-8.0.0/lib/python3.11/site-packages/sqlalchemy/engine/default.py:922\u001b[0m, in \u001b[0;36mDefaultDialect.do_execute\u001b[0;34m(self, cursor, statement, parameters, context)\u001b[0m\n\u001b[1;32m    921\u001b[0m \u001b[38;5;28;01mdef\u001b[39;00m \u001b[38;5;21mdo_execute\u001b[39m(\u001b[38;5;28mself\u001b[39m, cursor, statement, parameters, context\u001b[38;5;241m=\u001b[39m\u001b[38;5;28;01mNone\u001b[39;00m):\n\u001b[0;32m--> 922\u001b[0m     \u001b[43mcursor\u001b[49m\u001b[38;5;241;43m.\u001b[39;49m\u001b[43mexecute\u001b[49m\u001b[43m(\u001b[49m\u001b[43mstatement\u001b[49m\u001b[43m,\u001b[49m\u001b[43m \u001b[49m\u001b[43mparameters\u001b[49m\u001b[43m)\u001b[49m\n",
      "\u001b[0;31mProgrammingError\u001b[0m: (psycopg2.errors.InsufficientPrivilege) permission denied for table opaque_meta\n\n[SQL: INSERT INTO dp02.opaque_meta (table_name) VALUES (%(table_name)s) ON CONFLICT DO NOTHING]\n[parameters: {'table_name': 'file_datastore_records'}]\n(Background on this error at: https://sqlalche.me/e/20/f405)"
     ]
    }
   ],
   "source": [
    "# Get username.\n",
    "user = os.getenv(\"USER\")\n",
    "\n",
    "INJECTION_CATALOG_COLLECTION = f\"u/{user}/test_injection_inputs\"\n",
    "\n",
    "# Instantiate a writeable butler.\n",
    "writeable_butler = Butler(butler_config, writeable=True)"
   ]
  },
  {
   "cell_type": "markdown",
   "id": "a8e3bbf6-d136-44b2-bd3b-8b243020acd8",
   "metadata": {},
   "source": [
    "Now ingest the catalog of synthetic sources into the butler collection using the `ingest_injection_catalog` function:"
   ]
  },
  {
   "cell_type": "code",
   "execution_count": null,
   "id": "318fcb42-963c-4777-adeb-661cf7774194",
   "metadata": {
    "execution": {
     "iopub.status.busy": "2024-04-29T14:32:06.928139Z",
     "iopub.status.idle": "2024-04-29T14:32:06.928911Z",
     "shell.execute_reply": "2024-04-29T14:32:06.928788Z",
     "shell.execute_reply.started": "2024-04-29T14:32:06.928777Z"
    }
   },
   "outputs": [],
   "source": [
    "try:\n",
    "    my_injected_datasetRefs = ingest_injection_catalog(\n",
    "        writeable_butler=writeable_butler,\n",
    "        table=inject_cat,\n",
    "        band=\"g\",\n",
    "        output_collection=INJECTION_CATALOG_COLLECTION,\n",
    "    )\n",
    "except ConflictingDefinitionError:\n",
    "    print(f\"Found an existing collection named INJECTION_CATALOG_COLLECTION={INJECTION_CATALOG_COLLECTION}.\")\n",
    "    print(\"\\nNOTE THAT IF YOU SEE THIS MESSAGE, YOUR CATALOG WAS NOT INGESTED.\"\\\n",
    "          \"\\nYou may either continue with the pre-existing catalog, or choose a new\"\\\n",
    "          \" name and re-run the previous cell and this one to ingest a new catalog.\")"
   ]
  },
  {
   "cell_type": "markdown",
   "id": "02faa0d1-dd40-4522-9812-6ec90485157e",
   "metadata": {},
   "source": [
    "## 4. Inject sources into a calexp image\n",
    "\n",
    "### 4.1 Use source_injection tools to inject sources\n",
    "\n",
    "The catalog specifying synthetic sources has been ingested into the butler. Now run the task from `source_injection` that injects sources into the `calexp` image that was retrieved earlier.\n",
    "\n",
    "First, extract the point spread function (PSF), photometric calibration object, and the WCS (World Coordinate System) object associated with the `calexp` image. These will be passed to the injection task so that sources can be injected using the properties of the image itself."
   ]
  },
  {
   "cell_type": "code",
   "execution_count": null,
   "id": "bbcabdf1-aa2f-49ca-b686-b2e321832fb7",
   "metadata": {
    "execution": {
     "iopub.status.busy": "2024-04-29T14:32:06.929733Z",
     "iopub.status.idle": "2024-04-29T14:32:06.929965Z",
     "shell.execute_reply": "2024-04-29T14:32:06.929864Z",
     "shell.execute_reply.started": "2024-04-29T14:32:06.929854Z"
    }
   },
   "outputs": [],
   "source": [
    "psf = calexp_g.getPsf()\n",
    "photo_calib = calexp_g.getPhotoCalib()\n",
    "wcs = calexp_g.getWcs()"
   ]
  },
  {
   "cell_type": "markdown",
   "id": "4448cfb6-7444-44c1-90bc-d2bdabc2983f",
   "metadata": {},
   "source": [
    "Load the input injection catalogs that were ingested into the butler in the previous step."
   ]
  },
  {
   "cell_type": "code",
   "execution_count": null,
   "id": "c39a1cf2-b95e-4627-9907-0c0ed6d609b5",
   "metadata": {
    "execution": {
     "iopub.status.busy": "2024-04-29T14:32:06.931218Z",
     "iopub.status.idle": "2024-04-29T14:32:06.931454Z",
     "shell.execute_reply": "2024-04-29T14:32:06.931345Z",
     "shell.execute_reply.started": "2024-04-29T14:32:06.931335Z"
    }
   },
   "outputs": [],
   "source": [
    "# Load input injection catalogs.\n",
    "injection_refs = butler.registry.queryDatasets(\n",
    "    \"injection_catalog\",\n",
    "    band=\"g\",\n",
    "    collections=INJECTION_CATALOG_COLLECTION,\n",
    ")\n",
    "injection_catalogs = [\n",
    "    butler.get(injection_ref) for injection_ref in injection_refs\n",
    "]"
   ]
  },
  {
   "cell_type": "markdown",
   "id": "435f4b84-f7ce-4262-9b50-9d1afbefa94b",
   "metadata": {},
   "source": [
    "### 4.2 Instantiate the injection classes\n",
    "\n",
    "First, instantiate the `VisitInjectConfig` class. The `VisitInjectConfig` class is where configuration of the injection task occurs, allowing for modifications to be made to how the task operates. Here, change the \"stamp_prefix\" configuration option to \"data/\" so that `source_injection` knows to look for the image in the `data/` folder.\n",
    "\n",
    "Then instantiate the `VisitInjectTask`, using `inject_config` as the configuration argument.\n",
    "\n",
    "NOTE: For injections into other dataset types, use the appropriate option from the following list:\n",
    "```\n",
    "from lsst.source.injection import CoaddInjectConfig, CoaddInjectTask\n",
    "from lsst.source.injection import ExposureInjectConfig, ExposureInjectTask\n",
    "from lsst.source.injection import VisitInjectConfig, VisitInjectTask\n",
    "```\n",
    "Both `ExposureInject` and `VisitInject` accept dimensions of `(\"instrument\", \"visit\", \"detector\")`. They differ in that `ExposureInject` takes a `postISRCCD` exposure (i.e., a raw image that has had \"instrument signature removal,\" or ISR, applied, and no further processing) as an input, while `VisitInject` expects to operate on a `calexp` (an image that has been astrometrically and photometrically calibrated to an external source)."
   ]
  },
  {
   "cell_type": "code",
   "execution_count": null,
   "id": "7c64c1e6-02ca-41c5-8d52-f416352d8b7e",
   "metadata": {
    "execution": {
     "iopub.status.busy": "2024-04-29T14:32:06.932177Z",
     "iopub.status.idle": "2024-04-29T14:32:06.932411Z",
     "shell.execute_reply": "2024-04-29T14:32:06.932302Z",
     "shell.execute_reply.started": "2024-04-29T14:32:06.932292Z"
    }
   },
   "outputs": [],
   "source": [
    "inject_config = VisitInjectConfig()\n",
    "inject_config.stamp_prefix='data/'\n",
    "\n",
    "inject_task = VisitInjectTask(config=inject_config)"
   ]
  },
  {
   "cell_type": "markdown",
   "id": "115d7b80-d060-499a-8f63-ce733fc63b6b",
   "metadata": {},
   "source": [
    "### 4.3 Inject sources into an image\n",
    "\n",
    "Next, execute the `run` method of the `inject_task`.\n",
    "\n",
    "The `run` method needs the following inputs:\n",
    "\n",
    "* the input injection catalog\n",
    "* the input `calexp`\n",
    "* the PSF of the input exposure\n",
    "* the WCS information\n",
    "* the photometric calibration information\n",
    "\n",
    "The PSF, WCS, and photo_calib inputs were already retrieved directly from the `calexp` they are associated with.\n",
    "\n",
    "The inject task provides two outputs:\n",
    "\n",
    "* the output exposure with sources injected\n",
    "* the output source injection catalog\n",
    "\n",
    "The output source injection catalog is identical to the input, but with two additional columns (x and y) denoting the pixel coordinates of these sources. Note that this catalog is NOT the science catalog containing the full suite of LSST Science Pipelines outputs. To get that, this source injected image will need to be processed by additional Science Pipelines tasks.\n",
    "\n",
    "> Note: it is best to use a clone of the input `calexp`. This is because the `calexp` that is input for source injection will be edited in-place. Inputting a clone makes it possible to compare the output image to the original `calexp` later in this notebook.\n",
    "\n",
    "#### 4.3.1 Run the source injection task\n",
    "Run the source injection task and extract the \"output_exposure\" and \"output_catalog\":"
   ]
  },
  {
   "cell_type": "code",
   "execution_count": null,
   "id": "2da88cf6-bfda-4b3f-ad37-932ab896f7ab",
   "metadata": {
    "execution": {
     "iopub.status.busy": "2024-04-29T14:32:06.933372Z",
     "iopub.status.idle": "2024-04-29T14:32:06.933588Z",
     "shell.execute_reply": "2024-04-29T14:32:06.933491Z",
     "shell.execute_reply.started": "2024-04-29T14:32:06.933482Z"
    }
   },
   "outputs": [],
   "source": [
    "injected_output = inject_task.run(\n",
    "    injection_catalogs=injection_catalogs,\n",
    "    input_exposure=calexp_g.clone(),\n",
    "    psf=psf,\n",
    "    photo_calib=photo_calib,\n",
    "    wcs=wcs,\n",
    ")\n",
    "injected_exposure = injected_output.output_exposure\n",
    "injected_catalog = injected_output.output_catalog"
   ]
  },
  {
   "cell_type": "markdown",
   "id": "0f6029cf-fbee-4b54-a74c-2738bfd46797",
   "metadata": {},
   "source": [
    "#### 4.3.2 Compare the images before and after injection\n",
    "\n",
    "Plot the images side-by-side to confirm that the source injection task successfully added sources to the image.\n",
    "\n",
    "Note that the injected image will have different flux values than the original, which would cause the image scaling of the two images to be slightly different by default (to confirm this, uncomment the \"display0.scale('linear', 'zscale')\" lines below and comment out the lines below them that explicitly set the min/max values). For a direct comparison, explicitly set the minimum and maximum pixel values of the color scale.\n",
    "\n",
    "Additionally, to zoom in on the injected postage stamp to see how it looks in the image, uncomment the line below where it says \"To zoom on the PGC 038749 stamp:\"."
   ]
  },
  {
   "cell_type": "code",
   "execution_count": null,
   "id": "0e96452d-b815-4355-8de8-22983d216804",
   "metadata": {
    "execution": {
     "iopub.status.busy": "2024-04-29T14:32:06.934572Z",
     "iopub.status.idle": "2024-04-29T14:32:06.934833Z",
     "shell.execute_reply": "2024-04-29T14:32:06.934701Z",
     "shell.execute_reply.started": "2024-04-29T14:32:06.934692Z"
    }
   },
   "outputs": [],
   "source": [
    "plot_injected_calexp = injected_exposure.clone()\n",
    "\n",
    "fig, ax = plt.subplots(1, 2, figsize=(10, 6), dpi=150)\n",
    "\n",
    "plt.sca(ax[0])\n",
    "display0 = afwDisplay.Display(frame=fig)\n",
    "# display0.scale('linear', 'zscale')\n",
    "display0.scale('linear', min=-20, max=150)\n",
    "display0.mtv(calexp_g.image)\n",
    "plt.title('calexp image')\n",
    "\n",
    "plt.sca(ax[1])\n",
    "display1 = afwDisplay.Display(frame=fig)\n",
    "# display1.scale('linear', 'zscale')\n",
    "display1.scale('linear', min=-20, max=150)\n",
    "display1.mtv(plot_injected_calexp.image)\n",
    "# To zoom on the PGC 038749 stamp:\n",
    "# display1.mtv(plot_injected_calexp.image[3300:3800, 1500:2000])\n",
    "plt.title('injected_calexp image')\n",
    "\n",
    "plt.tight_layout()\n",
    "plt.show()"
   ]
  },
  {
   "cell_type": "markdown",
   "id": "b2a56083-87b6-4b4a-a2be-5f9373d0408b",
   "metadata": {},
   "source": [
    "### 4.4 Create a difference image to see the injected sources\n",
    "\n",
    "One reason for injecting sources into a `calexp` image might be to test whether they would be recovered in a difference image. This section demonstrates the use of an image differencing task from the LSST Science Pipelines to create a difference image.\n",
    "\n",
    "#### 4.4.1 Load the template image\n",
    "Template images are created as coadds of the images with the best seeing, and are called `goodSeeingDiff_templateExp`. Load the appropriate template corresponding to the `calexp` used throughout this notebook (note the use of the same dataId used to load the `calexp`)."
   ]
  },
  {
   "cell_type": "code",
   "execution_count": null,
   "id": "72da2718-71f0-4653-a7f4-228267be99a0",
   "metadata": {
    "execution": {
     "iopub.status.busy": "2024-04-29T14:32:06.936101Z",
     "iopub.status.idle": "2024-04-29T14:32:06.936338Z",
     "shell.execute_reply": "2024-04-29T14:32:06.936226Z",
     "shell.execute_reply.started": "2024-04-29T14:32:06.936216Z"
    }
   },
   "outputs": [],
   "source": [
    "difftemp = 'goodSeeingDiff_templateExp'\n",
    "templateExposure = butler.get(difftemp, dataId=dataId_g.required)"
   ]
  },
  {
   "cell_type": "markdown",
   "id": "3fc58a81-8230-49dc-926d-fae60a462f65",
   "metadata": {},
   "source": [
    "#### 4.4.2 Initialize and run the image subtraction task\n",
    "\n",
    "The first two lines below load the default configuration for the `AlardLuptonSubtract` task, and then initialize the task with that configuration. The task requires (1) a template exposure, (2) the science exposure, and (3) the catalog of sources from the science exposure.\n",
    "\n",
    "Load the source catalog (`src`) and run the task:"
   ]
  },
  {
   "cell_type": "code",
   "execution_count": null,
   "id": "03039124-03de-49b3-b998-e59ae1a74a7f",
   "metadata": {
    "execution": {
     "iopub.status.busy": "2024-04-29T14:32:06.937214Z",
     "iopub.status.idle": "2024-04-29T14:32:06.937446Z",
     "shell.execute_reply": "2024-04-29T14:32:06.937341Z",
     "shell.execute_reply.started": "2024-04-29T14:32:06.937332Z"
    }
   },
   "outputs": [],
   "source": [
    "config = AlardLuptonSubtractConfig()\n",
    "alTask = AlardLuptonSubtractTask(config=config)\n",
    "\n",
    "scienceExposure = injected_exposure\n",
    "\n",
    "sources = butler.get('src', dataId=dataId_g)\n",
    "result = alTask.run(templateExposure, scienceExposure, sources)"
   ]
  },
  {
   "cell_type": "markdown",
   "id": "e23e0b4d-4adf-4a62-8aa7-3118ad6ea248",
   "metadata": {},
   "source": [
    "#### 4.4.3 Compare the original and the difference image\n",
    "\n",
    "Plot the original `calexp`, the injected image, and the difference image side by side:"
   ]
  },
  {
   "cell_type": "code",
   "execution_count": null,
   "id": "d5958c29-554b-4497-a6df-e301f0856be5",
   "metadata": {
    "execution": {
     "iopub.status.busy": "2024-04-29T14:32:06.938139Z",
     "iopub.status.idle": "2024-04-29T14:32:06.938399Z",
     "shell.execute_reply": "2024-04-29T14:32:06.938271Z",
     "shell.execute_reply.started": "2024-04-29T14:32:06.938262Z"
    }
   },
   "outputs": [],
   "source": [
    "# Zoom in on an arbitrary section of the image.\n",
    "# Change these coordinates to see a different region.\n",
    "xmin, xmax = 500, 2000\n",
    "ymin, ymax = 1000, 2500\n",
    "\n",
    "fig, ax = plt.subplots(1, 3, figsize=(14, 11))\n",
    "plt.sca(ax[0])  # set the first axis as current\n",
    "display1 = afwDisplay.Display(frame=fig)\n",
    "display1.scale('linear', 'zscale')\n",
    "display1.mtv(calexp_g.image)\n",
    "plt.title('coadd image (template)')\n",
    "plt.xlim(xmin, xmax)\n",
    "plt.ylim(ymin, ymax)\n",
    "plt.sca(ax[1])  # set the second axis as current\n",
    "display2 = afwDisplay.Display(frame=fig)\n",
    "display2.scale('linear', 'zscale')\n",
    "display2.mtv(plot_injected_calexp.image)\n",
    "plt.title('calexp with synthetic sources')\n",
    "plt.xlim(xmin, xmax)\n",
    "plt.ylim(ymin, ymax)\n",
    "plt.sca(ax[2])  # set the third axis as current\n",
    "display3 = afwDisplay.Display(frame=fig)\n",
    "display3.scale('linear', 'zscale')\n",
    "display3.mtv(result.difference.image)\n",
    "plt.xlim(xmin, xmax)\n",
    "plt.ylim(ymin, ymax)\n",
    "plt.title('diffim')\n",
    "plt.tight_layout()\n",
    "plt.show()"
   ]
  },
  {
   "cell_type": "markdown",
   "id": "3d5af646-bb96-48c1-9343-8979f93fa40d",
   "metadata": {},
   "source": [
    "# 6. Exercises for the learner\n",
    "\n",
    "Further explorations could include:\n",
    "\n",
    "1.  Injecting sources into coadd images.\n",
    "2.  Exploring other types of objects that can be injected into images (i.e., other Galsim parameters for more complicated sources).\n",
    "3.  Injecting variable objects into multiple calexp images and testing their recoverability.\n",
    "4.  Running detection and measurement tasks from the LSST Science Pipelines to test the recovery and measurement accuracy of injected sources (e.g., following DP0.2 tutorial [Notebook 05: Introduction to Source Detection](https://github.com/rubin-dp0/tutorial-notebooks/blob/main/DP02_05_Introduction_to_Source_Detection.ipynb))."
   ]
  }
 ],
 "metadata": {
  "kernelspec": {
   "display_name": "LSST",
   "language": "python",
   "name": "lsst"
  },
  "language_info": {
   "codemirror_mode": {
    "name": "ipython",
    "version": 3
   },
   "file_extension": ".py",
   "mimetype": "text/x-python",
   "name": "python",
   "nbconvert_exporter": "python",
   "pygments_lexer": "ipython3",
   "version": "3.11.7"
  },
  "toc-autonumbering": false
 },
 "nbformat": 4,
 "nbformat_minor": 5
}
