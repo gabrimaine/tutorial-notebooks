{
 "cells": [
  {
   "cell_type": "markdown",
   "id": "749b0ddf",
   "metadata": {},
   "source": [
    "<img align=\"left\" src = https://project.lsst.org/sites/default/files/Rubin-O-Logo_0.png width=250 style=\"padding: 10px\"> \n",
    "<b>CET Template Notebook</b> <br>\n",
    "Contact author(s): <i>Author Name</i> <br>\n",
    "Last verified to run: <i>yyyy-mm-dd</i> <br>\n",
    "LSST Science Piplines version: Weekly <i>yyyy_xx</i> <br>\n",
    "Container Size: <i>medium</i> <br>\n",
    "Targeted learning level: <i>beginner</i> <br>"
   ]
  },
  {
   "cell_type": "markdown",
   "id": "2d9cd09b-d5c4-4610-993b-711bdc9bd80e",
   "metadata": {},
   "source": [
    "_In this template, text in italics are examples or instructions that should be: (a) removed if it is not applicable to the notebook; or (b) replaced with text that is appropriate for the notebook. But bold or regular text should appear pretty much as-is in all CET notebooks. For more information, see the [CET's Guidelines for Tutorial Notebooks](https://confluence.lsstcorp.org/pages/viewpage.action?pageId=168857070)._"
   ]
  },
  {
   "cell_type": "markdown",
   "id": "582ab507-a7ae-4024-95c9-38aabeb602a6",
   "metadata": {},
   "source": [
    "_While developing, use the following code cell to check that the code conforms to standards, but then delete the cell and \"Kernel --> Restart Kernel and Clear All Outputs\" before saving and committing._"
   ]
  },
  {
   "cell_type": "code",
   "execution_count": 1,
   "id": "7acc79a4-8530-42d9-96e5-b7acb4397864",
   "metadata": {
    "execution": {
     "iopub.execute_input": "2023-04-13T17:38:56.837624Z",
     "iopub.status.busy": "2023-04-13T17:38:56.837438Z",
     "iopub.status.idle": "2023-04-13T17:38:56.921577Z",
     "shell.execute_reply": "2023-04-13T17:38:56.920958Z",
     "shell.execute_reply.started": "2023-04-13T17:38:56.837606Z"
    }
   },
   "outputs": [],
   "source": [
    "%load_ext pycodestyle_magic\n",
    "%flake8_on\n",
    "import logging\n",
    "logging.getLogger(\"flake8\").setLevel(logging.FATAL)"
   ]
  },
  {
   "cell_type": "markdown",
   "id": "482777d8-0a8d-432e-ba53-2da536700407",
   "metadata": {},
   "source": [
    "_The six cells below are considered the extended header of the notebook. The first four will be used, verbatim, to create the table of notebook metadata in the README.md file for the repository._"
   ]
  },
  {
   "cell_type": "markdown",
   "id": "9da1a210-d858-42fe-8591-570965b8be1a",
   "metadata": {},
   "source": [
    "**Description:** _Very brief description of notebook._"
   ]
  },
  {
   "cell_type": "markdown",
   "id": "80a0baf5-51ad-40ec-8991-060a7b27c289",
   "metadata": {},
   "source": [
    "**Skills:** _Brief list of skills to match the README.md file for the repository._"
   ]
  },
  {
   "cell_type": "markdown",
   "id": "393da88f-7978-4920-aa4a-a9830df6eed9",
   "metadata": {},
   "source": [
    "**LSST Data Products:** _List the all of the types of LSST catalogs and images used._"
   ]
  },
  {
   "cell_type": "markdown",
   "id": "5c67fab9-136a-4adc-bb42-142b91ab69dd",
   "metadata": {},
   "source": [
    "**Packages:** _List the python packages used._ (_List the packages being taught first, e.g., afwDisplay for a notebook about displaying images. Then supporting packages, e.g., lsst.daf.butler for a notebook about displaying images. It is OK to leave out basic support packages like os or glob.)_"
   ]
  },
  {
   "cell_type": "markdown",
   "id": "8f72b27f",
   "metadata": {},
   "source": [
    "**Credit:**\n",
    "_E.g., \"Originally developed by\" or \"Based on notebooks developed by\" and then people's names, including journal article or software release citations if appropriate._\n",
    "Please consider acknowledging them if this notebook is used for the preparation of journal articles, software releases, or other notebooks."
   ]
  },
  {
   "cell_type": "markdown",
   "id": "28e91cbf-ab7f-4e26-9276-b00299d6065e",
   "metadata": {},
   "source": [
    "**Get Support:**\n",
    "Find DP0-related documentation and resources at <a href=\"https://dp0-2.lsst.io\">dp0-2.lsst.io</a>. Questions are welcome as new topics in the <a href=\"https://community.lsst.org/c/support/dp0\">Support - Data Preview 0 Category</a> of the Rubin Community Forum. Rubin staff will respond to all questions posted there."
   ]
  },
  {
   "cell_type": "markdown",
   "id": "cfc73be0",
   "metadata": {},
   "source": [
    "## 1. Introduction\n",
    "\n",
    "_Provide a light narrative about this notebook, e.g., \"This notebook will teach the user...\"._\n",
    "\n",
    "_Cite or link to any external information or documentation, and cross-reference to other notebooks._"
   ]
  },
  {
   "cell_type": "markdown",
   "id": "dc36f107",
   "metadata": {},
   "source": [
    "### 1.1 Package Imports\n",
    "\n",
    "_All package imports should be done in the first code cell._\n",
    "\n",
    "_Provide explanation or external links to package documentation, where appropriate._\n",
    "\n",
    "_E.g., Numpy is a fundamental package for scientific computing with arrays in Python (<a href=\"https://numpy.org\">numpy.org</a>)._\n",
    "\n",
    "_Use code cell comments to describe the packages being imported._"
   ]
  },
  {
   "cell_type": "code",
   "execution_count": 2,
   "id": "cddc1458",
   "metadata": {
    "execution": {
     "iopub.execute_input": "2023-04-13T17:38:56.924364Z",
     "iopub.status.busy": "2023-04-13T17:38:56.924109Z",
     "iopub.status.idle": "2023-04-13T17:39:03.815232Z",
     "shell.execute_reply": "2023-04-13T17:39:03.814624Z",
     "shell.execute_reply.started": "2023-04-13T17:38:56.924346Z"
    }
   },
   "outputs": [
    {
     "data": {
      "text/html": [
       "<pre style=\"margin: 0.1em;\n",
       "padding-left: 0.25em;\n",
       "border-left-style: solid;\n",
       "font-family: var(--jp-code-font-family);\n",
       "font-size: var(--jp-code-font-size);\n",
       "line-height: var(--jp-code-line-height);\n",
       "\"><span style=\"color: var(--jp-warn-color2)\">pycodestyle</span> <span style=\"color: var(--jp-info-color0)\">INFO</span>: 7:1: E402 module level import not at top of file</pre>"
      ],
      "text/plain": [
       "<IPython.core.display.HTML object>"
      ]
     },
     "metadata": {},
     "output_type": "display_data"
    },
    {
     "data": {
      "text/html": [
       "<pre style=\"margin: 0.1em;\n",
       "padding-left: 0.25em;\n",
       "border-left-style: solid;\n",
       "font-family: var(--jp-code-font-family);\n",
       "font-size: var(--jp-code-font-size);\n",
       "line-height: var(--jp-code-line-height);\n",
       "\"><span style=\"color: var(--jp-warn-color2)\">pycodestyle</span> <span style=\"color: var(--jp-info-color0)\">INFO</span>: 10:1: E402 module level import not at top of file</pre>"
      ],
      "text/plain": [
       "<IPython.core.display.HTML object>"
      ]
     },
     "metadata": {},
     "output_type": "display_data"
    },
    {
     "data": {
      "text/html": [
       "<pre style=\"margin: 0.1em;\n",
       "padding-left: 0.25em;\n",
       "border-left-style: solid;\n",
       "font-family: var(--jp-code-font-family);\n",
       "font-size: var(--jp-code-font-size);\n",
       "line-height: var(--jp-code-line-height);\n",
       "\"><span style=\"color: var(--jp-warn-color2)\">pycodestyle</span> <span style=\"color: var(--jp-info-color0)\">INFO</span>: 13:1: E402 module level import not at top of file</pre>"
      ],
      "text/plain": [
       "<IPython.core.display.HTML object>"
      ]
     },
     "metadata": {},
     "output_type": "display_data"
    },
    {
     "data": {
      "text/html": [
       "<pre style=\"margin: 0.1em;\n",
       "padding-left: 0.25em;\n",
       "border-left-style: solid;\n",
       "font-family: var(--jp-code-font-family);\n",
       "font-size: var(--jp-code-font-size);\n",
       "line-height: var(--jp-code-line-height);\n",
       "\"><span style=\"color: var(--jp-warn-color2)\">pycodestyle</span> <span style=\"color: var(--jp-info-color0)\">INFO</span>: 16:1: E402 module level import not at top of file</pre>"
      ],
      "text/plain": [
       "<IPython.core.display.HTML object>"
      ]
     },
     "metadata": {},
     "output_type": "display_data"
    },
    {
     "data": {
      "text/html": [
       "<pre style=\"margin: 0.1em;\n",
       "padding-left: 0.25em;\n",
       "border-left-style: solid;\n",
       "font-family: var(--jp-code-font-family);\n",
       "font-size: var(--jp-code-font-size);\n",
       "line-height: var(--jp-code-line-height);\n",
       "\"><span style=\"color: var(--jp-warn-color2)\">pycodestyle</span> <span style=\"color: var(--jp-info-color0)\">INFO</span>: 16:1: F811 redefinition of unused &#x27;np&#x27; from line 2</pre>"
      ],
      "text/plain": [
       "<IPython.core.display.HTML object>"
      ]
     },
     "metadata": {},
     "output_type": "display_data"
    },
    {
     "data": {
      "text/html": [
       "<pre style=\"margin: 0.1em;\n",
       "padding-left: 0.25em;\n",
       "border-left-style: solid;\n",
       "font-family: var(--jp-code-font-family);\n",
       "font-size: var(--jp-code-font-size);\n",
       "line-height: var(--jp-code-line-height);\n",
       "\"><span style=\"color: var(--jp-warn-color2)\">pycodestyle</span> <span style=\"color: var(--jp-info-color0)\">INFO</span>: 17:1: E402 module level import not at top of file</pre>"
      ],
      "text/plain": [
       "<IPython.core.display.HTML object>"
      ]
     },
     "metadata": {},
     "output_type": "display_data"
    },
    {
     "data": {
      "text/html": [
       "<pre style=\"margin: 0.1em;\n",
       "padding-left: 0.25em;\n",
       "border-left-style: solid;\n",
       "font-family: var(--jp-code-font-family);\n",
       "font-size: var(--jp-code-font-size);\n",
       "line-height: var(--jp-code-line-height);\n",
       "\"><span style=\"color: var(--jp-warn-color2)\">pycodestyle</span> <span style=\"color: var(--jp-info-color0)\">INFO</span>: 18:1: E402 module level import not at top of file</pre>"
      ],
      "text/plain": [
       "<IPython.core.display.HTML object>"
      ]
     },
     "metadata": {},
     "output_type": "display_data"
    },
    {
     "data": {
      "text/html": [
       "<pre style=\"margin: 0.1em;\n",
       "padding-left: 0.25em;\n",
       "border-left-style: solid;\n",
       "font-family: var(--jp-code-font-family);\n",
       "font-size: var(--jp-code-font-size);\n",
       "line-height: var(--jp-code-line-height);\n",
       "\"><span style=\"color: var(--jp-warn-color2)\">pycodestyle</span> <span style=\"color: var(--jp-info-color0)\">INFO</span>: 19:1: E402 module level import not at top of file</pre>"
      ],
      "text/plain": [
       "<IPython.core.display.HTML object>"
      ]
     },
     "metadata": {},
     "output_type": "display_data"
    },
    {
     "data": {
      "text/html": [
       "<pre style=\"margin: 0.1em;\n",
       "padding-left: 0.25em;\n",
       "border-left-style: solid;\n",
       "font-family: var(--jp-code-font-family);\n",
       "font-size: var(--jp-code-font-size);\n",
       "line-height: var(--jp-code-line-height);\n",
       "\"><span style=\"color: var(--jp-warn-color2)\">pycodestyle</span> <span style=\"color: var(--jp-info-color0)\">INFO</span>: 20:1: E402 module level import not at top of file</pre>"
      ],
      "text/plain": [
       "<IPython.core.display.HTML object>"
      ]
     },
     "metadata": {},
     "output_type": "display_data"
    },
    {
     "data": {
      "text/html": [
       "<pre style=\"margin: 0.1em;\n",
       "padding-left: 0.25em;\n",
       "border-left-style: solid;\n",
       "font-family: var(--jp-code-font-family);\n",
       "font-size: var(--jp-code-font-size);\n",
       "line-height: var(--jp-code-line-height);\n",
       "\"><span style=\"color: var(--jp-warn-color2)\">pycodestyle</span> <span style=\"color: var(--jp-info-color0)\">INFO</span>: 21:1: E402 module level import not at top of file</pre>"
      ],
      "text/plain": [
       "<IPython.core.display.HTML object>"
      ]
     },
     "metadata": {},
     "output_type": "display_data"
    },
    {
     "data": {
      "text/html": [
       "<pre style=\"margin: 0.1em;\n",
       "padding-left: 0.25em;\n",
       "border-left-style: solid;\n",
       "font-family: var(--jp-code-font-family);\n",
       "font-size: var(--jp-code-font-size);\n",
       "line-height: var(--jp-code-line-height);\n",
       "\"><span style=\"color: var(--jp-warn-color2)\">pycodestyle</span> <span style=\"color: var(--jp-info-color0)\">INFO</span>: 22:1: E402 module level import not at top of file</pre>"
      ],
      "text/plain": [
       "<IPython.core.display.HTML object>"
      ]
     },
     "metadata": {},
     "output_type": "display_data"
    },
    {
     "data": {
      "text/html": [
       "<pre style=\"margin: 0.1em;\n",
       "padding-left: 0.25em;\n",
       "border-left-style: solid;\n",
       "font-family: var(--jp-code-font-family);\n",
       "font-size: var(--jp-code-font-size);\n",
       "line-height: var(--jp-code-line-height);\n",
       "\"><span style=\"color: var(--jp-warn-color2)\">pycodestyle</span> <span style=\"color: var(--jp-info-color0)\">INFO</span>: 25:1: E402 module level import not at top of file</pre>"
      ],
      "text/plain": [
       "<IPython.core.display.HTML object>"
      ]
     },
     "metadata": {},
     "output_type": "display_data"
    },
    {
     "data": {
      "text/html": [
       "<pre style=\"margin: 0.1em;\n",
       "padding-left: 0.25em;\n",
       "border-left-style: solid;\n",
       "font-family: var(--jp-code-font-family);\n",
       "font-size: var(--jp-code-font-size);\n",
       "line-height: var(--jp-code-line-height);\n",
       "\"><span style=\"color: var(--jp-warn-color2)\">pycodestyle</span> <span style=\"color: var(--jp-info-color0)\">INFO</span>: 25:1: F811 redefinition of unused &#x27;get_tap_service&#x27; from line 7</pre>"
      ],
      "text/plain": [
       "<IPython.core.display.HTML object>"
      ]
     },
     "metadata": {},
     "output_type": "display_data"
    },
    {
     "data": {
      "text/html": [
       "<pre style=\"margin: 0.1em;\n",
       "padding-left: 0.25em;\n",
       "border-left-style: solid;\n",
       "font-family: var(--jp-code-font-family);\n",
       "font-size: var(--jp-code-font-size);\n",
       "line-height: var(--jp-code-line-height);\n",
       "\"><span style=\"color: var(--jp-warn-color2)\">pycodestyle</span> <span style=\"color: var(--jp-info-color0)\">INFO</span>: 25:1: F811 redefinition of unused &#x27;retrieve_query&#x27; from line 7</pre>"
      ],
      "text/plain": [
       "<IPython.core.display.HTML object>"
      ]
     },
     "metadata": {},
     "output_type": "display_data"
    },
    {
     "data": {
      "text/html": [
       "<pre style=\"margin: 0.1em;\n",
       "padding-left: 0.25em;\n",
       "border-left-style: solid;\n",
       "font-family: var(--jp-code-font-family);\n",
       "font-size: var(--jp-code-font-size);\n",
       "line-height: var(--jp-code-line-height);\n",
       "\"><span style=\"color: var(--jp-warn-color2)\">pycodestyle</span> <span style=\"color: var(--jp-info-color0)\">INFO</span>: 28:1: E402 module level import not at top of file</pre>"
      ],
      "text/plain": [
       "<IPython.core.display.HTML object>"
      ]
     },
     "metadata": {},
     "output_type": "display_data"
    },
    {
     "data": {
      "text/html": [
       "<pre style=\"margin: 0.1em;\n",
       "padding-left: 0.25em;\n",
       "border-left-style: solid;\n",
       "font-family: var(--jp-code-font-family);\n",
       "font-size: var(--jp-code-font-size);\n",
       "line-height: var(--jp-code-line-height);\n",
       "\"><span style=\"color: var(--jp-warn-color2)\">pycodestyle</span> <span style=\"color: var(--jp-info-color0)\">INFO</span>: 29:1: E402 module level import not at top of file</pre>"
      ],
      "text/plain": [
       "<IPython.core.display.HTML object>"
      ]
     },
     "metadata": {},
     "output_type": "display_data"
    },
    {
     "data": {
      "text/html": [
       "<pre style=\"margin: 0.1em;\n",
       "padding-left: 0.25em;\n",
       "border-left-style: solid;\n",
       "font-family: var(--jp-code-font-family);\n",
       "font-size: var(--jp-code-font-size);\n",
       "line-height: var(--jp-code-line-height);\n",
       "\"><span style=\"color: var(--jp-warn-color2)\">pycodestyle</span> <span style=\"color: var(--jp-info-color0)\">INFO</span>: 30:1: E402 module level import not at top of file</pre>"
      ],
      "text/plain": [
       "<IPython.core.display.HTML object>"
      ]
     },
     "metadata": {},
     "output_type": "display_data"
    },
    {
     "data": {
      "text/html": [
       "<pre style=\"margin: 0.1em;\n",
       "padding-left: 0.25em;\n",
       "border-left-style: solid;\n",
       "font-family: var(--jp-code-font-family);\n",
       "font-size: var(--jp-code-font-size);\n",
       "line-height: var(--jp-code-line-height);\n",
       "\"><span style=\"color: var(--jp-warn-color2)\">pycodestyle</span> <span style=\"color: var(--jp-info-color0)\">INFO</span>: 31:1: E402 module level import not at top of file</pre>"
      ],
      "text/plain": [
       "<IPython.core.display.HTML object>"
      ]
     },
     "metadata": {},
     "output_type": "display_data"
    },
    {
     "data": {
      "text/html": [
       "<pre style=\"margin: 0.1em;\n",
       "padding-left: 0.25em;\n",
       "border-left-style: solid;\n",
       "font-family: var(--jp-code-font-family);\n",
       "font-size: var(--jp-code-font-size);\n",
       "line-height: var(--jp-code-line-height);\n",
       "\"><span style=\"color: var(--jp-warn-color2)\">pycodestyle</span> <span style=\"color: var(--jp-info-color0)\">INFO</span>: 31:1: F811 redefinition of unused &#x27;geom&#x27; from line 29</pre>"
      ],
      "text/plain": [
       "<IPython.core.display.HTML object>"
      ]
     },
     "metadata": {},
     "output_type": "display_data"
    },
    {
     "data": {
      "text/html": [
       "<pre style=\"margin: 0.1em;\n",
       "padding-left: 0.25em;\n",
       "border-left-style: solid;\n",
       "font-family: var(--jp-code-font-family);\n",
       "font-size: var(--jp-code-font-size);\n",
       "line-height: var(--jp-code-line-height);\n",
       "\"><span style=\"color: var(--jp-warn-color2)\">pycodestyle</span> <span style=\"color: var(--jp-info-color0)\">INFO</span>: 32:1: E402 module level import not at top of file</pre>"
      ],
      "text/plain": [
       "<IPython.core.display.HTML object>"
      ]
     },
     "metadata": {},
     "output_type": "display_data"
    },
    {
     "data": {
      "text/html": [
       "<pre style=\"margin: 0.1em;\n",
       "padding-left: 0.25em;\n",
       "border-left-style: solid;\n",
       "font-family: var(--jp-code-font-family);\n",
       "font-size: var(--jp-code-font-size);\n",
       "line-height: var(--jp-code-line-height);\n",
       "\"><span style=\"color: var(--jp-warn-color2)\">pycodestyle</span> <span style=\"color: var(--jp-info-color0)\">INFO</span>: 33:1: E402 module level import not at top of file</pre>"
      ],
      "text/plain": [
       "<IPython.core.display.HTML object>"
      ]
     },
     "metadata": {},
     "output_type": "display_data"
    },
    {
     "data": {
      "text/html": [
       "<pre style=\"margin: 0.1em;\n",
       "padding-left: 0.25em;\n",
       "border-left-style: solid;\n",
       "font-family: var(--jp-code-font-family);\n",
       "font-size: var(--jp-code-font-size);\n",
       "line-height: var(--jp-code-line-height);\n",
       "\"><span style=\"color: var(--jp-warn-color2)\">pycodestyle</span> <span style=\"color: var(--jp-info-color0)\">INFO</span>: 34:1: E402 module level import not at top of file</pre>"
      ],
      "text/plain": [
       "<IPython.core.display.HTML object>"
      ]
     },
     "metadata": {},
     "output_type": "display_data"
    },
    {
     "data": {
      "text/html": [
       "<pre style=\"margin: 0.1em;\n",
       "padding-left: 0.25em;\n",
       "border-left-style: solid;\n",
       "font-family: var(--jp-code-font-family);\n",
       "font-size: var(--jp-code-font-size);\n",
       "line-height: var(--jp-code-line-height);\n",
       "\"><span style=\"color: var(--jp-warn-color2)\">pycodestyle</span> <span style=\"color: var(--jp-info-color0)\">INFO</span>: 35:1: E402 module level import not at top of file</pre>"
      ],
      "text/plain": [
       "<IPython.core.display.HTML object>"
      ]
     },
     "metadata": {},
     "output_type": "display_data"
    },
    {
     "data": {
      "text/html": [
       "<pre style=\"margin: 0.1em;\n",
       "padding-left: 0.25em;\n",
       "border-left-style: solid;\n",
       "font-family: var(--jp-code-font-family);\n",
       "font-size: var(--jp-code-font-size);\n",
       "line-height: var(--jp-code-line-height);\n",
       "\"><span style=\"color: var(--jp-warn-color2)\">pycodestyle</span> <span style=\"color: var(--jp-info-color0)\">INFO</span>: 35:1: F811 redefinition of unused &#x27;afwDisplay&#x27; from line 13</pre>"
      ],
      "text/plain": [
       "<IPython.core.display.HTML object>"
      ]
     },
     "metadata": {},
     "output_type": "display_data"
    },
    {
     "data": {
      "text/html": [
       "<pre style=\"margin: 0.1em;\n",
       "padding-left: 0.25em;\n",
       "border-left-style: solid;\n",
       "font-family: var(--jp-code-font-family);\n",
       "font-size: var(--jp-code-font-size);\n",
       "line-height: var(--jp-code-line-height);\n",
       "\"><span style=\"color: var(--jp-warn-color2)\">pycodestyle</span> <span style=\"color: var(--jp-info-color0)\">INFO</span>: 38:1: E402 module level import not at top of file</pre>"
      ],
      "text/plain": [
       "<IPython.core.display.HTML object>"
      ]
     },
     "metadata": {},
     "output_type": "display_data"
    },
    {
     "data": {
      "text/html": [
       "<pre style=\"margin: 0.1em;\n",
       "padding-left: 0.25em;\n",
       "border-left-style: solid;\n",
       "font-family: var(--jp-code-font-family);\n",
       "font-size: var(--jp-code-font-size);\n",
       "line-height: var(--jp-code-line-height);\n",
       "\"><span style=\"color: var(--jp-warn-color2)\">pycodestyle</span> <span style=\"color: var(--jp-info-color0)\">INFO</span>: 41:1: E402 module level import not at top of file</pre>"
      ],
      "text/plain": [
       "<IPython.core.display.HTML object>"
      ]
     },
     "metadata": {},
     "output_type": "display_data"
    },
    {
     "data": {
      "text/html": [
       "<pre style=\"margin: 0.1em;\n",
       "padding-left: 0.25em;\n",
       "border-left-style: solid;\n",
       "font-family: var(--jp-code-font-family);\n",
       "font-size: var(--jp-code-font-size);\n",
       "line-height: var(--jp-code-line-height);\n",
       "\"><span style=\"color: var(--jp-warn-color2)\">pycodestyle</span> <span style=\"color: var(--jp-info-color0)\">INFO</span>: 41:1: F811 redefinition of unused &#x27;get_tap_service&#x27; from line 25</pre>"
      ],
      "text/plain": [
       "<IPython.core.display.HTML object>"
      ]
     },
     "metadata": {},
     "output_type": "display_data"
    },
    {
     "data": {
      "text/html": [
       "<pre style=\"margin: 0.1em;\n",
       "padding-left: 0.25em;\n",
       "border-left-style: solid;\n",
       "font-family: var(--jp-code-font-family);\n",
       "font-size: var(--jp-code-font-size);\n",
       "line-height: var(--jp-code-line-height);\n",
       "\"><span style=\"color: var(--jp-warn-color2)\">pycodestyle</span> <span style=\"color: var(--jp-info-color0)\">INFO</span>: 42:1: E402 module level import not at top of file</pre>"
      ],
      "text/plain": [
       "<IPython.core.display.HTML object>"
      ]
     },
     "metadata": {},
     "output_type": "display_data"
    },
    {
     "data": {
      "text/html": [
       "<pre style=\"margin: 0.1em;\n",
       "padding-left: 0.25em;\n",
       "border-left-style: solid;\n",
       "font-family: var(--jp-code-font-family);\n",
       "font-size: var(--jp-code-font-size);\n",
       "line-height: var(--jp-code-line-height);\n",
       "\"><span style=\"color: var(--jp-warn-color2)\">pycodestyle</span> <span style=\"color: var(--jp-info-color0)\">INFO</span>: 42:1: F811 redefinition of unused &#x27;get_tap_service&#x27; from line 41</pre>"
      ],
      "text/plain": [
       "<IPython.core.display.HTML object>"
      ]
     },
     "metadata": {},
     "output_type": "display_data"
    },
    {
     "data": {
      "text/html": [
       "<pre style=\"margin: 0.1em;\n",
       "padding-left: 0.25em;\n",
       "border-left-style: solid;\n",
       "font-family: var(--jp-code-font-family);\n",
       "font-size: var(--jp-code-font-size);\n",
       "line-height: var(--jp-code-line-height);\n",
       "\"><span style=\"color: var(--jp-warn-color2)\">pycodestyle</span> <span style=\"color: var(--jp-info-color0)\">INFO</span>: 42:1: F811 redefinition of unused &#x27;retrieve_query&#x27; from line 25</pre>"
      ],
      "text/plain": [
       "<IPython.core.display.HTML object>"
      ]
     },
     "metadata": {},
     "output_type": "display_data"
    },
    {
     "data": {
      "text/html": [
       "<pre style=\"margin: 0.1em;\n",
       "padding-left: 0.25em;\n",
       "border-left-style: solid;\n",
       "font-family: var(--jp-code-font-family);\n",
       "font-size: var(--jp-code-font-size);\n",
       "line-height: var(--jp-code-line-height);\n",
       "\"><span style=\"color: var(--jp-warn-color2)\">pycodestyle</span> <span style=\"color: var(--jp-info-color0)\">INFO</span>: 43:1: E402 module level import not at top of file</pre>"
      ],
      "text/plain": [
       "<IPython.core.display.HTML object>"
      ]
     },
     "metadata": {},
     "output_type": "display_data"
    },
    {
     "data": {
      "text/html": [
       "<pre style=\"margin: 0.1em;\n",
       "padding-left: 0.25em;\n",
       "border-left-style: solid;\n",
       "font-family: var(--jp-code-font-family);\n",
       "font-size: var(--jp-code-font-size);\n",
       "line-height: var(--jp-code-line-height);\n",
       "\"><span style=\"color: var(--jp-warn-color2)\">pycodestyle</span> <span style=\"color: var(--jp-info-color0)\">INFO</span>: 46:1: E402 module level import not at top of file</pre>"
      ],
      "text/plain": [
       "<IPython.core.display.HTML object>"
      ]
     },
     "metadata": {},
     "output_type": "display_data"
    },
    {
     "data": {
      "text/html": [
       "<pre style=\"margin: 0.1em;\n",
       "padding-left: 0.25em;\n",
       "border-left-style: solid;\n",
       "font-family: var(--jp-code-font-family);\n",
       "font-size: var(--jp-code-font-size);\n",
       "line-height: var(--jp-code-line-height);\n",
       "\"><span style=\"color: var(--jp-warn-color2)\">pycodestyle</span> <span style=\"color: var(--jp-info-color0)\">INFO</span>: 47:1: E402 module level import not at top of file</pre>"
      ],
      "text/plain": [
       "<IPython.core.display.HTML object>"
      ]
     },
     "metadata": {},
     "output_type": "display_data"
    },
    {
     "data": {
      "text/html": [
       "<pre style=\"margin: 0.1em;\n",
       "padding-left: 0.25em;\n",
       "border-left-style: solid;\n",
       "font-family: var(--jp-code-font-family);\n",
       "font-size: var(--jp-code-font-size);\n",
       "line-height: var(--jp-code-line-height);\n",
       "\"><span style=\"color: var(--jp-warn-color2)\">pycodestyle</span> <span style=\"color: var(--jp-info-color0)\">INFO</span>: 50:1: E402 module level import not at top of file</pre>"
      ],
      "text/plain": [
       "<IPython.core.display.HTML object>"
      ]
     },
     "metadata": {},
     "output_type": "display_data"
    },
    {
     "data": {
      "text/html": [
       "<pre style=\"margin: 0.1em;\n",
       "padding-left: 0.25em;\n",
       "border-left-style: solid;\n",
       "font-family: var(--jp-code-font-family);\n",
       "font-size: var(--jp-code-font-size);\n",
       "line-height: var(--jp-code-line-height);\n",
       "\"><span style=\"color: var(--jp-warn-color2)\">pycodestyle</span> <span style=\"color: var(--jp-info-color0)\">INFO</span>: 51:1: E402 module level import not at top of file</pre>"
      ],
      "text/plain": [
       "<IPython.core.display.HTML object>"
      ]
     },
     "metadata": {},
     "output_type": "display_data"
    },
    {
     "data": {
      "text/html": [
       "<pre style=\"margin: 0.1em;\n",
       "padding-left: 0.25em;\n",
       "border-left-style: solid;\n",
       "font-family: var(--jp-code-font-family);\n",
       "font-size: var(--jp-code-font-size);\n",
       "line-height: var(--jp-code-line-height);\n",
       "\"><span style=\"color: var(--jp-warn-color2)\">pycodestyle</span> <span style=\"color: var(--jp-info-color0)\">INFO</span>: 52:1: E402 module level import not at top of file</pre>"
      ],
      "text/plain": [
       "<IPython.core.display.HTML object>"
      ]
     },
     "metadata": {},
     "output_type": "display_data"
    },
    {
     "data": {
      "text/html": [
       "<pre style=\"margin: 0.1em;\n",
       "padding-left: 0.25em;\n",
       "border-left-style: solid;\n",
       "font-family: var(--jp-code-font-family);\n",
       "font-size: var(--jp-code-font-size);\n",
       "line-height: var(--jp-code-line-height);\n",
       "\"><span style=\"color: var(--jp-warn-color2)\">pycodestyle</span> <span style=\"color: var(--jp-info-color0)\">INFO</span>: 53:1: E402 module level import not at top of file</pre>"
      ],
      "text/plain": [
       "<IPython.core.display.HTML object>"
      ]
     },
     "metadata": {},
     "output_type": "display_data"
    },
    {
     "data": {
      "text/html": [
       "<pre style=\"margin: 0.1em;\n",
       "padding-left: 0.25em;\n",
       "border-left-style: solid;\n",
       "font-family: var(--jp-code-font-family);\n",
       "font-size: var(--jp-code-font-size);\n",
       "line-height: var(--jp-code-line-height);\n",
       "\"><span style=\"color: var(--jp-warn-color2)\">pycodestyle</span> <span style=\"color: var(--jp-info-color0)\">INFO</span>: 54:1: E402 module level import not at top of file</pre>"
      ],
      "text/plain": [
       "<IPython.core.display.HTML object>"
      ]
     },
     "metadata": {},
     "output_type": "display_data"
    },
    {
     "data": {
      "text/html": [
       "<pre style=\"margin: 0.1em;\n",
       "padding-left: 0.25em;\n",
       "border-left-style: solid;\n",
       "font-family: var(--jp-code-font-family);\n",
       "font-size: var(--jp-code-font-size);\n",
       "line-height: var(--jp-code-line-height);\n",
       "\"><span style=\"color: var(--jp-warn-color2)\">pycodestyle</span> <span style=\"color: var(--jp-info-color0)\">INFO</span>: 55:1: E402 module level import not at top of file</pre>"
      ],
      "text/plain": [
       "<IPython.core.display.HTML object>"
      ]
     },
     "metadata": {},
     "output_type": "display_data"
    },
    {
     "data": {
      "text/html": [
       "<pre style=\"margin: 0.1em;\n",
       "padding-left: 0.25em;\n",
       "border-left-style: solid;\n",
       "font-family: var(--jp-code-font-family);\n",
       "font-size: var(--jp-code-font-size);\n",
       "line-height: var(--jp-code-line-height);\n",
       "\"><span style=\"color: var(--jp-warn-color2)\">pycodestyle</span> <span style=\"color: var(--jp-info-color0)\">INFO</span>: 56:1: E402 module level import not at top of file</pre>"
      ],
      "text/plain": [
       "<IPython.core.display.HTML object>"
      ]
     },
     "metadata": {},
     "output_type": "display_data"
    },
    {
     "data": {
      "text/html": [
       "<pre style=\"margin: 0.1em;\n",
       "padding-left: 0.25em;\n",
       "border-left-style: solid;\n",
       "font-family: var(--jp-code-font-family);\n",
       "font-size: var(--jp-code-font-size);\n",
       "line-height: var(--jp-code-line-height);\n",
       "\"><span style=\"color: var(--jp-warn-color2)\">pycodestyle</span> <span style=\"color: var(--jp-info-color0)\">INFO</span>: 56:34: E271 multiple spaces after keyword</pre>"
      ],
      "text/plain": [
       "<IPython.core.display.HTML object>"
      ]
     },
     "metadata": {},
     "output_type": "display_data"
    },
    {
     "data": {
      "text/html": [
       "<pre style=\"margin: 0.1em;\n",
       "padding-left: 0.25em;\n",
       "border-left-style: solid;\n",
       "font-family: var(--jp-code-font-family);\n",
       "font-size: var(--jp-code-font-size);\n",
       "line-height: var(--jp-code-line-height);\n",
       "\"><span style=\"color: var(--jp-warn-color2)\">pycodestyle</span> <span style=\"color: var(--jp-info-color0)\">INFO</span>: 57:1: E402 module level import not at top of file</pre>"
      ],
      "text/plain": [
       "<IPython.core.display.HTML object>"
      ]
     },
     "metadata": {},
     "output_type": "display_data"
    },
    {
     "data": {
      "text/html": [
       "<pre style=\"margin: 0.1em;\n",
       "padding-left: 0.25em;\n",
       "border-left-style: solid;\n",
       "font-family: var(--jp-code-font-family);\n",
       "font-size: var(--jp-code-font-size);\n",
       "line-height: var(--jp-code-line-height);\n",
       "\"><span style=\"color: var(--jp-warn-color2)\">pycodestyle</span> <span style=\"color: var(--jp-info-color0)\">INFO</span>: 57:28: W291 trailing whitespace</pre>"
      ],
      "text/plain": [
       "<IPython.core.display.HTML object>"
      ]
     },
     "metadata": {},
     "output_type": "display_data"
    },
    {
     "data": {
      "text/html": [
       "<pre style=\"margin: 0.1em;\n",
       "padding-left: 0.25em;\n",
       "border-left-style: solid;\n",
       "font-family: var(--jp-code-font-family);\n",
       "font-size: var(--jp-code-font-size);\n",
       "line-height: var(--jp-code-line-height);\n",
       "\"><span style=\"color: var(--jp-warn-color2)\">pycodestyle</span> <span style=\"color: var(--jp-info-color0)\">INFO</span>: 58:1: E402 module level import not at top of file</pre>"
      ],
      "text/plain": [
       "<IPython.core.display.HTML object>"
      ]
     },
     "metadata": {},
     "output_type": "display_data"
    },
    {
     "data": {
      "text/html": [
       "<pre style=\"margin: 0.1em;\n",
       "padding-left: 0.25em;\n",
       "border-left-style: solid;\n",
       "font-family: var(--jp-code-font-family);\n",
       "font-size: var(--jp-code-font-size);\n",
       "line-height: var(--jp-code-line-height);\n",
       "\"><span style=\"color: var(--jp-warn-color2)\">pycodestyle</span> <span style=\"color: var(--jp-info-color0)\">INFO</span>: 59:1: E402 module level import not at top of file</pre>"
      ],
      "text/plain": [
       "<IPython.core.display.HTML object>"
      ]
     },
     "metadata": {},
     "output_type": "display_data"
    },
    {
     "data": {
      "text/html": [
       "<pre style=\"margin: 0.1em;\n",
       "padding-left: 0.25em;\n",
       "border-left-style: solid;\n",
       "font-family: var(--jp-code-font-family);\n",
       "font-size: var(--jp-code-font-size);\n",
       "line-height: var(--jp-code-line-height);\n",
       "\"><span style=\"color: var(--jp-warn-color2)\">pycodestyle</span> <span style=\"color: var(--jp-info-color0)\">INFO</span>: 59:1: F811 redefinition of unused &#x27;ZScaleInterval&#x27; from line 56</pre>"
      ],
      "text/plain": [
       "<IPython.core.display.HTML object>"
      ]
     },
     "metadata": {},
     "output_type": "display_data"
    },
    {
     "data": {
      "text/html": [
       "<pre style=\"margin: 0.1em;\n",
       "padding-left: 0.25em;\n",
       "border-left-style: solid;\n",
       "font-family: var(--jp-code-font-family);\n",
       "font-size: var(--jp-code-font-size);\n",
       "line-height: var(--jp-code-line-height);\n",
       "\"><span style=\"color: var(--jp-warn-color2)\">pycodestyle</span> <span style=\"color: var(--jp-info-color0)\">INFO</span>: 59:50: E241 multiple spaces after &#x27;,&#x27;</pre>"
      ],
      "text/plain": [
       "<IPython.core.display.HTML object>"
      ]
     },
     "metadata": {},
     "output_type": "display_data"
    },
    {
     "data": {
      "text/html": [
       "<pre style=\"margin: 0.1em;\n",
       "padding-left: 0.25em;\n",
       "border-left-style: solid;\n",
       "font-family: var(--jp-code-font-family);\n",
       "font-size: var(--jp-code-font-size);\n",
       "line-height: var(--jp-code-line-height);\n",
       "\"><span style=\"color: var(--jp-warn-color2)\">pycodestyle</span> <span style=\"color: var(--jp-info-color0)\">INFO</span>: 60:1: E402 module level import not at top of file</pre>"
      ],
      "text/plain": [
       "<IPython.core.display.HTML object>"
      ]
     },
     "metadata": {},
     "output_type": "display_data"
    },
    {
     "data": {
      "text/html": [
       "<pre style=\"margin: 0.1em;\n",
       "padding-left: 0.25em;\n",
       "border-left-style: solid;\n",
       "font-family: var(--jp-code-font-family);\n",
       "font-size: var(--jp-code-font-size);\n",
       "line-height: var(--jp-code-line-height);\n",
       "\"><span style=\"color: var(--jp-warn-color2)\">pycodestyle</span> <span style=\"color: var(--jp-info-color0)\">INFO</span>: 60:80: E501 line too long (81 &gt; 79 characters)</pre>"
      ],
      "text/plain": [
       "<IPython.core.display.HTML object>"
      ]
     },
     "metadata": {},
     "output_type": "display_data"
    },
    {
     "data": {
      "text/html": [
       "<pre style=\"margin: 0.1em;\n",
       "padding-left: 0.25em;\n",
       "border-left-style: solid;\n",
       "font-family: var(--jp-code-font-family);\n",
       "font-size: var(--jp-code-font-size);\n",
       "line-height: var(--jp-code-line-height);\n",
       "\"><span style=\"color: var(--jp-warn-color2)\">pycodestyle</span> <span style=\"color: var(--jp-info-color0)\">INFO</span>: 63:1: E402 module level import not at top of file</pre>"
      ],
      "text/plain": [
       "<IPython.core.display.HTML object>"
      ]
     },
     "metadata": {},
     "output_type": "display_data"
    },
    {
     "data": {
      "text/html": [
       "<pre style=\"margin: 0.1em;\n",
       "padding-left: 0.25em;\n",
       "border-left-style: solid;\n",
       "font-family: var(--jp-code-font-family);\n",
       "font-size: var(--jp-code-font-size);\n",
       "line-height: var(--jp-code-line-height);\n",
       "\"><span style=\"color: var(--jp-warn-color2)\">pycodestyle</span> <span style=\"color: var(--jp-info-color0)\">INFO</span>: 64:1: E402 module level import not at top of file</pre>"
      ],
      "text/plain": [
       "<IPython.core.display.HTML object>"
      ]
     },
     "metadata": {},
     "output_type": "display_data"
    },
    {
     "data": {
      "text/html": [
       "<pre style=\"margin: 0.1em;\n",
       "padding-left: 0.25em;\n",
       "border-left-style: solid;\n",
       "font-family: var(--jp-code-font-family);\n",
       "font-size: var(--jp-code-font-size);\n",
       "line-height: var(--jp-code-line-height);\n",
       "\"><span style=\"color: var(--jp-warn-color2)\">pycodestyle</span> <span style=\"color: var(--jp-info-color0)\">INFO</span>: 65:1: E402 module level import not at top of file</pre>"
      ],
      "text/plain": [
       "<IPython.core.display.HTML object>"
      ]
     },
     "metadata": {},
     "output_type": "display_data"
    },
    {
     "data": {
      "text/html": [
       "<pre style=\"margin: 0.1em;\n",
       "padding-left: 0.25em;\n",
       "border-left-style: solid;\n",
       "font-family: var(--jp-code-font-family);\n",
       "font-size: var(--jp-code-font-size);\n",
       "line-height: var(--jp-code-line-height);\n",
       "\"><span style=\"color: var(--jp-warn-color2)\">pycodestyle</span> <span style=\"color: var(--jp-info-color0)\">INFO</span>: 66:1: E402 module level import not at top of file</pre>"
      ],
      "text/plain": [
       "<IPython.core.display.HTML object>"
      ]
     },
     "metadata": {},
     "output_type": "display_data"
    },
    {
     "data": {
      "text/html": [
       "<pre style=\"margin: 0.1em;\n",
       "padding-left: 0.25em;\n",
       "border-left-style: solid;\n",
       "font-family: var(--jp-code-font-family);\n",
       "font-size: var(--jp-code-font-size);\n",
       "line-height: var(--jp-code-line-height);\n",
       "\"><span style=\"color: var(--jp-warn-color2)\">pycodestyle</span> <span style=\"color: var(--jp-info-color0)\">INFO</span>: 67:1: E402 module level import not at top of file</pre>"
      ],
      "text/plain": [
       "<IPython.core.display.HTML object>"
      ]
     },
     "metadata": {},
     "output_type": "display_data"
    },
    {
     "data": {
      "text/html": [
       "<pre style=\"margin: 0.1em;\n",
       "padding-left: 0.25em;\n",
       "border-left-style: solid;\n",
       "font-family: var(--jp-code-font-family);\n",
       "font-size: var(--jp-code-font-size);\n",
       "line-height: var(--jp-code-line-height);\n",
       "\"><span style=\"color: var(--jp-warn-color2)\">pycodestyle</span> <span style=\"color: var(--jp-info-color0)\">INFO</span>: 68:1: E402 module level import not at top of file</pre>"
      ],
      "text/plain": [
       "<IPython.core.display.HTML object>"
      ]
     },
     "metadata": {},
     "output_type": "display_data"
    },
    {
     "data": {
      "text/html": [
       "<pre style=\"margin: 0.1em;\n",
       "padding-left: 0.25em;\n",
       "border-left-style: solid;\n",
       "font-family: var(--jp-code-font-family);\n",
       "font-size: var(--jp-code-font-size);\n",
       "line-height: var(--jp-code-line-height);\n",
       "\"><span style=\"color: var(--jp-warn-color2)\">pycodestyle</span> <span style=\"color: var(--jp-info-color0)\">INFO</span>: 69:1: E402 module level import not at top of file</pre>"
      ],
      "text/plain": [
       "<IPython.core.display.HTML object>"
      ]
     },
     "metadata": {},
     "output_type": "display_data"
    },
    {
     "data": {
      "text/html": [
       "<pre style=\"margin: 0.1em;\n",
       "padding-left: 0.25em;\n",
       "border-left-style: solid;\n",
       "font-family: var(--jp-code-font-family);\n",
       "font-size: var(--jp-code-font-size);\n",
       "line-height: var(--jp-code-line-height);\n",
       "\"><span style=\"color: var(--jp-warn-color2)\">pycodestyle</span> <span style=\"color: var(--jp-info-color0)\">INFO</span>: 70:1: E402 module level import not at top of file</pre>"
      ],
      "text/plain": [
       "<IPython.core.display.HTML object>"
      ]
     },
     "metadata": {},
     "output_type": "display_data"
    },
    {
     "data": {
      "text/html": [
       "<pre style=\"margin: 0.1em;\n",
       "padding-left: 0.25em;\n",
       "border-left-style: solid;\n",
       "font-family: var(--jp-code-font-family);\n",
       "font-size: var(--jp-code-font-size);\n",
       "line-height: var(--jp-code-line-height);\n",
       "\"><span style=\"color: var(--jp-warn-color2)\">pycodestyle</span> <span style=\"color: var(--jp-info-color0)\">INFO</span>: 71:1: E402 module level import not at top of file</pre>"
      ],
      "text/plain": [
       "<IPython.core.display.HTML object>"
      ]
     },
     "metadata": {},
     "output_type": "display_data"
    }
   ],
   "source": [
    "# general python packages\n",
    "import numpy as np\n",
    "import matplotlib.pyplot as plt\n",
    "plt.style.use('tableau-colorblind10')\n",
    "\n",
    "# LSST package for TAP queries\n",
    "from lsst.rsp import get_tap_service, retrieve_query\n",
    "\n",
    "# LSST package for Butler queries\n",
    "import lsst.daf.butler as dafButler\n",
    "\n",
    "# LSST package for image display\n",
    "import lsst.afw.display as afwDisplay\n",
    "\n",
    "# Import general python packages\n",
    "import numpy as np\n",
    "import re\n",
    "import pandas\n",
    "from pandas.testing import assert_frame_equal\n",
    "import uuid\n",
    "import requests\n",
    "import warnings\n",
    "\n",
    "# Import the Rubin TAP service utilities\n",
    "from lsst.rsp import get_tap_service, retrieve_query\n",
    "\n",
    "# Science Pipelines imports\n",
    "from lsst.daf.butler import Butler, DatasetType, CollectionType\n",
    "import lsst.geom as geom\n",
    "import lsst.resources\n",
    "import lsst.geom as geom\n",
    "import lsst.afw.image as afwImage\n",
    "from lsst.afw.image import Image, ImageF\n",
    "from lsst.afw.image.exposure import Exposure, ExposureF\n",
    "import lsst.afw.display as afwDisplay\n",
    "\n",
    "# Plotting with MPL\n",
    "import matplotlib.pyplot as plt\n",
    "\n",
    "# Import the Rubin TAP service utilities\n",
    "from lsst.rsp import get_tap_service\n",
    "from lsst.rsp import get_tap_service, retrieve_query\n",
    "from lsst.rsp.utils import get_access_token\n",
    "\n",
    "# PyVO packages\n",
    "import pyvo\n",
    "from pyvo.dal.adhoc import DatalinkResults, SodaQuery\n",
    "\n",
    "# Astropy\n",
    "from astropy import units as u\n",
    "from astropy.units import UnitsWarning\n",
    "from astropy.coordinates import SkyCoord\n",
    "from astropy.io import fits\n",
    "from astropy.time import Time\n",
    "from astropy.utils.data import download_file\n",
    "from astropy.visualization import  ZScaleInterval, AsinhStretch\n",
    "from astropy.wcs import WCS       \n",
    "from astropy.visualization import simple_norm, imshow_norm\n",
    "from astropy.visualization import ImageNormalize,  ZScaleInterval\n",
    "from astropy.visualization.stretch import SinhStretch, LinearStretch, SqrtStretch\n",
    "\n",
    "# Holoviz for interactive visualization\n",
    "import bokeh\n",
    "from bokeh.io import output_file, output_notebook, show\n",
    "from bokeh.layouts import gridplot\n",
    "from bokeh.models import ColumnDataSource, CDSView, GroupFilter, HoverTool\n",
    "from bokeh.plotting import figure\n",
    "from bokeh.transform import factor_cmap\n",
    "import holoviews as hv\n",
    "from holoviews import streams, opts\n",
    "from holoviews.operation.datashader import rasterize"
   ]
  },
  {
   "cell_type": "markdown",
   "id": "c217adff-25ed-4fce-95e7-8aa04630f6cc",
   "metadata": {},
   "source": [
    "### 1.2 Define Functions and Parameters\n",
    "\n",
    "_If your notebook defines functions or parameters to use later or throughout, do it here in sub-section 1.2._\n",
    "\n",
    "_It is OK to rename the subsection to be more specific to the notebook, and/or to use sub-sub-sections like \"1.2.1 Define global cosmological parameter values\" or \"1.2.2 Define a function to make an image cutout\"._\n",
    "\n",
    "_It is OK to remove this sub-section if it is not being used._"
   ]
  },
  {
   "cell_type": "code",
   "execution_count": 3,
   "id": "552c4cac-feca-4d51-a92f-87d5779a3300",
   "metadata": {
    "execution": {
     "iopub.execute_input": "2023-04-13T17:39:03.818601Z",
     "iopub.status.busy": "2023-04-13T17:39:03.818350Z",
     "iopub.status.idle": "2023-04-13T17:39:03.912930Z",
     "shell.execute_reply": "2023-04-13T17:39:03.912266Z",
     "shell.execute_reply.started": "2023-04-13T17:39:03.818577Z"
    }
   },
   "outputs": [],
   "source": [
    "# Set up some plotting defaults\n",
    "params = {'axes.labelsize': 18,\n",
    "          'font.size': 18,\n",
    "          'legend.fontsize': 12,\n",
    "          'xtick.major.width': 2,\n",
    "          'xtick.minor.width': 1,\n",
    "          'xtick.major.size': 10,\n",
    "          'xtick.minor.size': 4,\n",
    "          'xtick.direction': 'in',\n",
    "          'xtick.top': True,\n",
    "          'lines.linewidth': 2,\n",
    "          'axes.linewidth': 2,\n",
    "          'axes.labelweight': 2,\n",
    "          'axes.titleweight': 2,\n",
    "          'ytick.major.width': 2,\n",
    "          'ytick.minor.width': 1,\n",
    "          'ytick.major.size': 10,\n",
    "          'ytick.minor.size': 4,\n",
    "          'ytick.direction': 'in',\n",
    "          'ytick.right': True,\n",
    "          'figure.figsize': [6, 6],\n",
    "          'figure.facecolor': 'White'\n",
    "          }\n",
    "\n",
    "plt.rcParams.update(params)"
   ]
  },
  {
   "cell_type": "code",
   "execution_count": 4,
   "id": "2f464394-534d-4164-93d4-eaa27f46bae5",
   "metadata": {
    "execution": {
     "iopub.execute_input": "2023-04-13T17:39:03.915840Z",
     "iopub.status.busy": "2023-04-13T17:39:03.915644Z",
     "iopub.status.idle": "2023-04-13T17:39:04.008240Z",
     "shell.execute_reply": "2023-04-13T17:39:04.007693Z",
     "shell.execute_reply.started": "2023-04-13T17:39:03.915823Z"
    }
   },
   "outputs": [
    {
     "data": {
      "text/html": [
       "<pre style=\"margin: 0.1em;\n",
       "padding-left: 0.25em;\n",
       "border-left-style: solid;\n",
       "font-family: var(--jp-code-font-family);\n",
       "font-size: var(--jp-code-font-size);\n",
       "line-height: var(--jp-code-line-height);\n",
       "\"><span style=\"color: var(--jp-warn-color2)\">pycodestyle</span> <span style=\"color: var(--jp-info-color0)\">INFO</span>: 3:1: W293 blank line contains whitespace</pre>"
      ],
      "text/plain": [
       "<IPython.core.display.HTML object>"
      ]
     },
     "metadata": {},
     "output_type": "display_data"
    },
    {
     "data": {
      "text/html": [
       "<pre style=\"margin: 0.1em;\n",
       "padding-left: 0.25em;\n",
       "border-left-style: solid;\n",
       "font-family: var(--jp-code-font-family);\n",
       "font-size: var(--jp-code-font-size);\n",
       "line-height: var(--jp-code-line-height);\n",
       "\"><span style=\"color: var(--jp-warn-color2)\">pycodestyle</span> <span style=\"color: var(--jp-info-color0)\">INFO</span>: 8:1: W293 blank line contains whitespace</pre>"
      ],
      "text/plain": [
       "<IPython.core.display.HTML object>"
      ]
     },
     "metadata": {},
     "output_type": "display_data"
    },
    {
     "data": {
      "text/html": [
       "<pre style=\"margin: 0.1em;\n",
       "padding-left: 0.25em;\n",
       "border-left-style: solid;\n",
       "font-family: var(--jp-code-font-family);\n",
       "font-size: var(--jp-code-font-size);\n",
       "line-height: var(--jp-code-line-height);\n",
       "\"><span style=\"color: var(--jp-warn-color2)\">pycodestyle</span> <span style=\"color: var(--jp-info-color0)\">INFO</span>: 10:1: W293 blank line contains whitespace</pre>"
      ],
      "text/plain": [
       "<IPython.core.display.HTML object>"
      ]
     },
     "metadata": {},
     "output_type": "display_data"
    },
    {
     "data": {
      "text/html": [
       "<pre style=\"margin: 0.1em;\n",
       "padding-left: 0.25em;\n",
       "border-left-style: solid;\n",
       "font-family: var(--jp-code-font-family);\n",
       "font-size: var(--jp-code-font-size);\n",
       "line-height: var(--jp-code-line-height);\n",
       "\"><span style=\"color: var(--jp-warn-color2)\">pycodestyle</span> <span style=\"color: var(--jp-info-color0)\">INFO</span>: 16:1: W293 blank line contains whitespace</pre>"
      ],
      "text/plain": [
       "<IPython.core.display.HTML object>"
      ]
     },
     "metadata": {},
     "output_type": "display_data"
    }
   ],
   "source": [
    "def plotImage(exposure: ExposureF, img_opt: dict = None):\n",
    "    \"\"\"Plot and image using matplotlib\n",
    "   \n",
    "   Parameters\n",
    "    ----------\n",
    "    image : `Exposure`\n",
    "        the image to plot\n",
    "        \n",
    "    opts : ``\n",
    "   \n",
    "   Returns\n",
    "    -------\n",
    "    title : `str` (only if result is not `None`)\n",
    "        Plot title from string\n",
    "    \"\"\"\n",
    "    \n",
    "    fig, ax = plt.subplots()\n",
    "    display = afwDisplay.Display(frame=fig)\n",
    "    display.scale('asinh', 'zscale')\n",
    "    display.mtv(exposure.image)\n",
    "    plt.show()\n"
   ]
  },
  {
   "cell_type": "markdown",
   "id": "ec51ac0b",
   "metadata": {
    "tags": []
   },
   "source": [
    "## 2. Section Heading\n",
    "\n",
    "_Use numbers for sections, sub-sections, and sub-sub-sections to enable referencing, e.g., \"I'm having trouble with the second code cell in Section 2.3.\"_\n",
    "\n",
    "_Use section titles that actively describe what is being done, e.g., \"Create a color-magnitude diagram\" instead of \"Plot\", so that the auto-generated table of contents is easy to navigate._\n",
    "\n",
    "### 2.1 Section Sub-heading\n",
    "\n",
    "#### 2.1.1 Section Sub-sub-heading"
   ]
  },
  {
   "cell_type": "code",
   "execution_count": 5,
   "id": "81b8cd59-1ba3-4eaa-846f-6478ed0c3cf5",
   "metadata": {
    "execution": {
     "iopub.execute_input": "2023-04-13T17:39:04.011095Z",
     "iopub.status.busy": "2023-04-13T17:39:04.010885Z",
     "iopub.status.idle": "2023-04-13T17:39:04.137191Z",
     "shell.execute_reply": "2023-04-13T17:39:04.136509Z",
     "shell.execute_reply.started": "2023-04-13T17:39:04.011078Z"
    }
   },
   "outputs": [],
   "source": [
    "# Set afw display backend to matplotlib\n",
    "afwDisplay.setDefaultBackend('matplotlib')\n",
    "\n",
    "# Set the maximum number of rows to display from pandas\n",
    "pandas.set_option('display.max_rows', 20)"
   ]
  },
  {
   "cell_type": "code",
   "execution_count": 6,
   "id": "8e2c2786-f021-46df-a967-79084572a1cc",
   "metadata": {
    "execution": {
     "iopub.execute_input": "2023-04-13T17:39:04.138250Z",
     "iopub.status.busy": "2023-04-13T17:39:04.138028Z",
     "iopub.status.idle": "2023-04-13T17:39:07.015638Z",
     "shell.execute_reply": "2023-04-13T17:39:07.014722Z",
     "shell.execute_reply.started": "2023-04-13T17:39:04.138232Z"
    }
   },
   "outputs": [],
   "source": [
    "butler = Butler('dp02', collections='2.2i/runs/DP0.2')\n",
    "registry = butler.registry"
   ]
  },
  {
   "cell_type": "code",
   "execution_count": 8,
   "id": "f632c1bc-44dd-4dff-9f29-3e63bf89428d",
   "metadata": {
    "execution": {
     "iopub.execute_input": "2023-04-13T17:39:51.943382Z",
     "iopub.status.busy": "2023-04-13T17:39:51.943056Z",
     "iopub.status.idle": "2023-04-13T17:39:52.142252Z",
     "shell.execute_reply": "2023-04-13T17:39:52.141472Z",
     "shell.execute_reply.started": "2023-04-13T17:39:51.943360Z"
    }
   },
   "outputs": [],
   "source": [
    "service = get_tap_service()"
   ]
  },
  {
   "cell_type": "code",
   "execution_count": 14,
   "id": "cdc11b12-7c0b-4ab8-88b0-06787ffd9fe8",
   "metadata": {
    "execution": {
     "iopub.execute_input": "2023-04-13T17:43:28.323179Z",
     "iopub.status.busy": "2023-04-13T17:43:28.322162Z",
     "iopub.status.idle": "2023-04-13T17:43:28.714209Z",
     "shell.execute_reply": "2023-04-13T17:43:28.713484Z",
     "shell.execute_reply.started": "2023-04-13T17:43:28.323144Z"
    },
    "tags": []
   },
   "outputs": [
    {
     "data": {
      "text/html": [
       "<div><i>Table length=6</i>\n",
       "<table id=\"table139985068061552\" class=\"table-striped table-bordered table-condensed\">\n",
       "<thead><tr><th>access_format</th><th>access_url</th><th>calib_level</th><th>dataproduct_subtype</th><th>dataproduct_type</th><th>em_max</th><th>em_min</th><th>em_res_power</th><th>em_xel</th><th>facility_name</th><th>instrument_name</th><th>lsst_band</th><th>lsst_detector</th><th>lsst_filter</th><th>lsst_patch</th><th>lsst_tract</th><th>lsst_visit</th><th>o_ucd</th><th>obs_collection</th><th>obs_id</th><th>obs_publisher_did</th><th>pol_xel</th><th>s_dec</th><th>s_fov</th><th>s_ra</th><th>s_region</th><th>s_resolution</th><th>s_xel1</th><th>s_xel2</th><th>t_exptime</th><th>t_max</th><th>t_min</th><th>t_resolution</th><th>t_xel</th><th>target_name</th></tr></thead>\n",
       "<thead><tr><th></th><th></th><th></th><th></th><th></th><th>m</th><th>m</th><th></th><th></th><th></th><th></th><th></th><th></th><th></th><th></th><th></th><th></th><th></th><th></th><th></th><th></th><th></th><th>deg</th><th>deg</th><th>deg</th><th></th><th>arcsec</th><th></th><th></th><th>s</th><th>d</th><th>d</th><th>s</th><th></th><th></th></tr></thead>\n",
       "<thead><tr><th>str128</th><th>object</th><th>int32</th><th>str64</th><th>str128</th><th>float64</th><th>float64</th><th>float64</th><th>int64</th><th>str128</th><th>str128</th><th>str10</th><th>int64</th><th>str10</th><th>int64</th><th>int64</th><th>int64</th><th>str32</th><th>str128</th><th>str128</th><th>str256</th><th>int64</th><th>float64</th><th>float64</th><th>float64</th><th>str512</th><th>float64</th><th>int64</th><th>int64</th><th>float64</th><th>float64</th><th>float64</th><th>float64</th><th>int64</th><th>str32</th></tr></thead>\n",
       "<tr><td>application/x-votable+xml;content=datalink</td><td>https://data.lsst.cloud/api/datalink/links?ID=butler%3A//dp02/14e949ec-59a0-4e9a-99c3-dbc74e904fe8</td><td>3</td><td>lsst.deepCoadd_calexp</td><td>image</td><td>1.06e-06</td><td>9.7e-07</td><td>--</td><td>--</td><td>Rubin-LSST</td><td></td><td>y</td><td>--</td><td></td><td>17</td><td>4431</td><td>--</td><td>phot.count</td><td>LSST.DP02</td><td>DC2-4431-17</td><td></td><td>--</td><td>-32.205663176664345</td><td>0.3299793994195083</td><td>55.65214108466622</td><td>POLYGON ICRS 55.514085 -32.322253 55.790197 -32.322253 55.789845 -32.088924 55.514437 -32.088924</td><td>--</td><td>--</td><td>--</td><td>--</td><td>--</td><td>--</td><td>--</td><td>--</td><td></td></tr>\n",
       "<tr><td>application/x-votable+xml;content=datalink</td><td>https://data.lsst.cloud/api/datalink/links?ID=butler%3A//dp02/b876fbf2-9bbb-427d-8e86-e3c272054d34</td><td>3</td><td>lsst.deepCoadd_calexp</td><td>image</td><td>9.22e-07</td><td>8.18e-07</td><td>--</td><td>--</td><td>Rubin-LSST</td><td></td><td>z</td><td>--</td><td></td><td>17</td><td>4431</td><td>--</td><td>phot.count</td><td>LSST.DP02</td><td>DC2-4431-17</td><td></td><td>--</td><td>-32.205663176664345</td><td>0.3299793994195083</td><td>55.65214108466622</td><td>POLYGON ICRS 55.514085 -32.322253 55.790197 -32.322253 55.789845 -32.088924 55.514437 -32.088924</td><td>--</td><td>--</td><td>--</td><td>--</td><td>--</td><td>--</td><td>--</td><td>--</td><td></td></tr>\n",
       "<tr><td>application/x-votable+xml;content=datalink</td><td>https://data.lsst.cloud/api/datalink/links?ID=butler%3A//dp02/f9ba9b77-3e1d-409c-b7f1-1be7e42ff790</td><td>3</td><td>lsst.deepCoadd_calexp</td><td>image</td><td>6.91e-07</td><td>5.52e-07</td><td>--</td><td>--</td><td>Rubin-LSST</td><td></td><td>r</td><td>--</td><td></td><td>17</td><td>4431</td><td>--</td><td>phot.count</td><td>LSST.DP02</td><td>DC2-4431-17</td><td></td><td>--</td><td>-32.205663176664345</td><td>0.3299793994195083</td><td>55.65214108466622</td><td>POLYGON ICRS 55.514085 -32.322253 55.790197 -32.322253 55.789845 -32.088924 55.514437 -32.088924</td><td>--</td><td>--</td><td>--</td><td>--</td><td>--</td><td>--</td><td>--</td><td>--</td><td></td></tr>\n",
       "<tr><td>application/x-votable+xml;content=datalink</td><td>https://data.lsst.cloud/api/datalink/links?ID=butler%3A//dp02/3b7eb0b6-71cc-4b09-96dd-17293d57bf84</td><td>3</td><td>lsst.deepCoadd_calexp</td><td>image</td><td>5.52e-07</td><td>4.02e-07</td><td>--</td><td>--</td><td>Rubin-LSST</td><td></td><td>g</td><td>--</td><td></td><td>17</td><td>4431</td><td>--</td><td>phot.count</td><td>LSST.DP02</td><td>DC2-4431-17</td><td></td><td>--</td><td>-32.205663176664345</td><td>0.3299793994195083</td><td>55.65214108466622</td><td>POLYGON ICRS 55.514085 -32.322253 55.790197 -32.322253 55.789845 -32.088924 55.514437 -32.088924</td><td>--</td><td>--</td><td>--</td><td>--</td><td>--</td><td>--</td><td>--</td><td>--</td><td></td></tr>\n",
       "<tr><td>application/x-votable+xml;content=datalink</td><td>https://data.lsst.cloud/api/datalink/links?ID=butler%3A//dp02/bcaafd06-fa5e-4b32-bf2e-351c23a4da83</td><td>3</td><td>lsst.deepCoadd_calexp</td><td>image</td><td>4e-07</td><td>3.3e-07</td><td>--</td><td>--</td><td>Rubin-LSST</td><td></td><td>u</td><td>--</td><td></td><td>17</td><td>4431</td><td>--</td><td>phot.count</td><td>LSST.DP02</td><td>DC2-4431-17</td><td></td><td>--</td><td>-32.205663176664345</td><td>0.3299793994195083</td><td>55.65214108466622</td><td>POLYGON ICRS 55.514085 -32.322253 55.790197 -32.322253 55.789845 -32.088924 55.514437 -32.088924</td><td>--</td><td>--</td><td>--</td><td>--</td><td>--</td><td>--</td><td>--</td><td>--</td><td></td></tr>\n",
       "<tr><td>application/x-votable+xml;content=datalink</td><td>https://data.lsst.cloud/api/datalink/links?ID=butler%3A//dp02/20d28216-534a-4102-b8a7-1c7f32a9b78c</td><td>3</td><td>lsst.deepCoadd_calexp</td><td>image</td><td>8.18e-07</td><td>6.91e-07</td><td>--</td><td>--</td><td>Rubin-LSST</td><td></td><td>i</td><td>--</td><td></td><td>17</td><td>4431</td><td>--</td><td>phot.count</td><td>LSST.DP02</td><td>DC2-4431-17</td><td></td><td>--</td><td>-32.205663176664345</td><td>0.3299793994195083</td><td>55.65214108466622</td><td>POLYGON ICRS 55.514085 -32.322253 55.790197 -32.322253 55.789845 -32.088924 55.514437 -32.088924</td><td>--</td><td>--</td><td>--</td><td>--</td><td>--</td><td>--</td><td>--</td><td>--</td><td></td></tr>\n",
       "</table></div>"
      ],
      "text/plain": [
       "<Table length=6>\n",
       "              access_format                ... target_name\n",
       "                                           ...            \n",
       "                  str128                   ...    str32   \n",
       "------------------------------------------ ... -----------\n",
       "application/x-votable+xml;content=datalink ...            \n",
       "application/x-votable+xml;content=datalink ...            \n",
       "application/x-votable+xml;content=datalink ...            \n",
       "application/x-votable+xml;content=datalink ...            \n",
       "application/x-votable+xml;content=datalink ...            \n",
       "application/x-votable+xml;content=datalink ...            "
      ]
     },
     "execution_count": 14,
     "metadata": {},
     "output_type": "execute_result"
    },
    {
     "data": {
      "text/html": [
       "<pre style=\"margin: 0.1em;\n",
       "padding-left: 0.25em;\n",
       "border-left-style: solid;\n",
       "font-family: var(--jp-code-font-family);\n",
       "font-size: var(--jp-code-font-size);\n",
       "line-height: var(--jp-code-line-height);\n",
       "\"><span style=\"color: var(--jp-warn-color2)\">pycodestyle</span> <span style=\"color: var(--jp-info-color0)\">INFO</span>: 1:13: W291 trailing whitespace</pre>"
      ],
      "text/plain": [
       "<IPython.core.display.HTML object>"
      ]
     },
     "metadata": {},
     "output_type": "display_data"
    },
    {
     "data": {
      "text/html": [
       "<pre style=\"margin: 0.1em;\n",
       "padding-left: 0.25em;\n",
       "border-left-style: solid;\n",
       "font-family: var(--jp-code-font-family);\n",
       "font-size: var(--jp-code-font-size);\n",
       "line-height: var(--jp-code-line-height);\n",
       "\"><span style=\"color: var(--jp-warn-color2)\">pycodestyle</span> <span style=\"color: var(--jp-info-color0)\">INFO</span>: 5:30: W291 trailing whitespace</pre>"
      ],
      "text/plain": [
       "<IPython.core.display.HTML object>"
      ]
     },
     "metadata": {},
     "output_type": "display_data"
    },
    {
     "data": {
      "text/html": [
       "<pre style=\"margin: 0.1em;\n",
       "padding-left: 0.25em;\n",
       "border-left-style: solid;\n",
       "font-family: var(--jp-code-font-family);\n",
       "font-size: var(--jp-code-font-size);\n",
       "line-height: var(--jp-code-line-height);\n",
       "\"><span style=\"color: var(--jp-warn-color2)\">pycodestyle</span> <span style=\"color: var(--jp-info-color0)\">INFO</span>: 7:33: W291 trailing whitespace</pre>"
      ],
      "text/plain": [
       "<IPython.core.display.HTML object>"
      ]
     },
     "metadata": {},
     "output_type": "display_data"
    },
    {
     "data": {
      "text/html": [
       "<pre style=\"margin: 0.1em;\n",
       "padding-left: 0.25em;\n",
       "border-left-style: solid;\n",
       "font-family: var(--jp-code-font-family);\n",
       "font-size: var(--jp-code-font-size);\n",
       "line-height: var(--jp-code-line-height);\n",
       "\"><span style=\"color: var(--jp-warn-color2)\">pycodestyle</span> <span style=\"color: var(--jp-info-color0)\">INFO</span>: 9:80: W291 trailing whitespace</pre>"
      ],
      "text/plain": [
       "<IPython.core.display.HTML object>"
      ]
     },
     "metadata": {},
     "output_type": "display_data"
    },
    {
     "data": {
      "text/html": [
       "<pre style=\"margin: 0.1em;\n",
       "padding-left: 0.25em;\n",
       "border-left-style: solid;\n",
       "font-family: var(--jp-code-font-family);\n",
       "font-size: var(--jp-code-font-size);\n",
       "line-height: var(--jp-code-line-height);\n",
       "\"><span style=\"color: var(--jp-warn-color2)\">pycodestyle</span> <span style=\"color: var(--jp-info-color0)\">INFO</span>: 13:1: E265 block comment should start with &#x27;# &#x27;</pre>"
      ],
      "text/plain": [
       "<IPython.core.display.HTML object>"
      ]
     },
     "metadata": {},
     "output_type": "display_data"
    }
   ],
   "source": [
    "ra = 55.7467 \n",
    "dec = -32.2862\n",
    "\n",
    "# Select all images in a region\n",
    "query = \"\"\"SELECT * FROM ivoa.ObsCore \n",
    "WHERE dataproduct_type = 'image'\n",
    "AND obs_collection = 'LSST.DP02' \n",
    "AND dataproduct_subtype = 'lsst.deepCoadd_calexp'\n",
    "AND CONTAINS(POINT('ICRS', 55.74673760481304, -32.286155241413624), s_region)=1 \n",
    "\"\"\"\n",
    "results = service.search(query).to_table()\n",
    "results\n",
    "#results.to_table().show_in_notebook()"
   ]
  },
  {
   "cell_type": "code",
   "execution_count": 15,
   "id": "eb4b029f-f4b5-4f51-8483-96608c2711ae",
   "metadata": {
    "execution": {
     "iopub.execute_input": "2023-04-13T17:44:22.621240Z",
     "iopub.status.busy": "2023-04-13T17:44:22.620177Z",
     "iopub.status.idle": "2023-04-13T17:44:22.719279Z",
     "shell.execute_reply": "2023-04-13T17:44:22.718063Z",
     "shell.execute_reply.started": "2023-04-13T17:44:22.621203Z"
    },
    "tags": []
   },
   "outputs": [
    {
     "ename": "AttributeError",
     "evalue": "'Row' object has no attribute 'getdataurl'",
     "output_type": "error",
     "traceback": [
      "\u001b[0;31m---------------------------------------------------------------------------\u001b[0m",
      "\u001b[0;31mAttributeError\u001b[0m                            Traceback (most recent call last)",
      "Input \u001b[0;32mIn [15]\u001b[0m, in \u001b[0;36m<cell line: 1>\u001b[0;34m()\u001b[0m\n\u001b[0;32m----> 1\u001b[0m dataLinkUrl \u001b[38;5;241m=\u001b[39m \u001b[43mresults\u001b[49m\u001b[43m[\u001b[49m\u001b[38;5;241;43m0\u001b[39;49m\u001b[43m]\u001b[49m\u001b[38;5;241;43m.\u001b[39;49m\u001b[43mgetdataurl\u001b[49m()\n\u001b[1;32m      2\u001b[0m \u001b[38;5;124mf\u001b[39m\u001b[38;5;124m\"\u001b[39m\u001b[38;5;124mDatalink link service url: \u001b[39m\u001b[38;5;132;01m{\u001b[39;00mdataLinkUrl\u001b[38;5;132;01m}\u001b[39;00m\u001b[38;5;124m\"\u001b[39m\n",
      "\u001b[0;31mAttributeError\u001b[0m: 'Row' object has no attribute 'getdataurl'"
     ]
    }
   ],
   "source": [
    "dataLinkUrl = results[0].getdataurl()\n",
    "f\"Datalink link service url: {dataLinkUrl}\""
   ]
  },
  {
   "cell_type": "code",
   "execution_count": null,
   "id": "1c667776-5f21-4879-b743-89b89b78337d",
   "metadata": {},
   "outputs": [],
   "source": []
  }
 ],
 "metadata": {
  "kernelspec": {
   "display_name": "LSST",
   "language": "python",
   "name": "lsst"
  },
  "language_info": {
   "codemirror_mode": {
    "name": "ipython",
    "version": 3
   },
   "file_extension": ".py",
   "mimetype": "text/x-python",
   "name": "python",
   "nbconvert_exporter": "python",
   "pygments_lexer": "ipython3",
   "version": "3.10.9"
  },
  "toc-autonumbering": false
 },
 "nbformat": 4,
 "nbformat_minor": 5
}
