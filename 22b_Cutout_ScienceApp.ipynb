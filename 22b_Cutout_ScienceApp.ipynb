{
 "cells": [
  {
   "cell_type": "markdown",
   "id": "749b0ddf",
   "metadata": {},
   "source": [
    "<img align=\"left\" src = https://project.lsst.org/sites/default/files/Rubin-O-Logo_0.png width=250 style=\"padding: 10px\"> \n",
    "<b>CET Template Notebook</b> <br>\n",
    "Contact author(s): <i>Author Name</i> <br>\n",
    "Last verified to run: <i>yyyy-mm-dd</i> <br>\n",
    "LSST Science Piplines version: Weekly <i>yyyy_xx</i> <br>\n",
    "Container Size: <i>medium</i> <br>\n",
    "Targeted learning level: <i>beginner</i> <br>"
   ]
  },
  {
   "cell_type": "markdown",
   "id": "2d9cd09b-d5c4-4610-993b-711bdc9bd80e",
   "metadata": {},
   "source": [
    "_In this template, text in italics are examples or instructions that should be: (a) removed if it is not applicable to the notebook; or (b) replaced with text that is appropriate for the notebook. But bold or regular text should appear pretty much as-is in all CET notebooks. For more information, see the [CET's Guidelines for Tutorial Notebooks](https://confluence.lsstcorp.org/pages/viewpage.action?pageId=168857070)._"
   ]
  },
  {
   "cell_type": "markdown",
   "id": "582ab507-a7ae-4024-95c9-38aabeb602a6",
   "metadata": {},
   "source": [
    "_While developing, use the following code cell to check that the code conforms to standards, but then delete the cell and \"Kernel --> Restart Kernel and Clear All Outputs\" before saving and committing._"
   ]
  },
  {
   "cell_type": "code",
   "execution_count": null,
   "id": "7acc79a4-8530-42d9-96e5-b7acb4397864",
   "metadata": {},
   "outputs": [],
   "source": [
    "#%load_ext pycodestyle_magic\n",
    "#%flake8_on\n",
    "#import logging\n",
    "#logging.getLogger(\"flake8\").setLevel(logging.FATAL)"
   ]
  },
  {
   "cell_type": "markdown",
   "id": "482777d8-0a8d-432e-ba53-2da536700407",
   "metadata": {},
   "source": [
    "_The six cells below are considered the extended header of the notebook. The first four will be used, verbatim, to create the table of notebook metadata in the README.md file for the repository._"
   ]
  },
  {
   "cell_type": "markdown",
   "id": "9da1a210-d858-42fe-8591-570965b8be1a",
   "metadata": {},
   "source": [
    "**Description:** _Very brief description of notebook._"
   ]
  },
  {
   "cell_type": "markdown",
   "id": "80a0baf5-51ad-40ec-8991-060a7b27c289",
   "metadata": {},
   "source": [
    "**Skills:** _Brief list of skills to match the README.md file for the repository._"
   ]
  },
  {
   "cell_type": "markdown",
   "id": "393da88f-7978-4920-aa4a-a9830df6eed9",
   "metadata": {},
   "source": [
    "**LSST Data Products:** _List the all of the types of LSST catalogs and images used._"
   ]
  },
  {
   "cell_type": "markdown",
   "id": "5c67fab9-136a-4adc-bb42-142b91ab69dd",
   "metadata": {},
   "source": [
    "**Packages:** _List the python packages used._ (_List the packages being taught first, e.g., afwDisplay for a notebook about displaying images. Then supporting packages, e.g., lsst.daf.butler for a notebook about displaying images. It is OK to leave out basic support packages like os or glob.)_"
   ]
  },
  {
   "cell_type": "markdown",
   "id": "8f72b27f",
   "metadata": {},
   "source": [
    "**Credit:**\n",
    "_E.g., \"Originally developed by\" or \"Based on notebooks developed by\" and then people's names, including journal article or software release citations if appropriate._\n",
    "Please consider acknowledging them if this notebook is used for the preparation of journal articles, software releases, or other notebooks."
   ]
  },
  {
   "cell_type": "markdown",
   "id": "28e91cbf-ab7f-4e26-9276-b00299d6065e",
   "metadata": {},
   "source": [
    "**Get Support:**\n",
    "Find DP0-related documentation and resources at <a href=\"https://dp0-2.lsst.io\">dp0-2.lsst.io</a>. Questions are welcome as new topics in the <a href=\"https://community.lsst.org/c/support/dp0\">Support - Data Preview 0 Category</a> of the Rubin Community Forum. Rubin staff will respond to all questions posted there."
   ]
  },
  {
   "cell_type": "markdown",
   "id": "cfc73be0",
   "metadata": {},
   "source": [
    "## 1. Introduction\n",
    "\n",
    "_Provide a light narrative about this notebook, e.g., \"This notebook will teach the user...\"._\n",
    "\n",
    "_Cite or link to any external information or documentation, and cross-reference to other notebooks._\n",
    "\n",
    "In some cases it is desirable to be able to perform operations (e.g. image cutouts) on the server side to avoid transferring large amounts of data. This is why it is useful to use this cutout service. See https://www.ivoa.net/documents/DataLink/20211115/WD-DataLink-1.1-20211115.htmlhttps://www.ivoa.net/documents/DataLink/20211115/WD-DataLink-1.1-20211115.html where it says Access Data Services. This is a useful link: https://dmtn-238.lsst.io/https://dmtn-238.lsst.io/\n",
    "\n"
   ]
  },
  {
   "cell_type": "markdown",
   "id": "dc36f107",
   "metadata": {},
   "source": [
    "### 1.1 Package Imports\n",
    "\n",
    "_All package imports should be done in the first code cell._\n",
    "\n",
    "_Provide explanation or external links to package documentation, where appropriate._\n",
    "\n",
    "_E.g., Numpy is a fundamental package for scientific computing with arrays in Python (<a href=\"https://numpy.org\">numpy.org</a>)._\n",
    "\n",
    "_Use code cell comments to describe the packages being imported._"
   ]
  },
  {
   "cell_type": "code",
   "execution_count": null,
   "id": "cddc1458",
   "metadata": {
    "tags": []
   },
   "outputs": [],
   "source": [
    "# LSST package for Butler queries\n",
    "import lsst.daf.butler as dafButler\n",
    "\n",
    "# LSST package for image display\n",
    "import lsst.afw.display as afwDisplay\n",
    "\n",
    "# Import general python packages\n",
    "import time\n",
    "import numpy as np\n",
    "import re\n",
    "import pandas\n",
    "from pandas.testing import assert_frame_equal\n",
    "import uuid\n",
    "import requests\n",
    "import warnings\n",
    "import matplotlib.pyplot as plt\n",
    "import os\n",
    "plt.style.use('tableau-colorblind10')\n",
    "\n",
    "# Science Pipelines imports\n",
    "from lsst.daf.butler import Butler, DatasetType, CollectionType\n",
    "import lsst.geom as geom\n",
    "import lsst.resources\n",
    "import lsst.afw.image as afwImage\n",
    "from lsst.afw.image import Image, ImageF\n",
    "from lsst.afw.image import Exposure, ExposureF\n",
    "\n",
    "# Plotting with MPL\n",
    "import matplotlib.pyplot as plt\n",
    "\n",
    "# Import the Rubin TAP service utilities\n",
    "from lsst.rsp import get_tap_service, retrieve_query\n",
    "from lsst.rsp.utils import get_access_token\n",
    "\n",
    "# PyVO packages\n",
    "import pyvo\n",
    "from pyvo.dal.adhoc import DatalinkResults, SodaQuery\n",
    "\n",
    "# Astropy\n",
    "from astropy import units as u\n",
    "from astropy.units import UnitsWarning\n",
    "from astropy.coordinates import SkyCoord\n",
    "from astropy.io import fits\n",
    "from astropy.time import Time\n",
    "from astropy.utils.data import download_file\n",
    "from astropy.visualization import  ZScaleInterval, AsinhStretch\n",
    "from astropy.wcs import WCS       \n",
    "from astropy.visualization import simple_norm, imshow_norm\n",
    "from astropy.visualization import ImageNormalize\n",
    "from astropy.visualization.stretch import SinhStretch, LinearStretch, SqrtStretch\n",
    "\n",
    "# Holoviz for interactive visualization\n",
    "import bokeh\n",
    "from bokeh.io import output_file, output_notebook, show\n",
    "from bokeh.layouts import gridplot\n",
    "from bokeh.models import ColumnDataSource, CDSView, GroupFilter, HoverTool\n",
    "from bokeh.plotting import figure\n",
    "from bokeh.transform import factor_cmap\n",
    "import holoviews as hv\n",
    "from holoviews import streams, opts\n",
    "from holoviews.operation.datashader import rasterize\n",
    "\n",
    "# stuff for Jeff's warping\n",
    "import glob\n",
    "from lsst.pipe.tasks.registerImage import RegisterConfig, RegisterTask\n",
    "from PIL import Image\n"
   ]
  },
  {
   "cell_type": "markdown",
   "id": "c217adff-25ed-4fce-95e7-8aa04630f6cc",
   "metadata": {},
   "source": [
    "### 1.2 Define Functions and Parameters\n",
    "\n",
    "_If your notebook defines functions or parameters to use later or throughout, do it here in sub-section 1.2._\n",
    "\n",
    "_It is OK to rename the subsection to be more specific to the notebook, and/or to use sub-sub-sections like \"1.2.1 Define global cosmological parameter values\" or \"1.2.2 Define a function to make an image cutout\"._\n",
    "\n",
    "_It is OK to remove this sub-section if it is not being used._"
   ]
  },
  {
   "cell_type": "code",
   "execution_count": null,
   "id": "552c4cac-feca-4d51-a92f-87d5779a3300",
   "metadata": {
    "tags": []
   },
   "outputs": [],
   "source": [
    "# Set up some plotting defaults\n",
    "params = {'axes.labelsize': 18,\n",
    "          'font.size': 18,\n",
    "          'legend.fontsize': 12,\n",
    "          'xtick.major.width': 2,\n",
    "          'xtick.minor.width': 1,\n",
    "          'xtick.major.size': 10,\n",
    "          'xtick.minor.size': 4,\n",
    "          'xtick.direction': 'in',\n",
    "          'xtick.top': True,\n",
    "          'lines.linewidth': 2,\n",
    "          'axes.linewidth': 2,\n",
    "          'axes.labelweight': 2,\n",
    "          'axes.titleweight': 2,\n",
    "          'ytick.major.width': 2,\n",
    "          'ytick.minor.width': 1,\n",
    "          'ytick.major.size': 10,\n",
    "          'ytick.minor.size': 4,\n",
    "          'ytick.direction': 'in',\n",
    "          'ytick.right': True,\n",
    "          'figure.figsize': [6, 6],\n",
    "          'figure.facecolor': 'White'\n",
    "          }\n",
    "\n",
    "plt.rcParams.update(params)\n",
    "\n",
    "# Set afw display backend to matplotlib\n",
    "afwDisplay.setDefaultBackend('matplotlib')\n",
    "\n",
    "# Set the maximum number of rows to display from pandas\n",
    "pandas.set_option('display.max_rows', 20)\n",
    "\n",
    "\n",
    "# make a temporary working directory\n",
    "# specify the path for the directory – make sure to surround it with quotation marks\n",
    "\n",
    "homeDir = os.getenv(\"HOME\")\n",
    "tempdir = homeDir+'/temp'\n",
    "if not os.path.exists(tempdir):\n",
    "    os.makedirs(tempdir)\n"
   ]
  },
  {
   "cell_type": "code",
   "execution_count": null,
   "id": "2f464394-534d-4164-93d4-eaa27f46bae5",
   "metadata": {
    "tags": []
   },
   "outputs": [],
   "source": [
    "def plotImage(exposure: ExposureF, img_opt: dict = None):\n",
    "    \"\"\"Plot and image using matplotlib\n",
    "   \n",
    "   Parameters\n",
    "    ----------\n",
    "    image : `Exposure`\n",
    "        the image to plot\n",
    "        \n",
    "    opts : ``\n",
    "   \n",
    "   Returns\n",
    "    -------\n",
    "    title : `str` (only if result is not `None`)\n",
    "        Plot title from string\n",
    "    \"\"\"\n",
    "    \n",
    "    fig, ax = plt.subplots()\n",
    "    display = afwDisplay.Display(frame=fig)\n",
    "    display.scale('asinh', 'zscale')\n",
    "    display.mtv(exposure.image)\n",
    "    plt.show()\n"
   ]
  },
  {
   "cell_type": "code",
   "execution_count": null,
   "id": "16b8a3f9-c6fb-404d-a07c-c852e6afc645",
   "metadata": {
    "tags": []
   },
   "outputs": [],
   "source": [
    "def make_image_cutout(tap_service, ra, dec, cutout_size=0.01, \n",
    "                      imtype=None, dataId=None, filename=None): #visit=None, detector=None, filename=None):\n",
    "    \"\"\"Make a cutout using the cutout tool\n",
    "   \n",
    "   Parameters\n",
    "    ----------\n",
    "    # cutout_size is in degrees\n",
    "    # if imtype None, assumes deepCoadd. dataId must correspond to that for provided imtype\n",
    "    # TBD supplying band as an option for deepCoadd\n",
    "    # get difference images too (i.e. new, reference/template, and difference image). might want to \n",
    "    # (not in this function but down the road in our package of utilities to have triplet)\n",
    "    # tutorial should demonstrate volume of cutouts (i.e. what i am already doing)\n",
    "   Returns\n",
    "    -------\n",
    "    \n",
    "    \"\"\"\n",
    "\n",
    "    spherePoint = geom.SpherePoint(ra*geom.degrees, dec*geom.degrees)\n",
    "    \n",
    "    if imtype == 'calexp':\n",
    "        \n",
    "        query = \"SELECT access_format, access_url, dataproduct_subtype, lsst_visit, lsst_detector, \" + \\\n",
    "            \"lsst_band, s_ra, s_dec FROM ivoa.ObsCore WHERE dataproduct_type = 'image' \" + \\\n",
    "            \"AND obs_collection = 'LSST.DP02' \" + \\\n",
    "            \"AND dataproduct_subtype = 'lsst.calexp' \" + \\\n",
    "            \"AND lsst_visit = \" + str(dataId[\"visit\"]) + \" \" + \\\n",
    "            \"AND lsst_detector = \" + str(dataId[\"detector\"])\n",
    "        results = tap_service.search(query) # THIS IS TAP SERVICE\n",
    "\n",
    "    else:\n",
    "        # Find the tract and patch that contain this point\n",
    "        # this is how its done using butler:\n",
    "        tract = dataId[\"tract\"]\n",
    "        patch = dataId[\"patch\"]\n",
    "        \n",
    "        # add optional default band if it is not contained in the dataId\n",
    "        band = dataId[\"band\"]\n",
    "        print(band)\n",
    "\n",
    "        query = \"SELECT access_format, access_url, dataproduct_subtype, lsst_patch, lsst_tract, \" + \\\n",
    "            \"lsst_band, s_ra, s_dec FROM ivoa.ObsCore WHERE dataproduct_type = 'image' \" + \\\n",
    "            \"AND obs_collection = 'LSST.DP02' \" + \\\n",
    "            \"AND dataproduct_subtype = 'lsst.deepCoadd_calexp' \" + \\\n",
    "            \"AND lsst_tract = \" + str(tract) + \" \" + \\\n",
    "            \"AND lsst_patch = \" + str(patch) + \" \" + \\\n",
    "            \"AND lsst_band = \" + \"'\" + str(band) + \"' \"\n",
    "        results = tap_service.search(query) \n",
    "\n",
    "    #Get datalink\n",
    "    dataLinkUrl = results[0].getdataurl()\n",
    "    f\"Datalink link service url: {dataLinkUrl}\"\n",
    "    auth_session = service._session\n",
    "    dl_results = DatalinkResults.from_result_url(dataLinkUrl,session=auth_session)\n",
    "    f\"{dl_results.status}\"\n",
    "\n",
    "    # from_resource: creates a instance from a number of records and a Datalink Resource.\n",
    "    sq = SodaQuery.from_resource(dl_results, dl_results.get_adhocservice_by_id(\"cutout-sync\"), \n",
    "                                 session=auth_session)\n",
    "\n",
    "    sq.circle = (spherePoint.getRa().asDegrees()* u.deg,\n",
    "                 spherePoint.getDec().asDegrees()*u.deg, \n",
    "                 cutout_size* u.deg)\n",
    "\n",
    "    #sodaCutout = os.path.join(os.getenv('HOME'), 'DATA/soda-cutout.fits')\n",
    "    if filename:\n",
    "        #sodaCutout = 'cutouts/'+filename\n",
    "        sodaCutout = os.path.join(os.getenv('HOME'), 'temp/'+filename)\n",
    "    else:\n",
    "        #sodaCutout = 'cutouts/soda-cutout.fits'\n",
    "        sodaCutout = os.path.join(os.getenv('HOME'), 'temp/soda-cutout.fits')\n",
    "\n",
    "    with open(sodaCutout, 'bw') as f:\n",
    "        f.write(sq.execute_stream().read())\n",
    "        \n",
    "    #sodaCutout is just the filename...\n",
    "    return sodaCutout\n"
   ]
  },
  {
   "cell_type": "code",
   "execution_count": null,
   "id": "f27addf2-cb60-4456-a6f4-8b8d0bc1b74e",
   "metadata": {},
   "outputs": [],
   "source": [
    "# some functions from Jeff and Ryan to facilitate animations\n",
    "def warp_img(ref_img, img_to_warp, ref_wcs, wcs_to_warp):\n",
    "\n",
    "    config = RegisterConfig()\n",
    "    task = RegisterTask(name=\"register\", config=config)\n",
    "    warpedExp = task.warpExposure(img_to_warp, wcs_to_warp, ref_wcs,\n",
    "                                  ref_img.getBBox())\n",
    "\n",
    "    return warpedExp\n",
    "\n",
    "def get_minmax_xy(img, cutout_size):\n",
    "\n",
    "    cutout_size = int(cutout_size)\n",
    "    \n",
    "    height = img.height\n",
    "    width = img.width\n",
    "\n",
    "    ceny = (height - 1) / 2\n",
    "    cenx = (width - 1) / 2\n",
    "\n",
    "    minx = int(cenx - ((cutout_size - 1) / 2))\n",
    "    maxx = int(cenx + ((cutout_size - 1) / 2))\n",
    "    miny = int(ceny - ((cutout_size - 1) / 2))\n",
    "    maxy = int(ceny + ((cutout_size - 1) / 2))\n",
    "\n",
    "    return {'minx':minx, 'maxx':maxx, 'miny':miny, 'maxy':maxy}\n",
    "\n",
    "def make_gif(frame_folder):\n",
    "    frames = [Image.open(image) for image in sorted(glob.glob(f\"{frame_folder}/*.png\"))]\n",
    "    frame_one = frames[0]\n",
    "    frame_one.save(\"animation.gif\", format=\"GIF\", append_images=frames,\n",
    "               save_all=True, duration=500, loop=1)\n"
   ]
  },
  {
   "cell_type": "markdown",
   "id": "ec51ac0b",
   "metadata": {
    "tags": []
   },
   "source": [
    "## 2. Generating an image cutout using the cutout tool\n",
    "\n",
    "First, do example with a deepCoadd\n",
    "\n",
    "_Use numbers for sections, sub-sections, and sub-sub-sections to enable referencing, e.g., \"I'm having trouble with the second code cell in Section 2.3.\"_\n",
    "\n",
    "_Use section titles that actively describe what is being done, e.g., \"Create a color-magnitude diagram\" instead of \"Plot\", so that the auto-generated table of contents is easy to navigate._\n",
    "\n",
    "### 2.1 Section Sub-heading\n",
    "\n",
    "#### 2.1.1 Section Sub-sub-heading"
   ]
  },
  {
   "cell_type": "code",
   "execution_count": null,
   "id": "8e2c2786-f021-46df-a967-79084572a1cc",
   "metadata": {},
   "outputs": [],
   "source": [
    "butler = Butler('dp02', collections='2.2i/runs/DP0.2')\n",
    "registry = butler.registry\n",
    "#butler = Butler(config, collections=collection)\n"
   ]
  },
  {
   "cell_type": "code",
   "execution_count": null,
   "id": "f632c1bc-44dd-4dff-9f29-3e63bf89428d",
   "metadata": {},
   "outputs": [],
   "source": [
    "service = get_tap_service()"
   ]
  },
  {
   "cell_type": "code",
   "execution_count": null,
   "id": "cdc11b12-7c0b-4ab8-88b0-06787ffd9fe8",
   "metadata": {
    "tags": []
   },
   "outputs": [],
   "source": [
    "# galaxy cluster:\n",
    "#ra = 55.7467 \n",
    "#dec = -32.2862\n",
    "\n",
    "# vairable star from tutorial 07b\n",
    "#ra_known_rrl  = 62.1479031\n",
    "#dec_known_rrl  = -35.799138\n",
    "\n",
    "# random DIAobject from a testing code (this ra/dec don't work for some reason\n",
    "ra = 72.5383603\n",
    "dec = -44.4248533\n",
    "diaObjectId = 1253478440036730088\n",
    "\n",
    "# Define a spatial point\n",
    "spherePoint = lsst.geom.SpherePoint(ra*geom.degrees, dec*geom.degrees)\n",
    "\n",
    "#55.75067151347799 -32.27781914678513\n",
    "\n",
    "# Find the tract and patch that contain this point\n",
    "skymap = butler.get('skyMap') # skymap is used for coadd projection\n",
    "tract = skymap.findTract(spherePoint)\n",
    "patch = tract.findPatch(spherePoint)\n",
    "\n",
    "# Now create a dataId from the tract, patch and filter information\n",
    "dataId = {'band':'i', 'tract':tract.tract_id, 'patch': patch.getSequentialIndex()}\n",
    "\n",
    "# And use the dataid to get the coadd\n",
    "deepCoadd = butler.get('deepCoadd_calexp', dataId=dataId)\n",
    "\n",
    "assert type(deepCoadd) == lsst.afw.image.ExposureF\n",
    "f\"Tract: {tract.tract_id}, Patch: {patch.getSequentialIndex()}\"\n",
    "\n",
    "\n",
    "# Select all images in a region\n",
    "#query = \"\"\"SELECT * FROM ivoa.ObsCore \n",
    "#WHERE dataproduct_type = 'image'\n",
    "#AND obs_collection = 'LSST.DP02' \n",
    "#AND dataproduct_subtype = 'lsst.deepCoadd_calexp'\n",
    "#AND CONTAINS(POINT('ICRS', 55.74673760481304, -32.286155241413624), s_region)=1 \n",
    "#\"\"\"\n",
    "#results = service.search(query).to_table()\n",
    "#results[1]\n",
    "#results.to_table().show_in_notebook()"
   ]
  },
  {
   "cell_type": "code",
   "execution_count": null,
   "id": "2991ef70-d628-4c2f-b2d4-5f403a798556",
   "metadata": {
    "tags": []
   },
   "outputs": [],
   "source": [
    "t = tract.tract_id\n",
    "p = patch.getSequentialIndex()\n",
    "\n",
    "print(tract.tract_id, patch.getSequentialIndex())\n",
    "\n",
    "query = \"SELECT access_format, access_url, dataproduct_subtype, lsst_patch, lsst_tract, \" + \\\n",
    "    \"lsst_band, s_ra, s_dec FROM ivoa.ObsCore WHERE dataproduct_type = 'image' \" + \\\n",
    "    \"AND obs_collection = 'LSST.DP02' \" + \\\n",
    "    \"AND dataproduct_subtype = 'lsst.deepCoadd_calexp' \" + \\\n",
    "    \"AND lsst_tract = \" + str(t) + \" \" + \\\n",
    "    \"AND lsst_patch = \" + str(p) + \" \" + \\\n",
    "    \"AND lsst_band = 'i' \"\n",
    "    \n",
    "results = service.search(query)\n",
    "results.to_table().show_in_notebook()"
   ]
  },
  {
   "cell_type": "markdown",
   "id": "996dd37e-7c19-4796-8b19-5362d347bc29",
   "metadata": {},
   "source": [
    "## Datalink stuff goes here:\n"
   ]
  },
  {
   "cell_type": "code",
   "execution_count": null,
   "id": "eb4b029f-f4b5-4f51-8483-96608c2711ae",
   "metadata": {
    "tags": []
   },
   "outputs": [],
   "source": [
    "dataLinkUrl = results[0].getdataurl()\n",
    "f\"Datalink link service url: {dataLinkUrl}\"\n",
    "auth_session = service._session\n",
    "dl_results = DatalinkResults.from_result_url(dataLinkUrl,session=auth_session)\n",
    "f\"{dl_results.status}\""
   ]
  },
  {
   "cell_type": "markdown",
   "id": "bb03b3a3-d067-4e36-bc9b-754d966c1477",
   "metadata": {},
   "source": [
    "## here is where the cutout tool code starts:\n"
   ]
  },
  {
   "cell_type": "code",
   "execution_count": null,
   "id": "1c667776-5f21-4879-b743-89b89b78337d",
   "metadata": {
    "tags": []
   },
   "outputs": [],
   "source": [
    "sq = SodaQuery.from_resource(dl_results, dl_results.get_adhocservice_by_id(\"cutout-sync\"), \n",
    "                             session=auth_session)\n"
   ]
  },
  {
   "cell_type": "markdown",
   "id": "ac93f7d9-dca1-43dc-b01c-1d1b4b5d145b",
   "metadata": {
    "execution": {
     "iopub.status.busy": "2023-06-01T21:40:00.560310Z",
     "iopub.status.idle": "2023-06-01T21:40:00.560562Z",
     "shell.execute_reply": "2023-06-01T21:40:00.560451Z",
     "shell.execute_reply.started": "2023-06-01T21:40:00.560440Z"
    }
   },
   "source": []
  },
  {
   "cell_type": "code",
   "execution_count": null,
   "id": "6b0a1f71-4e35-4e16-9b5f-78c8498988f0",
   "metadata": {
    "tags": []
   },
   "outputs": [],
   "source": [
    "# only 2 shapes supported: circle and polygon. for some reason circle plots as a square (??)\n",
    "\n",
    "# first do a circle\n",
    "sphereRadius = 0.001* u.deg\n",
    "\n",
    "# sq = sodaquery opened earlier\n",
    "# Defined spatial point was done earlier using spherePoint:\n",
    "# spherePoint = lsst.geom.SpherePoint(ra*geom.degrees, dec*geom.degrees)\n",
    "\n",
    "#Example: a circle at (12,34) with radius 0.5:\n",
    "#CIRCLE=12 34 0.5\n",
    "\n",
    "\n",
    "sq.circle = (spherePoint.getRa().asDegrees()* u.deg,\n",
    "             spherePoint.getDec().asDegrees()*u.deg, \n",
    "             sphereRadius)\n"
   ]
  },
  {
   "cell_type": "code",
   "execution_count": null,
   "id": "23ca3f11-f17e-4e5c-8469-a0d25554234d",
   "metadata": {},
   "outputs": [],
   "source": [
    "sq = SodaQuery.from_resource(dl_results, dl_results.get_adhocservice_by_id(\"cutout-sync\"), \n",
    "                             session=auth_session)\n",
    "\n",
    "sq.circle = (spherePoint.getRa().asDegrees()* u.deg,\n",
    "             spherePoint.getDec().asDegrees()*u.deg, \n",
    "             sphereRadius)\n",
    "\n",
    "# first write the file to disk:\n",
    "sodaCutout = os.path.join(os.getenv('HOME'), 'temp/soda-cutout.fits')\n",
    "with open(sodaCutout, 'bw') as f:\n",
    "    f.write(sq.execute_stream().read())\n",
    "    \n",
    "# Display the cutout from the file\n",
    "plotImage(ExposureF(sodaCutout))\n"
   ]
  },
  {
   "cell_type": "code",
   "execution_count": null,
   "id": "ef262797-3af1-48fb-955a-7a3d2ebe4c55",
   "metadata": {
    "tags": []
   },
   "outputs": [],
   "source": [
    "#Alternatively can use polygon to define a region. Actually, circle is easier because there's less to define\n",
    "#and it looks like \"radius\" is also half of the box edge. Here's a demonstration using polygon.\n",
    "\n",
    "#Example: a polygon from (12,34) to (14,34) to (14,36) to (12,36) and (implicitly) back to (12,34):\n",
    "#POLYGON=12 34 14 34 14 36 12 36\n",
    "sq2 = SodaQuery.from_resource(dl_results, dl_results.get_adhocservice_by_id(\"cutout-sync\"), \n",
    "                             session=auth_session)\n",
    "sphereRadius2 = 0.01* u.deg\n",
    "\n",
    "sq2.polygon = (spherePoint.getRa().asDegrees()* u.deg - sphereRadius2,\n",
    "              spherePoint.getDec().asDegrees()*u.deg - sphereRadius2,\n",
    "              spherePoint.getRa().asDegrees()* u.deg - sphereRadius2,\n",
    "              spherePoint.getDec().asDegrees()*u.deg + sphereRadius2,\n",
    "              spherePoint.getRa().asDegrees()* u.deg + sphereRadius2,\n",
    "              spherePoint.getDec().asDegrees()*u.deg + sphereRadius2)\n",
    "              #spherePoint.getRa().asDegrees()* u.deg + sphereRadius2,\n",
    "              #spherePoint.getDec().asDegrees()*u.deg - sphereRadius2)\n",
    "\n",
    "\n",
    "sodaCutout2 = os.path.join(os.getenv('HOME'), 'temp/soda-cutout.fits')\n",
    "with open(sodaCutout2, 'bw') as f:\n",
    "    f.write(sq2.execute_stream().read())\n",
    "    \n",
    "# Display the cutout\n",
    "plotImage(ExposureF(sodaCutout2))\n",
    "\n"
   ]
  },
  {
   "cell_type": "markdown",
   "id": "c53ba0bc-91c2-4576-8014-4e008929d50c",
   "metadata": {},
   "source": [
    "### 2.1 Test out a wrapper function \"make_image_cutout\" defined above, so we can do all the above operations in one go\n",
    "IT WORKS :-D"
   ]
  },
  {
   "cell_type": "code",
   "execution_count": null,
   "id": "6ac7084f-22a0-4d4d-af66-fd027b7cf1d3",
   "metadata": {
    "tags": []
   },
   "outputs": [],
   "source": [
    "#test2 = make_image_cutout(service, dataid, cutout_size=0.005)\n",
    "#plotImage(ExposureF(test))\n",
    "# dataId is for the butler, so don't send?\n",
    "#print(dataId.values())\n",
    "#print(dataId)\n",
    "#tracttest = dataId[\"patch\"]"
   ]
  },
  {
   "cell_type": "code",
   "execution_count": null,
   "id": "dd1a68b4-5524-4016-a743-88b34e1d661a",
   "metadata": {
    "tags": []
   },
   "outputs": [],
   "source": [
    "# Test our new function wrapper for the cutout service! IT WORKS :-D\n",
    "\n",
    "imtype = 'deepCoadd' # this is the default, imtype=None will assume deepCoadd\n",
    "test = make_image_cutout(service, ra, dec, dataId=dataId, imtype=imtype, cutout_size=0.005)\n",
    "plotImage(ExposureF(test))\n"
   ]
  },
  {
   "cell_type": "markdown",
   "id": "9662577f-594f-4442-9c72-654bc8aef4b7",
   "metadata": {},
   "source": [
    "## 3. Creating cutouts for validation of Lyman-break selection of high-z galaxies\n",
    "\n",
    "_Use numbers for sections, sub-sections, and sub-sub-sections to enable referencing, e.g., \"I'm having trouble with the second code cell in Section 2.3.\"_\n",
    "\n",
    "_Use section titles that actively describe what is being done, e.g., \"Create a color-magnitude diagram\" instead of \"Plot\", so that the auto-generated table of contents is easy to navigate._\n",
    "\n",
    "### 3.1 Section Sub-heading\n",
    "LBG color selection of z~3 galaxies from Boutsia+14, Steidel+03:\n",
    "\n",
    "U − G >= 1.20 × (G − R) + 0.96 \n",
    "\n",
    "G − R >= −0.3 \n",
    "\n",
    "G − R <= 1.0 \n",
    "\n",
    "#### 3.1.1 Section Sub-sub-heading\n",
    "\n",
    "search object catalog (deepCoadd data) for u, r, g_kronFlux and can do this: scisql_nanojanskyToAbMag(g_kronFlux) in the TAP search to grab above some mag limit"
   ]
  },
  {
   "cell_type": "code",
   "execution_count": null,
   "id": "c5c745ad-3db2-47cc-b50b-5d0beae29a40",
   "metadata": {
    "tags": []
   },
   "outputs": [],
   "source": [
    "%%time\n",
    "\n",
    "max_rec = 500\n",
    "use_center_coords = \"62, -37\"\n",
    "ralbg = 62.\n",
    "declbg = -37.\n",
    "use_radius = \"1.0\"\n",
    "\n",
    "#\"FROM dp02_dc2_catalogs.ForcedSource as source \"\\\n",
    "#        \"JOIN dp02_dc2_catalogs.Object as obj ON source.objectId = obj.objectId \"\\\n",
    "\n",
    "# here you will need to also set all U-mags with S/N < 1 to the 1-sig error.\n",
    "# another idea is to join to MatchesTruth table on matchObjectId and then use id of the matches to join\n",
    "# on TruthSummary to get redshift\n",
    "\n",
    "# this appears to select things i want\n",
    "#query = \"SELECT TOP \" + str(max_rec) + \" \" + \\\n",
    "#        \"objectId, coord_ra, coord_dec, detect_isPrimary, patch, tract, \" + \\\n",
    "#        \"u_kronFlux, scisql_nanojanskyToAbMag(u_ap12Flux) as umag, scisql_nanojanskyToAbMag(r_ap12Flux) as rmag, scisql_nanojanskyToAbMag(g_ap12Flux) as gmag \" + \\\n",
    "#        \"FROM dp02_dc2_catalogs.Object \" + \\\n",
    "#        \"WHERE CONTAINS(POINT('ICRS', coord_ra, coord_dec), \" + \\\n",
    "#        \"CIRCLE('ICRS', \" + use_center_coords + \", \" + use_radius + \")) = 1 \" + \\\n",
    "#        \"AND detect_isPrimary = 1 \" + \\\n",
    "#        \"AND g_ap12Flux/g_ap12FluxErr > 10 \" + \\\n",
    "#        \"AND scisql_nanojanskyToAbMag(g_ap12Flux) < 24 \" \n",
    "##        \"AND g_kronFlux/g_kronFluxErr > 10 \" + \\\n",
    "\n",
    "# from Jeff's truth tables tutorial (this does not select things I want)\n",
    "query = \"SELECT TOP \" + str(max_rec) + \" \" + \\\n",
    "        \"mt.id_truth_type, mt.match_objectId, ts.ra, ts.dec, ts.truth_type, ts.redshift, \"\\\n",
    "        \"obj.objectId, obj.coord_ra, obj.coord_dec, obj.detect_isPrimary, obj.patch, obj.tract, \" + \\\n",
    "        \"obj.u_kronFlux, scisql_nanojanskyToAbMag(obj.u_ap12Flux) as umag, \" + \\\n",
    "        \"scisql_nanojanskyToAbMag(obj.r_ap12Flux) as rmag, scisql_nanojanskyToAbMag(obj.g_ap12Flux) as gmag \" + \\\n",
    "        \"FROM dp02_dc2_catalogs.MatchesTruth AS mt \"\\\n",
    "        \"JOIN dp02_dc2_catalogs.TruthSummary AS ts ON mt.id_truth_type = ts.id_truth_type \"\\\n",
    "        \"JOIN dp02_dc2_catalogs.Object AS obj ON mt.match_objectId = obj.objectId \"\\\n",
    "        \"WHERE CONTAINS(POINT('ICRS', ts.ra, ts.dec),  \"\\\n",
    "        \"CIRCLE('ICRS', \" + use_center_coords + \", \" + use_radius + \")) = 1 \" + \\\n",
    "        \"AND obj.detect_isPrimary = 1 AND ts.redshift > 2.5 \" + \\\n",
    "        \"AND obj.g_ap12Flux/obj.g_ap12FluxErr > 10 \" + \\\n",
    "        \"AND scisql_nanojanskyToAbMag(obj.g_ap12Flux) < 24 \" \n",
    "\n",
    "\n",
    "\n",
    "#\"AND scisql_nanojanskyToAbMag(g_kronFlux) - scisql_nanojanskyToAbMag(r_kronFlux) < 1.0 \" + \\\n",
    "#\"AND scisql_nanojanskyToAbMag(g_kronFlux) - scisql_nanojanskyToAbMag(r_kronFlux) > -0.3 \" \n",
    "\n",
    "results = service.search(query)\n",
    "assert len(results) == max_rec\n",
    "results.to_table()"
   ]
  },
  {
   "cell_type": "code",
   "execution_count": null,
   "id": "fe52da8d-08e7-43a8-83ea-ccfe32e1ec10",
   "metadata": {
    "tags": []
   },
   "outputs": [],
   "source": [
    "#U − G >= 1.20 × (G − R) + 0.96 \n",
    "\n",
    "# here, set umag to umag of 1-sig error before selecting colors\n",
    "\n",
    "whlbg = np.where( ((results['umag']-results['gmag']) > (1.20 * (results['gmag'] - results['rmag']) + 0.96 )) & ((results['gmag'] - results['rmag']) < 1.) & ((results['gmag'] - results['rmag']) > 0.3))[0]\n",
    "\n",
    "color1 = results['gmag']-results['rmag']\n",
    "color2 = results['umag']-results['gmag']\n",
    "\n",
    "plt.plot(color1, color2, '.')\n",
    "plt.plot(color1[whlbg],color2[whlbg],'o')\n",
    "plt.xlabel('G - R')\n",
    "plt.ylabel('U - G')\n",
    "plt.show()\n",
    "print(results['gmag'][whlbg])\n",
    "print(results['redshift'][whlbg])"
   ]
  },
  {
   "cell_type": "code",
   "execution_count": null,
   "id": "17faf2cc-5dc1-43f1-a3af-33eff23ad6ad",
   "metadata": {
    "tags": []
   },
   "outputs": [],
   "source": [
    "for i in range(len(whlbg)):\n",
    "    print(results['redshift'][whlbg][i])\n",
    "    dataId_deep = {'patch':results['patch'][whlbg][i], 'tract':results['tract'][whlbg][i], 'band':'u'}\n",
    "    testu = make_image_cutout(service, results['coord_ra'][whlbg][i], results['coord_dec'][whlbg][i], \n",
    "                              cutout_size=0.001,imtype='deepCoadd', dataId=dataId_deep,filename='cutout_u_'+str(i)+'.fits')\n",
    " \n",
    "    dataId_deep = {'patch':results['patch'][whlbg][i], 'tract':results['tract'][whlbg][i], 'band':'g'}\n",
    "    testg = make_image_cutout(service, results['coord_ra'][whlbg][i], results['coord_dec'][whlbg][i], \n",
    "                              cutout_size=0.001,imtype='deepCoadd', dataId=dataId_deep,filename='cutout_g_'+str(i)+'.fits')\n",
    "\n",
    "    dataId_deep = {'patch':results['patch'][whlbg][i], 'tract':results['tract'][whlbg][i], 'band':'r'}\n",
    "    testr = make_image_cutout(service, results['coord_ra'][whlbg][i], results['coord_dec'][whlbg][i], \n",
    "                              cutout_size=0.001,imtype='deepCoadd', dataId=dataId_deep,filename='cutout_r_'+str(i)+'.fits')\n",
    "\n",
    "\n",
    "    plotImage(ExposureF(testu))\n",
    "    plotImage(ExposureF(testg))\n",
    "    plotImage(ExposureF(testr))\n"
   ]
  },
  {
   "cell_type": "markdown",
   "id": "6f5111d5-82a2-43ec-b4a8-daafdda10e72",
   "metadata": {},
   "source": [
    "## 4. Creating cutouts of changing flux for the diaObject\n",
    "## 4. Generating a set of calexp cutouts\n",
    "\n",
    "now do the diasource example here:## 3. Generating a set of calexp cutouts\n",
    "\n",
    "now do the diasource example here:\n",
    "_Use numbers for sections, sub-sections, and sub-sub-sections to enable referencing, e.g., \"I'm having trouble with the second code cell in Section 2.3.\"_\n",
    "\n",
    "_Use section titles that actively describe what is being done, e.g., \"Create a color-magnitude diagram\" instead of \"Plot\", so that the auto-generated table of contents is easy to navigate._\n",
    "\n",
    "### 4.1 Section Sub-heading\n",
    "\n"
   ]
  },
  {
   "cell_type": "code",
   "execution_count": null,
   "id": "a6d082ba-b56c-493a-b844-35d6cc2d770c",
   "metadata": {
    "tags": []
   },
   "outputs": [],
   "source": [
    "# find the source by matching the source ID, which gives you the exact source\n",
    "query = \"SELECT TOP \" + str(100) + \" \" + \\\n",
    "        \"diaObjectId, ra, decl, coord_ra, coord_dec, ccdVisitId \" + \\\n",
    "        \"FROM dp02_dc2_catalogs.DiaSource \" + \\\n",
    "        \"WHERE diaObjectId = \" + str(diaObjectId) + \" \"\n",
    "\n",
    "# can get filter and MJD from diasource? If so, then maybe you don't have to do the next cell search\n",
    "# ccdVisitId = visitid+detector where detector starts with 001\n",
    "# or could join on ccdVisitId (check if this is an optioN).\n",
    "\n",
    "print(diaObjectId)\n",
    "visits = service.search(query)\n",
    "my_tab = visits.to_table()#.to_pandas()\n",
    "#my_tab['test'] = np.zeros(len(ccdvisit))\n",
    "\n",
    "# adding cols to pandas tables should be straitforward\n",
    "# should be able to join the diasource with ccdvisitid tables. join on ccdvisitid \n",
    "# adql functionality join will do it. see notebook 02."
   ]
  },
  {
   "cell_type": "code",
   "execution_count": null,
   "id": "0bdf25f3-f97d-44fa-91e3-8f66f18d6953",
   "metadata": {
    "tags": []
   },
   "outputs": [],
   "source": [
    "# maybe, instead, use Jeff's join query:\n",
    "# do we need to sort out diaObjectId vs diaSourceId\n",
    "\n",
    "ccdquery = \"SELECT TOP 10 dia.coord_ra, dia.coord_dec, \" + \\\n",
    "                        \"dia.diaObjectId,  dia.ccdVisitId, dia.band, \" + \\\n",
    "                        \"cv.visitId, cv.physical_filter, cv.detector, cv.obsStartMJD, \" + \\\n",
    "                         \"cv.expMidptMJD \" + \\\n",
    "                         \"FROM dp02_dc2_catalogs.ForcedSourceOnDiaObject as dia \" + \\\n",
    "                         \"JOIN dp02_dc2_catalogs.CcdVisit as cv ON cv.ccdVisitId = dia.ccdVisitId \" + \\\n",
    "                         \"WHERE dia.diaObjectId = \"+str(diaObjectId)+\" AND cv.band = 'i'\"\n",
    "    \n",
    "diaccdsearch = service.search(ccdquery)\n",
    "forcedSrc = diaccdsearch.to_table()\n",
    "forcedSrc\n",
    "del diaccdsearch"
   ]
  },
  {
   "cell_type": "code",
   "execution_count": null,
   "id": "05226e70-d21e-4a2b-972b-2ffc09daa1d4",
   "metadata": {
    "tags": []
   },
   "outputs": [],
   "source": [
    "wh = np.argsort(forcedSrc['obsStartMJD'])\n",
    "forcedSrc[wh]\n",
    "#forcedSrc['detector'][wh]"
   ]
  },
  {
   "cell_type": "code",
   "execution_count": null,
   "id": "6a5bdf81-8438-4cb8-806b-d4e0778da92c",
   "metadata": {
    "tags": []
   },
   "outputs": [],
   "source": [
    "# This cell plots the cutouts by order of MJD \n",
    "#def make_image_cutout(butler, tap_service, ra, dec, cutout_size=0.01, imtype=None, visit=None, detector=None, filename=None):\n",
    "\n",
    "for i in range(10):\n",
    "    dataId_calexp = {'visit':forcedSrc['visitId'][wh][i], 'detector':forcedSrc['detector'][wh][i]}\n",
    "    test = make_image_cutout(service, ra, dec, cutout_size=0.005,imtype='calexp', dataId=dataId_calexp,\n",
    "                             filename='cutout_'+str(i)+'.fits')\n",
    "                             #visit=forcedSrc['visitId'][wh][i], detector=forcedSrc['detector'][wh][i])\n",
    "\n",
    "\n",
    "    plotImage(ExposureF(test))\n",
    "\n",
    "\n"
   ]
  },
  {
   "cell_type": "code",
   "execution_count": null,
   "id": "84c330ef-a208-43a0-87cd-b9835abd2462",
   "metadata": {},
   "outputs": [],
   "source": []
  },
  {
   "cell_type": "markdown",
   "id": "c4197282-3351-4bec-a310-a1f6bc211666",
   "metadata": {},
   "source": [
    "instead of grayscale, use matplotlib virdis to see if that enhances the transient"
   ]
  },
  {
   "cell_type": "code",
   "execution_count": null,
   "id": "88303981-d84d-45f2-b1ad-6a6a761b3141",
   "metadata": {
    "tags": []
   },
   "outputs": [],
   "source": [
    "# Jeff's code to generate a gif\n",
    "if os.path.exists('$HOME/cutouts'):\n",
    "    print('temp/ directory already exists')\n",
    "else:\n",
    "    os.mkdir('$HOME/temp')\n",
    "    print('Made a temp/ directory')\n",
    "\n",
    "#if os.path.exists('images'):\n",
    "#    print('images/ directory already exists')\n",
    "#else:\n",
    "#    os.mkdir('images')\n",
    "#    print('Made an images/ directory')\n",
    "\n",
    "print(forcedSrc[wh])\n",
    "#coord_ra\tcoord_dec\tdiaObjectId\tccdVisitId\tband\tvisitId\tphysical_filter\tdetector\tobsStartMJD\texpMidptMJD\n",
    "\n",
    "ii = 0\n",
    "i = 0\n",
    "cutout_size_pix = 131\n",
    "\n",
    "#sys.exit()\n",
    "#for src in forcedSrc[wh]:#diaSrc:\n",
    "for i in range(len(wh)):\n",
    "    visit=forcedSrc['visitId'][wh][i]\n",
    "    detector=forcedSrc['detector'][wh][i]\n",
    "    #ccdvisitID = src['ccdVisitId']\n",
    "    #visit = str(ccdvisitID)[:-3]\n",
    "    #detector = str(ccdvisitID)[-3:]\n",
    "    #visit = int(visit)\n",
    "    #detector = int(detector)\n",
    "    dataId_calexp = {'visit':visit, 'detector':detector}\n",
    "    if i == 0:\n",
    "        # 0.2-arcsec pixels, convert to degrees\n",
    "        cutout_size = .005#(cutout_size_pix*2) * 0.2/3600.0\n",
    "        print(cutout_size)\n",
    "        # Make the first image the reference image that we'll warp all the others to.\n",
    "        ref_fitsname = 'cutout_ref.fits'\n",
    "        make_image_cutout(service, ra, dec, cutout_size=cutout_size, imtype='calexp',\n",
    "                          dataId=dataId_calexp, filename=ref_fitsname)\n",
    "        img_ref = ExposureF('$HOME/temp/'+ref_fitsname)\n",
    "        plotImage(img_ref) #this works for plotting\n",
    "        \n",
    "        # PICK vmin and vmax based on the reference image for use later\n",
    "        vmin = -200\n",
    "        vmax = 300\n",
    "        \n",
    "        \n",
    "    else:\n",
    "        cutout_size = .005#(cutout_size_pix*1.1) * 0.2/3600.0\n",
    "        print(cutout_size)\n",
    "    #ii += 1\n",
    "\n",
    "        fitsname = 'cutout_'+str(i)+'.fits'\n",
    "        print(fitsname)\n",
    "        make_image_cutout(service, ra, dec, cutout_size=cutout_size, imtype='calexp',\n",
    "                          dataId=dataId_calexp, filename=fitsname)\n",
    "\n",
    "        img = ExposureF('$HOME/temp/'+fitsname)\n",
    "        \n",
    "        plotImage(img) #this works for plotting\n",
    "    \n",
    "    \n",
    "        img_warped = warp_img(img_ref, img, img_ref.getWcs(), img.getWcs())\n",
    "        \n",
    "        fig, ax = plt.subplots()\n",
    "    \n",
    "        ### CAN AN ERROR BE HERE WITH CUTOUT_SIZE_PIX?\n",
    "        minmax = get_minmax_xy(img_warped, cutout_size_pix)\n",
    "    \n",
    "        # maybe somehting is wrong with the bounding box here. Try removing warped and see if the gif works?\n",
    "        im_arr = img_warped.image.array[minmax['minx']:minmax['maxx'], minmax['miny']:minmax['maxy']]\n",
    "        im_arr_bgnorm = im_arr#/np.nanmedian(im_arr)\n",
    "        \n",
    "        # Create an ImageNormalize object\n",
    "        #norm = ImageNormalize(im_arr_bgnorm, interval=ZScaleInterval(),\n",
    "        #                      stretch=LinearStretch())\n",
    "        \n",
    "        plt.imshow(im_arr, origin='lower', cmap='gray', vmin=vmin, vmax=vmax)#norm=norm, \n",
    "    \n",
    "        ax.set_xticklabels([])\n",
    "        ax.set_yticklabels([])\n",
    "        ax.set_xticks([])\n",
    "        ax.set_yticks([])\n",
    "        #plt.title('MJD: '+str(src['midPointTai'])+'; band: '+str(src['filterName']))\n",
    "        figname = 'images/cutout_'+str(i)+'.png'\n",
    "        if os.path.isfile(figname):\n",
    "            os.remove(figname)\n",
    "        #plt.show()\n",
    "        plt.savefig(figname)\n",
    "        plt.close()\n",
    "    \n",
    "sys.exit()\n"
   ]
  },
  {
   "cell_type": "code",
   "execution_count": null,
   "id": "78a1cb9e-c0cb-46e3-af34-11360b8a6b1a",
   "metadata": {
    "tags": []
   },
   "outputs": [],
   "source": [
    "make_gif('images')\n",
    "#sys.exit()"
   ]
  },
  {
   "cell_type": "markdown",
   "id": "7e9b3b33-c9d8-4f65-a2c7-ab3a2ab3daed",
   "metadata": {},
   "source": [
    "notes with melissa:\n",
    "still TBD:\n",
    "- demonstrate a failure case\n",
    "- we dont' yet have a tutorial on galaxy measurements: maybe some sample non-deblended with a larger diversity of shapes and overplot the morph (semi major/minor ellipsoid) "
   ]
  },
  {
   "cell_type": "markdown",
   "id": "4f662828-f139-434f-a108-71da90f015dc",
   "metadata": {},
   "source": [
    "## Junk code"
   ]
  },
  {
   "cell_type": "code",
   "execution_count": null,
   "id": "025814cf-ab4c-4a5a-9b01-b5ecaa6f0a69",
   "metadata": {
    "tags": []
   },
   "outputs": [],
   "source": [
    "# Testing various ways to skip writing to disk here (not working):\n",
    "\n",
    "#plotImage(ExposureF(sodaCutout))\n",
    "#plotImage(ExposureF(sq.execute_stream()))\n",
    "\n",
    "# THIS DOES NOT WORK, and times out after IOPub data rate exceeded:\n",
    "#x = sq.execute_stream().read()\n",
    "#print(x)\n",
    "\n",
    "#image_url = dl_results.getrecord(0).get('access_url')\n",
    "#plotImage(ExposureF(image_url))\n",
    "#plotImage(ExposureF(sq))\n",
    "\n",
    "# This does not work to pass the cutout without saving\n",
    "#fig = plt.figure()\n",
    "#display = afwDisplay.Display(frame=fig)\n",
    "#display.scale('asinh', 'zscale')\n",
    "#display.mtv(test)\n",
    "#plt.show()"
   ]
  },
  {
   "cell_type": "code",
   "execution_count": null,
   "id": "ce91a42a-45d1-4906-b4ec-b6603e6d0ed4",
   "metadata": {
    "tags": []
   },
   "outputs": [],
   "source": [
    "# ccdvisittable is a separate catalog that contains all observations and I could use that to extract further info. \n",
    "# get detector and visit from ccdvisittable using ccdvisitid. \n",
    "\n",
    "ccdqu = \"SELECT \"  + \\\n",
    "        \"ccdVisitId, visitId, physical_filter, band, detector, obsStartMJD \" + \\\n",
    "        \"FROM dp02_dc2_catalogs.CcdVisit \" + \\\n",
    "        \"WHERE ccdVisitId = \" + str(visits['ccdVisitId'][0]) + \" \"\n",
    "\n",
    "# here you have to search on band\n",
    "# could also return all bands so that you plot all r band and all i band etc sorted by mjd.\n",
    "# make a colored outline or label the filter int he cutout or something.\n",
    "# or, chronological order for 1 filter\n",
    "# user case: want to see if any of the images are bad and so see \n",
    "\n",
    "ccdvisit = service.search(ccdqu)\n",
    "ccdvisit.to_table().to_pandas()\n",
    "print(ccdvisit)\n",
    "\n",
    "my_tab['test'] = np.zeros(len(ccdvisit))"
   ]
  },
  {
   "cell_type": "code",
   "execution_count": null,
   "id": "80833208-b104-4aeb-8632-de4e25584df7",
   "metadata": {
    "tags": []
   },
   "outputs": [],
   "source": [
    "# Write a loop to add these values into one table, so that we can then sort by MJD\n",
    "# visits = DiaObjs\n",
    "#print(visits, len(visits))\n",
    "my_tab['MJD'] = np.zeros(len(visits), dtype='float')\n",
    "#visits.assign(MJD=0).head()\n",
    "my_tab['visit'] = np.zeros(len(visits), dtype='float')\n",
    "my_tab['ccdVisitId_test'] = np.zeros(len(visits), dtype='float')\n",
    "my_tab['detector'] = np.zeros(len(visits), dtype='float')\n",
    "my_tab['band'] = np.zeros(len(visits), dtype='float')\n",
    "\n",
    "# Specify the calexp that we are accessing\n",
    "#dataId = {'visit': 192350, 'detector': 175, 'band': 'i'}\n",
    "# Retrieve the data using the `butler` instance and its function `get()`\n",
    "#calexp = butler.get('calexp', **dataId)\n",
    "\n",
    "\n",
    "#dont' forget to check Melissa's test NB about imaging in slack\n",
    "for j in enumerate(visits['ccdVisitId']):\n",
    "    #print(j)\n",
    "    ccdqu = \"SELECT \"  + \\\n",
    "        \"ccdVisitId, visitId, physical_filter, band, detector, obsStartMJD \" + \\\n",
    "        \"FROM dp02_dc2_catalogs.CcdVisit \" + \\\n",
    "        \"WHERE ccdVisitId = \" + str(j[1]) + \" \" # AND band = 'r' ?\n",
    "    ccdvisit = service.search(ccdqu).to_table().to_pandas()\n",
    "    #print(ccdvisit['band'])\n",
    "\n",
    "    #FSDiaObj['expMidptMJD'][i[0]]=results['expMidptMJD'][0]\n",
    "    #print(ccdvisit['obsStartMJD'])\n",
    "    my_tab['MJD'][j[0]] = ccdvisit['obsStartMJD'][0]\n",
    "    my_tab['visit'][j[0]] = ccdvisit['visitId'][0]\n",
    "    #my_tab['band'][j[0]] = ccdvisit['band'][0]\n",
    "    #my_tab['ccdVisitId_test'][j[0]] = ccdvisit['ccdVisitId'][0]\n",
    "    my_tab['detector'][j[0]] = ccdvisit['detector'][0]\n",
    "    \n",
    "\n",
    "    #del ccdvisit\n"
   ]
  },
  {
   "cell_type": "markdown",
   "id": "1e5a50d3-b5f9-4de3-93d2-587564b1485c",
   "metadata": {
    "execution": {
     "iopub.execute_input": "2023-04-26T20:29:29.921012Z",
     "iopub.status.busy": "2023-04-26T20:29:29.920738Z",
     "iopub.status.idle": "2023-04-26T20:29:30.035702Z",
     "shell.execute_reply": "2023-04-26T20:29:30.034743Z",
     "shell.execute_reply.started": "2023-04-26T20:29:29.920987Z"
    },
    "tags": []
   },
   "source": [
    "\n",
    "## meeting with Leanne 6/1/23\n",
    "Look at the sodaquery API to figure out what the format the sq is in. also can type help(sq)\n",
    "maybe try doing holoviews streaming data instead execute_stream (or execute_raw) or streamz library in holoviews\n",
    "look at the matplotlib API to see if you can feed it the sq (tried this, doesnt work). for now just write things to file, and proceed with science application. we will revisit plotting directly the image after talkign to DM at the next data reveiw(??) \n",
    "\n",
    "## questions from Melissa\n",
    " how can we show failure modes (i.e. if you make a cutout near the boundary) or max sizes on the cutout?\n",
    " maybe that goes in Leanne's notebooK? we should test what happens\n",
    "\n",
    "get a SN near a host galaxy so looks interesting\n",
    "real science use cases: lensed SN (short time delay with multiple images) when seeing is bad the sources may be blended, and if seeing is good they are deblended. people will lok for DIAobjects close togehter because they might be the same physical thing. Source association pipeline split into multiple ones in cases like this. Ryan-this has already happened (2 DIAobj close to same position and some images will have some sources and other images will have other sources identified. Now you can plot all the\n",
    " cutouts (2-4\" of eachother). DP0.2 doesnt' have lensed transients so just pick nearby DIAobjs as a demonstrated failure mode which is a good use case. ask Ryan about this (ticket open to explore source association for DIAobj) users can get seeing out of the catalogs (check schema in DIAsource catalog, measurement of PSF? ccdvisit table has it for the whole visit\n",
    "\n",
    " another failure mode using variable stars close together maybe seeing differences between visits get blended but maybe SN science app is better. \n",
    " \n",
    "Ask leanne why we need both butler and tap service to do this (can we get either UUID or datalink from one or the other?)\n",
    "\n",
    "### questions for melissa 4/26:\n",
    "### - if you want to have a function that uses a butler instance what is the best way to do that?\n",
    "\n",
    "## From Melissa 4/26:\n",
    " we want to avoid having users write things. See if you can do this without\n",
    " writing the file to disk. then you can show an example of how to do that\n",
    " but in general we want people not to that\n",
    " what is function ExposureF? Does F stand for file?\n",
    "\n",
    "\n",
    "\n",
    "### Answers for Melissa 4/30/23: \n",
    "Yes, F stands for file and this tries to open the file written to disk.\n",
    "\n",
    "To ask Leanne: is this needed? I only see dataurl for the entire image but can the cutout be stored in memory and not written to disk? Also ask: why isn't the circle cutout actually a circle? Why does polygon also let you define a triangle but also returns a rectangle?\n",
    "\n",
    "To ask Jeff: did he find this slow (is it because reading/writing files?)\n",
    "Since the visit and detector are required inputs for the calexp case, it might be good to add a try/except block to make sure they’re provided whenever a  calexp cutout is requested.\n",
    "Since the visit and detector are required inputs for the calexp case, it might be good to add a try/except block to make sure they’re provided whenever a  calexp cutout is requested.\n"
   ]
  },
  {
   "cell_type": "markdown",
   "id": "f8109f9a-8bda-48d7-9863-619863197814",
   "metadata": {},
   "source": [
    "dm_rsp slack channel (soda is a service in RSP).\n",
    "also could look in NOIRLab datalab because they have some soda tutorials. they might have more info on \n",
    "the format of soda returns. also can see who wrote the datalab notebook and see who wrote it and go talk in person.\n",
    "\n",
    "look at the datalab and see what the use cases they have for sodaqueries or cutouts. "
   ]
  },
  {
   "cell_type": "markdown",
   "id": "51a44f6d-50a7-4aed-8e14-91fe0cf13838",
   "metadata": {},
   "source": [
    "if doing gif, could do side by side direct image and difference image gifs (run at the same time one is direct image one is difference image). fix the scaling so you can visualize the brihgtness. another application: search object catalog for a bunch of galaxies that had weird shape measurements and look at them all because you're gonna pass them to a citizen science or run galfit on them. 50x50 mosaic of a bunch of weird galaxies. could order them something (color?) and make RGB for differnet cutouts (look in notebook 3a for RGB) \n",
    "\n",
    "talk: LSST UK will have an IDAC independent data access center. yous hould know a little about it so that if someone asks me a question about it. Also you should know about LASAIR (the broker i.e. transient alert stream from ZTF for the LSST UK is building) because other countries may have their own proprietary datasets that they want to co-analyze, or they want other analysis tools or osmething. UK has its own datasets that aren't public so we need our own IDAC and our own specific science we want to be able to do. look lsst.org/scientists and look under in-kind programs. email bob mann say i'd like to know more about UK inkind program or other things that are immportant tot he UK that you could share with me so i have a sense of what people are interested in. they may have a document that defines what they want in their IDAC or something. \n",
    "\n",
    "lasair-ztf.lsst.ac.uk"
   ]
  },
  {
   "cell_type": "markdown",
   "id": "50f2767a-2de8-4aa5-9c5c-caba14516c5b",
   "metadata": {},
   "source": [
    "From melissa 11/27\n",
    "\n",
    "hardwire the deleting of cutouts as part of the cleanup\n",
    "as you develop final steps of notebook start using weekly 47 \n",
    "\n",
    "switch order so deep coadds first and then the calexp demonstration.\n",
    "Have notebook make a temp directory \n",
    "$HOME/temp and everything should be written thereat the end delete contents and directory itselftutorials notebook repo directory will be read only.\n"
   ]
  }
 ],
 "metadata": {
  "kernelspec": {
   "display_name": "LSST",
   "language": "python",
   "name": "lsst"
  },
  "language_info": {
   "codemirror_mode": {
    "name": "ipython",
    "version": 3
   },
   "file_extension": ".py",
   "mimetype": "text/x-python",
   "name": "python",
   "nbconvert_exporter": "python",
   "pygments_lexer": "ipython3",
   "version": "3.11.4"
  },
  "toc-autonumbering": false
 },
 "nbformat": 4,
 "nbformat_minor": 5
}
