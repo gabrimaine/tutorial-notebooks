{
 "cells": [
  {
   "cell_type": "markdown",
   "id": "749b0ddf",
   "metadata": {},
   "source": [
    "<img align=\"left\" src = https://project.lsst.org/sites/default/files/Rubin-O-Logo_0.png width=250 style=\"padding: 10px\"> \n",
    "<b>CET Template Notebook</b> <br>\n",
    "Contact author(s): <i>Author Name</i> <br>\n",
    "Last verified to run: <i>yyyy-mm-dd</i> <br>\n",
    "LSST Science Piplines version: Weekly <i>yyyy_xx</i> <br>\n",
    "Container Size: <i>medium</i> <br>\n",
    "Targeted learning level: <i>beginner</i> <br>"
   ]
  },
  {
   "cell_type": "markdown",
   "id": "2d9cd09b-d5c4-4610-993b-711bdc9bd80e",
   "metadata": {},
   "source": [
    "_In this template, text in italics are examples or instructions that should be: (a) removed if it is not applicable to the notebook; or (b) replaced with text that is appropriate for the notebook. But bold or regular text should appear pretty much as-is in all CET notebooks. For more information, see the [CET's Guidelines for Tutorial Notebooks](https://confluence.lsstcorp.org/pages/viewpage.action?pageId=168857070)._"
   ]
  },
  {
   "cell_type": "markdown",
   "id": "582ab507-a7ae-4024-95c9-38aabeb602a6",
   "metadata": {},
   "source": [
    "_While developing, use the following code cell to check that the code conforms to standards, but then delete the cell and \"Kernel --> Restart Kernel and Clear All Outputs\" before saving and committing._"
   ]
  },
  {
   "cell_type": "code",
   "execution_count": 1,
   "id": "7acc79a4-8530-42d9-96e5-b7acb4397864",
   "metadata": {
    "execution": {
     "iopub.execute_input": "2023-04-30T21:32:22.005651Z",
     "iopub.status.busy": "2023-04-30T21:32:22.005455Z",
     "iopub.status.idle": "2023-04-30T21:32:22.009295Z",
     "shell.execute_reply": "2023-04-30T21:32:22.008450Z",
     "shell.execute_reply.started": "2023-04-30T21:32:22.005634Z"
    }
   },
   "outputs": [],
   "source": [
    "#%load_ext pycodestyle_magic\n",
    "#%flake8_on\n",
    "#import logging\n",
    "#logging.getLogger(\"flake8\").setLevel(logging.FATAL)"
   ]
  },
  {
   "cell_type": "markdown",
   "id": "482777d8-0a8d-432e-ba53-2da536700407",
   "metadata": {},
   "source": [
    "_The six cells below are considered the extended header of the notebook. The first four will be used, verbatim, to create the table of notebook metadata in the README.md file for the repository._"
   ]
  },
  {
   "cell_type": "markdown",
   "id": "9da1a210-d858-42fe-8591-570965b8be1a",
   "metadata": {},
   "source": [
    "**Description:** _Very brief description of notebook._"
   ]
  },
  {
   "cell_type": "markdown",
   "id": "80a0baf5-51ad-40ec-8991-060a7b27c289",
   "metadata": {},
   "source": [
    "**Skills:** _Brief list of skills to match the README.md file for the repository._"
   ]
  },
  {
   "cell_type": "markdown",
   "id": "393da88f-7978-4920-aa4a-a9830df6eed9",
   "metadata": {},
   "source": [
    "**LSST Data Products:** _List the all of the types of LSST catalogs and images used._"
   ]
  },
  {
   "cell_type": "markdown",
   "id": "5c67fab9-136a-4adc-bb42-142b91ab69dd",
   "metadata": {},
   "source": [
    "**Packages:** _List the python packages used._ (_List the packages being taught first, e.g., afwDisplay for a notebook about displaying images. Then supporting packages, e.g., lsst.daf.butler for a notebook about displaying images. It is OK to leave out basic support packages like os or glob.)_"
   ]
  },
  {
   "cell_type": "markdown",
   "id": "8f72b27f",
   "metadata": {},
   "source": [
    "**Credit:**\n",
    "_E.g., \"Originally developed by\" or \"Based on notebooks developed by\" and then people's names, including journal article or software release citations if appropriate._\n",
    "Please consider acknowledging them if this notebook is used for the preparation of journal articles, software releases, or other notebooks."
   ]
  },
  {
   "cell_type": "markdown",
   "id": "28e91cbf-ab7f-4e26-9276-b00299d6065e",
   "metadata": {},
   "source": [
    "**Get Support:**\n",
    "Find DP0-related documentation and resources at <a href=\"https://dp0-2.lsst.io\">dp0-2.lsst.io</a>. Questions are welcome as new topics in the <a href=\"https://community.lsst.org/c/support/dp0\">Support - Data Preview 0 Category</a> of the Rubin Community Forum. Rubin staff will respond to all questions posted there."
   ]
  },
  {
   "cell_type": "markdown",
   "id": "cfc73be0",
   "metadata": {},
   "source": [
    "## 1. Introduction\n",
    "\n",
    "_Provide a light narrative about this notebook, e.g., \"This notebook will teach the user...\"._\n",
    "\n",
    "_Cite or link to any external information or documentation, and cross-reference to other notebooks._"
   ]
  },
  {
   "cell_type": "markdown",
   "id": "dc36f107",
   "metadata": {},
   "source": [
    "### 1.1 Package Imports\n",
    "\n",
    "_All package imports should be done in the first code cell._\n",
    "\n",
    "_Provide explanation or external links to package documentation, where appropriate._\n",
    "\n",
    "_E.g., Numpy is a fundamental package for scientific computing with arrays in Python (<a href=\"https://numpy.org\">numpy.org</a>)._\n",
    "\n",
    "_Use code cell comments to describe the packages being imported._"
   ]
  },
  {
   "cell_type": "code",
   "execution_count": 2,
   "id": "cddc1458",
   "metadata": {
    "execution": {
     "iopub.execute_input": "2023-04-30T21:32:22.010448Z",
     "iopub.status.busy": "2023-04-30T21:32:22.010211Z",
     "iopub.status.idle": "2023-04-30T21:32:28.061073Z",
     "shell.execute_reply": "2023-04-30T21:32:28.060094Z",
     "shell.execute_reply.started": "2023-04-30T21:32:22.010430Z"
    },
    "tags": []
   },
   "outputs": [],
   "source": [
    "# LSST package for Butler queries\n",
    "import lsst.daf.butler as dafButler\n",
    "\n",
    "# LSST package for image display\n",
    "import lsst.afw.display as afwDisplay\n",
    "\n",
    "# Import general python packages\n",
    "import numpy as np\n",
    "import re\n",
    "import pandas\n",
    "from pandas.testing import assert_frame_equal\n",
    "import uuid\n",
    "import requests\n",
    "import warnings\n",
    "import matplotlib.pyplot as plt\n",
    "plt.style.use('tableau-colorblind10')\n",
    "\n",
    "# Science Pipelines imports\n",
    "from lsst.daf.butler import Butler, DatasetType, CollectionType\n",
    "import lsst.geom as geom\n",
    "import lsst.resources\n",
    "import lsst.afw.image as afwImage\n",
    "from lsst.afw.image import Image, ImageF\n",
    "from lsst.afw.image.exposure import Exposure, ExposureF\n",
    "\n",
    "# Plotting with MPL\n",
    "import matplotlib.pyplot as plt\n",
    "\n",
    "# Import the Rubin TAP service utilities\n",
    "from lsst.rsp import get_tap_service, retrieve_query\n",
    "from lsst.rsp.utils import get_access_token\n",
    "\n",
    "# PyVO packages\n",
    "import pyvo\n",
    "from pyvo.dal.adhoc import DatalinkResults, SodaQuery\n",
    "\n",
    "# Astropy\n",
    "from astropy import units as u\n",
    "from astropy.units import UnitsWarning\n",
    "from astropy.coordinates import SkyCoord\n",
    "from astropy.io import fits\n",
    "from astropy.time import Time\n",
    "from astropy.utils.data import download_file\n",
    "from astropy.visualization import  ZScaleInterval, AsinhStretch\n",
    "from astropy.wcs import WCS       \n",
    "from astropy.visualization import simple_norm, imshow_norm\n",
    "from astropy.visualization import ImageNormalize\n",
    "from astropy.visualization.stretch import SinhStretch, LinearStretch, SqrtStretch\n",
    "\n",
    "# Holoviz for interactive visualization\n",
    "import bokeh\n",
    "from bokeh.io import output_file, output_notebook, show\n",
    "from bokeh.layouts import gridplot\n",
    "from bokeh.models import ColumnDataSource, CDSView, GroupFilter, HoverTool\n",
    "from bokeh.plotting import figure\n",
    "from bokeh.transform import factor_cmap\n",
    "import holoviews as hv\n",
    "from holoviews import streams, opts\n",
    "from holoviews.operation.datashader import rasterize"
   ]
  },
  {
   "cell_type": "markdown",
   "id": "c217adff-25ed-4fce-95e7-8aa04630f6cc",
   "metadata": {},
   "source": [
    "### 1.2 Define Functions and Parameters\n",
    "\n",
    "_If your notebook defines functions or parameters to use later or throughout, do it here in sub-section 1.2._\n",
    "\n",
    "_It is OK to rename the subsection to be more specific to the notebook, and/or to use sub-sub-sections like \"1.2.1 Define global cosmological parameter values\" or \"1.2.2 Define a function to make an image cutout\"._\n",
    "\n",
    "_It is OK to remove this sub-section if it is not being used._"
   ]
  },
  {
   "cell_type": "code",
   "execution_count": 3,
   "id": "552c4cac-feca-4d51-a92f-87d5779a3300",
   "metadata": {
    "execution": {
     "iopub.execute_input": "2023-04-30T21:32:28.062569Z",
     "iopub.status.busy": "2023-04-30T21:32:28.062295Z",
     "iopub.status.idle": "2023-04-30T21:32:28.067404Z",
     "shell.execute_reply": "2023-04-30T21:32:28.066736Z",
     "shell.execute_reply.started": "2023-04-30T21:32:28.062550Z"
    }
   },
   "outputs": [],
   "source": [
    "# Set up some plotting defaults\n",
    "params = {'axes.labelsize': 18,\n",
    "          'font.size': 18,\n",
    "          'legend.fontsize': 12,\n",
    "          'xtick.major.width': 2,\n",
    "          'xtick.minor.width': 1,\n",
    "          'xtick.major.size': 10,\n",
    "          'xtick.minor.size': 4,\n",
    "          'xtick.direction': 'in',\n",
    "          'xtick.top': True,\n",
    "          'lines.linewidth': 2,\n",
    "          'axes.linewidth': 2,\n",
    "          'axes.labelweight': 2,\n",
    "          'axes.titleweight': 2,\n",
    "          'ytick.major.width': 2,\n",
    "          'ytick.minor.width': 1,\n",
    "          'ytick.major.size': 10,\n",
    "          'ytick.minor.size': 4,\n",
    "          'ytick.direction': 'in',\n",
    "          'ytick.right': True,\n",
    "          'figure.figsize': [6, 6],\n",
    "          'figure.facecolor': 'White'\n",
    "          }\n",
    "\n",
    "plt.rcParams.update(params)"
   ]
  },
  {
   "cell_type": "code",
   "execution_count": 4,
   "id": "2f464394-534d-4164-93d4-eaa27f46bae5",
   "metadata": {
    "execution": {
     "iopub.execute_input": "2023-04-30T21:32:28.069427Z",
     "iopub.status.busy": "2023-04-30T21:32:28.069215Z",
     "iopub.status.idle": "2023-04-30T21:32:28.086001Z",
     "shell.execute_reply": "2023-04-30T21:32:28.085380Z",
     "shell.execute_reply.started": "2023-04-30T21:32:28.069411Z"
    }
   },
   "outputs": [],
   "source": [
    "def plotImage(exposure: ExposureF, img_opt: dict = None):\n",
    "    \"\"\"Plot and image using matplotlib\n",
    "   \n",
    "   Parameters\n",
    "    ----------\n",
    "    image : `Exposure`\n",
    "        the image to plot\n",
    "        \n",
    "    opts : ``\n",
    "   \n",
    "   Returns\n",
    "    -------\n",
    "    title : `str` (only if result is not `None`)\n",
    "        Plot title from string\n",
    "    \"\"\"\n",
    "    \n",
    "    fig, ax = plt.subplots()\n",
    "    display = afwDisplay.Display(frame=fig)\n",
    "    display.scale('asinh', 'zscale')\n",
    "    display.mtv(exposure.image)\n",
    "    plt.show()\n"
   ]
  },
  {
   "cell_type": "code",
   "execution_count": 5,
   "id": "ea4fa87f-3825-43af-bb86-ab19e0e9e3c4",
   "metadata": {
    "execution": {
     "iopub.execute_input": "2023-04-30T21:32:28.087379Z",
     "iopub.status.busy": "2023-04-30T21:32:28.087138Z",
     "iopub.status.idle": "2023-04-30T21:32:28.107907Z",
     "shell.execute_reply": "2023-04-30T21:32:28.107132Z",
     "shell.execute_reply.started": "2023-04-30T21:32:28.087362Z"
    },
    "tags": []
   },
   "outputs": [],
   "source": [
    "def make_image_cutout_old(butler, tap_service, ra, dec, cutout_size=0.01):\n",
    "    \"\"\"Make a cutout using the cutout tool\n",
    "   \n",
    "   Parameters\n",
    "    ----------\n",
    "    # cutout_size is in degrees\n",
    "    # i think we need to add option to request calexp vs deepcoadd\n",
    "   # do not pass butler, should be able to get UUID from the TAP\n",
    "   Returns\n",
    "    -------\n",
    "    \n",
    "    \"\"\"\n",
    "\n",
    "    spherePoint = lsst.geom.SpherePoint(ra*geom.degrees, dec*geom.degrees)\n",
    "    registry = butler.registry\n",
    "    # Find the tract and patch that contain this point\n",
    "    skymap = butler.get('skyMap')\n",
    "    tract = skymap.findTract(spherePoint)\n",
    "    patch = tract.findPatch(spherePoint)\n",
    "\n",
    "    # Now create a dataId from the tract, patch and filter information\n",
    "    dataId = {'band':'i', 'tract':tract.tract_id, 'patch': patch.getSequentialIndex()}\n",
    "\n",
    "\n",
    "    # Need the UUID of the image for the cutout service \n",
    "    #datasetRef = registry.findDataset('deepCoadd_calexp', dataId)\n",
    "    #deepCoadd_uuid = datasetRef.id\n",
    "    #assert isinstance(deepCoadd_uuid, uuid.UUID)\n",
    "    #f\"UUID for deep coadd: {deepCoadd_uuid}\"\n",
    "\n",
    "    #Get from dataID (needs to be fixed)\n",
    "    t = tract.tract_id\n",
    "    p = patch.getSequentialIndex()\n",
    "\n",
    "    query = \"SELECT access_format, access_url, dataproduct_subtype, lsst_patch, lsst_tract, \" + \\\n",
    "        \"lsst_band, s_ra, s_dec FROM ivoa.ObsCore WHERE dataproduct_type = 'image' \" + \\\n",
    "        \"AND obs_collection = 'LSST.DP02' \" + \\\n",
    "        \"AND dataproduct_subtype = 'lsst.deepCoadd_calexp' \" + \\\n",
    "        \"AND lsst_tract = \" + str(t) + \" \" + \\\n",
    "        \"AND lsst_patch = \" + str(p) + \" \" + \\\n",
    "        \"AND lsst_band = 'i' \"\n",
    "    results = tap_service.search(query) # THIS IS TAP SERVICE\n",
    "\n",
    "    #Get datalink\n",
    "    dataLinkUrl = results[0].getdataurl()\n",
    "    f\"Datalink link service url: {dataLinkUrl}\"\n",
    "    auth_session = service._session\n",
    "    dl_results = DatalinkResults.from_result_url(dataLinkUrl,session=auth_session)\n",
    "    f\"{dl_results.status}\"\n",
    "\n",
    "    sq = SodaQuery.from_resource(dl_results, dl_results.get_adhocservice_by_id(\"cutout-sync\"), \n",
    "                                 session=auth_session)\n",
    "\n",
    "    sq.circle = (spherePoint.getRa().asDegrees()* u.deg,\n",
    "                 spherePoint.getDec().asDegrees()*u.deg, \n",
    "                 cutout_size* u.deg)\n",
    "\n",
    "    sodaCutout = os.path.join(os.getenv('HOME'), 'DATA/soda-cutout.fits')\n",
    "    #with open(sodaCutout, 'bw') as f:\n",
    "    #    f.write(sq.execute_stream().read())\n",
    "    \n",
    "    return sodaCutout"
   ]
  },
  {
   "cell_type": "code",
   "execution_count": 6,
   "id": "251b9c36-f5d6-4633-b4c6-76e979448a68",
   "metadata": {
    "execution": {
     "iopub.execute_input": "2023-04-30T21:32:28.109452Z",
     "iopub.status.busy": "2023-04-30T21:32:28.108949Z",
     "iopub.status.idle": "2023-04-30T21:32:28.131718Z",
     "shell.execute_reply": "2023-04-30T21:32:28.130930Z",
     "shell.execute_reply.started": "2023-04-30T21:32:28.109428Z"
    },
    "tags": []
   },
   "outputs": [],
   "source": [
    "def make_image_cutout_TAPonly(tap_service, ra, dec, dataId, cutout_size=0.01):\n",
    "    \"\"\"Make a cutout using the cutout tool\n",
    "   \n",
    "   Parameters\n",
    "    ----------\n",
    "    # cutout_size is in degrees\n",
    "    # i think we need to add option to request calexp vs deepcoadd\n",
    "   # do not pass butler, should be able to get UUID from the TAP\n",
    "   Returns\n",
    "    -------\n",
    "    \n",
    "    \"\"\"\n",
    "\n",
    "    spherePoint = lsst.geom.SpherePoint(ra*geom.degrees, dec*geom.degrees)\n",
    "    \n",
    "    \n",
    "    ##### Needs replacing butler\n",
    "    \n",
    "    #registry = butler.registry\n",
    "    # Find the tract and patch that contain this point\n",
    "    #skymap = butler.get('skyMap')\n",
    "    #tract = skymap.findTract(spherePoint)\n",
    "    #patch = tract.findPatch(spherePoint)\n",
    "\n",
    "    # Now create a dataId from the tract, patch and filter information\n",
    "    #dataId = {'band':'i', 'tract':tract.tract_id, 'patch': patch.getSequentialIndex()}\n",
    "\n",
    "\n",
    "    # Need the UUID of the image for the cutout service \n",
    "    #datasetRef = registry.findDataset('deepCoadd_calexp', dataId)\n",
    "    #deepCoadd_uuid = datasetRef.id\n",
    "    #assert isinstance(deepCoadd_uuid, uuid.UUID)\n",
    "    #f\"UUID for deep coadd: {deepCoadd_uuid}\" # do we actually need the UUID?\n",
    "\n",
    "    #Get from dataID (needs to be fixed)\n",
    "    #t = tract.tract_id\n",
    "    #p = patch.getSequentialIndex()\n",
    "\n",
    "    ##### End needs replacing\n",
    "    \n",
    "    query = \"SELECT access_format, access_url, dataproduct_subtype, lsst_patch, lsst_tract, \" + \\\n",
    "        \"lsst_band, s_ra, s_dec FROM ivoa.ObsCore WHERE dataproduct_type = 'image' \" + \\\n",
    "        \"AND obs_collection = 'LSST.DP02' \" + \\\n",
    "        \"AND dataproduct_subtype = 'lsst.deepCoadd_calexp' \" + \\\n",
    "        \"AND lsst_tract = \" + str(t) + \" \" + \\\n",
    "        \"AND lsst_patch = \" + str(p) + \" \" + \\\n",
    "        \"AND lsst_band = 'i' \"\n",
    "    results = tap_service.search(query) # THIS IS TAP SERVICE\n",
    "    # \"AND dataproduct_subtype = 'lsst.calexp' \" + \\\n",
    "\n",
    "    #Get datalink\n",
    "    dataLinkUrl = results[0].getdataurl()\n",
    "    f\"Datalink link service url: {dataLinkUrl}\"\n",
    "    auth_session = service._session\n",
    "    dl_results = DatalinkResults.from_result_url(dataLinkUrl,session=auth_session)\n",
    "    f\"{dl_results.status}\"\n",
    "\n",
    "    sq = SodaQuery.from_resource(dl_results, dl_results.get_adhocservice_by_id(\"cutout-sync\"), \n",
    "                                 session=auth_session)\n",
    "\n",
    "    sq.circle = (spherePoint.getRa().asDegrees()* u.deg,\n",
    "                 spherePoint.getDec().asDegrees()*u.deg, \n",
    "                 cutout_size* u.deg)\n",
    "\n",
    "    sodaCutout = os.path.join(os.getenv('HOME'), 'DATA/soda-cutout.fits')\n",
    "    with open(sodaCutout, 'bw') as f:\n",
    "        f.write(sq.execute_stream().read())\n",
    "    \n",
    "    return sodaCutout"
   ]
  },
  {
   "cell_type": "code",
   "execution_count": 24,
   "id": "fe479acf-4d57-4111-a451-ca578279350e",
   "metadata": {
    "execution": {
     "iopub.execute_input": "2023-04-30T21:41:48.105804Z",
     "iopub.status.busy": "2023-04-30T21:41:48.105407Z",
     "iopub.status.idle": "2023-04-30T21:41:48.114547Z",
     "shell.execute_reply": "2023-04-30T21:41:48.113730Z",
     "shell.execute_reply.started": "2023-04-30T21:41:48.105778Z"
    },
    "tags": []
   },
   "outputs": [],
   "source": [
    "def make_image_cutout(butler, tap_service, ra, dec, cutout_size=0.01, imtype=None, visit=None, detector=None, filename=None):\n",
    "    \"\"\"Make a cutout using the cutout tool\n",
    "   \n",
    "   Parameters\n",
    "    ----------\n",
    "    # cutout_size is in degrees\n",
    "    # i think we need to add option to request calexp vs deepcoadd\n",
    "   \n",
    "   Returns\n",
    "    -------\n",
    "    \n",
    "    \"\"\"\n",
    "\n",
    "    spherePoint = geom.SpherePoint(ra*geom.degrees, dec*geom.degrees)\n",
    "    #registry = butler.registry\n",
    "    if imtype == 'calexp':\n",
    "        dataId = {'visit':visit, 'detector':detector}\n",
    "\n",
    "        query = \"SELECT access_format, access_url, dataproduct_subtype, lsst_visit, lsst_detector, \" + \\\n",
    "            \"lsst_band, s_ra, s_dec FROM ivoa.ObsCore WHERE dataproduct_type = 'image' \" + \\\n",
    "            \"AND obs_collection = 'LSST.DP02' \" + \\\n",
    "            \"AND dataproduct_subtype = 'lsst.calexp' \" + \\\n",
    "            \"AND lsst_visit = \" + str(visit) + \" \" + \\\n",
    "            \"AND lsst_detector = \" + str(detector)\n",
    "        results = tap_service.search(query) # THIS IS TAP SERVICE\n",
    "\n",
    "    else:\n",
    "        # Find the tract and patch that contain this point\n",
    "        skymap = butler.get('skyMap')\n",
    "        tract = skymap.findTract(spherePoint)\n",
    "        patch = tract.findPatch(spherePoint)\n",
    "\n",
    "        # Now create a dataId from the tract, patch and filter information\n",
    "        dataId = {'band':'i', 'tract':tract.tract_id, 'patch': patch.getSequentialIndex()}\n",
    "\n",
    "        #Get from dataID (needs to be fixed)\n",
    "        t = tract.tract_id\n",
    "        p = patch.getSequentialIndex()\n",
    "\n",
    "        query = \"SELECT access_format, access_url, dataproduct_subtype, lsst_patch, lsst_tract, \" + \\\n",
    "            \"lsst_band, s_ra, s_dec FROM ivoa.ObsCore WHERE dataproduct_type = 'image' \" + \\\n",
    "            \"AND obs_collection = 'LSST.DP02' \" + \\\n",
    "            \"AND dataproduct_subtype = 'lsst.deepCoadd_calexp' \" + \\\n",
    "            \"AND lsst_tract = \" + str(t) + \" \" + \\\n",
    "            \"AND lsst_patch = \" + str(p) + \" \" + \\\n",
    "            \"AND lsst_band = 'i' \"\n",
    "        results = tap_service.search(query) # THIS IS TAP SERVICE\n",
    "\n",
    "    #Get datalink\n",
    "    dataLinkUrl = results[0].getdataurl()\n",
    "    f\"Datalink link service url: {dataLinkUrl}\"\n",
    "    auth_session = service._session\n",
    "    dl_results = DatalinkResults.from_result_url(dataLinkUrl,session=auth_session)\n",
    "    f\"{dl_results.status}\"\n",
    "\n",
    "    sq = SodaQuery.from_resource(dl_results, dl_results.get_adhocservice_by_id(\"cutout-sync\"), \n",
    "                                 session=auth_session)\n",
    "\n",
    "    sq.circle = (spherePoint.getRa().asDegrees()* u.deg,\n",
    "                 spherePoint.getDec().asDegrees()*u.deg, \n",
    "                 cutout_size* u.deg)\n",
    "\n",
    "    #sodaCutout = os.path.join(os.getenv('HOME'), 'DATA/soda-cutout.fits')\n",
    "    if filename:\n",
    "        #sodaCutout = 'cutouts/'+filename\n",
    "        sodaCutout = os.path.join(os.getenv('HOME'), 'DATA/'+filename)\n",
    "    else:\n",
    "        #sodaCutout = 'cutouts/soda-cutout.fits'\n",
    "        sodaCutout = os.path.join(os.getenv('HOME'), 'DATA/soda-cutout.fits')\n",
    "\n",
    "    #with open(sodaCutout, 'bw') as f:\n",
    "    #    f.write(sq.execute_stream().read())\n",
    "    \n",
    "    return sq #sodaCutout\n"
   ]
  },
  {
   "cell_type": "markdown",
   "id": "ec51ac0b",
   "metadata": {
    "tags": []
   },
   "source": [
    "## 2. Section Heading\n",
    "\n",
    "_Use numbers for sections, sub-sections, and sub-sub-sections to enable referencing, e.g., \"I'm having trouble with the second code cell in Section 2.3.\"_\n",
    "\n",
    "_Use section titles that actively describe what is being done, e.g., \"Create a color-magnitude diagram\" instead of \"Plot\", so that the auto-generated table of contents is easy to navigate._\n",
    "\n",
    "### 2.1 Section Sub-heading\n",
    "\n",
    "#### 2.1.1 Section Sub-sub-heading"
   ]
  },
  {
   "cell_type": "code",
   "execution_count": 8,
   "id": "81b8cd59-1ba3-4eaa-846f-6478ed0c3cf5",
   "metadata": {
    "execution": {
     "iopub.execute_input": "2023-04-30T21:32:28.156738Z",
     "iopub.status.busy": "2023-04-30T21:32:28.156310Z",
     "iopub.status.idle": "2023-04-30T21:32:28.210544Z",
     "shell.execute_reply": "2023-04-30T21:32:28.209553Z",
     "shell.execute_reply.started": "2023-04-30T21:32:28.156716Z"
    }
   },
   "outputs": [],
   "source": [
    "# Set afw display backend to matplotlib\n",
    "afwDisplay.setDefaultBackend('matplotlib')\n",
    "\n",
    "# Set the maximum number of rows to display from pandas\n",
    "pandas.set_option('display.max_rows', 20)"
   ]
  },
  {
   "cell_type": "code",
   "execution_count": 9,
   "id": "8e2c2786-f021-46df-a967-79084572a1cc",
   "metadata": {
    "execution": {
     "iopub.execute_input": "2023-04-30T21:32:28.211950Z",
     "iopub.status.busy": "2023-04-30T21:32:28.211680Z",
     "iopub.status.idle": "2023-04-30T21:32:31.343485Z",
     "shell.execute_reply": "2023-04-30T21:32:31.342556Z",
     "shell.execute_reply.started": "2023-04-30T21:32:28.211929Z"
    }
   },
   "outputs": [],
   "source": [
    "butler = Butler('dp02', collections='2.2i/runs/DP0.2')\n",
    "registry = butler.registry\n",
    "#butler = Butler(config, collections=collection)\n"
   ]
  },
  {
   "cell_type": "code",
   "execution_count": 10,
   "id": "f632c1bc-44dd-4dff-9f29-3e63bf89428d",
   "metadata": {
    "execution": {
     "iopub.execute_input": "2023-04-30T21:32:31.344886Z",
     "iopub.status.busy": "2023-04-30T21:32:31.344611Z",
     "iopub.status.idle": "2023-04-30T21:32:31.428026Z",
     "shell.execute_reply": "2023-04-30T21:32:31.427009Z",
     "shell.execute_reply.started": "2023-04-30T21:32:31.344865Z"
    }
   },
   "outputs": [],
   "source": [
    "service = get_tap_service()"
   ]
  },
  {
   "cell_type": "code",
   "execution_count": 11,
   "id": "cdc11b12-7c0b-4ab8-88b0-06787ffd9fe8",
   "metadata": {
    "execution": {
     "iopub.execute_input": "2023-04-30T21:32:31.429502Z",
     "iopub.status.busy": "2023-04-30T21:32:31.429126Z",
     "iopub.status.idle": "2023-04-30T21:32:37.437020Z",
     "shell.execute_reply": "2023-04-30T21:32:37.436207Z",
     "shell.execute_reply.started": "2023-04-30T21:32:31.429479Z"
    },
    "tags": []
   },
   "outputs": [
    {
     "data": {
      "text/plain": [
       "'Tract: 2908, Patch: 12'"
      ]
     },
     "execution_count": 11,
     "metadata": {},
     "output_type": "execute_result"
    }
   ],
   "source": [
    "# galaxy cluster:\n",
    "#ra = 55.7467 \n",
    "#dec = -32.2862\n",
    "\n",
    "# vairable star from tutorial 07b\n",
    "#ra_known_rrl  = 62.1479031\n",
    "#dec_known_rrl  = -35.799138\n",
    "\n",
    "# random DIAobject from a testing code (this ra/dec don't work for some reason\n",
    "ra = 72.5383603\n",
    "dec = -44.4248533\n",
    "diaObjectId = 1253478440036730088\n",
    "\n",
    "# Define a spatial point\n",
    "spherePoint = lsst.geom.SpherePoint(ra*geom.degrees, dec*geom.degrees)\n",
    "\n",
    "#55.75067151347799 -32.27781914678513\n",
    "\n",
    "# Find the tract and patch that contain this point\n",
    "skymap = butler.get('skyMap') # skymap is used for coadd projection\n",
    "tract = skymap.findTract(spherePoint)\n",
    "patch = tract.findPatch(spherePoint)\n",
    "\n",
    "# Now create a dataId from the tract, patch and filter information\n",
    "dataId = {'band':'i', 'tract':tract.tract_id, 'patch': patch.getSequentialIndex()}\n",
    "\n",
    "# And use the dataid to get the coadd\n",
    "deepCoadd = butler.get('deepCoadd_calexp', dataId=dataId)\n",
    "\n",
    "assert type(deepCoadd) == lsst.afw.image.exposure.ExposureF\n",
    "f\"Tract: {tract.tract_id}, Patch: {patch.getSequentialIndex()}\"\n",
    "\n",
    "\n",
    "# Select all images in a region\n",
    "#query = \"\"\"SELECT * FROM ivoa.ObsCore \n",
    "#WHERE dataproduct_type = 'image'\n",
    "#AND obs_collection = 'LSST.DP02' \n",
    "#AND dataproduct_subtype = 'lsst.deepCoadd_calexp'\n",
    "#AND CONTAINS(POINT('ICRS', 55.74673760481304, -32.286155241413624), s_region)=1 \n",
    "#\"\"\"\n",
    "#results = service.search(query).to_table()\n",
    "#results[1]\n",
    "#results.to_table().show_in_notebook()"
   ]
  },
  {
   "cell_type": "code",
   "execution_count": 12,
   "id": "4666ad37-43d3-4067-9dc0-0fd914b62f54",
   "metadata": {
    "execution": {
     "iopub.execute_input": "2023-04-30T21:32:37.438379Z",
     "iopub.status.busy": "2023-04-30T21:32:37.438099Z",
     "iopub.status.idle": "2023-04-30T21:32:37.441704Z",
     "shell.execute_reply": "2023-04-30T21:32:37.441047Z",
     "shell.execute_reply.started": "2023-04-30T21:32:37.438358Z"
    }
   },
   "outputs": [],
   "source": [
    "# THIS CELL IS NOT ACTUALLY NEEDED\n",
    "# Need the UUID of the image for the cutout service \n",
    "# registry is the butler\n",
    "#datasetRef = registry.findDataset('deepCoadd_calexp', dataId)\n",
    "#deepCoadd_uuid = datasetRef.id\n",
    "#assert isinstance(deepCoadd_uuid, uuid.UUID)\n",
    "#f\"UUID for deep coadd: {deepCoadd_uuid}\""
   ]
  },
  {
   "cell_type": "code",
   "execution_count": 13,
   "id": "fb213be4-68b9-420a-9c1c-f7af57ab7e7f",
   "metadata": {
    "execution": {
     "iopub.execute_input": "2023-04-30T21:32:37.443133Z",
     "iopub.status.busy": "2023-04-30T21:32:37.442651Z",
     "iopub.status.idle": "2023-04-30T21:32:37.462747Z",
     "shell.execute_reply": "2023-04-30T21:32:37.461966Z",
     "shell.execute_reply.started": "2023-04-30T21:32:37.443110Z"
    }
   },
   "outputs": [],
   "source": [
    "# old query that did not automate tract and patch so you can change ra/dec:\n",
    "# Now lets retrieve the deep coadd from previously as well as one of the visit images that \n",
    "##query = \"\"\"SELECT access_format, access_url, dataproduct_subtype, lsst_patch, lsst_tract, lsst_band, s_ra, s_dec\n",
    "#FROM ivoa.ObsCore \n",
    "##WHERE dataproduct_type = 'image'\n",
    "#AND obs_collection = 'LSST.DP02' \n",
    "#AND dataproduct_subtype = 'lsst.deepCoadd_calexp'\n",
    "#AND lsst_tract = 4431\n",
    "#AND lsst_patch = 17\n",
    "#AND lsst_band = 'i'\n",
    "#\"\"\""
   ]
  },
  {
   "cell_type": "code",
   "execution_count": 14,
   "id": "2991ef70-d628-4c2f-b2d4-5f403a798556",
   "metadata": {
    "execution": {
     "iopub.execute_input": "2023-04-30T21:32:37.466353Z",
     "iopub.status.busy": "2023-04-30T21:32:37.465876Z",
     "iopub.status.idle": "2023-04-30T21:32:37.663759Z",
     "shell.execute_reply": "2023-04-30T21:32:37.663094Z",
     "shell.execute_reply.started": "2023-04-30T21:32:37.466328Z"
    },
    "tags": []
   },
   "outputs": [
    {
     "name": "stdout",
     "output_type": "stream",
     "text": [
      "2908 12\n"
     ]
    },
    {
     "data": {
      "text/html": [
       "<i>Table length=1</i>\n",
       "<table id=\"table140516183787552-188956\" class=\"table-striped table-bordered table-condensed\">\n",
       "<thead><tr><th>idx</th><th>access_format</th><th>access_url</th><th>dataproduct_subtype</th><th>lsst_patch</th><th>lsst_tract</th><th>lsst_band</th><th>s_ra</th><th>s_dec</th></tr></thead>\n",
       "<thead><tr><th></th><th></th><th></th><th></th><th></th><th></th><th></th><th>deg</th><th>deg</th></tr></thead>\n",
       "<tr><td>0</td><td>application/x-votable+xml;content=datalink</td><td>https://data.lsst.cloud/api/datalink/links?ID=butler%3A//dp02/746c0042-931d-4454-b193-4981aee12163</td><td>lsst.deepCoadd_calexp</td><td>12</td><td>2908</td><td>i</td><td>72.59904385606393</td><td>-44.327018973175484</td></tr>\n",
       "</table><style>table.dataTable {clear: both; width: auto !important; margin: 0 !important;}\n",
       ".dataTables_info, .dataTables_length, .dataTables_filter, .dataTables_paginate{\n",
       "display: inline-block; margin-right: 1em; }\n",
       ".paginate_button { margin-right: 5px; }\n",
       "</style>\n",
       "<script>\n",
       "\n",
       "var astropy_sort_num = function(a, b) {\n",
       "    var a_num = parseFloat(a);\n",
       "    var b_num = parseFloat(b);\n",
       "\n",
       "    if (isNaN(a_num) && isNaN(b_num))\n",
       "        return ((a < b) ? -1 : ((a > b) ? 1 : 0));\n",
       "    else if (!isNaN(a_num) && !isNaN(b_num))\n",
       "        return ((a_num < b_num) ? -1 : ((a_num > b_num) ? 1 : 0));\n",
       "    else\n",
       "        return isNaN(a_num) ? -1 : 1;\n",
       "}\n",
       "\n",
       "require.config({paths: {\n",
       "    datatables: 'https://cdn.datatables.net/1.10.12/js/jquery.dataTables.min'\n",
       "}});\n",
       "require([\"datatables\"], function(){\n",
       "    console.log(\"$('#table140516183787552-188956').dataTable()\");\n",
       "    \n",
       "jQuery.extend( jQuery.fn.dataTableExt.oSort, {\n",
       "    \"optionalnum-asc\": astropy_sort_num,\n",
       "    \"optionalnum-desc\": function (a,b) { return -astropy_sort_num(a, b); }\n",
       "});\n",
       "\n",
       "    $('#table140516183787552-188956').dataTable({\n",
       "        order: [],\n",
       "        pageLength: 50,\n",
       "        lengthMenu: [[10, 25, 50, 100, 500, 1000, -1], [10, 25, 50, 100, 500, 1000, 'All']],\n",
       "        pagingType: \"full_numbers\",\n",
       "        columnDefs: [{targets: [0, 4, 5, 7, 8], type: \"optionalnum\"}]\n",
       "    });\n",
       "});\n",
       "</script>\n"
      ],
      "text/plain": [
       "<IPython.core.display.HTML object>"
      ]
     },
     "execution_count": 14,
     "metadata": {},
     "output_type": "execute_result"
    }
   ],
   "source": [
    "t = tract.tract_id\n",
    "p = patch.getSequentialIndex()\n",
    "\n",
    "print(tract.tract_id, patch.getSequentialIndex())\n",
    "\n",
    "query = \"SELECT access_format, access_url, dataproduct_subtype, lsst_patch, lsst_tract, \" + \\\n",
    "    \"lsst_band, s_ra, s_dec FROM ivoa.ObsCore WHERE dataproduct_type = 'image' \" + \\\n",
    "    \"AND obs_collection = 'LSST.DP02' \" + \\\n",
    "    \"AND dataproduct_subtype = 'lsst.deepCoadd_calexp' \" + \\\n",
    "    \"AND lsst_tract = \" + str(t) + \" \" + \\\n",
    "    \"AND lsst_patch = \" + str(p) + \" \" + \\\n",
    "    \"AND lsst_band = 'i' \"\n",
    "    \n",
    "results = service.search(query)\n",
    "results.to_table().show_in_notebook()"
   ]
  },
  {
   "cell_type": "markdown",
   "id": "996dd37e-7c19-4796-8b19-5362d347bc29",
   "metadata": {},
   "source": [
    "## Datalink stuff goes here:\n"
   ]
  },
  {
   "cell_type": "code",
   "execution_count": 15,
   "id": "eb4b029f-f4b5-4f51-8483-96608c2711ae",
   "metadata": {
    "execution": {
     "iopub.execute_input": "2023-04-30T21:32:37.664923Z",
     "iopub.status.busy": "2023-04-30T21:32:37.664680Z",
     "iopub.status.idle": "2023-04-30T21:32:37.867681Z",
     "shell.execute_reply": "2023-04-30T21:32:37.867043Z",
     "shell.execute_reply.started": "2023-04-30T21:32:37.664904Z"
    },
    "tags": []
   },
   "outputs": [
    {
     "data": {
      "text/plain": [
       "\"('OK', 'QUERY_STATUS not specified')\""
      ]
     },
     "execution_count": 15,
     "metadata": {},
     "output_type": "execute_result"
    }
   ],
   "source": [
    "dataLinkUrl = results[0].getdataurl()\n",
    "f\"Datalink link service url: {dataLinkUrl}\"\n",
    "auth_session = service._session\n",
    "dl_results = DatalinkResults.from_result_url(dataLinkUrl,session=auth_session)\n",
    "f\"{dl_results.status}\""
   ]
  },
  {
   "cell_type": "markdown",
   "id": "bb03b3a3-d067-4e36-bc9b-754d966c1477",
   "metadata": {},
   "source": [
    "## here is where the cutout tool code starts:"
   ]
  },
  {
   "cell_type": "code",
   "execution_count": 16,
   "id": "1c667776-5f21-4879-b743-89b89b78337d",
   "metadata": {
    "execution": {
     "iopub.execute_input": "2023-04-30T21:32:37.868810Z",
     "iopub.status.busy": "2023-04-30T21:32:37.868581Z",
     "iopub.status.idle": "2023-04-30T21:32:37.872252Z",
     "shell.execute_reply": "2023-04-30T21:32:37.871624Z",
     "shell.execute_reply.started": "2023-04-30T21:32:37.868792Z"
    },
    "tags": []
   },
   "outputs": [],
   "source": [
    "sq = SodaQuery.from_resource(dl_results, dl_results.get_adhocservice_by_id(\"cutout-sync\"), \n",
    "                             session=auth_session)\n"
   ]
  },
  {
   "cell_type": "code",
   "execution_count": 17,
   "id": "6b0a1f71-4e35-4e16-9b5f-78c8498988f0",
   "metadata": {
    "execution": {
     "iopub.execute_input": "2023-04-30T21:32:37.873288Z",
     "iopub.status.busy": "2023-04-30T21:32:37.872999Z",
     "iopub.status.idle": "2023-04-30T21:32:37.895707Z",
     "shell.execute_reply": "2023-04-30T21:32:37.895109Z",
     "shell.execute_reply.started": "2023-04-30T21:32:37.873271Z"
    },
    "tags": []
   },
   "outputs": [],
   "source": [
    "# only 2 shapes supported: circle and polygon. for some reason circle plots as a square (??)\n",
    "\n",
    "# first do a circle\n",
    "sphereRadius = 0.03* u.deg\n",
    "\n",
    "# sq = sodaquery opened earlier\n",
    "# Defined spatial point was done earlier using spherePoint:\n",
    "# spherePoint = lsst.geom.SpherePoint(ra*geom.degrees, dec*geom.degrees)\n",
    "\n",
    "#Example: a circle at (12,34) with radius 0.5:\n",
    "#CIRCLE=12 34 0.5\n",
    "\n",
    "\n",
    "sq.circle = (spherePoint.getRa().asDegrees()* u.deg,\n",
    "             spherePoint.getDec().asDegrees()*u.deg, \n",
    "             sphereRadius)\n"
   ]
  },
  {
   "cell_type": "code",
   "execution_count": 19,
   "id": "025814cf-ab4c-4a5a-9b01-b5ecaa6f0a69",
   "metadata": {
    "execution": {
     "iopub.execute_input": "2023-04-30T21:34:23.147687Z",
     "iopub.status.busy": "2023-04-30T21:34:23.146782Z",
     "iopub.status.idle": "2023-04-30T21:34:23.181267Z",
     "shell.execute_reply": "2023-04-30T21:34:23.180344Z",
     "shell.execute_reply.started": "2023-04-30T21:34:23.147656Z"
    },
    "tags": []
   },
   "outputs": [
    {
     "ename": "TypeError",
     "evalue": "No registered subclass for {'dtype': None}.",
     "output_type": "error",
     "traceback": [
      "\u001b[0;31m---------------------------------------------------------------------------\u001b[0m",
      "\u001b[0;31mTypeError\u001b[0m                                 Traceback (most recent call last)",
      "Input \u001b[0;32mIn [19]\u001b[0m, in \u001b[0;36m<cell line: 14>\u001b[0;34m()\u001b[0m\n\u001b[1;32m      9\u001b[0m sodaCutout \u001b[38;5;241m=\u001b[39m os\u001b[38;5;241m.\u001b[39mpath\u001b[38;5;241m.\u001b[39mjoin(os\u001b[38;5;241m.\u001b[39mgetenv(\u001b[38;5;124m'\u001b[39m\u001b[38;5;124mHOME\u001b[39m\u001b[38;5;124m'\u001b[39m), \u001b[38;5;124m'\u001b[39m\u001b[38;5;124mDATA/soda-cutout.fits\u001b[39m\u001b[38;5;124m'\u001b[39m)\n\u001b[1;32m     10\u001b[0m \u001b[38;5;66;03m#with open(sodaCutout, 'bw') as f:\u001b[39;00m\n\u001b[1;32m     11\u001b[0m \u001b[38;5;66;03m#    f.write(sq.execute_stream().read())\u001b[39;00m\n\u001b[1;32m     12\u001b[0m     \n\u001b[1;32m     13\u001b[0m \u001b[38;5;66;03m# Display the cutout\u001b[39;00m\n\u001b[0;32m---> 14\u001b[0m plotImage(\u001b[43mExposure\u001b[49m\u001b[43m(\u001b[49m\u001b[43msodaCutout\u001b[49m\u001b[43m)\u001b[49m)\n\u001b[1;32m     16\u001b[0m \u001b[38;5;66;03m#\u001b[39;00m\n",
      "File \u001b[0;32m/opt/lsst/software/stack/stack/miniconda3-py38_4.9.2-5.1.0/Linux64/utils/g9926e89ca5+62d12e78cb/python/lsst/utils/wrappers.py:300\u001b[0m, in \u001b[0;36mTemplateMeta.__call__\u001b[0;34m(cls, *args, **kwds)\u001b[0m\n\u001b[1;32m    298\u001b[0m \u001b[38;5;28;01mif\u001b[39;00m clz \u001b[38;5;129;01mis\u001b[39;00m \u001b[38;5;28;01mNone\u001b[39;00m:\n\u001b[1;32m    299\u001b[0m     d \u001b[38;5;241m=\u001b[39m {k: v \u001b[38;5;28;01mfor\u001b[39;00m k, v \u001b[38;5;129;01min\u001b[39;00m \u001b[38;5;28mzip\u001b[39m(\u001b[38;5;28mcls\u001b[39m\u001b[38;5;241m.\u001b[39mTEMPLATE_PARAMS, key)}\n\u001b[0;32m--> 300\u001b[0m     \u001b[38;5;28;01mraise\u001b[39;00m \u001b[38;5;167;01mTypeError\u001b[39;00m(\u001b[38;5;124m\"\u001b[39m\u001b[38;5;124mNo registered subclass for \u001b[39m\u001b[38;5;132;01m{}\u001b[39;00m\u001b[38;5;124m.\u001b[39m\u001b[38;5;124m\"\u001b[39m\u001b[38;5;241m.\u001b[39mformat(d))\n\u001b[1;32m    301\u001b[0m \u001b[38;5;28;01mreturn\u001b[39;00m clz(\u001b[38;5;241m*\u001b[39margs, \u001b[38;5;241m*\u001b[39m\u001b[38;5;241m*\u001b[39mkwds)\n",
      "\u001b[0;31mTypeError\u001b[0m: No registered subclass for {'dtype': None}."
     ]
    }
   ],
   "source": [
    "\n",
    "\n",
    "sodaCutout = os.path.join(os.getenv('HOME'), 'DATA/soda-cutout.fits')\n",
    "#with open(sodaCutout, 'bw') as f:\n",
    "#    f.write(sq.execute_stream().read())\n",
    "    \n",
    "# Display the cutout\n",
    "plotImage(ExposureF(sodaCutout))\n",
    "\n",
    "#"
   ]
  },
  {
   "cell_type": "code",
   "execution_count": null,
   "id": "ef262797-3af1-48fb-955a-7a3d2ebe4c55",
   "metadata": {
    "execution": {
     "iopub.status.busy": "2023-04-30T21:32:38.037449Z",
     "iopub.status.idle": "2023-04-30T21:32:38.037736Z",
     "shell.execute_reply": "2023-04-30T21:32:38.037617Z",
     "shell.execute_reply.started": "2023-04-30T21:32:38.037605Z"
    },
    "tags": []
   },
   "outputs": [],
   "source": [
    "#Alternatively can use polygon to define a region. Actually, circle is easier because there's less to define\n",
    "#and it looks like \"radius\" is also half of the box edge. Here's a demonstration using polygon.\n",
    "\n",
    "#Example: a polygon from (12,34) to (14,34) to (14,36) to (12,36) and (implicitly) back to (12,34):\n",
    "#POLYGON=12 34 14 34 14 36 12 36\n",
    "sq2 = SodaQuery.from_resource(dl_results, dl_results.get_adhocservice_by_id(\"cutout-sync\"), \n",
    "                             session=auth_session)\n",
    "sphereRadius2 = 0.01* u.deg\n",
    "\n",
    "sq2.polygon = (spherePoint.getRa().asDegrees()* u.deg - sphereRadius2,\n",
    "              spherePoint.getDec().asDegrees()*u.deg - sphereRadius2,\n",
    "              spherePoint.getRa().asDegrees()* u.deg - sphereRadius2,\n",
    "              spherePoint.getDec().asDegrees()*u.deg + sphereRadius2,\n",
    "              spherePoint.getRa().asDegrees()* u.deg + sphereRadius2,\n",
    "              spherePoint.getDec().asDegrees()*u.deg + sphereRadius2)\n",
    "              #spherePoint.getRa().asDegrees()* u.deg + sphereRadius2,\n",
    "              #spherePoint.getDec().asDegrees()*u.deg - sphereRadius2)\n",
    "\n",
    "        \n",
    "    # ask leanne about shapes and why there are 2 types (and why they are all squares)\n",
    "\n",
    "sodaCutout2 = os.path.join(os.getenv('HOME'), 'DATA/soda-cutout.fits')\n",
    "#with open(sodaCutout2, 'bw') as f:\n",
    "#    f.write(sq2.execute_stream().read())\n",
    "    \n",
    "# Display the cutout\n",
    "plotImage(ExposureF(sodaCutout2))\n",
    "\n"
   ]
  },
  {
   "cell_type": "markdown",
   "id": "c53ba0bc-91c2-4576-8014-4e008929d50c",
   "metadata": {},
   "source": [
    "### 2.1 Test out a wrapper function \"make_image_cutout\" defined above, so we can do all the above operations in one go\n",
    "IT WORKS :-D"
   ]
  },
  {
   "cell_type": "code",
   "execution_count": 25,
   "id": "69f22630-46c2-48c8-bcf6-6899280f91b2",
   "metadata": {
    "execution": {
     "iopub.execute_input": "2023-04-30T21:42:02.375419Z",
     "iopub.status.busy": "2023-04-30T21:42:02.374285Z",
     "iopub.status.idle": "2023-04-30T21:42:02.838117Z",
     "shell.execute_reply": "2023-04-30T21:42:02.837214Z",
     "shell.execute_reply.started": "2023-04-30T21:42:02.375382Z"
    },
    "tags": []
   },
   "outputs": [
    {
     "ename": "RuntimeError",
     "evalue": "Unsupported type {'ID': 'butler://dp02/746c0042-931d-4454-b193-4981aee12163', 'CIRCLE': '72.5383603 -44.4248533 0.005'}",
     "output_type": "error",
     "traceback": [
      "\u001b[0;31m---------------------------------------------------------------------------\u001b[0m",
      "\u001b[0;31mRuntimeError\u001b[0m                              Traceback (most recent call last)",
      "Input \u001b[0;32mIn [25]\u001b[0m, in \u001b[0;36m<cell line: 8>\u001b[0;34m()\u001b[0m\n\u001b[1;32m      6\u001b[0m display \u001b[38;5;241m=\u001b[39m afwDisplay\u001b[38;5;241m.\u001b[39mDisplay(frame\u001b[38;5;241m=\u001b[39mfig)\n\u001b[1;32m      7\u001b[0m display\u001b[38;5;241m.\u001b[39mscale(\u001b[38;5;124m'\u001b[39m\u001b[38;5;124masinh\u001b[39m\u001b[38;5;124m'\u001b[39m, \u001b[38;5;124m'\u001b[39m\u001b[38;5;124mzscale\u001b[39m\u001b[38;5;124m'\u001b[39m)\n\u001b[0;32m----> 8\u001b[0m \u001b[43mdisplay\u001b[49m\u001b[38;5;241;43m.\u001b[39;49m\u001b[43mmtv\u001b[49m\u001b[43m(\u001b[49m\u001b[43mtest\u001b[49m\u001b[43m)\u001b[49m\n\u001b[1;32m      9\u001b[0m \u001b[38;5;66;03m#print(test)\u001b[39;00m\n\u001b[1;32m     10\u001b[0m plt\u001b[38;5;241m.\u001b[39mshow()\n",
      "File \u001b[0;32m/opt/lsst/software/stack/stack/miniconda3-py38_4.9.2-5.1.0/Linux64/afw/g093c4c12c6+579e1af31e/python/lsst/afw/display/interface.py:576\u001b[0m, in \u001b[0;36mDisplay.mtv\u001b[0;34m(self, data, title, wcs)\u001b[0m\n\u001b[1;32m    574\u001b[0m     \u001b[38;5;28mself\u001b[39m\u001b[38;5;241m.\u001b[39m_impl\u001b[38;5;241m.\u001b[39m_mtv(data\u001b[38;5;241m.\u001b[39mgetImage(), data\u001b[38;5;241m.\u001b[39mgetMask(), wcs, title)\n\u001b[1;32m    575\u001b[0m \u001b[38;5;28;01melse\u001b[39;00m:\n\u001b[0;32m--> 576\u001b[0m     \u001b[38;5;28;01mraise\u001b[39;00m \u001b[38;5;167;01mRuntimeError\u001b[39;00m(\u001b[38;5;124mf\u001b[39m\u001b[38;5;124m\"\u001b[39m\u001b[38;5;124mUnsupported type \u001b[39m\u001b[38;5;132;01m{\u001b[39;00mdata\u001b[38;5;132;01m!r}\u001b[39;00m\u001b[38;5;124m\"\u001b[39m)\n",
      "\u001b[0;31mRuntimeError\u001b[0m: Unsupported type {'ID': 'butler://dp02/746c0042-931d-4454-b193-4981aee12163', 'CIRCLE': '72.5383603 -44.4248533 0.005'}"
     ]
    },
    {
     "data": {
      "text/plain": [
       "<Figure size 600x600 with 0 Axes>"
      ]
     },
     "metadata": {},
     "output_type": "display_data"
    }
   ],
   "source": [
    "# Test our new function wrapper for the cutout service! IT WORKS :-D\n",
    "\n",
    "\n",
    "test = make_image_cutout(butler, service, ra, dec, cutout_size=0.005)\n",
    "fig = plt.figure()\n",
    "display = afwDisplay.Display(frame=fig)\n",
    "display.scale('asinh', 'zscale')\n",
    "display.mtv(test)\n",
    "#print(test)\n",
    "plt.show()\n",
    "\n",
    "#plotImage(ExposureF(test))\n",
    "\n"
   ]
  },
  {
   "cell_type": "code",
   "execution_count": null,
   "id": "6ac7084f-22a0-4d4d-af66-fd027b7cf1d3",
   "metadata": {
    "execution": {
     "iopub.status.busy": "2023-04-30T21:32:38.040034Z",
     "iopub.status.idle": "2023-04-30T21:32:38.040339Z",
     "shell.execute_reply": "2023-04-30T21:32:38.040213Z",
     "shell.execute_reply.started": "2023-04-30T21:32:38.040201Z"
    },
    "tags": []
   },
   "outputs": [],
   "source": [
    "#test2 = make_image_cutout(service, dataid, cutout_size=0.005)\n",
    "#plotImage(ExposureF(test))\n",
    "# dataId is for the butler, so don't send?\n",
    "print(dataId.values())"
   ]
  },
  {
   "cell_type": "markdown",
   "id": "6f5111d5-82a2-43ec-b4a8-daafdda10e72",
   "metadata": {},
   "source": [
    "## 3. Creating cutouts of changing flux for the diaObject\n",
    "\n",
    "_Use numbers for sections, sub-sections, and sub-sub-sections to enable referencing, e.g., \"I'm having trouble with the second code cell in Section 2.3.\"_\n",
    "\n",
    "_Use section titles that actively describe what is being done, e.g., \"Create a color-magnitude diagram\" instead of \"Plot\", so that the auto-generated table of contents is easy to navigate._\n",
    "\n",
    "### 3.1 Section Sub-heading\n",
    "\n",
    "#### 3.1.1 Section Sub-sub-heading"
   ]
  },
  {
   "cell_type": "code",
   "execution_count": null,
   "id": "a6d082ba-b56c-493a-b844-35d6cc2d770c",
   "metadata": {
    "execution": {
     "iopub.status.busy": "2023-04-30T21:32:38.041271Z",
     "iopub.status.idle": "2023-04-30T21:32:38.041539Z",
     "shell.execute_reply": "2023-04-30T21:32:38.041426Z",
     "shell.execute_reply.started": "2023-04-30T21:32:38.041415Z"
    }
   },
   "outputs": [],
   "source": [
    "# find the source by matching the source ID, which gives you the exact source\n",
    "query = \"SELECT TOP \" + str(100) + \" \" + \\\n",
    "        \"diaObjectId, ra, decl, coord_ra, coord_dec, ccdVisitId \" + \\\n",
    "        \"FROM dp02_dc2_catalogs.DiaSource \" + \\\n",
    "        \"WHERE diaObjectId = \" + str(diaObjectId) + \" \"\n",
    "\n",
    "# can get filter and MJD from diasource? If so, then maybe you don't have to do the next cell search\n",
    "# ccdVisitId = visitid+detector where detector starts with 001\n",
    "# or could join on ccdVisitId (check if this is an optioN).\n",
    "\n",
    "print(diaObjectId)\n",
    "visits = service.search(query)\n",
    "my_tab = visits.to_table()#.to_pandas()\n",
    "#my_tab['test'] = np.zeros(len(ccdvisit))\n",
    "\n",
    "# adding cols to pandas tables should be straitforward\n",
    "# should be able to join the diasource with ccdvisitid tables. join on ccdvisitid \n",
    "# adql functionality join will do it. see notebook 02."
   ]
  },
  {
   "cell_type": "code",
   "execution_count": null,
   "id": "ce91a42a-45d1-4906-b4ec-b6603e6d0ed4",
   "metadata": {
    "execution": {
     "iopub.status.busy": "2023-04-30T21:32:38.042792Z",
     "iopub.status.idle": "2023-04-30T21:32:38.043069Z",
     "shell.execute_reply": "2023-04-30T21:32:38.042948Z",
     "shell.execute_reply.started": "2023-04-30T21:32:38.042937Z"
    },
    "tags": []
   },
   "outputs": [],
   "source": [
    "# ccdvisittable is a separate catalog that contains all observations and I could use that to extract further info. \n",
    "# get detector and visit from ccdvisittable using ccdvisitid. \n",
    "\n",
    "ccdqu = \"SELECT \"  + \\\n",
    "        \"ccdVisitId, visitId, physical_filter, band, detector, obsStartMJD \" + \\\n",
    "        \"FROM dp02_dc2_catalogs.CcdVisit \" + \\\n",
    "        \"WHERE ccdVisitId = \" + str(visits['ccdVisitId'][0]) + \" \"\n",
    "\n",
    "# here you have to search on band\n",
    "# could also return all bands so that you plot all r band and all i band etc sorted by mjd.\n",
    "# make a colored outline or label the filter int he cutout or something.\n",
    "# or, chronological order for 1 filter\n",
    "# user case: want to see if any of the images are bad and so see \n",
    "\n",
    "ccdvisit = service.search(ccdqu)\n",
    "ccdvisit.to_table().to_pandas()\n",
    "print(ccdvisit)\n",
    "\n",
    "my_tab['test'] = np.zeros(len(ccdvisit))"
   ]
  },
  {
   "cell_type": "code",
   "execution_count": null,
   "id": "80833208-b104-4aeb-8632-de4e25584df7",
   "metadata": {
    "execution": {
     "iopub.status.busy": "2023-04-30T21:32:38.044141Z",
     "iopub.status.idle": "2023-04-30T21:32:38.044432Z",
     "shell.execute_reply": "2023-04-30T21:32:38.044314Z",
     "shell.execute_reply.started": "2023-04-30T21:32:38.044302Z"
    },
    "tags": []
   },
   "outputs": [],
   "source": [
    "# Write a loop to add these values into one table, so that we can then sort by MJD\n",
    "# visits = DiaObjs\n",
    "#print(visits, len(visits))\n",
    "my_tab['MJD'] = np.zeros(len(visits), dtype='float')\n",
    "#visits.assign(MJD=0).head()\n",
    "my_tab['visit'] = np.zeros(len(visits), dtype='float')\n",
    "my_tab['ccdVisitId_test'] = np.zeros(len(visits), dtype='float')\n",
    "my_tab['detector'] = np.zeros(len(visits), dtype='float')\n",
    "my_tab['band'] = np.zeros(len(visits), dtype='float')\n",
    "\n",
    "# Specify the calexp that we are accessing\n",
    "#dataId = {'visit': 192350, 'detector': 175, 'band': 'i'}\n",
    "# Retrieve the data using the `butler` instance and its function `get()`\n",
    "#calexp = butler.get('calexp', **dataId)\n",
    "\n",
    "\n",
    "#dont' forget to check Melissa's test NB about imaging in slack\n",
    "for j in enumerate(visits['ccdVisitId']):\n",
    "    #print(j)\n",
    "    ccdqu = \"SELECT \"  + \\\n",
    "        \"ccdVisitId, visitId, physical_filter, band, detector, obsStartMJD \" + \\\n",
    "        \"FROM dp02_dc2_catalogs.CcdVisit \" + \\\n",
    "        \"WHERE ccdVisitId = \" + str(j[1]) + \" \" # AND band = 'r' ?\n",
    "    ccdvisit = service.search(ccdqu).to_table().to_pandas()\n",
    "    print(ccdvisit['band'])\n",
    "\n",
    "    #FSDiaObj['expMidptMJD'][i[0]]=results['expMidptMJD'][0]\n",
    "    #print(ccdvisit['obsStartMJD'])\n",
    "    my_tab['MJD'][j[0]] = ccdvisit['obsStartMJD'][0]\n",
    "    my_tab['visit'][j[0]] = ccdvisit['visitId'][0]\n",
    "    #my_tab['band'][j[0]] = ccdvisit['band'][0]\n",
    "    #my_tab['ccdVisitId_test'][j[0]] = ccdvisit['ccdVisitId'][0]\n",
    "    my_tab['detector'][j[0]] = ccdvisit['detector'][0]\n",
    "    \n",
    "\n",
    "    #del ccdvisit\n"
   ]
  },
  {
   "cell_type": "code",
   "execution_count": null,
   "id": "800641dc-83e2-46ef-bc33-139fd48b0b0f",
   "metadata": {
    "execution": {
     "iopub.status.busy": "2023-04-30T21:32:38.045286Z",
     "iopub.status.idle": "2023-04-30T21:32:38.045650Z",
     "shell.execute_reply": "2023-04-30T21:32:38.045528Z",
     "shell.execute_reply.started": "2023-04-30T21:32:38.045515Z"
    }
   },
   "outputs": [],
   "source": [
    "my_tab"
   ]
  },
  {
   "cell_type": "markdown",
   "id": "1e5a50d3-b5f9-4de3-93d2-587564b1485c",
   "metadata": {
    "execution": {
     "iopub.execute_input": "2023-04-26T20:29:29.921012Z",
     "iopub.status.busy": "2023-04-26T20:29:29.920738Z",
     "iopub.status.idle": "2023-04-26T20:29:30.035702Z",
     "shell.execute_reply": "2023-04-26T20:29:30.034743Z",
     "shell.execute_reply.started": "2023-04-26T20:29:29.920987Z"
    },
    "tags": []
   },
   "source": [
    "## questions from Melissa\n",
    " how can we show failure modes (i.e. if you make a cutout near the boundary) or max sizes on the cutout?\n",
    " maybe that goes in Leanne's notebooK? we should test what happens\n",
    "\n",
    "get a SN near a host galaxy so looks interesting\n",
    "real science use cases: lensed SN (short time delay with multiple images) when seeing is bad the sources may be blended, and if seeing is good they are deblended. people will lok for DIAobjects close togehter because they might be the same physical thing. Source association pipeline split into multiple ones in cases like this. Ryan-this has already happened (2 DIAobj close to same position and some images will have some sources and other images will have other sources identified. Now you can plot all the\n",
    " cutouts (2-4\" of eachother). DP0.2 doesnt' have lensed transients so just pick nearby DIAobjs as a demonstrated failure mode which is a good use case. ask Ryan about this (ticket open to explore source association for DIAobj) users can get seeing out of the catalogs (check schema in DIAsource catalog, measurement of PSF? ccdvisit table has it for the whole visit\n",
    "\n",
    " another failure mode using variable stars close together maybe seeing differences between visits get blended but maybe SN science app is better. \n",
    " \n",
    "Ask leanne why we need both butler and tap service to do this (can we get either UUID or datalink from one or the other?)\n",
    "\n",
    "### questions for melissa 4/26:\n",
    "### - if you want to have a function that uses a butler instance what is the best way to do that?\n",
    "\n",
    "## From Melissa 4/26:\n",
    " we want to avoid having users write things. See if you can do this without\n",
    " writing the file to disk. then you can show an example of how to do that\n",
    " but in general we want people not to that\n",
    " what is function ExposureF? Does F stand for file?\n",
    "\n",
    " Answers for Melissa 4/30/23: Yes, F stands for file and this tries to open the\n",
    " file written to disk.# we want to avoid having users write things. See if you can do this without\n",
    " writing the file to disk. then you can show an example of how to do that\n",
    " but in general we want people not to that\n",
    " what is function ExposureF? Does F stand for file?\n",
    "\n",
    "### Answers for Melissa 4/30/23: \n",
    "Yes, F stands for file and this tries to open the file written to disk.\n",
    "Ask Leanne: is this needed? I only see dataurl for the entire image but can the cutout be stored in memory and not written to disk?\n"
   ]
  },
  {
   "cell_type": "code",
   "execution_count": null,
   "id": "325c12df-2079-4d8a-a0e1-82940ae4c058",
   "metadata": {},
   "outputs": [],
   "source": []
  },
  {
   "cell_type": "code",
   "execution_count": null,
   "id": "a7fd58de-47bc-4bf5-9836-b9a458a54511",
   "metadata": {},
   "outputs": [],
   "source": []
  },
  {
   "cell_type": "code",
   "execution_count": null,
   "id": "7d8e0fa6-d63c-4e86-b816-017c7fc4a84e",
   "metadata": {},
   "outputs": [],
   "source": []
  }
 ],
 "metadata": {
  "kernelspec": {
   "display_name": "LSST",
   "language": "python",
   "name": "lsst"
  },
  "language_info": {
   "codemirror_mode": {
    "name": "ipython",
    "version": 3
   },
   "file_extension": ".py",
   "mimetype": "text/x-python",
   "name": "python",
   "nbconvert_exporter": "python",
   "pygments_lexer": "ipython3",
   "version": "3.10.9"
  },
  "toc-autonumbering": false
 },
 "nbformat": 4,
 "nbformat_minor": 5
}
