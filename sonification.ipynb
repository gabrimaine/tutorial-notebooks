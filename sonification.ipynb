{
 "cells": [
  {
   "cell_type": "markdown",
   "id": "6b7f500d-ba87-4a25-89ef-5c3038304aff",
   "metadata": {
    "execution": {
     "iopub.execute_input": "2023-07-11T17:31:37.391082Z",
     "iopub.status.busy": "2023-07-11T17:31:37.390105Z",
     "iopub.status.idle": "2023-07-11T17:31:37.396377Z",
     "shell.execute_reply": "2023-07-11T17:31:37.395279Z",
     "shell.execute_reply.started": "2023-07-11T17:31:37.391043Z"
    },
    "tags": []
   },
   "source": [
    "<img align=\"left\" src = https://project.lsst.org/sites/default/files/Rubin-O-Logo_0.png width=250 style=\"padding: 10px\"> \n",
    "<br><b>Sonification</b> <br>\n",
    "Contact author(s): Riley Clarke, Andrés A. Plazas Malagón <br>\n",
    "Last verified to run: TBD <br>\n",
    "LSST Science Pipelines version: w_2023_37  <br>\n",
    "Container Size: medium <br>\n",
    "Targeted learning level: TBD <br>"
   ]
  },
  {
   "cell_type": "markdown",
   "id": "7de485fc-1275-4fef-9fd5-ad1374609cc0",
   "metadata": {},
   "source": [
    "**Description:** Sonification of DP0.2 data / DP0.3 too (?) "
   ]
  },
  {
   "cell_type": "markdown",
   "id": "0b311418-01c0-49ef-9263-2321448ccf8b",
   "metadata": {},
   "source": [
    "**Skills:** "
   ]
  },
  {
   "cell_type": "markdown",
   "id": "121ce17e-38eb-49ca-b95e-2a32d7b14250",
   "metadata": {},
   "source": [
    "**LSST Data Products:**  "
   ]
  },
  {
   "cell_type": "markdown",
   "id": "1c9393c0-0c43-4178-bd58-33af12540613",
   "metadata": {},
   "source": [
    "**Packages:** `lsst.rsp`"
   ]
  },
  {
   "cell_type": "markdown",
   "id": "4f62aabe-9d91-4541-ad95-5a0df25f2688",
   "metadata": {},
   "source": [
    "**Credits:** Developed by Riley Clarke and Andrés A. Plazas Malagón and ... \n",
    "This notebook has made use of suggestions in the [Accessible Authoring Checklist](https://iota-school.github.io/accessibility_hackathon/hack#checklist), and has made use of NASA's Astrophysics Data System Bibliographic Services."
   ]
  },
  {
   "cell_type": "markdown",
   "id": "9a231d35-fd48-4caa-8519-c605f05e9330",
   "metadata": {},
   "source": [
    "**Get Support:**\n",
    "Find DP0-related documentation and resources at <a href=\"https://dp0-2.lsst.io\">dp0-2.lsst.io</a> and <a href=\"https://dp0-3.lsst.io\">dp0-3.lsst.io</a>. \n",
    "Questions are welcome as new topics in the <a href=\"https://community.lsst.org/c/support/dp0\">Support - Data Preview 0 Category</a> of the Rubin Community Forum. \n",
    "Rubin staff will respond to all questions posted there."
   ]
  },
  {
   "cell_type": "markdown",
   "id": "b7f445fe-3f60-40b6-b2c2-704029b673ea",
   "metadata": {},
   "source": [
    "# Sonification tuttorial\n",
    "\n",
    "## 1. Introduction\n",
    "\n"
   ]
  },
  {
   "cell_type": "markdown",
   "id": "1ee13448-23c9-4c15-9091-dbdb6b52f3f3",
   "metadata": {},
   "source": [
    "### 1.2 Import packages\n",
    "\n",
    "The [matplotlib](https://matplotlib.org/) (and especially sublibrary `matplotlib.pyplot`), [numpy](http://www.numpy.org/), and [astropy](http://www.astropy.org/) libraries are widely used Python libraries for plotting, numerical analysis, and astronomical data analysis. The [seaborn](https://seaborn.pydata.org/index.html) libray is a statistical data visualization library baed on `matplotlib`.\n",
    "\n",
    "The `lsst.rsp` package provides access to the Table Access Protocol (TAP) service for access to the DP0 catalogs."
   ]
  },
  {
   "cell_type": "code",
   "execution_count": null,
   "id": "dd6b02aa-5da6-4185-815c-7435f6b98051",
   "metadata": {
    "tags": []
   },
   "outputs": [],
   "source": [
    "from astronify.series import SoniSeries #import astronify # The astronify tutorial says not to wqorry about the WxPython warning"
   ]
  },
  {
   "cell_type": "code",
   "execution_count": null,
   "id": "abd56e0f-1ff3-489d-8782-c40ad03588db",
   "metadata": {
    "tags": []
   },
   "outputs": [],
   "source": [
    "import lightkurve"
   ]
  },
  {
   "cell_type": "code",
   "execution_count": null,
   "id": "c45fdcfe-be27-46c0-a24e-8173356440b0",
   "metadata": {
    "tags": []
   },
   "outputs": [],
   "source": [
    "import matplotlib.pyplot as plt\n",
    "import matplotlib.colors as mcolors\n",
    "from matplotlib.patches import Polygon\n",
    "import numpy as np\n",
    "import seaborn as sns\n",
    "from lsst.rsp import get_tap_service"
   ]
  },
  {
   "cell_type": "code",
   "execution_count": null,
   "id": "428f6349-aa63-4563-bce7-4c71a9f51c0f",
   "metadata": {
    "tags": []
   },
   "outputs": [],
   "source": [
    "kep12b_lc = lightkurve.search_lightcurve(\"KIC 11804465\", cadence=\"long\", quarter=1).download_all()[0].SAP_FLUX.to_table()\n"
   ]
  },
  {
   "cell_type": "code",
   "execution_count": null,
   "id": "812a8f1a-1236-457d-8426-f439fa777fdf",
   "metadata": {
    "tags": []
   },
   "outputs": [],
   "source": [
    "f, ax = plt.subplots(figsize=(12, 6))\n",
    "ax.plot(kep12b_lc['time'].jd, kep12b_lc['flux'])\n",
    "ax.set_xlabel(\"Time (JD)\")\n",
    "ax.set_ylabel(\"Flux\")\n",
    "\n",
    "plt.show()"
   ]
  },
  {
   "cell_type": "code",
   "execution_count": null,
   "id": "5c11f3d2-1da1-4dda-8034-dc0e23af0830",
   "metadata": {
    "tags": []
   },
   "outputs": [],
   "source": [
    "kep12b_obj = SoniSeries(kep12b_lc)\n",
    "kep12b_obj.sonify()"
   ]
  },
  {
   "cell_type": "code",
   "execution_count": null,
   "id": "c1453f95-448a-4817-9934-538753ce9d33",
   "metadata": {
    "tags": []
   },
   "outputs": [],
   "source": [
    "# The tutorial (https://astronify.readthedocs.io/en/latest/astronify/Intro_Astronify_Series.html)\n",
    "# uses kep12b_obj.play() directly, but that uses pyo and we can't install that at the RSP.\n",
    "\n",
    "kep12b_obj.write(\"./test_sonification.wav\")"
   ]
  },
  {
   "cell_type": "code",
   "execution_count": null,
   "id": "6f7667b1-8973-4fe5-b2c8-18c9c941a6d0",
   "metadata": {
    "tags": []
   },
   "outputs": [],
   "source": [
    "import IPython"
   ]
  },
  {
   "cell_type": "code",
   "execution_count": null,
   "id": "08bef69b-2557-4c86-b0e3-bbc0e73f51ab",
   "metadata": {
    "tags": []
   },
   "outputs": [],
   "source": [
    "IPython.display.Audio(filename=\"./test_sonification.wav\")"
   ]
  }
 ],
 "metadata": {
  "kernelspec": {
   "display_name": "LSST",
   "language": "python",
   "name": "lsst"
  },
  "language_info": {
   "codemirror_mode": {
    "name": "ipython",
    "version": 3
   },
   "file_extension": ".py",
   "mimetype": "text/x-python",
   "name": "python",
   "nbconvert_exporter": "python",
   "pygments_lexer": "ipython3",
   "version": "3.11.4"
  }
 },
 "nbformat": 4,
 "nbformat_minor": 5
}
