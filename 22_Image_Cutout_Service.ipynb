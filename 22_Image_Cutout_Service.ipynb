{
 "cells": [
  {
   "cell_type": "markdown",
   "id": "749b0ddf",
   "metadata": {},
   "source": [
    "<img align=\"left\" src = https://project.lsst.org/sites/default/files/Rubin-O-Logo_0.png width=250 style=\"padding: 10px\"> \n",
    "<p><p><p><p>\n",
    "<b>Introduction to Rubin Image Services</b> <br>\n",
    "Contact author: <i>Leanne Guy</i> <br>\n",
    "Last verified to run: <i>2023-01-13</i> <br>\n",
    "LSST Science Piplines version: Weekly <i>2022_24</i> <br>\n",
    "Container Size: <i>medium</i> <br>\n",
    "Targeted learning level: <i>intermediate</i> <br>"
   ]
  },
  {
   "cell_type": "code",
   "execution_count": null,
   "id": "7acc79a4-8530-42d9-96e5-b7acb4397864",
   "metadata": {},
   "outputs": [],
   "source": [
    "# %load_ext pycodestyle_magic\n",
    "# %flake8_on\n",
    "# import logging\n",
    "# logging.getLogger(\"flake8\").setLevel(logging.FATAL)"
   ]
  },
  {
   "cell_type": "raw",
   "id": "03b888bb-d252-4866-a1b9-152d0fa68a5f",
   "metadata": {},
   "source": [
    "**Description:** An introduction to Rubin Image Image Services"
   ]
  },
  {
   "cell_type": "markdown",
   "id": "80a0baf5-51ad-40ec-8991-060a7b27c289",
   "metadata": {},
   "source": [
    "**Skills:** Learn how to use Rubin Images Services to query and retrieve images. Learm how to  and image cutouts."
   ]
  },
  {
   "cell_type": "markdown",
   "id": "393da88f-7978-4920-aa4a-a9830df6eed9",
   "metadata": {},
   "source": [
    "**LSST Image Data Products:** Single-epoch Images, Deep Coadds, "
   ]
  },
  {
   "cell_type": "markdown",
   "id": "5c67fab9-136a-4adc-bb42-142b91ab69dd",
   "metadata": {},
   "source": [
    "**Packages:** lsst.rsp.get_tap_service, lsst.rsp.retrieve_query, pyvo"
   ]
  },
  {
   "cell_type": "markdown",
   "id": "8f72b27f",
   "metadata": {},
   "source": [
    "**Credit:** This tutorial was developed for DP0.2 by Leanne Guy."
   ]
  },
  {
   "cell_type": "markdown",
   "id": "28e91cbf-ab7f-4e26-9276-b00299d6065e",
   "metadata": {},
   "source": [
    "**Get Support:**\n",
    "Find DP0-related documentation and resources at <a href=\"https://dp0-1.lsst.io\">dp0-1.lsst.io</a>. Questions are welcome as new topics in the <a href=\"https://community.lsst.org/c/support/dp0\">Support - Data Preview 0 Category</a> of the Rubin Community Forum. Rubin staff will respond to all questions posted there."
   ]
  },
  {
   "cell_type": "markdown",
   "id": "cfc73be0",
   "metadata": {},
   "source": [
    "## 1. Introduction\n",
    "\n",
    "Image Services is the term used to describe the collection of Rubin services used for the discovery, description, access, and retrieval of LSST image data products. The term Image Data Products includes   Rubin Observatory has adopted 'VO First' approach for services, meaing that wherever possible, IVOA-standard interfaces will be adopted. \n",
    "The Virtual Observatory (VO) is the vision that astronomical datasets and services should work together as a whole. The [International Virtual Observatory Alliance (IVOA)](ivoa.net) is an organisation that debates and agrees the technical standards that are needed to make the VO possible.\n",
    "\n",
    "Tutorial 02, Catalog Queries with TAP, introduced the first Rubin IVOA-compliant service to be deployed as part of DP0.1 for accessing table data and metadata. The Rubin TAP service returns structured information about LSST data products.  In this tutorial we will introduce two new IVOA-compliant services that have been deployed as part of DP02 for accessing images and creating image cutouts. \n",
    "\n",
    "ObsCore\n",
    "\n",
    "DataLink \n",
    "\n",
    "SODA\n",
    "\n",
    "----\n",
    "Planned Image services for Rubin will provide the following IVOA service endpoints. \n",
    "\n",
    "* Image metadata query: ObsTAP, from ObsCore 1.1 or later (as an initial priority), with SIAv2 (also ObsCore-based and serving equivalent data) later\n",
    "* Catalog query: TAP 1.1 or later\n",
    "* Image cutout service: SODA 1.0 or later\n",
    "* DataLink links service: DataLink 1.0 or later (very likely to be revised in the near future)\n",
    "\n",
    "DP0.2 deploys early versions of some of these services. In this tutorial we will look at the Image Metadata Query Service and the Image Cutout Service.\n",
    "\n",
    "Goals of this tutorial\n",
    "\n",
    "* Intro to ObsCore in the documentatation - not to put in here but to break down\n",
    "* Explore the ivoa.ObsCore table and understand its use\n",
    "https://data-int.lsst.cloud/api/cutout/sync?id=8a953c0321bd4878bfa694dbf628ea81&circle=53.13925%20-34.0215%200.0105\n",
    "* Intro to the SODA service for image cutouts\n",
    "\n",
    "\n",
    "\n",
    "When working with astronomical images it is often advantageous to work with \\\"cutouts\\\". A cutout is a sub-image of an original image centered on a given coordinate and of a given size. This tutorial demonstrates how to use the Rubin Image Cutout Service to query and retrieve image cutouts matching a region of interest specified by the user for DP0.2. "
   ]
  },
  {
   "cell_type": "markdown",
   "id": "dc36f107",
   "metadata": {
    "tags": []
   },
   "source": [
    "### 1.1 Package Imports"
   ]
  },
  {
   "cell_type": "code",
   "execution_count": null,
   "id": "cddc1458",
   "metadata": {},
   "outputs": [],
   "source": [
    "# Import general python packages\n",
    "import numpy as np\n",
    "import re\n",
    "import pandas\n",
    "from pandas.testing import assert_frame_equal\n",
    "import uuid\n",
    "import requests\n",
    "import warnings\n",
    "\n",
    "# Import the Rubin TAP service utilities\n",
    "from lsst.rsp import get_tap_service, retrieve_query\n",
    "\n",
    "# Science Pipelines imports\n",
    "from lsst.daf.butler import Butler, DatasetType, CollectionType\n",
    "import lsst.geom as geom\n",
    "import lsst.resources\n",
    "import lsst.geom as geom\n",
    "import lsst.afw.image as afwImage\n",
    "from lsst.afw.image import Image, ImageF\n",
    "from lsst.afw.image.exposure import Exposure, ExposureF\n",
    "import lsst.afw.display as afwDisplay\n",
    "\n",
    "# Plotting with MPL\n",
    "import matplotlib.pyplot as plt\n",
    "\n",
    "# Import the Rubin TAP service utilities\n",
    "from lsst.rsp import get_tap_service\n",
    "from lsst.rsp import get_tap_service, retrieve_query\n",
    "from lsst.rsp.utils import get_access_token\n",
    "\n",
    "# PyVO packages\n",
    "import pyvo\n",
    "from pyvo.dal.adhoc import DatalinkResults, SodaQuery\n",
    "\n",
    "# Astropy\n",
    "from astropy import units as u\n",
    "from astropy.units import UnitsWarning\n",
    "from astropy.coordinates import SkyCoord\n",
    "from astropy.io import fits\n",
    "from astropy.time import Time\n",
    "from astropy.utils.data import download_file\n",
    "from astropy.visualization import  ZScaleInterval, AsinhStretch\n",
    "from astropy.wcs import WCS       \n",
    "from astropy.visualization import simple_norm, imshow_norm\n",
    "from astropy.visualization import ImageNormalize,  ZScaleInterval\n",
    "from astropy.visualization.stretch import SinhStretch, LinearStretch, SqrtStretch\n",
    "\n",
    "# Holoviz for interactive visualization\n",
    "import bokeh\n",
    "from bokeh.io import output_file, output_notebook, show\n",
    "from bokeh.layouts import gridplot\n",
    "from bokeh.models import ColumnDataSource, CDSView, GroupFilter, HoverTool\n",
    "from bokeh.plotting import figure\n",
    "from bokeh.transform import factor_cmap\n",
    "import holoviews as hv\n",
    "from holoviews import streams, opts\n",
    "from holoviews.operation.datashader import rasterize"
   ]
  },
  {
   "cell_type": "markdown",
   "id": "e550fa87-3dc9-4b43-b803-55cacf0586f7",
   "metadata": {},
   "source": [
    "Check the version of the LSST Science Pipelines"
   ]
  },
  {
   "cell_type": "code",
   "execution_count": null,
   "id": "564ebab2-e113-4466-9c69-71645f172645",
   "metadata": {
    "tags": []
   },
   "outputs": [],
   "source": [
    "# This should match the verified version listed at the start of the notebook\n",
    "! echo ${IMAGE_DESCRIPTION}\n",
    "! eups list lsst_distrib"
   ]
  },
  {
   "cell_type": "code",
   "execution_count": null,
   "id": "162ac39d-1548-442e-bfc6-884f75dff818",
   "metadata": {},
   "outputs": [],
   "source": [
    "# Set up some plotting defaults\n",
    "params = {'axes.labelsize': 18,\n",
    "          'font.size': 18,\n",
    "          'legend.fontsize': 12,\n",
    "          'xtick.major.width': 2,\n",
    "          'xtick.minor.width': 1,\n",
    "          'xtick.major.size': 10,\n",
    "          'xtick.minor.size': 4,\n",
    "          'xtick.direction': 'in',\n",
    "          'xtick.top': True,\n",
    "          'lines.linewidth': 2,\n",
    "          'axes.linewidth': 2,\n",
    "          'axes.labelweight': 2,\n",
    "          'axes.titleweight': 2,\n",
    "          'ytick.major.width': 2,\n",
    "          'ytick.minor.width': 1,\n",
    "          'ytick.major.size': 10,\n",
    "          'ytick.minor.size': 4,\n",
    "          'ytick.direction': 'in',\n",
    "          'ytick.right': True,\n",
    "          'figure.figsize': [6, 6],\n",
    "          'figure.facecolor': 'White'\n",
    "          }\n",
    "\n",
    "plt.rcParams.update(params)"
   ]
  },
  {
   "cell_type": "code",
   "execution_count": null,
   "id": "01634696-8713-4fd1-85b8-8cd58c7de319",
   "metadata": {},
   "outputs": [],
   "source": [
    "def plotImage(exposure: ExposureF, img_opt: dict = None):\n",
    "    \"\"\"Plot and image using matplotlib\n",
    "   \n",
    "   Parameters\n",
    "    ----------\n",
    "    image : `Exposure`\n",
    "        the image to plot\n",
    "        \n",
    "    opts : ``\n",
    "   \n",
    "   Returns\n",
    "    -------\n",
    "    title : `str` (only if result is not `None`)\n",
    "        Plot title from string\n",
    "    \"\"\"\n",
    "    \n",
    "    fig, ax = plt.subplots()\n",
    "    display = afwDisplay.Display(frame=fig)\n",
    "    display.scale('asinh', 'zscale')\n",
    "    display.mtv(exposure.image)\n",
    "    plt.show()\n"
   ]
  },
  {
   "cell_type": "markdown",
   "id": "c217adff-25ed-4fce-95e7-8aa04630f6cc",
   "metadata": {
    "tags": []
   },
   "source": [
    "### 1.2 Define Functions and Parameters"
   ]
  },
  {
   "cell_type": "markdown",
   "id": "96943b62-3e89-432d-af42-5dbe2a731932",
   "metadata": {},
   "source": [
    "Set a few parameters related to plotting and display."
   ]
  },
  {
   "cell_type": "code",
   "execution_count": null,
   "id": "26b51fb9-643f-413e-8173-a1d7d4569707",
   "metadata": {},
   "outputs": [],
   "source": [
    "# Set afw display backend to matplotlib\n",
    "afwDisplay.setDefaultBackend('matplotlib')\n",
    "\n",
    "# Set the maximum number of rows to display from pandas\n",
    "pandas.set_option('display.max_rows', 20)"
   ]
  },
  {
   "cell_type": "code",
   "execution_count": null,
   "id": "ea58256a-5ee1-4043-afbe-63ef70396d82",
   "metadata": {},
   "outputs": [],
   "source": [
    "butler = Butler('dp02', collections='2.2i/runs/DP0.2')\n",
    "registry = butler.registry"
   ]
  },
  {
   "cell_type": "markdown",
   "id": "ec51ac0b",
   "metadata": {
    "tags": []
   },
   "source": [
    "## 2. Data Preparation\n",
    "\n",
    "Let's define some known objects of interest to work with. "
   ]
  },
  {
   "cell_type": "code",
   "execution_count": null,
   "id": "6ee75ce0-6d82-4cb7-82b2-cb13bb13f190",
   "metadata": {},
   "outputs": [],
   "source": [
    "# Define a spatial point\n",
    "# SN1a From notebook 7a\n",
    "diaObjectId = 1250953961339360185\n"
   ]
  },
  {
   "cell_type": "code",
   "execution_count": null,
   "id": "84055616-3391-42b3-bca2-6017fb4f5701",
   "metadata": {},
   "outputs": [],
   "source": [
    "%%time\n",
    "\n",
    "# Define a spatial point\n",
    "spherePoint = lsst.geom.SpherePoint(55.7467*geom.degrees, -32.2862*geom.degrees)\n",
    "\n",
    "#55.75067151347799 -32.27781914678513\n",
    "\n",
    "# Find the tract and patch that contain this point\n",
    "skymap = butler.get('skyMap')\n",
    "tract = skymap.findTract(spherePoint)\n",
    "patch = tract.findPatch(spherePoint)\n",
    "\n",
    "# Now create a dataId from the tract, patch and filter information\n",
    "dataId = {'band':'i', 'tract':tract.tract_id, 'patch': patch.getSequentialIndex()}\n",
    "\n",
    "# And use the dataid to get the coadd\n",
    "deepCoadd = butler.get('deepCoadd_calexp', dataId=dataId)\n",
    "\n",
    "assert type(deepCoadd) == lsst.afw.image.exposure.ExposureF\n",
    "f\"Tract: {tract.tract_id}, Patch: {patch.getSequentialIndex()}\""
   ]
  },
  {
   "cell_type": "code",
   "execution_count": null,
   "id": "706f9ed8-7a18-411c-bcd7-0f5de7424be5",
   "metadata": {},
   "outputs": [],
   "source": [
    "# Set up a DP0. 2Butler \n",
    "butler = Butler('dp02', collections='2.2i/runs/DP0.2')\n",
    "registry = butler.registry"
   ]
  },
  {
   "cell_type": "code",
   "execution_count": null,
   "id": "cb0cbda0-2185-4455-b5d2-99b6111806c9",
   "metadata": {},
   "outputs": [],
   "source": [
    "## "
   ]
  },
  {
   "cell_type": "markdown",
   "id": "29e3c6d4-2f69-44ce-95fb-acd8a4539ec1",
   "metadata": {},
   "source": [
    "## 3 Image Metadata Query \n",
    "\n",
    "Understanding the ivoa ObsCore table and its use .....\n",
    "\n",
    "ObsTAP, from ObsCore 1.1 or later (as an initial priority), with SIAv2 (also ObsCore-based and serving equivalent data) later\n",
    "\n",
    "As of DP0.2 there is a new schema (table collection) called \\\"ivoa\\\", which contains a table called ivoa.ObsCore. \n",
    "The IVOA-defined obscore table contains generic metadata for datasets held at the IDF. \n",
    "The table is accessible via ADQL queries via a TAP endpoint. The mechanism for locating images from obsevations is to make a TAP query against the ObsCore schema."
   ]
  },
  {
   "cell_type": "markdown",
   "id": "4a2d27db-79ab-4c51-926f-5c19b2f95784",
   "metadata": {},
   "source": [
    "<br>\n",
    "Here are some definitions to help you understand the contents of the ivoa schema. \n",
    "\n",
    "* `VO` - Vitrual Observatory - the vision that astronomical datasets and other resources should work as a seamless whole. Rubin is one of many projects and data centres worldwide who are are working towards this goal. Rubin has adopted a \\\"VO first strategy\\\".\n",
    "* `IVOA` - International Virtual Observatory Alliance, ivoa.net. An organization that debates and agrees the technical standards that are needed to make the VO possible\n",
    "* `ObsTAP` - An IVOA standare\n",
    "* `ObsCore` - An ..\n",
    "* `VOTable` - https://www.ivoa.net/documents/VOTable/ -- VOTable format is an XML standard for the interchange of data represented as a set of tables.\n",
    "* `DataLink` - An IVOA standard to link from metadata about a dataset to the dataset itself, as well as other related data and services that can operate on that data"
   ]
  },
  {
   "cell_type": "markdown",
   "id": "96b06065-55ab-41c0-bc35-ca954f656699",
   "metadata": {},
   "source": [
    "### 3.1 The ObsCore data model table\n",
    "\n",
    "let's look at how to query the ObsCore table. We will start by looking at the schemas at the US DAC. In addition to the DP0.1 and DP0.2 and TAP scheam that were present in DP0.1, you will now see a schema called \\\"ivoa\\\"."
   ]
  },
  {
   "cell_type": "markdown",
   "id": "de97e0ed-7ec5-4bb7-a2af-b88e488a3803",
   "metadata": {},
   "source": [
    "First, using the coordinates defined above, we define a circle with a radius that emcompasses the galaxy cluster."
   ]
  },
  {
   "cell_type": "code",
   "execution_count": null,
   "id": "22c3a5b4-c46f-45c5-87d2-a33fa55866d2",
   "metadata": {},
   "outputs": [],
   "source": [
    "# Need the UUID of the image for the cutout service \n",
    "datasetRef = registry.findDataset('deepCoadd_calexp', dataId)\n",
    "deepCoadd_uuid = datasetRef.id\n",
    "assert isinstance(deepCoadd_uuid, uuid.UUID)\n",
    "f\"UUID for deep coadd: {deepCoadd_uuid}\""
   ]
  },
  {
   "cell_type": "code",
   "execution_count": null,
   "id": "258a2858-4b1d-4e68-a770-403028a799f5",
   "metadata": {},
   "outputs": [],
   "source": [
    "service = get_tap_service()"
   ]
  },
  {
   "cell_type": "code",
   "execution_count": null,
   "id": "588a5812-66eb-448f-b6b0-6623eb1ed31c",
   "metadata": {},
   "outputs": [],
   "source": [
    "query = \"SELECT * FROM tap_schema.schemas\"\n",
    "results = service.search(query)\n",
    "results = service.search(query).to_table()\n",
    "results"
   ]
  },
  {
   "cell_type": "markdown",
   "id": "768690f2-df4d-4d67-95f9-d1d099fef21d",
   "metadata": {},
   "source": [
    "Lets look at the tables in the ivoa schema "
   ]
  },
  {
   "cell_type": "code",
   "execution_count": null,
   "id": "1e8e80c6-0294-441d-b8a2-7bc41a783994",
   "metadata": {},
   "outputs": [],
   "source": [
    "query = \"SELECT * FROM tap_schema.tables where schema_name like 'ivoa' order by table_index ASC\"\n",
    "result = service.search(query).to_table()\n",
    "result"
   ]
  },
  {
   "cell_type": "markdown",
   "id": "bbdd44b9-c50b-47db-8dd5-129c3603c6ce",
   "metadata": {},
   "source": [
    "The ivoa schema contains 1 table called \\\"ivoa.ObsCore\\\". This table holds the observation metadata for all images in the DP0.2 dataset in an ObsTAP realization of the IVOA ObsCore data model"
   ]
  },
  {
   "cell_type": "code",
   "execution_count": null,
   "id": "3856b11c-93f6-4cec-bf03-be2fcf994687",
   "metadata": {},
   "outputs": [],
   "source": [
    "query = \"SELECT COUNT(*) from ivoa.ObsCore\"\n",
    "result = service.search(query).to_table()\n",
    "result"
   ]
  },
  {
   "cell_type": "markdown",
   "id": "cd3414c5-42d1-4fc2-a34c-bea7f3fc0d10",
   "metadata": {},
   "source": [
    "The ivoa.ObsCore contains 8475974 entries for the DP0.2 dataset. Lets's take a quick look at the contents of the ObsCore table. "
   ]
  },
  {
   "cell_type": "markdown",
   "id": "ba7268fe-7399-460c-986d-86e93d7f6783",
   "metadata": {},
   "source": [
    "There is currenty ony one data product type supported -- \\\"image\\\". All entries in the ObsCore table are for images"
   ]
  },
  {
   "cell_type": "code",
   "execution_count": null,
   "id": "d01246ba-e9c8-4f75-8681-ce2523da967a",
   "metadata": {},
   "outputs": [],
   "source": [
    "query = \"\"\" SELECT dataproduct_type, COUNT(*) FROM ivoa.ObsCore GROUP BY dataproduct_type\n",
    "\"\"\"\n",
    "result = service.search(query).to_table()\n",
    "result"
   ]
  },
  {
   "cell_type": "raw",
   "id": "ef487e72-b3f4-4cf9-987f-aadb7adeb8f5",
   "metadata": {},
   "source": [
    "There are five unique data product subtypes in the ObsCore table. [dp0-2.lsst.io](https://dp0-2.lsst.io/data-products-dp0-2/index.html) lists many more data product types that are not listed here. For example, \"deepCoadd\" is not listed and you will not find any deepCoadd data product in the ObsCore table. Need to investigate this. "
   ]
  },
  {
   "cell_type": "code",
   "execution_count": null,
   "id": "32eecbd6-afa1-4750-82fc-4131177ca620",
   "metadata": {},
   "outputs": [],
   "source": [
    "query = \"\"\" SELECT dataproduct_subtype, COUNT(*) FROM ivoa.ObsCore GROUP BY dataproduct_subtype\n",
    "\"\"\"\n",
    "result = service.search(query).to_table()\n",
    "result"
   ]
  },
  {
   "cell_type": "code",
   "execution_count": null,
   "id": "13607423-a737-4bc7-99af-8b779381a50f",
   "metadata": {},
   "outputs": [],
   "source": [
    "query = \"\"\" SELECT calib_level, COUNT(*) \n",
    "FROM ivoa.ObsCore \n",
    "GROUP BY calib_level\n",
    "\"\"\"\n",
    "result = service.search(query).to_table()\n",
    "result"
   ]
  },
  {
   "cell_type": "markdown",
   "id": "3009063a-c22d-4390-9136-b84396511633",
   "metadata": {},
   "source": [
    "Looking at the relationship between calib_level and dataproduct_subtype, we see that calib_level of coresponds to lsst.raw data product subtype. 2 to lsst.calexp, 3 to coadds and the difference image resulting from DIA. calib_level 4 contains no images. Change teh number in \"where calib_level=1\" to 1,2,3,4 and see the results\n",
    "TODO - make this all 1 SQL command "
   ]
  },
  {
   "cell_type": "code",
   "execution_count": null,
   "id": "fc2a1418-5411-4fa4-9d7a-929bda928120",
   "metadata": {},
   "outputs": [],
   "source": [
    "query = \"\"\" SELECT dataproduct_subtype, COUNT(*) \n",
    "FROM ivoa.ObsCore \n",
    "where calib_level = '1'\n",
    "GROUP BY dataproduct_subtype\n",
    "\"\"\"\n",
    "result = service.search(query).to_table()\n",
    "result"
   ]
  },
  {
   "cell_type": "markdown",
   "id": "0e896290-9758-4b38-9a08-39f26db04ae1",
   "metadata": {},
   "source": [
    "We can use the ObsCore table to select all images in a region as follows. Let's use the point defined previoust with a search radius of 10\". The 's_region' column defines the sky region covered by a data product, expressed in the ICRS frame.\n",
    "TODO - fill in the coordinates from the SpherePoint not copy and paste. We see that there are 6 deepCoadd_calexp images, one for each filter. "
   ]
  },
  {
   "cell_type": "code",
   "execution_count": null,
   "id": "8ec35357-6904-4db4-a5bf-719fce8a54a0",
   "metadata": {},
   "outputs": [],
   "source": [
    "# Select all images in a region\n",
    "query = \"\"\"SELECT * FROM ivoa.ObsCore \n",
    "WHERE dataproduct_type = 'image'\n",
    "AND obs_collection = 'LSST.DP02' \n",
    "AND dataproduct_subtype = 'lsst.deepCoadd_calexp'\n",
    "AND CONTAINS(POINT('ICRS', 55.74673760481304, -32.286155241413624), s_region)=1 \n",
    "\"\"\"\n",
    "results = service.search(query).to_table()\n",
    "results"
   ]
  },
  {
   "cell_type": "markdown",
   "id": "df7608e2-abd7-4dae-84fb-e40b141e936d",
   "metadata": {},
   "source": [
    "We can query directly for the image above with the tract, patch, and filter "
   ]
  },
  {
   "cell_type": "code",
   "execution_count": null,
   "id": "a8eb76fc-c675-42d0-8c36-237334eac02a",
   "metadata": {
    "tags": []
   },
   "outputs": [],
   "source": [
    "query = \"\"\"SELECT access_format, access_url, dataproduct_subtype, lsst_patch, lsst_tract, lsst_band, s_ra, s_dec\n",
    "FROM ivoa.ObsCore \n",
    "WHERE dataproduct_type = 'image'\n",
    "AND obs_collection = 'LSST.DP02' \n",
    "AND dataproduct_subtype = 'lsst.deepCoadd_calexp'\n",
    "AND lsst_tract = 4431\n",
    "AND lsst_patch = 17\n",
    "AND lsst_band = 'i'\n",
    "\"\"\"\n",
    "results = service.search(query).to_table().show_in_notebook()\n",
    "results"
   ]
  },
  {
   "cell_type": "markdown",
   "id": "41f21b1c-ec91-434e-b2ce-e40c0ff4e24b",
   "metadata": {
    "jp-MarkdownHeadingCollapsed": true,
    "tags": []
   },
   "source": [
    "The image UUID that we extracted from the Butler above is part of the access url field. We can query on that as well.  We passed a single UUID (in the first query) so there must be 1 result only (but there are zero)"
   ]
  },
  {
   "cell_type": "code",
   "execution_count": null,
   "id": "fd9bb35b-05b6-4afe-a489-0b2ff4480950",
   "metadata": {},
   "outputs": [],
   "source": [
    "query = \"\"\"\n",
    "SELECT * FROM ivoa.ObsCore WHERE access_url like '%20d28216-534a-4102-b8a7-1c7f32a9b78c' \n",
    "\"\"\"\n",
    "results = service.search(query).to_table()\n",
    "assert len(results) == 1  \n",
    "results"
   ]
  },
  {
   "cell_type": "markdown",
   "id": "11f7514d-4580-4850-bac0-f37e5caed0f5",
   "metadata": {},
   "source": [
    "### 3.2 Accessing Image Data Products\n",
    "\n",
    "Now that we know how to query the ObsCore table to find images, lets see how to access, manipulate and download them"
   ]
  },
  {
   "cell_type": "code",
   "execution_count": null,
   "id": "7b9d3332-5395-4785-8c9e-4fd754244b62",
   "metadata": {},
   "outputs": [],
   "source": [
    "# Now lets retrieve the deep coadd from previously as well as one of the visit images that \n",
    "query = \"\"\"SELECT access_format, access_url, dataproduct_subtype, lsst_patch, lsst_tract, lsst_band, s_ra, s_dec\n",
    "FROM ivoa.ObsCore \n",
    "WHERE dataproduct_type = 'image'\n",
    "AND obs_collection = 'LSST.DP02' \n",
    "AND dataproduct_subtype = 'lsst.deepCoadd_calexp'\n",
    "AND lsst_tract = 4431\n",
    "AND lsst_patch = 17\n",
    "AND lsst_band = 'i'\n",
    "\"\"\"\n",
    "results = service.search(query)\n",
    "results.to_table().show_in_notebook()"
   ]
  },
  {
   "cell_type": "markdown",
   "id": "4f49f624-19e9-4fb9-abbf-3fc8a4265e38",
   "metadata": {},
   "source": [
    "Take a look at the columns \\\"access_format\\\" and \\access_url\\\". A access_url is provided for each image in a row from the ObsCore query.  <rsp-base-url>/api/datalink/links?ID=<id> where <rsp-base-url> is the base URL of the Rubin Science Platform and <id> is a UUID for that image in Butler. Recall previously that we were able to query by UUID. \\\"access_format\\\" tells us that the format is DataLinks. We can get the DataLinks URL as follows: "
   ]
  },
  {
   "cell_type": "code",
   "execution_count": null,
   "id": "b5e3f653-d2af-4269-b3b4-a04536fd44a7",
   "metadata": {},
   "outputs": [],
   "source": [
    "dataLinkUrl = results[0].getdataurl()\n",
    "f\"Datalink link service url: {dataLinkUrl}\""
   ]
  },
  {
   "cell_type": "markdown",
   "id": "26ce6467-7105-4474-8312-32c5f049a097",
   "metadata": {},
   "source": [
    "Before proceeding we need to extract the session authentiction for reuse. Explain more about this"
   ]
  },
  {
   "cell_type": "code",
   "execution_count": null,
   "id": "2f3462dc-08c5-418f-843c-a36cb5ca3ee7",
   "metadata": {},
   "outputs": [],
   "source": [
    "auth_session = service._session"
   ]
  },
  {
   "cell_type": "markdown",
   "id": "d9eb6a7b-1591-45bb-b8ab-5081c19a497b",
   "metadata": {},
   "source": [
    "We call call PyVo's DatalinkResults with the DataLink URL for the image we want to retrieve. This returns a list matching records, each record containoing a set of metadata describing the record."
   ]
  },
  {
   "cell_type": "code",
   "execution_count": null,
   "id": "5df7b97c-7c76-4d5c-8fe6-0c3f1c749dd3",
   "metadata": {},
   "outputs": [],
   "source": [
    "dl_results = DatalinkResults.from_result_url(dataLinkUrl,session=auth_session)\n",
    "f\"{dl_results.status}\""
   ]
  },
  {
   "cell_type": "code",
   "execution_count": null,
   "id": "0a72a703-17e4-418a-a77c-33570eb58631",
   "metadata": {},
   "outputs": [],
   "source": [
    "dl_results.to_table().show_in_notebook()"
   ]
  },
  {
   "cell_type": "markdown",
   "id": "a843c2b9-6234-4b01-a4da-82f1a2dc3bf6",
   "metadata": {},
   "source": [
    "In the table above we see that two records are returned for our image. The first is a signed URL for the image (Primary image or observation data file) that is valid for an hour. <ADD some text explaingin where the image is stored and the URL>. The second is a link to the cutout service. "
   ]
  },
  {
   "cell_type": "code",
   "execution_count": null,
   "id": "09b365cd-40f0-4ec0-b32c-5e42e63b51f1",
   "metadata": {},
   "outputs": [],
   "source": [
    "image_url = dl_results.getrecord(0).get('access_url')\n",
    "f\"{image_url}\""
   ]
  },
  {
   "cell_type": "markdown",
   "id": "5e2b54ff-a02d-4173-a359-187302c0f52e",
   "metadata": {},
   "source": [
    "We can plot the image by making an Exposure object directly from the URL. This plot looks identical to the plot of the same image retrived via the Butler"
   ]
  },
  {
   "cell_type": "code",
   "execution_count": null,
   "id": "fa867727-c815-4fa6-bbb5-7c759563079c",
   "metadata": {},
   "outputs": [],
   "source": [
    "new_coadd = ExposureF(image_url)\n",
    "plotImage(new_coadd)"
   ]
  },
  {
   "cell_type": "code",
   "execution_count": null,
   "id": "307c6025-db28-44ab-a38d-ccbe969dc675",
   "metadata": {},
   "outputs": [],
   "source": [
    "# We can open the URL and take look at the headers \n",
    "hdulist = fits.open(image_url)\n",
    "for hdu in hdulist:\n",
    "    print(hdu.name)"
   ]
  },
  {
   "cell_type": "code",
   "execution_count": null,
   "id": "96074baf-f05d-4772-bb97-93de86914d63",
   "metadata": {},
   "outputs": [],
   "source": [
    "# We can also download the file\n",
    "filename = download_file(image_url)\n",
    "assert os.path.isfile(filename)\n",
    "f\"{filename}\""
   ]
  },
  {
   "cell_type": "markdown",
   "id": "b59c8395-8d50-4619-a786-306428d04e78",
   "metadata": {},
   "source": [
    "## 4 Image cutout service \n",
    "\n",
    "The Rubin Image Cutout Serivce is implemented using the [IVOA SODA](https://ivoa.net/documents/SODA/20170517/REC-SODA-1.0.html) standard. SODA (Server-side Operations for Data Access) is a low-level data access capability or server side data processing that can act upon data files, performing various kinds of operations, such as filtering/subsection, transformations, pixel operations, and applying functions to the data.\n",
    "\n",
    "Need the Butler UUID of an image \n",
    "\n",
    "The initial implementation of the image cutout service will only return FITS files\n",
    "\n",
    "Initial implementation supports \n",
    "CIRCLE and POLYGON.  POS=RANGE not implemented - check!\n",
    "\n",
    "The initial version of the cutout service will only support a single ID parameter and a single stencil parameter.\n",
    "The ID parameter must be a UUID assigned by the Butler and uniquely identifying a source image\n",
    "\n",
    "The Image cutout service is based on SODA 1.0. \n",
    "Examples: \n",
    "https://github.com/astropy/pyvo/blob/main/examples/images/ex_get_cutouts.py\n",
    "https://github.com/astropy/pyvo/blob/main/examples/images/ex_casA_image_cat.py"
   ]
  },
  {
   "cell_type": "markdown",
   "id": "70a14b50-7644-4eca-9669-24ceabd53b01",
   "metadata": {},
   "source": [
    "## 4.1 Using PyVO's SodaQuery object"
   ]
  },
  {
   "cell_type": "markdown",
   "id": "fea2e715-5d25-4e64-930b-ca57179650ca",
   "metadata": {},
   "source": [
    "Introduction to SODA\n",
    "\n",
    "SODA, describe the acronym is a ..... , describe service\n",
    "The Rubin SODA service is to support performing cutouts from the collected LSST image data.\n",
    "\n",
    "Only synchronouse queries of the cutout service run currently. An asynchronous quert support may be introduced in the future\n",
    "\n",
    "SODA needs the Butler UUID. Specifically, the URL is similar to https://data-int.lsst.cloud/api/cutout/sync?id=8a953c0321bd4878bfa694dbf628ea81&circle=53.13925%20-34.0215%200.0105 (the id parameter is the Butler UUID, and the remaining parameters are the cutout request, and there's a POST version as well and an async version following the SODA standard)."
   ]
  },
  {
   "cell_type": "markdown",
   "id": "28259f31-f34a-4735-938a-58598a4123d1",
   "metadata": {},
   "source": [
    "Now lets look at the second result in the DataLink table above. This record provides informaitn about the cutout service. We will use this to get a cutout by using SodaQuery \n",
    "\n",
    "Note:  add some description and an introduction here as to what SODA and a SODA service is. "
   ]
  },
  {
   "cell_type": "markdown",
   "id": "7508db04-1327-4b52-99ac-452d6e684cce",
   "metadata": {},
   "source": [
    "Prepare a query to the SODA service using the DataLink results from above and passing the session authorization token. "
   ]
  },
  {
   "cell_type": "code",
   "execution_count": null,
   "id": "2b996b8b-aabd-4a49-821a-9f9b71e91fae",
   "metadata": {},
   "outputs": [],
   "source": [
    "sq = SodaQuery.from_resource(dl_results, dl_results.get_adhocservice_by_id(\"cutout-sync\"), \n",
    "                             session=auth_session)"
   ]
  },
  {
   "cell_type": "markdown",
   "id": "6f9ddb45-2814-434c-ac56-27f6903af9a9",
   "metadata": {},
   "source": [
    "Now define a a circle cutout centered on the galaxy cluster "
   ]
  },
  {
   "cell_type": "code",
   "execution_count": null,
   "id": "e367b9ad-64e8-49da-8de3-2e19bb8c5775",
   "metadata": {},
   "outputs": [],
   "source": [
    "sphereRadius = 0.03* u.deg\n",
    "sq.circle = (spherePoint.getRa().asDegrees()* u.deg,\n",
    "             spherePoint.getDec().asDegrees()*u.deg, \n",
    "             sphereRadius)\n",
    "f\"Circle around point {spherePoint} of radius {sphereRadius}\""
   ]
  },
  {
   "cell_type": "code",
   "execution_count": null,
   "id": "88dfce75-d257-458f-bafc-f1e08e57dfb7",
   "metadata": {},
   "outputs": [],
   "source": [
    "# Which shapes / stencils are supported currently\n",
    "sq."
   ]
  },
  {
   "cell_type": "code",
   "execution_count": null,
   "id": "c8a86704-c45a-4a37-bdc7-d9cd0ffac7cb",
   "metadata": {},
   "outputs": [],
   "source": [
    "#help(sq)"
   ]
  },
  {
   "cell_type": "markdown",
   "id": "26970a08-7dbd-4223-82ed-87cc99672ed8",
   "metadata": {},
   "source": [
    "Now create the cutout "
   ]
  },
  {
   "cell_type": "code",
   "execution_count": null,
   "id": "5d861c6d-bc2b-44d8-9660-80475c6663e9",
   "metadata": {},
   "outputs": [],
   "source": [
    "sodaCutout = os.path.join(os.getenv('HOME'), 'DATA/soda-cutout.fits')\n",
    "with open(sodaCutout, 'bw') as f:\n",
    "    f.write(sq.execute_stream().read())"
   ]
  },
  {
   "cell_type": "code",
   "execution_count": null,
   "id": "5d34df6a-55ad-4c39-87dd-5d350a580022",
   "metadata": {},
   "outputs": [],
   "source": [
    "# Display the cutout\n",
    "plotImage(ExposureF(sodaCutout))"
   ]
  },
  {
   "cell_type": "markdown",
   "id": "19cba36e-955e-44f0-ab1e-85fbd63ad488",
   "metadata": {},
   "source": [
    "We can see that the image cutout created by the cutout service looks identical to the one we obtained via the Butler"
   ]
  },
  {
   "cell_type": "markdown",
   "id": "617f6dc1-d866-49bc-b58d-145bd1338556",
   "metadata": {},
   "source": [
    "### 4.2 Using the SODA endpoint\n",
    "\n",
    "We construct the SODA endoint as follows. This is similar to endpoints for TAP "
   ]
  },
  {
   "cell_type": "code",
   "execution_count": null,
   "id": "00f6de03-47a5-4770-9fd0-fb237dc306b5",
   "metadata": {},
   "outputs": [],
   "source": [
    "host=os.getenv(\"EXTERNAL_INSTANCE_URL\")\n",
    "SODA_URL=\"{}/api/image/soda/sync\".format(host)\n",
    "ID='default.calexp.r'\n",
    "print(SODA_URL)"
   ]
  },
  {
   "cell_type": "markdown",
   "id": "6066d9f5-aa07-4d3f-81b3-f407629a5f40",
   "metadata": {},
   "source": [
    "## 5. Exercises to the user \n",
    "\n",
    "* Get the UUID for all the visits that comprise the deepCoadd, get a cutout of the galaxy cluster and display them in a grid of images \n",
    "* Do a reprocessing on a cutout\n",
    "* Find an interesting object and use the cutout service to get cutouts of the object in all bands"
   ]
  },
  {
   "cell_type": "markdown",
   "id": "99a26164-8f90-46ab-8e2e-48b25da70da0",
   "metadata": {},
   "source": [
    "## 6. References \n",
    "\n",
    "Rubin technotes\n",
    "*  [DMTN-208](dmtn-208.lsst.io): RSP image cutout service implementation strategy\n",
    "*  [DMTN-238](dmtn-238.lsst.io): RSP DataLink service implementation strategy\n",
    "*  https://dmtn-139.lsst.io/v/DM-22746/index.html , section 7.4 (not published yet)\n",
    "\n",
    "\n",
    "Relevant IVOA standards documents \n",
    "*  IVOA Table Access Protocol (TAP) https://www.ivoa.net/documents/TAP/"
   ]
  }
 ],
 "metadata": {
  "kernelspec": {
   "display_name": "LSST",
   "language": "python",
   "name": "lsst"
  },
  "language_info": {
   "codemirror_mode": {
    "name": "ipython",
    "version": 3
   },
   "file_extension": ".py",
   "mimetype": "text/x-python",
   "name": "python",
   "nbconvert_exporter": "python",
   "pygments_lexer": "ipython3",
   "version": "3.10.9"
  },
  "toc-autonumbering": false
 },
 "nbformat": 4,
 "nbformat_minor": 5
}
